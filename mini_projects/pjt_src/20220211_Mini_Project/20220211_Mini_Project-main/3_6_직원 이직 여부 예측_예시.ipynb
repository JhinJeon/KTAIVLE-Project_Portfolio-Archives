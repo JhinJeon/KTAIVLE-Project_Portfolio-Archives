{
 "cells": [
  {
   "cell_type": "markdown",
   "metadata": {},
   "source": [
    "# 강사 예시\n",
    "## 강사 메일 : drkail6916.work@gmail.com"
   ]
  },
  {
   "cell_type": "markdown",
   "metadata": {
    "id": "5mCUrZ5seRFB"
   },
   "source": [
    "# 직원 이직 여부 예측\n",
    "![](https://github.com/Jangrae/img/blob/master/employee.png?raw=true)\n",
    "\n",
    "## 데이터 정보\n",
    "- Attrition: 이직여부 (1-Yes 0-No)\t\n",
    "- Age: 나이\t\n",
    "- BusinessTravel: 출장 빈도\n",
    "- Department: 현재 부서\t\n",
    "- DistanceFromHome: 집과 직장 사이의 거리 (마일)\t\n",
    "- Education: 교육수준 (1-Below College 2-College 3-Bachelor 4- Master 5-Doctor)\n",
    "- EducationField: 전공\t\n",
    "- EmployeeNumber: 사번\t\n",
    "- EnvironmentSatisfaction: 근무환경에 대한 만족도 (1-Low 2-Good 3-Excellent 4-Outstanding)\n",
    "- Gender: 성별\t\n",
    "- JobInvolvement: 직무 적극성, 참여도 (1-Low 2-Medium 3-High 4-Very High)\n",
    "- JobRole: 직무\t\n",
    "- JobSatisfaction: 직무 만족도 (1-Low 2-Medium 3-High 4-Very High)\n",
    "- MaritalStatus: 결혼상태\t\n",
    "- MonthlyIncome: 월급\t\n",
    "- NumCompaniesWorked: 현재까지 근무한 회사 수\t\n",
    "- OverTime: 야근 여부\t\n",
    "- PercentSalaryHike: 전년대비 급여 인상율 (%)\t\n",
    "- RelationshipSatisfaction: 동료와의 관계 만족도 (1-Low 2-Medium 3-High 4-Very High)\n",
    "- StockOptionLevel: 스톡옵션 수준 (0 ~ 3)\t\n",
    "- TotalWorkingYears: 총 근무 연수\t\n",
    "- TrainingTimesLastYear: 전년 교육훈련 횟수\t\n",
    "- WorkLifeBalance: 워라밸, 일과 삶의 균형도 (1-Bad 2-Good 3-Better 4-Best)\n",
    "- YearsAtCompany: 현 직장 근무 연수\t\n",
    "- YearsInCurrentRole: 현 직무 연수\t\n",
    "- YearsWithCurrManager: 현 팀장과 근무한 연수"
   ]
  },
  {
   "cell_type": "markdown",
   "metadata": {
    "id": "3Ij5l9O9e_KO"
   },
   "source": [
    "## 데이터셋 불러오기"
   ]
  },
  {
   "cell_type": "code",
   "execution_count": 1,
   "metadata": {
    "id": "eq2ArI8peRBh"
   },
   "outputs": [],
   "source": [
    "import numpy as np\n",
    "import pandas as pd"
   ]
  },
  {
   "cell_type": "code",
   "execution_count": 2,
   "metadata": {
    "id": "Rg3T7vmTfJFi"
   },
   "outputs": [],
   "source": [
    "path = 'https://raw.githubusercontent.com/Jangrae/csv/master/Attrition_NA.CSV'\n",
    "\n",
    "data = pd.read_csv(path)"
   ]
  },
  {
   "cell_type": "markdown",
   "metadata": {
    "id": "7JgnHZVKeQ-i"
   },
   "source": [
    "## 데이터 전처리\n",
    "\n",
    "* 주석을 상세하게 작성해주세요\n",
    "\n",
    "<details><summary>Hint</summary>\n",
    "\n",
    "- x, y 구분 필요\n",
    "- train, test 구분 필요\n",
    "- 데이터 타입 전처리 필요\n",
    "- 데이터 인코딩 필요\n",
    "- null값 확인 필요"
   ]
  },
  {
   "cell_type": "code",
   "execution_count": 3,
   "metadata": {
    "id": "Pyu6RdB3eQ74"
   },
   "outputs": [
    {
     "name": "stdout",
     "output_type": "stream",
     "text": [
      "<class 'pandas.core.frame.DataFrame'>\n",
      "RangeIndex: 1250 entries, 0 to 1249\n",
      "Data columns (total 26 columns):\n",
      " #   Column                    Non-Null Count  Dtype  \n",
      "---  ------                    --------------  -----  \n",
      " 0   Attrition                 1250 non-null   object \n",
      " 1   Age                       1250 non-null   int64  \n",
      " 2   BusinessTravel            1250 non-null   object \n",
      " 3   Department                1250 non-null   object \n",
      " 4   DistanceFromHome          1196 non-null   float64\n",
      " 5   Education                 1250 non-null   int64  \n",
      " 6   EducationField            1250 non-null   object \n",
      " 7   EmployeeNumber            1250 non-null   int64  \n",
      " 8   EnvironmentSatisfaction   1250 non-null   int64  \n",
      " 9   Gender                    1250 non-null   object \n",
      " 10  JobInvolvement            1250 non-null   int64  \n",
      " 11  JobRole                   1250 non-null   object \n",
      " 12  JobSatisfaction           1250 non-null   int64  \n",
      " 13  MaritalStatus             1250 non-null   object \n",
      " 14  MonthlyIncome             1250 non-null   int64  \n",
      " 15  NumCompaniesWorked        1229 non-null   float64\n",
      " 16  OverTime                  1250 non-null   object \n",
      " 17  PercentSalaryHike         1250 non-null   int64  \n",
      " 18  RelationshipSatisfaction  1250 non-null   int64  \n",
      " 19  StockOptionLevel          1250 non-null   int64  \n",
      " 20  TotalWorkingYears         1250 non-null   int64  \n",
      " 21  TrainingTimesLastYear     1250 non-null   int64  \n",
      " 22  WorkLifeBalance           1250 non-null   int64  \n",
      " 23  YearsAtCompany            1250 non-null   int64  \n",
      " 24  YearsInCurrentRole        1250 non-null   int64  \n",
      " 25  YearsWithCurrManager      1250 non-null   int64  \n",
      "dtypes: float64(2), int64(16), object(8)\n",
      "memory usage: 254.0+ KB\n"
     ]
    }
   ],
   "source": [
    "data.info()"
   ]
  },
  {
   "cell_type": "markdown",
   "metadata": {
    "id": "0mT_zu0geQ4x"
   },
   "source": [
    "### 결측치 제거"
   ]
  },
  {
   "cell_type": "code",
   "execution_count": 4,
   "metadata": {
    "id": "HDvBOwPBmTQm"
   },
   "outputs": [
    {
     "data": {
      "text/plain": [
       "Attrition                    0\n",
       "Age                          0\n",
       "BusinessTravel               0\n",
       "Department                   0\n",
       "DistanceFromHome            54\n",
       "Education                    0\n",
       "EducationField               0\n",
       "EmployeeNumber               0\n",
       "EnvironmentSatisfaction      0\n",
       "Gender                       0\n",
       "JobInvolvement               0\n",
       "JobRole                      0\n",
       "JobSatisfaction              0\n",
       "MaritalStatus                0\n",
       "MonthlyIncome                0\n",
       "NumCompaniesWorked          21\n",
       "OverTime                     0\n",
       "PercentSalaryHike            0\n",
       "RelationshipSatisfaction     0\n",
       "StockOptionLevel             0\n",
       "TotalWorkingYears            0\n",
       "TrainingTimesLastYear        0\n",
       "WorkLifeBalance              0\n",
       "YearsAtCompany               0\n",
       "YearsInCurrentRole           0\n",
       "YearsWithCurrManager         0\n",
       "dtype: int64"
      ]
     },
     "execution_count": 4,
     "metadata": {},
     "output_type": "execute_result"
    }
   ],
   "source": [
    "data.isna().sum()"
   ]
  },
  {
   "cell_type": "code",
   "execution_count": 5,
   "metadata": {
    "id": "xX7Wpn8geQ1h"
   },
   "outputs": [],
   "source": [
    "data = data.dropna(axis=0)"
   ]
  },
  {
   "cell_type": "code",
   "execution_count": 6,
   "metadata": {
    "id": "ocV09BRldznP"
   },
   "outputs": [
    {
     "data": {
      "text/plain": [
       "Attrition                   0\n",
       "Age                         0\n",
       "BusinessTravel              0\n",
       "Department                  0\n",
       "DistanceFromHome            0\n",
       "Education                   0\n",
       "EducationField              0\n",
       "EmployeeNumber              0\n",
       "EnvironmentSatisfaction     0\n",
       "Gender                      0\n",
       "JobInvolvement              0\n",
       "JobRole                     0\n",
       "JobSatisfaction             0\n",
       "MaritalStatus               0\n",
       "MonthlyIncome               0\n",
       "NumCompaniesWorked          0\n",
       "OverTime                    0\n",
       "PercentSalaryHike           0\n",
       "RelationshipSatisfaction    0\n",
       "StockOptionLevel            0\n",
       "TotalWorkingYears           0\n",
       "TrainingTimesLastYear       0\n",
       "WorkLifeBalance             0\n",
       "YearsAtCompany              0\n",
       "YearsInCurrentRole          0\n",
       "YearsWithCurrManager        0\n",
       "dtype: int64"
      ]
     },
     "execution_count": 6,
     "metadata": {},
     "output_type": "execute_result"
    }
   ],
   "source": [
    "data.isna().sum()"
   ]
  },
  {
   "cell_type": "markdown",
   "metadata": {
    "id": "sfarnth-mXSS"
   },
   "source": [
    "### Integer Encoding"
   ]
  },
  {
   "cell_type": "code",
   "execution_count": 7,
   "metadata": {
    "id": "IHIfSyxDmXfi"
   },
   "outputs": [],
   "source": [
    "from sklearn.preprocessing import LabelEncoder"
   ]
  },
  {
   "cell_type": "code",
   "execution_count": 8,
   "metadata": {
    "id": "TkTP0hXbmkVO"
   },
   "outputs": [],
   "source": [
    "le = LabelEncoder()"
   ]
  },
  {
   "cell_type": "code",
   "execution_count": 9,
   "metadata": {
    "id": "zoXK1YPRmw-U"
   },
   "outputs": [
    {
     "data": {
      "text/html": [
       "<div>\n",
       "<style scoped>\n",
       "    .dataframe tbody tr th:only-of-type {\n",
       "        vertical-align: middle;\n",
       "    }\n",
       "\n",
       "    .dataframe tbody tr th {\n",
       "        vertical-align: top;\n",
       "    }\n",
       "\n",
       "    .dataframe thead th {\n",
       "        text-align: right;\n",
       "    }\n",
       "</style>\n",
       "<table border=\"1\" class=\"dataframe\">\n",
       "  <thead>\n",
       "    <tr style=\"text-align: right;\">\n",
       "      <th></th>\n",
       "      <th>Department</th>\n",
       "      <th>EducationField</th>\n",
       "      <th>Gender</th>\n",
       "      <th>JobRole</th>\n",
       "      <th>MaritalStatus</th>\n",
       "    </tr>\n",
       "  </thead>\n",
       "  <tbody>\n",
       "    <tr>\n",
       "      <th>0</th>\n",
       "      <td>Research &amp; Development</td>\n",
       "      <td>Medical</td>\n",
       "      <td>Male</td>\n",
       "      <td>Research Director</td>\n",
       "      <td>Married</td>\n",
       "    </tr>\n",
       "    <tr>\n",
       "      <th>1</th>\n",
       "      <td>Research &amp; Development</td>\n",
       "      <td>Life Sciences</td>\n",
       "      <td>Male</td>\n",
       "      <td>Manufacturing Director</td>\n",
       "      <td>Single</td>\n",
       "    </tr>\n",
       "    <tr>\n",
       "      <th>2</th>\n",
       "      <td>Research &amp; Development</td>\n",
       "      <td>Medical</td>\n",
       "      <td>Male</td>\n",
       "      <td>Research Director</td>\n",
       "      <td>Married</td>\n",
       "    </tr>\n",
       "    <tr>\n",
       "      <th>3</th>\n",
       "      <td>Sales</td>\n",
       "      <td>Marketing</td>\n",
       "      <td>Female</td>\n",
       "      <td>Manager</td>\n",
       "      <td>Married</td>\n",
       "    </tr>\n",
       "    <tr>\n",
       "      <th>5</th>\n",
       "      <td>Research &amp; Development</td>\n",
       "      <td>Technical Degree</td>\n",
       "      <td>Male</td>\n",
       "      <td>Laboratory Technician</td>\n",
       "      <td>Single</td>\n",
       "    </tr>\n",
       "  </tbody>\n",
       "</table>\n",
       "</div>"
      ],
      "text/plain": [
       "               Department    EducationField  Gender                 JobRole  \\\n",
       "0  Research & Development           Medical    Male       Research Director   \n",
       "1  Research & Development     Life Sciences    Male  Manufacturing Director   \n",
       "2  Research & Development           Medical    Male       Research Director   \n",
       "3                   Sales         Marketing  Female                 Manager   \n",
       "5  Research & Development  Technical Degree    Male   Laboratory Technician   \n",
       "\n",
       "  MaritalStatus  \n",
       "0       Married  \n",
       "1        Single  \n",
       "2       Married  \n",
       "3       Married  \n",
       "5        Single  "
      ]
     },
     "execution_count": 9,
     "metadata": {},
     "output_type": "execute_result"
    }
   ],
   "source": [
    "data[['Department', 'EducationField', 'Gender', 'JobRole', 'MaritalStatus']].head()"
   ]
  },
  {
   "cell_type": "code",
   "execution_count": 10,
   "metadata": {
    "id": "vHF7UYx2mmQf"
   },
   "outputs": [
    {
     "data": {
      "text/html": [
       "<div>\n",
       "<style scoped>\n",
       "    .dataframe tbody tr th:only-of-type {\n",
       "        vertical-align: middle;\n",
       "    }\n",
       "\n",
       "    .dataframe tbody tr th {\n",
       "        vertical-align: top;\n",
       "    }\n",
       "\n",
       "    .dataframe thead th {\n",
       "        text-align: right;\n",
       "    }\n",
       "</style>\n",
       "<table border=\"1\" class=\"dataframe\">\n",
       "  <thead>\n",
       "    <tr style=\"text-align: right;\">\n",
       "      <th></th>\n",
       "      <th>Department</th>\n",
       "      <th>EducationField</th>\n",
       "      <th>Gender</th>\n",
       "      <th>JobRole</th>\n",
       "      <th>MaritalStatus</th>\n",
       "    </tr>\n",
       "  </thead>\n",
       "  <tbody>\n",
       "    <tr>\n",
       "      <th>0</th>\n",
       "      <td>1</td>\n",
       "      <td>3</td>\n",
       "      <td>1</td>\n",
       "      <td>5</td>\n",
       "      <td>1</td>\n",
       "    </tr>\n",
       "    <tr>\n",
       "      <th>1</th>\n",
       "      <td>1</td>\n",
       "      <td>1</td>\n",
       "      <td>1</td>\n",
       "      <td>4</td>\n",
       "      <td>2</td>\n",
       "    </tr>\n",
       "    <tr>\n",
       "      <th>2</th>\n",
       "      <td>1</td>\n",
       "      <td>3</td>\n",
       "      <td>1</td>\n",
       "      <td>5</td>\n",
       "      <td>1</td>\n",
       "    </tr>\n",
       "    <tr>\n",
       "      <th>3</th>\n",
       "      <td>2</td>\n",
       "      <td>2</td>\n",
       "      <td>0</td>\n",
       "      <td>3</td>\n",
       "      <td>1</td>\n",
       "    </tr>\n",
       "    <tr>\n",
       "      <th>5</th>\n",
       "      <td>1</td>\n",
       "      <td>5</td>\n",
       "      <td>1</td>\n",
       "      <td>2</td>\n",
       "      <td>2</td>\n",
       "    </tr>\n",
       "  </tbody>\n",
       "</table>\n",
       "</div>"
      ],
      "text/plain": [
       "   Department  EducationField  Gender  JobRole  MaritalStatus\n",
       "0           1               3       1        5              1\n",
       "1           1               1       1        4              2\n",
       "2           1               3       1        5              1\n",
       "3           2               2       0        3              1\n",
       "5           1               5       1        2              2"
      ]
     },
     "execution_count": 10,
     "metadata": {},
     "output_type": "execute_result"
    }
   ],
   "source": [
    "le_cols = ['Department', 'EducationField', 'Gender', 'JobRole', 'MaritalStatus']\n",
    "\n",
    "for i in le_cols :\n",
    "    data[i] = le.fit_transform( data[i] )\n",
    "\n",
    "data[['Department', 'EducationField', 'Gender', 'JobRole', 'MaritalStatus']].head()"
   ]
  },
  {
   "cell_type": "code",
   "execution_count": 11,
   "metadata": {
    "id": "jUHsvDUlnYiN"
   },
   "outputs": [
    {
     "data": {
      "text/html": [
       "<div>\n",
       "<style scoped>\n",
       "    .dataframe tbody tr th:only-of-type {\n",
       "        vertical-align: middle;\n",
       "    }\n",
       "\n",
       "    .dataframe tbody tr th {\n",
       "        vertical-align: top;\n",
       "    }\n",
       "\n",
       "    .dataframe thead th {\n",
       "        text-align: right;\n",
       "    }\n",
       "</style>\n",
       "<table border=\"1\" class=\"dataframe\">\n",
       "  <thead>\n",
       "    <tr style=\"text-align: right;\">\n",
       "      <th></th>\n",
       "      <th>BusinessTravel</th>\n",
       "      <th>Attrition</th>\n",
       "      <th>OverTime</th>\n",
       "    </tr>\n",
       "  </thead>\n",
       "  <tbody>\n",
       "    <tr>\n",
       "      <th>0</th>\n",
       "      <td>Travel_Rarely</td>\n",
       "      <td>No</td>\n",
       "      <td>No</td>\n",
       "    </tr>\n",
       "    <tr>\n",
       "      <th>1</th>\n",
       "      <td>Travel_Frequently</td>\n",
       "      <td>No</td>\n",
       "      <td>No</td>\n",
       "    </tr>\n",
       "    <tr>\n",
       "      <th>2</th>\n",
       "      <td>Travel_Rarely</td>\n",
       "      <td>No</td>\n",
       "      <td>No</td>\n",
       "    </tr>\n",
       "    <tr>\n",
       "      <th>3</th>\n",
       "      <td>Travel_Rarely</td>\n",
       "      <td>No</td>\n",
       "      <td>No</td>\n",
       "    </tr>\n",
       "    <tr>\n",
       "      <th>5</th>\n",
       "      <td>Travel_Frequently</td>\n",
       "      <td>Yes</td>\n",
       "      <td>No</td>\n",
       "    </tr>\n",
       "  </tbody>\n",
       "</table>\n",
       "</div>"
      ],
      "text/plain": [
       "      BusinessTravel Attrition OverTime\n",
       "0      Travel_Rarely        No       No\n",
       "1  Travel_Frequently        No       No\n",
       "2      Travel_Rarely        No       No\n",
       "3      Travel_Rarely        No       No\n",
       "5  Travel_Frequently       Yes       No"
      ]
     },
     "execution_count": 11,
     "metadata": {},
     "output_type": "execute_result"
    }
   ],
   "source": [
    "data[['BusinessTravel', 'Attrition', 'OverTime']].head()"
   ]
  },
  {
   "cell_type": "code",
   "execution_count": 12,
   "metadata": {
    "id": "ko3aye2nmoY-"
   },
   "outputs": [
    {
     "data": {
      "text/html": [
       "<div>\n",
       "<style scoped>\n",
       "    .dataframe tbody tr th:only-of-type {\n",
       "        vertical-align: middle;\n",
       "    }\n",
       "\n",
       "    .dataframe tbody tr th {\n",
       "        vertical-align: top;\n",
       "    }\n",
       "\n",
       "    .dataframe thead th {\n",
       "        text-align: right;\n",
       "    }\n",
       "</style>\n",
       "<table border=\"1\" class=\"dataframe\">\n",
       "  <thead>\n",
       "    <tr style=\"text-align: right;\">\n",
       "      <th></th>\n",
       "      <th>BusinessTravel</th>\n",
       "      <th>Attrition</th>\n",
       "      <th>OverTime</th>\n",
       "    </tr>\n",
       "  </thead>\n",
       "  <tbody>\n",
       "    <tr>\n",
       "      <th>0</th>\n",
       "      <td>1</td>\n",
       "      <td>0</td>\n",
       "      <td>0</td>\n",
       "    </tr>\n",
       "    <tr>\n",
       "      <th>1</th>\n",
       "      <td>2</td>\n",
       "      <td>0</td>\n",
       "      <td>0</td>\n",
       "    </tr>\n",
       "    <tr>\n",
       "      <th>2</th>\n",
       "      <td>1</td>\n",
       "      <td>0</td>\n",
       "      <td>0</td>\n",
       "    </tr>\n",
       "    <tr>\n",
       "      <th>3</th>\n",
       "      <td>1</td>\n",
       "      <td>0</td>\n",
       "      <td>0</td>\n",
       "    </tr>\n",
       "    <tr>\n",
       "      <th>5</th>\n",
       "      <td>2</td>\n",
       "      <td>1</td>\n",
       "      <td>0</td>\n",
       "    </tr>\n",
       "  </tbody>\n",
       "</table>\n",
       "</div>"
      ],
      "text/plain": [
       "   BusinessTravel  Attrition  OverTime\n",
       "0               1          0         0\n",
       "1               2          0         0\n",
       "2               1          0         0\n",
       "3               1          0         0\n",
       "5               2          1         0"
      ]
     },
     "execution_count": 12,
     "metadata": {},
     "output_type": "execute_result"
    }
   ],
   "source": [
    "data['BusinessTravel'] = data['BusinessTravel'].map({'Non-Travel':0, 'Travel_Rarely':1 , 'Travel_Frequently':2})\n",
    "data['Attrition'] = data['Attrition'].map({'Yes':1 , 'No':0})\n",
    "data['OverTime'] = data['OverTime'].map({'Yes':1 , 'No':0})\n",
    "\n",
    "data[['BusinessTravel', 'Attrition', 'OverTime']].head()"
   ]
  },
  {
   "cell_type": "markdown",
   "metadata": {
    "id": "NBv6p6exouoT"
   },
   "source": [
    "### x / y 분리"
   ]
  },
  {
   "cell_type": "code",
   "execution_count": 13,
   "metadata": {
    "id": "AJZTMjj4ouk9"
   },
   "outputs": [],
   "source": [
    "x = data.drop('Attrition', axis=1)\n",
    "y = data['Attrition']"
   ]
  },
  {
   "cell_type": "code",
   "execution_count": 14,
   "metadata": {
    "id": "Sz05yW2go4VF"
   },
   "outputs": [
    {
     "data": {
      "text/plain": [
       "((1175, 25), (1175,))"
      ]
     },
     "execution_count": 14,
     "metadata": {},
     "output_type": "execute_result"
    }
   ],
   "source": [
    "x.shape, y.shape"
   ]
  },
  {
   "cell_type": "markdown",
   "metadata": {
    "id": "5JPMcgMWoug8"
   },
   "source": [
    "### train set / test set 분리"
   ]
  },
  {
   "cell_type": "code",
   "execution_count": 15,
   "metadata": {
    "id": "g9cxf3ekoub7"
   },
   "outputs": [],
   "source": [
    "from sklearn.model_selection import train_test_split"
   ]
  },
  {
   "cell_type": "code",
   "execution_count": 16,
   "metadata": {
    "id": "lkSTq_5Fn_aN"
   },
   "outputs": [],
   "source": [
    "train_x, test_x, train_y, test_y \\\n",
    "    = train_test_split(x, y, test_size=0.1, random_state=2022)"
   ]
  },
  {
   "cell_type": "markdown",
   "metadata": {
    "id": "N4iFUU_hv3G5"
   },
   "source": [
    "## 모델링\n",
    "\n",
    "1. 전처리에서 제외한 feature를 제외한, 다른 feature는 반드시 모두 사용하셔야 합니다.\n",
    "2. locally connected layer를 최소 4개 이상 만드세요.\n",
    "3. 모델 구조 시각화까지 해주면 좋습니다.\n",
    "4. 학습 횟수는 최대 25번까지만.\n",
    "---\n",
    "### **locally하게 연결한 구성 의도를 반드시 상세하게 남겨주세요 (상황 가정을 해서라도!)** \n",
    "### **주석 역시 상세하게 남겨주세요**"
   ]
  },
  {
   "cell_type": "markdown",
   "metadata": {
    "id": "TMl51PRuv6sw"
   },
   "source": [
    "### Locally connected layer를 구성하기 위한 feature 설정"
   ]
  },
  {
   "cell_type": "code",
   "execution_count": 17,
   "metadata": {
    "id": "9ubnfjsrwZpp"
   },
   "outputs": [
    {
     "data": {
      "text/plain": [
       "Index(['Age', 'BusinessTravel', 'Department', 'DistanceFromHome', 'Education',\n",
       "       'EducationField', 'EmployeeNumber', 'EnvironmentSatisfaction', 'Gender',\n",
       "       'JobInvolvement', 'JobRole', 'JobSatisfaction', 'MaritalStatus',\n",
       "       'MonthlyIncome', 'NumCompaniesWorked', 'OverTime', 'PercentSalaryHike',\n",
       "       'RelationshipSatisfaction', 'StockOptionLevel', 'TotalWorkingYears',\n",
       "       'TrainingTimesLastYear', 'WorkLifeBalance', 'YearsAtCompany',\n",
       "       'YearsInCurrentRole', 'YearsWithCurrManager'],\n",
       "      dtype='object')"
      ]
     },
     "execution_count": 17,
     "metadata": {},
     "output_type": "execute_result"
    }
   ],
   "source": [
    "train_x.columns"
   ]
  },
  {
   "cell_type": "code",
   "execution_count": 18,
   "metadata": {
    "id": "J7DTEX4av6vo"
   },
   "outputs": [],
   "source": [
    "col_satis = ['WorkLifeBalance', 'JobSatisfaction', 'EnvironmentSatisfaction']\n",
    "col_other = ['Age', 'Department', 'DistanceFromHome', 'Education', 'EducationField',\n",
    "             'EmployeeNumber', 'JobInvolvement', 'JobRole', 'NumCompaniesWorked',\n",
    "             'PercentSalaryHike', 'RelationshipSatisfaction', 'StockOptionLevel',\n",
    "             'TotalWorkingYears', 'TrainingTimesLastYear', 'YearsAtCompany', 'YearsInCurrentRole']"
   ]
  },
  {
   "cell_type": "markdown",
   "metadata": {
    "id": "1xpPs333whMJ"
   },
   "source": [
    "* 만족도와 출장빈도 / 성별 / 결혼 / 수입 / 야근 / 매니저 등을 묶음"
   ]
  },
  {
   "cell_type": "code",
   "execution_count": 19,
   "metadata": {
    "id": "G4K_t-E6v6yp"
   },
   "outputs": [],
   "source": [
    "tr_bt = train_x[ col_satis + ['BusinessTravel'] ]\n",
    "tr_gender = train_x[ col_satis + ['Gender'] ]\n",
    "tr_marital = train_x[ col_satis + ['MaritalStatus'] ]\n",
    "tr_income = train_x[ col_satis + ['MonthlyIncome'] ]\n",
    "tr_overtime = train_x[ col_satis + ['OverTime'] ]\n",
    "tr_manager = train_x[ col_satis + ['YearsWithCurrManager'] ]\n",
    "tr_other = train_x[ col_other ]\n",
    "\n",
    "tr_list = [tr_bt, tr_gender, tr_marital, tr_income, tr_overtime, tr_manager, tr_other]"
   ]
  },
  {
   "cell_type": "code",
   "execution_count": 20,
   "metadata": {
    "id": "I5Gp7wZbwviJ"
   },
   "outputs": [],
   "source": [
    "te_bt = test_x[ col_satis + ['BusinessTravel'] ]\n",
    "te_gender = test_x[ col_satis + ['Gender'] ]\n",
    "te_marital = test_x[ col_satis + ['MaritalStatus'] ]\n",
    "te_income = test_x[ col_satis + ['MonthlyIncome'] ]\n",
    "te_overtime = test_x[ col_satis + ['OverTime'] ]\n",
    "te_manager = test_x[ col_satis + ['YearsWithCurrManager'] ]\n",
    "te_other = test_x[ col_other ]\n",
    "\n",
    "te_list = [te_bt, te_gender, te_marital, te_income, te_overtime, te_manager, te_other]"
   ]
  },
  {
   "cell_type": "markdown",
   "metadata": {
    "id": "II2DSumywT4b"
   },
   "source": [
    "### 모델 코드 작성"
   ]
  },
  {
   "cell_type": "code",
   "execution_count": 21,
   "metadata": {
    "id": "uaFpn1E3v62I"
   },
   "outputs": [],
   "source": [
    "import tensorflow as tf\n",
    "from tensorflow import keras"
   ]
  },
  {
   "cell_type": "code",
   "execution_count": 22,
   "metadata": {
    "id": "rypiEkOew3hx"
   },
   "outputs": [
    {
     "name": "stdout",
     "output_type": "stream",
     "text": [
      "Model: \"model\"\n",
      "__________________________________________________________________________________________________\n",
      " Layer (type)                   Output Shape         Param #     Connected to                     \n",
      "==================================================================================================\n",
      " input_1 (InputLayer)           [(None, 4)]          0           []                               \n",
      "                                                                                                  \n",
      " input_2 (InputLayer)           [(None, 4)]          0           []                               \n",
      "                                                                                                  \n",
      " input_3 (InputLayer)           [(None, 4)]          0           []                               \n",
      "                                                                                                  \n",
      " input_4 (InputLayer)           [(None, 4)]          0           []                               \n",
      "                                                                                                  \n",
      " input_5 (InputLayer)           [(None, 4)]          0           []                               \n",
      "                                                                                                  \n",
      " input_6 (InputLayer)           [(None, 4)]          0           []                               \n",
      "                                                                                                  \n",
      " dense (Dense)                  (None, 12)           60          ['input_1[0][0]']                \n",
      "                                                                                                  \n",
      " dense_1 (Dense)                (None, 12)           60          ['input_2[0][0]']                \n",
      "                                                                                                  \n",
      " dense_2 (Dense)                (None, 12)           60          ['input_3[0][0]']                \n",
      "                                                                                                  \n",
      " dense_3 (Dense)                (None, 12)           60          ['input_4[0][0]']                \n",
      "                                                                                                  \n",
      " dense_4 (Dense)                (None, 12)           60          ['input_5[0][0]']                \n",
      "                                                                                                  \n",
      " dense_5 (Dense)                (None, 12)           60          ['input_6[0][0]']                \n",
      "                                                                                                  \n",
      " input_7 (InputLayer)           [(None, 16)]         0           []                               \n",
      "                                                                                                  \n",
      " add (Add)                      (None, 12)           0           ['dense[0][0]',                  \n",
      "                                                                  'dense_1[0][0]',                \n",
      "                                                                  'dense_2[0][0]',                \n",
      "                                                                  'dense_3[0][0]',                \n",
      "                                                                  'dense_4[0][0]',                \n",
      "                                                                  'dense_5[0][0]']                \n",
      "                                                                                                  \n",
      " dense_6 (Dense)                (None, 64)           1088        ['input_7[0][0]']                \n",
      "                                                                                                  \n",
      " concatenate (Concatenate)      (None, 76)           0           ['add[0][0]',                    \n",
      "                                                                  'dense_6[0][0]']                \n",
      "                                                                                                  \n",
      " batch_normalization (BatchNorm  (None, 76)          304         ['concatenate[0][0]']            \n",
      " alization)                                                                                       \n",
      "                                                                                                  \n",
      " dense_7 (Dense)                (None, 128)          9856        ['batch_normalization[0][0]']    \n",
      "                                                                                                  \n",
      " dense_8 (Dense)                (None, 1)            129         ['dense_7[0][0]']                \n",
      "                                                                                                  \n",
      "==================================================================================================\n",
      "Total params: 11,737\n",
      "Trainable params: 11,585\n",
      "Non-trainable params: 152\n",
      "__________________________________________________________________________________________________\n"
     ]
    }
   ],
   "source": [
    "keras.backend.clear_session()\n",
    "\n",
    "il_bt = keras.layers.Input(shape=(4,))\n",
    "hl_bt = keras.layers.Dense(12, activation='relu')(il_bt)\n",
    "\n",
    "il_gender = keras.layers.Input(shape=(4,))\n",
    "hl_gender = keras.layers.Dense(12, activation='relu')(il_gender)\n",
    "\n",
    "il_marital = keras.layers.Input(shape=(4,))\n",
    "hl_marital = keras.layers.Dense(12, activation='relu')(il_marital)\n",
    "\n",
    "il_income = keras.layers.Input(shape=(4,))\n",
    "hl_income = keras.layers.Dense(12, activation='relu')(il_income)\n",
    "\n",
    "il_overtime = keras.layers.Input(shape=(4,))\n",
    "hl_overtime = keras.layers.Dense(12, activation='relu')(il_overtime)\n",
    "\n",
    "il_manager = keras.layers.Input(shape=(4,))\n",
    "hl_manager = keras.layers.Dense(12, activation='relu')(il_manager)\n",
    "\n",
    "hl_add = keras.layers.Add()([hl_bt, hl_gender, hl_marital, hl_income, hl_overtime, hl_manager])\n",
    "\n",
    "il_other = keras.layers.Input(shape=(16,))\n",
    "hl_other = keras.layers.Dense(64, activation='relu')(il_other)\n",
    "\n",
    "hl_concat = keras.layers.concatenate([hl_add, hl_other])\n",
    "hl_batch = keras.layers.BatchNormalization()(hl_concat)\n",
    "hl = keras.layers.Dense(128, activation='relu')(hl_batch)\n",
    "ol = keras.layers.Dense(1, activation='sigmoid')(hl)\n",
    "\n",
    "model = keras.models.Model([il_bt, il_gender, il_marital, il_income, il_overtime, il_manager, il_other] , ol)\n",
    "\n",
    "model.compile(loss=keras.losses.binary_crossentropy, metrics=['accuracy'],\n",
    "              optimizer=keras.optimizers.Adam(0.001))\n",
    "\n",
    "model.summary()"
   ]
  },
  {
   "cell_type": "markdown",
   "metadata": {
    "id": "MWkg0Oogw5W5"
   },
   "source": [
    "### 모델 구조 시각화"
   ]
  },
  {
   "cell_type": "code",
   "execution_count": 23,
   "metadata": {
    "id": "5KnKSAP4v65r"
   },
   "outputs": [],
   "source": [
    "from tensorflow.keras.utils import plot_model"
   ]
  },
  {
   "cell_type": "code",
   "execution_count": 24,
   "metadata": {
    "id": "twER7EGNxH1p"
   },
   "outputs": [
    {
     "data": {
      "image/png": "[encoded data removed]",
      "text/plain": [
       "<IPython.core.display.Image object>"
      ]
     },
     "execution_count": 24,
     "metadata": {},
     "output_type": "execute_result"
    }
   ],
   "source": [
    "plot_model(model, show_shapes=True)"
   ]
  },
  {
   "cell_type": "markdown",
   "metadata": {
    "id": "fLnughPGxKr4"
   },
   "source": [
    "### 모델 학습"
   ]
  },
  {
   "cell_type": "code",
   "execution_count": 25,
   "metadata": {
    "id": "t_Wd9hqV02jX"
   },
   "outputs": [
    {
     "name": "stdout",
     "output_type": "stream",
     "text": [
      "Epoch 1/25\n",
      "30/30 [==============================] - 1s 6ms/step - loss: 0.5097 - accuracy: 0.7646 - val_loss: 0.7603 - val_accuracy: 0.8305\n",
      "Epoch 2/25\n",
      "30/30 [==============================] - 0s 2ms/step - loss: 0.4349 - accuracy: 0.8317 - val_loss: 0.5601 - val_accuracy: 0.8305\n",
      "Epoch 3/25\n",
      "30/30 [==============================] - 0s 2ms/step - loss: 0.4211 - accuracy: 0.8360 - val_loss: 0.5082 - val_accuracy: 0.8305\n",
      "Epoch 4/25\n",
      "30/30 [==============================] - 0s 1ms/step - loss: 0.4037 - accuracy: 0.8445 - val_loss: 0.4733 - val_accuracy: 0.8305\n",
      "Epoch 5/25\n",
      "30/30 [==============================] - 0s 2ms/step - loss: 0.3950 - accuracy: 0.8477 - val_loss: 0.4481 - val_accuracy: 0.8390\n",
      "Epoch 6/25\n",
      "30/30 [==============================] - 0s 1ms/step - loss: 0.3875 - accuracy: 0.8488 - val_loss: 0.4713 - val_accuracy: 0.8390\n",
      "Epoch 7/25\n",
      "30/30 [==============================] - 0s 1ms/step - loss: 0.3674 - accuracy: 0.8509 - val_loss: 0.4414 - val_accuracy: 0.8644\n",
      "Epoch 8/25\n",
      "30/30 [==============================] - 0s 1ms/step - loss: 0.3521 - accuracy: 0.8584 - val_loss: 0.4612 - val_accuracy: 0.8559\n",
      "Epoch 9/25\n",
      "30/30 [==============================] - 0s 1ms/step - loss: 0.3557 - accuracy: 0.8594 - val_loss: 0.4427 - val_accuracy: 0.8475\n",
      "Epoch 10/25\n",
      "30/30 [==============================] - 0s 1ms/step - loss: 0.3530 - accuracy: 0.8584 - val_loss: 0.4456 - val_accuracy: 0.8475\n",
      "Epoch 11/25\n",
      "30/30 [==============================] - 0s 1ms/step - loss: 0.3394 - accuracy: 0.8616 - val_loss: 0.4353 - val_accuracy: 0.8390\n",
      "Epoch 12/25\n",
      "30/30 [==============================] - 0s 1ms/step - loss: 0.3382 - accuracy: 0.8562 - val_loss: 0.4597 - val_accuracy: 0.8729\n",
      "Epoch 13/25\n",
      "30/30 [==============================] - 0s 1ms/step - loss: 0.3252 - accuracy: 0.8594 - val_loss: 0.5316 - val_accuracy: 0.7797\n",
      "Epoch 14/25\n",
      "30/30 [==============================] - 0s 1ms/step - loss: 0.3221 - accuracy: 0.8637 - val_loss: 0.4312 - val_accuracy: 0.8644\n",
      "Epoch 15/25\n",
      "30/30 [==============================] - 0s 1ms/step - loss: 0.3184 - accuracy: 0.8690 - val_loss: 0.4078 - val_accuracy: 0.8475\n",
      "Epoch 16/25\n",
      "30/30 [==============================] - 0s 1ms/step - loss: 0.3180 - accuracy: 0.8594 - val_loss: 0.4135 - val_accuracy: 0.8814\n",
      "Epoch 17/25\n",
      "30/30 [==============================] - 0s 1ms/step - loss: 0.3033 - accuracy: 0.8701 - val_loss: 0.4221 - val_accuracy: 0.8559\n",
      "Epoch 18/25\n",
      "30/30 [==============================] - 0s 1ms/step - loss: 0.3086 - accuracy: 0.8669 - val_loss: 0.3827 - val_accuracy: 0.8559\n",
      "Epoch 19/25\n",
      "30/30 [==============================] - 0s 1ms/step - loss: 0.3061 - accuracy: 0.8679 - val_loss: 0.4082 - val_accuracy: 0.8814\n",
      "Epoch 20/25\n",
      "30/30 [==============================] - 0s 1ms/step - loss: 0.2965 - accuracy: 0.8690 - val_loss: 0.3935 - val_accuracy: 0.8644\n",
      "Epoch 21/25\n",
      "30/30 [==============================] - 0s 1ms/step - loss: 0.3142 - accuracy: 0.8658 - val_loss: 0.4066 - val_accuracy: 0.8644\n",
      "Epoch 22/25\n",
      "30/30 [==============================] - 0s 1ms/step - loss: 0.2952 - accuracy: 0.8786 - val_loss: 0.3795 - val_accuracy: 0.8644\n",
      "Epoch 23/25\n",
      "30/30 [==============================] - 0s 1ms/step - loss: 0.2839 - accuracy: 0.8871 - val_loss: 0.4045 - val_accuracy: 0.8390\n",
      "Epoch 24/25\n",
      "30/30 [==============================] - 0s 1ms/step - loss: 0.2906 - accuracy: 0.8797 - val_loss: 0.3943 - val_accuracy: 0.8644\n",
      "Epoch 25/25\n",
      "30/30 [==============================] - 0s 1ms/step - loss: 0.2983 - accuracy: 0.8743 - val_loss: 0.3891 - val_accuracy: 0.8814\n"
     ]
    },
    {
     "data": {
      "text/plain": [
       "<keras.callbacks.History at 0x28b774ae7c0>"
      ]
     },
     "execution_count": 25,
     "metadata": {},
     "output_type": "execute_result"
    }
   ],
   "source": [
    "model.fit(tr_list, train_y, validation_split=1/9, verbose=1, epochs=25)"
   ]
  },
  {
   "cell_type": "markdown",
   "metadata": {
    "id": "mpmzUPy81EU4"
   },
   "source": [
    "### 모델 예측"
   ]
  },
  {
   "cell_type": "code",
   "execution_count": 26,
   "metadata": {
    "id": "bh-4tZge2rf5"
   },
   "outputs": [
    {
     "data": {
      "text/plain": [
       "array([0.3461159 , 0.06088501, 0.00486568, 0.0109117 , 0.16349578,\n",
       "       0.10059747, 0.26661998, 0.04461467, 0.3509695 , 0.542471  ,\n",
       "       0.02761665], dtype=float32)"
      ]
     },
     "execution_count": 26,
     "metadata": {},
     "output_type": "execute_result"
    }
   ],
   "source": [
    "pred_y = model.predict(te_list)\n",
    "\n",
    "pred_y[:11].reshape(-1)"
   ]
  },
  {
   "cell_type": "code",
   "execution_count": 30,
   "metadata": {
    "id": "Aqf4ZOXs6L_B"
   },
   "outputs": [
    {
     "data": {
      "text/plain": [
       "array([0., 0., 0., 0., 0., 0., 0., 0., 0., 1., 0.], dtype=float32)"
      ]
     },
     "execution_count": 30,
     "metadata": {},
     "output_type": "execute_result"
    }
   ],
   "source": [
    "for idx, val in enumerate(pred_y) :\n",
    "    if pred_y[idx] >= 0.5 :\n",
    "        pred_y[idx] = 1\n",
    "    else :\n",
    "        pred_y[idx] = 0\n",
    "\n",
    "pred_y[:11].reshape(-1)"
   ]
  },
  {
   "cell_type": "markdown",
   "metadata": {
    "id": "5hu2kSt06YhE"
   },
   "source": [
    "## 평가\n",
    "\n",
    "1. 모델의 정확도를 기재하시오.\n",
    "2. 이직이라 예측한 것 중 실제로 이직한 비율을 구하시오.\n",
    "3. 실제 이직 데이터 중 모델이 이직이라 예측한 것의 비율을 구하시오.\n",
    "4. 남는다고 예측한 것 중 실제로 남아있는 비율을 구하시오.\n",
    "---\n",
    "### hidden layer 2개를 사용한 multilayer perceptron 구조와 비교하시오."
   ]
  },
  {
   "cell_type": "markdown",
   "metadata": {
    "id": "H54gq8bp6fMj"
   },
   "source": [
    "### 모델 평가"
   ]
  },
  {
   "cell_type": "code",
   "execution_count": 27,
   "metadata": {
    "id": "w4D_nnPb6gRj"
   },
   "outputs": [
    {
     "name": "stdout",
     "output_type": "stream",
     "text": [
      "4/4 [==============================] - 0s 1ms/step - loss: 0.3085 - accuracy: 0.8814\n"
     ]
    },
    {
     "data": {
      "text/plain": [
       "[0.30852705240249634, 0.8813559412956238]"
      ]
     },
     "execution_count": 27,
     "metadata": {},
     "output_type": "execute_result"
    }
   ],
   "source": [
    "model.evaluate(te_list, test_y)"
   ]
  },
  {
   "cell_type": "markdown",
   "metadata": {
    "id": "zpChoj_Y6k4k"
   },
   "source": [
    "### confusion matrix"
   ]
  },
  {
   "cell_type": "code",
   "execution_count": 28,
   "metadata": {
    "id": "Mae1tQVX6qwT"
   },
   "outputs": [],
   "source": [
    "from sklearn.metrics import classification_report"
   ]
  },
  {
   "cell_type": "code",
   "execution_count": 31,
   "metadata": {
    "id": "_A9pLQtt68LM"
   },
   "outputs": [
    {
     "name": "stdout",
     "output_type": "stream",
     "text": [
      "              precision    recall  f1-score   support\n",
      "\n",
      "          No       0.91      0.96      0.93       100\n",
      "         Yes       0.67      0.44      0.53        18\n",
      "\n",
      "    accuracy                           0.88       118\n",
      "   macro avg       0.79      0.70      0.73       118\n",
      "weighted avg       0.87      0.88      0.87       118\n",
      "\n"
     ]
    }
   ],
   "source": [
    "print(classification_report(test_y, pred_y, target_names=['No', 'Yes']) )"
   ]
  },
  {
   "cell_type": "code",
   "execution_count": null,
   "metadata": {},
   "outputs": [],
   "source": []
  }
 ],
 "metadata": {
  "colab": {
   "collapsed_sections": [],
   "name": "3_6_직원 이직 여부 예측_예시.ipynb",
   "provenance": [],
   "toc_visible": true
  },
  "kernelspec": {
   "display_name": "Python 3",
   "language": "python",
   "name": "python3"
  },
  "language_info": {
   "codemirror_mode": {
    "name": "ipython",
    "version": 3
   },
   "file_extension": ".py",
   "mimetype": "text/x-python",
   "name": "python",
   "nbconvert_exporter": "python",
   "pygments_lexer": "ipython3",
   "version": "3.8.8"
  }
 },
 "nbformat": 4,
 "nbformat_minor": 1
}
