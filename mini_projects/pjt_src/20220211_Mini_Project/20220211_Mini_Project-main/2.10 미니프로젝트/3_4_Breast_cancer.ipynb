{
 "cells": [
  {
   "cell_type": "markdown",
   "metadata": {
    "id": "XZ7tAmJDypSo"
   },
   "source": [
    "# 유방암 종양 예측\n",
    "\n",
    "## 악성 종양인지, 양성 종양(정상)인지 예측"
   ]
  },
  {
   "cell_type": "markdown",
   "metadata": {
    "id": "lyYyOsXgy9Vx"
   },
   "source": [
    "## 데이터셋 불러오기\n",
    "\n",
    "* radius : 반경\n",
    "* texture : 질감\n",
    "* perimeter : 둘레\n",
    "* area : 면적\n",
    "* smoothness : 매끄러움\n",
    "* compactness : 조그만 정도\n",
    "* concavity : 윤곽의 오목함\n",
    "* concave points : 윤곽의 오목한 부분의 수\n",
    "* symmetry : 대칭\n",
    "* fractal dimension : 프랙탈 차원\n",
    "* target : Malignant-악성 종양 / Benign-양성 종양(정상)\n",
    "---\n",
    "* mean ~ : 데이터별 평균 값\n",
    "* ~ error : 데이터별 표준편차 값\n",
    "* worst ~ : 데이터별 가장 큰 3개의 평균으로 만든 값"
   ]
  },
  {
   "cell_type": "code",
   "execution_count": 1,
   "metadata": {
    "id": "9qac0OkvzCK3"
   },
   "outputs": [],
   "source": [
    "import pandas as pd\n",
    "import numpy as np"
   ]
  },
  {
   "cell_type": "code",
   "execution_count": 2,
   "metadata": {
    "id": "Lv7VQADpzH_W"
   },
   "outputs": [
    {
     "data": {
      "text/html": [
       "<div>\n",
       "<style scoped>\n",
       "    .dataframe tbody tr th:only-of-type {\n",
       "        vertical-align: middle;\n",
       "    }\n",
       "\n",
       "    .dataframe tbody tr th {\n",
       "        vertical-align: top;\n",
       "    }\n",
       "\n",
       "    .dataframe thead th {\n",
       "        text-align: right;\n",
       "    }\n",
       "</style>\n",
       "<table border=\"1\" class=\"dataframe\">\n",
       "  <thead>\n",
       "    <tr style=\"text-align: right;\">\n",
       "      <th></th>\n",
       "      <th>mean radius</th>\n",
       "      <th>mean texture</th>\n",
       "      <th>mean perimeter</th>\n",
       "      <th>mean area</th>\n",
       "      <th>mean smoothness</th>\n",
       "      <th>mean compactness</th>\n",
       "      <th>mean concavity</th>\n",
       "      <th>mean concave points</th>\n",
       "      <th>mean symmetry</th>\n",
       "      <th>mean fractal dimension</th>\n",
       "      <th>...</th>\n",
       "      <th>worst texture</th>\n",
       "      <th>worst perimeter</th>\n",
       "      <th>worst area</th>\n",
       "      <th>worst smoothness</th>\n",
       "      <th>worst compactness</th>\n",
       "      <th>worst concavity</th>\n",
       "      <th>worst concave points</th>\n",
       "      <th>worst symmetry</th>\n",
       "      <th>worst fractal dimension</th>\n",
       "      <th>target</th>\n",
       "    </tr>\n",
       "  </thead>\n",
       "  <tbody>\n",
       "    <tr>\n",
       "      <th>0</th>\n",
       "      <td>17.99</td>\n",
       "      <td>10.38</td>\n",
       "      <td>122.80</td>\n",
       "      <td>1001.0</td>\n",
       "      <td>0.11840</td>\n",
       "      <td>0.27760</td>\n",
       "      <td>0.3001</td>\n",
       "      <td>0.14710</td>\n",
       "      <td>0.2419</td>\n",
       "      <td>0.07871</td>\n",
       "      <td>...</td>\n",
       "      <td>17.33</td>\n",
       "      <td>184.60</td>\n",
       "      <td>2019.0</td>\n",
       "      <td>0.1622</td>\n",
       "      <td>0.6656</td>\n",
       "      <td>0.7119</td>\n",
       "      <td>0.2654</td>\n",
       "      <td>0.4601</td>\n",
       "      <td>0.11890</td>\n",
       "      <td>Malignant</td>\n",
       "    </tr>\n",
       "    <tr>\n",
       "      <th>1</th>\n",
       "      <td>20.57</td>\n",
       "      <td>17.77</td>\n",
       "      <td>132.90</td>\n",
       "      <td>1326.0</td>\n",
       "      <td>0.08474</td>\n",
       "      <td>0.07864</td>\n",
       "      <td>0.0869</td>\n",
       "      <td>0.07017</td>\n",
       "      <td>0.1812</td>\n",
       "      <td>0.05667</td>\n",
       "      <td>...</td>\n",
       "      <td>23.41</td>\n",
       "      <td>158.80</td>\n",
       "      <td>1956.0</td>\n",
       "      <td>0.1238</td>\n",
       "      <td>0.1866</td>\n",
       "      <td>0.2416</td>\n",
       "      <td>0.1860</td>\n",
       "      <td>0.2750</td>\n",
       "      <td>0.08902</td>\n",
       "      <td>Malignant</td>\n",
       "    </tr>\n",
       "    <tr>\n",
       "      <th>2</th>\n",
       "      <td>19.69</td>\n",
       "      <td>21.25</td>\n",
       "      <td>130.00</td>\n",
       "      <td>1203.0</td>\n",
       "      <td>0.10960</td>\n",
       "      <td>0.15990</td>\n",
       "      <td>0.1974</td>\n",
       "      <td>0.12790</td>\n",
       "      <td>0.2069</td>\n",
       "      <td>0.05999</td>\n",
       "      <td>...</td>\n",
       "      <td>25.53</td>\n",
       "      <td>152.50</td>\n",
       "      <td>1709.0</td>\n",
       "      <td>0.1444</td>\n",
       "      <td>0.4245</td>\n",
       "      <td>0.4504</td>\n",
       "      <td>0.2430</td>\n",
       "      <td>0.3613</td>\n",
       "      <td>0.08758</td>\n",
       "      <td>Malignant</td>\n",
       "    </tr>\n",
       "    <tr>\n",
       "      <th>3</th>\n",
       "      <td>11.42</td>\n",
       "      <td>20.38</td>\n",
       "      <td>77.58</td>\n",
       "      <td>386.1</td>\n",
       "      <td>0.14250</td>\n",
       "      <td>0.28390</td>\n",
       "      <td>0.2414</td>\n",
       "      <td>0.10520</td>\n",
       "      <td>0.2597</td>\n",
       "      <td>0.09744</td>\n",
       "      <td>...</td>\n",
       "      <td>26.50</td>\n",
       "      <td>98.87</td>\n",
       "      <td>567.7</td>\n",
       "      <td>0.2098</td>\n",
       "      <td>0.8663</td>\n",
       "      <td>0.6869</td>\n",
       "      <td>0.2575</td>\n",
       "      <td>0.6638</td>\n",
       "      <td>0.17300</td>\n",
       "      <td>Malignant</td>\n",
       "    </tr>\n",
       "    <tr>\n",
       "      <th>4</th>\n",
       "      <td>20.29</td>\n",
       "      <td>14.34</td>\n",
       "      <td>135.10</td>\n",
       "      <td>1297.0</td>\n",
       "      <td>0.10030</td>\n",
       "      <td>0.13280</td>\n",
       "      <td>0.1980</td>\n",
       "      <td>0.10430</td>\n",
       "      <td>0.1809</td>\n",
       "      <td>0.05883</td>\n",
       "      <td>...</td>\n",
       "      <td>16.67</td>\n",
       "      <td>152.20</td>\n",
       "      <td>1575.0</td>\n",
       "      <td>0.1374</td>\n",
       "      <td>0.2050</td>\n",
       "      <td>0.4000</td>\n",
       "      <td>0.1625</td>\n",
       "      <td>0.2364</td>\n",
       "      <td>0.07678</td>\n",
       "      <td>Malignant</td>\n",
       "    </tr>\n",
       "  </tbody>\n",
       "</table>\n",
       "<p>5 rows × 31 columns</p>\n",
       "</div>"
      ],
      "text/plain": [
       "   mean radius  mean texture  mean perimeter  mean area  mean smoothness  \\\n",
       "0        17.99         10.38          122.80     1001.0          0.11840   \n",
       "1        20.57         17.77          132.90     1326.0          0.08474   \n",
       "2        19.69         21.25          130.00     1203.0          0.10960   \n",
       "3        11.42         20.38           77.58      386.1          0.14250   \n",
       "4        20.29         14.34          135.10     1297.0          0.10030   \n",
       "\n",
       "   mean compactness  mean concavity  mean concave points  mean symmetry  \\\n",
       "0           0.27760          0.3001              0.14710         0.2419   \n",
       "1           0.07864          0.0869              0.07017         0.1812   \n",
       "2           0.15990          0.1974              0.12790         0.2069   \n",
       "3           0.28390          0.2414              0.10520         0.2597   \n",
       "4           0.13280          0.1980              0.10430         0.1809   \n",
       "\n",
       "   mean fractal dimension  ...  worst texture  worst perimeter  worst area  \\\n",
       "0                 0.07871  ...          17.33           184.60      2019.0   \n",
       "1                 0.05667  ...          23.41           158.80      1956.0   \n",
       "2                 0.05999  ...          25.53           152.50      1709.0   \n",
       "3                 0.09744  ...          26.50            98.87       567.7   \n",
       "4                 0.05883  ...          16.67           152.20      1575.0   \n",
       "\n",
       "   worst smoothness  worst compactness  worst concavity  worst concave points  \\\n",
       "0            0.1622             0.6656           0.7119                0.2654   \n",
       "1            0.1238             0.1866           0.2416                0.1860   \n",
       "2            0.1444             0.4245           0.4504                0.2430   \n",
       "3            0.2098             0.8663           0.6869                0.2575   \n",
       "4            0.1374             0.2050           0.4000                0.1625   \n",
       "\n",
       "   worst symmetry  worst fractal dimension     target  \n",
       "0          0.4601                  0.11890  Malignant  \n",
       "1          0.2750                  0.08902  Malignant  \n",
       "2          0.3613                  0.08758  Malignant  \n",
       "3          0.6638                  0.17300  Malignant  \n",
       "4          0.2364                  0.07678  Malignant  \n",
       "\n",
       "[5 rows x 31 columns]"
      ]
     },
     "execution_count": 2,
     "metadata": {},
     "output_type": "execute_result"
    }
   ],
   "source": [
    "data = pd.read_csv('https://raw.githubusercontent.com/DrKAI/dataset/main/breast_cancer.csv')\n",
    "\n",
    "data.head()"
   ]
  },
  {
   "cell_type": "code",
   "execution_count": 3,
   "metadata": {
    "id": "hF1C2qsSzUk7"
   },
   "outputs": [
    {
     "name": "stdout",
     "output_type": "stream",
     "text": [
      "<class 'pandas.core.frame.DataFrame'>\n",
      "RangeIndex: 569 entries, 0 to 568\n",
      "Data columns (total 31 columns):\n",
      " #   Column                   Non-Null Count  Dtype  \n",
      "---  ------                   --------------  -----  \n",
      " 0   mean radius              569 non-null    float64\n",
      " 1   mean texture             569 non-null    float64\n",
      " 2   mean perimeter           569 non-null    float64\n",
      " 3   mean area                569 non-null    float64\n",
      " 4   mean smoothness          569 non-null    float64\n",
      " 5   mean compactness         569 non-null    float64\n",
      " 6   mean concavity           569 non-null    float64\n",
      " 7   mean concave points      569 non-null    float64\n",
      " 8   mean symmetry            569 non-null    float64\n",
      " 9   mean fractal dimension   569 non-null    float64\n",
      " 10  radius error             569 non-null    float64\n",
      " 11  texture error            569 non-null    float64\n",
      " 12  perimeter error          569 non-null    float64\n",
      " 13  area error               569 non-null    float64\n",
      " 14  smoothness error         569 non-null    float64\n",
      " 15  compactness error        569 non-null    float64\n",
      " 16  concavity error          569 non-null    float64\n",
      " 17  concave points error     569 non-null    float64\n",
      " 18  symmetry error           569 non-null    float64\n",
      " 19  fractal dimension error  569 non-null    float64\n",
      " 20  worst radius             569 non-null    float64\n",
      " 21  worst texture            569 non-null    float64\n",
      " 22  worst perimeter          569 non-null    float64\n",
      " 23  worst area               569 non-null    float64\n",
      " 24  worst smoothness         569 non-null    float64\n",
      " 25  worst compactness        569 non-null    float64\n",
      " 26  worst concavity          569 non-null    float64\n",
      " 27  worst concave points     569 non-null    float64\n",
      " 28  worst symmetry           569 non-null    float64\n",
      " 29  worst fractal dimension  569 non-null    float64\n",
      " 30  target                   569 non-null    object \n",
      "dtypes: float64(30), object(1)\n",
      "memory usage: 137.9+ KB\n"
     ]
    }
   ],
   "source": [
    "data.info()"
   ]
  },
  {
   "cell_type": "markdown",
   "metadata": {
    "id": "wvsEjq9CzJy3"
   },
   "source": [
    "## 데이터 전처리\n",
    "\n",
    "<details><summary>Hint</summary>\n",
    "\n",
    "* x, y 구분 필요\n",
    "* y에 대한 전처리 필요\n",
    "* 데이터셋 구분 필요\n",
    "\n",
    "</details>"
   ]
  },
  {
   "cell_type": "code",
   "execution_count": 4,
   "metadata": {
    "id": "sjyEQ8S0MyVp"
   },
   "outputs": [],
   "source": [
    "# 데이터 분리\n",
    "target = 'target'\n",
    "x = data.drop(target, axis=1)\n",
    "y = data[target]"
   ]
  },
  {
   "cell_type": "markdown",
   "metadata": {},
   "source": [
    "## 기본 모델 분석 (로컬 연결 레이어 사용 안 함)"
   ]
  },
  {
   "cell_type": "code",
   "execution_count": 5,
   "metadata": {},
   "outputs": [],
   "source": [
    "# 필요 라이브러리 불러오기\n",
    "from tensorflow.keras.backend import clear_session\n",
    "from tensorflow.keras.models import Model\n",
    "\n",
    "from tensorflow.keras.layers import Input, Dense, Concatenate\n",
    "from tensorflow.keras.activations import relu, softmax\n",
    "\n",
    "from tensorflow.keras.losses import categorical_crossentropy, binary_crossentropy\n",
    "from tensorflow.keras.optimizers import Adam\n",
    "\n",
    "from tensorflow.keras.callbacks import EarlyStopping\n",
    "from tensorflow.keras.utils import plot_model"
   ]
  },
  {
   "cell_type": "code",
   "execution_count": 6,
   "metadata": {},
   "outputs": [],
   "source": [
    "from keras.metrics import Precision, Recall"
   ]
  },
  {
   "cell_type": "code",
   "execution_count": 7,
   "metadata": {},
   "outputs": [],
   "source": [
    "# 훈련용/시험용 데이터 분리\n",
    "from sklearn.model_selection import train_test_split\n",
    "x_train, x_test, y_train, y_test = train_test_split(x, y, test_size=0.3, random_state=2022)"
   ]
  },
  {
   "cell_type": "code",
   "execution_count": 8,
   "metadata": {},
   "outputs": [
    {
     "data": {
      "text/plain": [
       "array(['Malignant', 'Benign'], dtype=object)"
      ]
     },
     "execution_count": 8,
     "metadata": {},
     "output_type": "execute_result"
    }
   ],
   "source": [
    "y_train.unique()"
   ]
  },
  {
   "cell_type": "code",
   "execution_count": 9,
   "metadata": {},
   "outputs": [],
   "source": [
    "# y 값 숫자화\n",
    "y_train = y_train.map({'Benign':0,'Malignant':1})\n",
    "y_test = y_test.map({'Benign':0,'Malignant':1})"
   ]
  },
  {
   "cell_type": "code",
   "execution_count": 10,
   "metadata": {},
   "outputs": [],
   "source": [
    "# 세션 클리어\n",
    "clear_session()\n",
    "\n",
    "# 레이어 생성 (히든 레이어 노드 12개)\n",
    "il = Input(shape=(30,),name='Input')\n",
    "hl = Dense(12,activation='relu')(il)\n",
    "hl = Dense(12,activation='relu')(hl)\n",
    "ol = Dense(1,activation='sigmoid')(hl)\n",
    "\n",
    "# 모델 생성\n",
    "model = Model(il,ol)\n",
    "\n",
    "# 모델 컴파일\n",
    "model.compile(loss=binary_crossentropy, optimizer=Adam(), metrics=['accuracy',Precision(), Recall()])"
   ]
  },
  {
   "cell_type": "code",
   "execution_count": 11,
   "metadata": {},
   "outputs": [
    {
     "name": "stdout",
     "output_type": "stream",
     "text": [
      "Model: \"model\"\n",
      "_________________________________________________________________\n",
      " Layer (type)                Output Shape              Param #   \n",
      "=================================================================\n",
      " Input (InputLayer)          [(None, 30)]              0         \n",
      "                                                                 \n",
      " dense (Dense)               (None, 12)                372       \n",
      "                                                                 \n",
      " dense_1 (Dense)             (None, 12)                156       \n",
      "                                                                 \n",
      " dense_2 (Dense)             (None, 1)                 13        \n",
      "                                                                 \n",
      "=================================================================\n",
      "Total params: 541\n",
      "Trainable params: 541\n",
      "Non-trainable params: 0\n",
      "_________________________________________________________________\n"
     ]
    },
    {
     "data": {
      "image/png": "[encoded data removed]",
      "text/plain": [
       "<IPython.core.display.Image object>"
      ]
     },
     "execution_count": 11,
     "metadata": {},
     "output_type": "execute_result"
    }
   ],
   "source": [
    "# 모델 요약\n",
    "model.summary()\n",
    "# 요약 시각화\n",
    "from tensorflow.keras.utils import plot_model\n",
    "plot_model(model, show_shapes=True, show_layer_names=True)"
   ]
  },
  {
   "cell_type": "code",
   "execution_count": 12,
   "metadata": {},
   "outputs": [],
   "source": [
    "# ES 설정\n",
    "es = EarlyStopping(monitor='val_loss', min_delta=0,patience=10,verbose=1,restore_best_weights=True)"
   ]
  },
  {
   "cell_type": "code",
   "execution_count": 13,
   "metadata": {
    "scrolled": true
   },
   "outputs": [
    {
     "name": "stdout",
     "output_type": "stream",
     "text": [
      "Epoch 1/1000\n",
      "11/11 [==============================] - 1s 45ms/step - loss: 82.2089 - accuracy: 0.3787 - precision: 0.3787 - recall: 1.0000 - val_loss: 73.2800 - val_accuracy: 0.2667 - val_precision: 0.2667 - val_recall: 1.0000\n",
      "Epoch 2/1000\n",
      "11/11 [==============================] - 0s 5ms/step - loss: 51.1239 - accuracy: 0.3787 - precision: 0.3787 - recall: 1.0000 - val_loss: 39.7840 - val_accuracy: 0.2667 - val_precision: 0.2667 - val_recall: 1.0000\n",
      "Epoch 3/1000\n",
      "11/11 [==============================] - 0s 5ms/step - loss: 23.3678 - accuracy: 0.3787 - precision: 0.3787 - recall: 1.0000 - val_loss: 8.9381 - val_accuracy: 0.2667 - val_precision: 0.2667 - val_recall: 1.0000\n",
      "Epoch 4/1000\n",
      "11/11 [==============================] - 0s 5ms/step - loss: 3.3029 - accuracy: 0.6095 - precision: 0.4880 - recall: 0.6328 - val_loss: 2.2397 - val_accuracy: 0.8667 - val_precision: 1.0000 - val_recall: 0.5000\n",
      "Epoch 5/1000\n",
      "11/11 [==============================] - 0s 5ms/step - loss: 2.4004 - accuracy: 0.8047 - precision: 1.0000 - recall: 0.4844 - val_loss: 0.0997 - val_accuracy: 0.9667 - val_precision: 1.0000 - val_recall: 0.8750\n",
      "Epoch 6/1000\n",
      "11/11 [==============================] - 0s 5ms/step - loss: 0.9038 - accuracy: 0.7840 - precision: 0.6471 - recall: 0.9453 - val_loss: 0.1700 - val_accuracy: 0.9333 - val_precision: 0.8000 - val_recall: 1.0000\n",
      "Epoch 7/1000\n",
      "11/11 [==============================] - 0s 5ms/step - loss: 0.6095 - accuracy: 0.8905 - precision: 0.8760 - recall: 0.8281 - val_loss: 0.2606 - val_accuracy: 0.9333 - val_precision: 1.0000 - val_recall: 0.7500\n",
      "Epoch 8/1000\n",
      "11/11 [==============================] - 0s 6ms/step - loss: 0.4378 - accuracy: 0.8994 - precision: 0.9196 - recall: 0.8047 - val_loss: 0.1057 - val_accuracy: 0.9667 - val_precision: 0.8889 - val_recall: 1.0000\n",
      "Epoch 9/1000\n",
      "11/11 [==============================] - 0s 5ms/step - loss: 0.3927 - accuracy: 0.8639 - precision: 0.7733 - recall: 0.9062 - val_loss: 0.0603 - val_accuracy: 0.9833 - val_precision: 1.0000 - val_recall: 0.9375\n",
      "Epoch 10/1000\n",
      "11/11 [==============================] - 0s 5ms/step - loss: 0.3209 - accuracy: 0.9053 - precision: 0.9211 - recall: 0.8203 - val_loss: 0.0585 - val_accuracy: 0.9833 - val_precision: 1.0000 - val_recall: 0.9375\n",
      "Epoch 11/1000\n",
      "11/11 [==============================] - 0s 5ms/step - loss: 0.3099 - accuracy: 0.8787 - precision: 0.8042 - recall: 0.8984 - val_loss: 0.0617 - val_accuracy: 1.0000 - val_precision: 1.0000 - val_recall: 1.0000\n",
      "Epoch 12/1000\n",
      "11/11 [==============================] - 0s 5ms/step - loss: 0.2874 - accuracy: 0.8964 - precision: 0.8843 - recall: 0.8359 - val_loss: 0.0531 - val_accuracy: 0.9833 - val_precision: 1.0000 - val_recall: 0.9375\n",
      "Epoch 13/1000\n",
      "11/11 [==============================] - 0s 5ms/step - loss: 0.2860 - accuracy: 0.9024 - precision: 0.8926 - recall: 0.8438 - val_loss: 0.0585 - val_accuracy: 1.0000 - val_precision: 1.0000 - val_recall: 1.0000\n",
      "Epoch 14/1000\n",
      "11/11 [==============================] - 0s 5ms/step - loss: 0.2855 - accuracy: 0.8728 - precision: 0.8014 - recall: 0.8828 - val_loss: 0.0499 - val_accuracy: 1.0000 - val_precision: 1.0000 - val_recall: 1.0000\n",
      "Epoch 15/1000\n",
      "11/11 [==============================] - 0s 4ms/step - loss: 0.2826 - accuracy: 0.9083 - precision: 0.9076 - recall: 0.8438 - val_loss: 0.0576 - val_accuracy: 1.0000 - val_precision: 1.0000 - val_recall: 1.0000\n",
      "Epoch 16/1000\n",
      "11/11 [==============================] - 0s 5ms/step - loss: 0.2752 - accuracy: 0.8935 - precision: 0.8770 - recall: 0.8359 - val_loss: 0.0645 - val_accuracy: 1.0000 - val_precision: 1.0000 - val_recall: 1.0000\n",
      "Epoch 17/1000\n",
      "11/11 [==============================] - 0s 5ms/step - loss: 0.2699 - accuracy: 0.9024 - precision: 0.8800 - recall: 0.8594 - val_loss: 0.0517 - val_accuracy: 1.0000 - val_precision: 1.0000 - val_recall: 1.0000\n",
      "Epoch 18/1000\n",
      "11/11 [==============================] - 0s 5ms/step - loss: 0.2577 - accuracy: 0.9053 - precision: 0.8750 - recall: 0.8750 - val_loss: 0.0510 - val_accuracy: 1.0000 - val_precision: 1.0000 - val_recall: 1.0000\n",
      "Epoch 19/1000\n",
      "11/11 [==============================] - 0s 5ms/step - loss: 0.2493 - accuracy: 0.9083 - precision: 0.9008 - recall: 0.8516 - val_loss: 0.0499 - val_accuracy: 1.0000 - val_precision: 1.0000 - val_recall: 1.0000\n",
      "Epoch 20/1000\n",
      "11/11 [==============================] - 0s 7ms/step - loss: 0.2743 - accuracy: 0.9053 - precision: 0.8692 - recall: 0.8828 - val_loss: 0.0438 - val_accuracy: 0.9833 - val_precision: 1.0000 - val_recall: 0.9375\n",
      "Epoch 21/1000\n",
      "11/11 [==============================] - 0s 5ms/step - loss: 0.2678 - accuracy: 0.8846 - precision: 0.8346 - recall: 0.8672 - val_loss: 0.0430 - val_accuracy: 0.9833 - val_precision: 1.0000 - val_recall: 0.9375\n",
      "Epoch 22/1000\n",
      "11/11 [==============================] - 0s 4ms/step - loss: 0.2504 - accuracy: 0.9053 - precision: 0.9068 - recall: 0.8359 - val_loss: 0.0737 - val_accuracy: 0.9833 - val_precision: 0.9412 - val_recall: 1.0000\n",
      "Epoch 23/1000\n",
      "11/11 [==============================] - 0s 4ms/step - loss: 0.2529 - accuracy: 0.8905 - precision: 0.8473 - recall: 0.8672 - val_loss: 0.0418 - val_accuracy: 0.9833 - val_precision: 1.0000 - val_recall: 0.9375\n",
      "Epoch 24/1000\n",
      "11/11 [==============================] - 0s 5ms/step - loss: 0.2393 - accuracy: 0.9083 - precision: 0.8943 - recall: 0.8594 - val_loss: 0.0447 - val_accuracy: 1.0000 - val_precision: 1.0000 - val_recall: 1.0000\n",
      "Epoch 25/1000\n",
      "11/11 [==============================] - 0s 5ms/step - loss: 0.2319 - accuracy: 0.9112 - precision: 0.8889 - recall: 0.8750 - val_loss: 0.0510 - val_accuracy: 1.0000 - val_precision: 1.0000 - val_recall: 1.0000\n",
      "Epoch 26/1000\n",
      "11/11 [==============================] - 0s 5ms/step - loss: 0.2320 - accuracy: 0.9083 - precision: 0.9076 - recall: 0.8438 - val_loss: 0.0506 - val_accuracy: 1.0000 - val_precision: 1.0000 - val_recall: 1.0000\n",
      "Epoch 27/1000\n",
      "11/11 [==============================] - 0s 5ms/step - loss: 0.2336 - accuracy: 0.9024 - precision: 0.8626 - recall: 0.8828 - val_loss: 0.0416 - val_accuracy: 0.9833 - val_precision: 1.0000 - val_recall: 0.9375\n",
      "Epoch 28/1000\n",
      "11/11 [==============================] - 0s 5ms/step - loss: 0.2547 - accuracy: 0.8905 - precision: 0.8824 - recall: 0.8203 - val_loss: 0.0776 - val_accuracy: 0.9667 - val_precision: 0.8889 - val_recall: 1.0000\n",
      "Epoch 29/1000\n",
      "11/11 [==============================] - 0s 4ms/step - loss: 0.2382 - accuracy: 0.8905 - precision: 0.8640 - recall: 0.8438 - val_loss: 0.0444 - val_accuracy: 1.0000 - val_precision: 1.0000 - val_recall: 1.0000\n",
      "Epoch 30/1000\n",
      "11/11 [==============================] - 0s 4ms/step - loss: 0.2317 - accuracy: 0.9142 - precision: 0.8898 - recall: 0.8828 - val_loss: 0.0485 - val_accuracy: 1.0000 - val_precision: 1.0000 - val_recall: 1.0000\n",
      "Epoch 31/1000\n",
      "11/11 [==============================] - 0s 5ms/step - loss: 0.2247 - accuracy: 0.9142 - precision: 0.9091 - recall: 0.8594 - val_loss: 0.0413 - val_accuracy: 1.0000 - val_precision: 1.0000 - val_recall: 1.0000\n",
      "Epoch 32/1000\n",
      "11/11 [==============================] - 0s 5ms/step - loss: 0.2278 - accuracy: 0.9083 - precision: 0.9008 - recall: 0.8516 - val_loss: 0.0458 - val_accuracy: 1.0000 - val_precision: 1.0000 - val_recall: 1.0000\n",
      "Epoch 33/1000\n",
      "11/11 [==============================] - 0s 5ms/step - loss: 0.2284 - accuracy: 0.9112 - precision: 0.9016 - recall: 0.8594 - val_loss: 0.0423 - val_accuracy: 1.0000 - val_precision: 1.0000 - val_recall: 1.0000\n",
      "Epoch 34/1000\n",
      "11/11 [==============================] - 0s 5ms/step - loss: 0.2212 - accuracy: 0.9083 - precision: 0.8760 - recall: 0.8828 - val_loss: 0.0485 - val_accuracy: 1.0000 - val_precision: 1.0000 - val_recall: 1.0000\n",
      "Epoch 35/1000\n",
      "11/11 [==============================] - 0s 5ms/step - loss: 0.2216 - accuracy: 0.9053 - precision: 0.8871 - recall: 0.8594 - val_loss: 0.0390 - val_accuracy: 1.0000 - val_precision: 1.0000 - val_recall: 1.0000\n",
      "Epoch 36/1000\n",
      "11/11 [==============================] - 0s 5ms/step - loss: 0.2275 - accuracy: 0.9083 - precision: 0.8943 - recall: 0.8594 - val_loss: 0.0429 - val_accuracy: 1.0000 - val_precision: 1.0000 - val_recall: 1.0000\n",
      "Epoch 37/1000\n"
     ]
    },
    {
     "name": "stdout",
     "output_type": "stream",
     "text": [
      "11/11 [==============================] - 0s 5ms/step - loss: 0.2181 - accuracy: 0.9112 - precision: 0.8889 - recall: 0.8750 - val_loss: 0.0381 - val_accuracy: 0.9833 - val_precision: 1.0000 - val_recall: 0.9375\n",
      "Epoch 38/1000\n",
      "11/11 [==============================] - 0s 5ms/step - loss: 0.2802 - accuracy: 0.8846 - precision: 0.8618 - recall: 0.8281 - val_loss: 0.0632 - val_accuracy: 1.0000 - val_precision: 1.0000 - val_recall: 1.0000\n",
      "Epoch 39/1000\n",
      "11/11 [==============================] - 0s 4ms/step - loss: 0.2510 - accuracy: 0.9053 - precision: 0.9211 - recall: 0.8203 - val_loss: 0.0824 - val_accuracy: 0.9667 - val_precision: 0.8889 - val_recall: 1.0000\n",
      "Epoch 40/1000\n",
      "11/11 [==============================] - 0s 5ms/step - loss: 0.2391 - accuracy: 0.8994 - precision: 0.8615 - recall: 0.8750 - val_loss: 0.0492 - val_accuracy: 1.0000 - val_precision: 1.0000 - val_recall: 1.0000\n",
      "Epoch 41/1000\n",
      "11/11 [==============================] - 0s 4ms/step - loss: 0.2125 - accuracy: 0.9142 - precision: 0.8898 - recall: 0.8828 - val_loss: 0.0433 - val_accuracy: 1.0000 - val_precision: 1.0000 - val_recall: 1.0000\n",
      "Epoch 42/1000\n",
      "11/11 [==============================] - 0s 5ms/step - loss: 0.2221 - accuracy: 0.9172 - precision: 0.8968 - recall: 0.8828 - val_loss: 0.0396 - val_accuracy: 0.9833 - val_precision: 1.0000 - val_recall: 0.9375\n",
      "Epoch 43/1000\n",
      "11/11 [==============================] - 0s 6ms/step - loss: 0.2551 - accuracy: 0.8876 - precision: 0.8516 - recall: 0.8516 - val_loss: 0.0404 - val_accuracy: 1.0000 - val_precision: 1.0000 - val_recall: 1.0000\n",
      "Epoch 44/1000\n",
      "11/11 [==============================] - 0s 5ms/step - loss: 0.2488 - accuracy: 0.9024 - precision: 0.8992 - recall: 0.8359 - val_loss: 0.0562 - val_accuracy: 1.0000 - val_precision: 1.0000 - val_recall: 1.0000\n",
      "Epoch 45/1000\n",
      "11/11 [==============================] - 0s 5ms/step - loss: 0.2228 - accuracy: 0.9112 - precision: 0.9375 - recall: 0.8203 - val_loss: 0.0946 - val_accuracy: 0.9667 - val_precision: 0.8889 - val_recall: 1.0000\n",
      "Epoch 46/1000\n",
      "11/11 [==============================] - 0s 5ms/step - loss: 0.2511 - accuracy: 0.9053 - precision: 0.8692 - recall: 0.8828 - val_loss: 0.0403 - val_accuracy: 0.9833 - val_precision: 1.0000 - val_recall: 0.9375\n",
      "Epoch 47/1000\n",
      "11/11 [==============================] - 0s 5ms/step - loss: 0.2339 - accuracy: 0.9024 - precision: 0.8740 - recall: 0.8672 - val_loss: 0.0365 - val_accuracy: 0.9833 - val_precision: 1.0000 - val_recall: 0.9375\n",
      "Epoch 48/1000\n",
      "11/11 [==============================] - 0s 5ms/step - loss: 0.2315 - accuracy: 0.9024 - precision: 0.9130 - recall: 0.8203 - val_loss: 0.0846 - val_accuracy: 0.9667 - val_precision: 0.8889 - val_recall: 1.0000\n",
      "Epoch 49/1000\n",
      "11/11 [==============================] - 0s 5ms/step - loss: 0.2269 - accuracy: 0.9112 - precision: 0.9083 - recall: 0.8516 - val_loss: 0.0623 - val_accuracy: 1.0000 - val_precision: 1.0000 - val_recall: 1.0000\n",
      "Epoch 50/1000\n",
      "11/11 [==============================] - 0s 5ms/step - loss: 0.2108 - accuracy: 0.9231 - precision: 0.9048 - recall: 0.8906 - val_loss: 0.0360 - val_accuracy: 0.9833 - val_precision: 1.0000 - val_recall: 0.9375\n",
      "Epoch 51/1000\n",
      "11/11 [==============================] - 0s 5ms/step - loss: 0.2079 - accuracy: 0.9112 - precision: 0.8889 - recall: 0.8750 - val_loss: 0.0389 - val_accuracy: 1.0000 - val_precision: 1.0000 - val_recall: 1.0000\n",
      "Epoch 52/1000\n",
      "11/11 [==============================] - 0s 5ms/step - loss: 0.2177 - accuracy: 0.9112 - precision: 0.9153 - recall: 0.8438 - val_loss: 0.0875 - val_accuracy: 0.9667 - val_precision: 0.8889 - val_recall: 1.0000\n",
      "Epoch 53/1000\n",
      "11/11 [==============================] - 0s 5ms/step - loss: 0.2300 - accuracy: 0.9112 - precision: 0.9016 - recall: 0.8594 - val_loss: 0.0769 - val_accuracy: 0.9667 - val_precision: 0.8889 - val_recall: 1.0000\n",
      "Epoch 54/1000\n",
      "11/11 [==============================] - 0s 5ms/step - loss: 0.2092 - accuracy: 0.9201 - precision: 0.9106 - recall: 0.8750 - val_loss: 0.0475 - val_accuracy: 1.0000 - val_precision: 1.0000 - val_recall: 1.0000\n",
      "Epoch 55/1000\n",
      "11/11 [==============================] - 0s 5ms/step - loss: 0.2143 - accuracy: 0.9142 - precision: 0.8898 - recall: 0.8828 - val_loss: 0.0368 - val_accuracy: 0.9833 - val_precision: 1.0000 - val_recall: 0.9375\n",
      "Epoch 56/1000\n",
      "11/11 [==============================] - 0s 5ms/step - loss: 0.2166 - accuracy: 0.9083 - precision: 0.8880 - recall: 0.8672 - val_loss: 0.0425 - val_accuracy: 1.0000 - val_precision: 1.0000 - val_recall: 1.0000\n",
      "Epoch 57/1000\n",
      "11/11 [==============================] - 0s 5ms/step - loss: 0.2098 - accuracy: 0.9142 - precision: 0.9231 - recall: 0.8438 - val_loss: 0.1296 - val_accuracy: 0.9667 - val_precision: 0.8889 - val_recall: 1.0000\n",
      "Epoch 58/1000\n",
      "11/11 [==============================] - 0s 5ms/step - loss: 0.2901 - accuracy: 0.8905 - precision: 0.8699 - recall: 0.8359 - val_loss: 0.0444 - val_accuracy: 1.0000 - val_precision: 1.0000 - val_recall: 1.0000\n",
      "Epoch 59/1000\n",
      "11/11 [==============================] - 0s 5ms/step - loss: 0.2788 - accuracy: 0.8905 - precision: 0.8640 - recall: 0.8438 - val_loss: 0.0558 - val_accuracy: 1.0000 - val_precision: 1.0000 - val_recall: 1.0000\n",
      "Epoch 60/1000\n",
      " 1/11 [=>............................] - ETA: 0s - loss: 0.2334 - accuracy: 0.8750 - precision: 0.7778 - recall: 0.7778Restoring model weights from the end of the best epoch: 50.\n",
      "11/11 [==============================] - 0s 5ms/step - loss: 0.2692 - accuracy: 0.8846 - precision: 0.8346 - recall: 0.8672 - val_loss: 0.0497 - val_accuracy: 0.9833 - val_precision: 1.0000 - val_recall: 0.9375\n",
      "Epoch 60: early stopping\n"
     ]
    },
    {
     "data": {
      "text/plain": [
       "<keras.callbacks.History at 0x11705eef490>"
      ]
     },
     "execution_count": 13,
     "metadata": {},
     "output_type": "execute_result"
    }
   ],
   "source": [
    "# 모델 학습\n",
    "model.fit(x_train, y_train, verbose=1, validation_split=0.15, epochs=1000, callbacks=[es])"
   ]
  },
  {
   "cell_type": "code",
   "execution_count": 14,
   "metadata": {},
   "outputs": [],
   "source": [
    "# 모델 예측\n",
    "y_pred = model.predict(x_test)"
   ]
  },
  {
   "cell_type": "code",
   "execution_count": 19,
   "metadata": {},
   "outputs": [
    {
     "data": {
      "text/plain": [
       "array([[0.],\n",
       "       [0.],\n",
       "       [0.],\n",
       "       [0.],\n",
       "       [0.],\n",
       "       [0.],\n",
       "       [0.],\n",
       "       [1.],\n",
       "       [0.],\n",
       "       [1.],\n",
       "       [1.],\n",
       "       [1.],\n",
       "       [1.],\n",
       "       [1.],\n",
       "       [0.],\n",
       "       [0.],\n",
       "       [0.],\n",
       "       [0.],\n",
       "       [0.],\n",
       "       [0.],\n",
       "       [0.],\n",
       "       [0.],\n",
       "       [0.],\n",
       "       [0.],\n",
       "       [0.],\n",
       "       [0.],\n",
       "       [0.],\n",
       "       [0.],\n",
       "       [0.],\n",
       "       [0.],\n",
       "       [0.],\n",
       "       [0.],\n",
       "       [1.],\n",
       "       [0.],\n",
       "       [0.],\n",
       "       [1.],\n",
       "       [1.],\n",
       "       [0.],\n",
       "       [1.],\n",
       "       [0.],\n",
       "       [0.],\n",
       "       [1.],\n",
       "       [1.],\n",
       "       [0.],\n",
       "       [1.],\n",
       "       [0.],\n",
       "       [1.],\n",
       "       [0.],\n",
       "       [1.],\n",
       "       [1.],\n",
       "       [0.],\n",
       "       [1.],\n",
       "       [0.],\n",
       "       [0.],\n",
       "       [1.],\n",
       "       [1.],\n",
       "       [0.],\n",
       "       [0.],\n",
       "       [0.],\n",
       "       [0.],\n",
       "       [1.],\n",
       "       [0.],\n",
       "       [0.],\n",
       "       [1.],\n",
       "       [0.],\n",
       "       [0.],\n",
       "       [0.],\n",
       "       [0.],\n",
       "       [0.],\n",
       "       [0.],\n",
       "       [0.],\n",
       "       [1.],\n",
       "       [0.],\n",
       "       [0.],\n",
       "       [1.],\n",
       "       [0.],\n",
       "       [1.],\n",
       "       [0.],\n",
       "       [1.],\n",
       "       [0.],\n",
       "       [0.],\n",
       "       [0.],\n",
       "       [1.],\n",
       "       [0.],\n",
       "       [0.],\n",
       "       [1.],\n",
       "       [1.],\n",
       "       [1.],\n",
       "       [0.],\n",
       "       [1.],\n",
       "       [0.],\n",
       "       [1.],\n",
       "       [0.],\n",
       "       [0.],\n",
       "       [1.],\n",
       "       [0.],\n",
       "       [0.],\n",
       "       [0.],\n",
       "       [0.],\n",
       "       [0.],\n",
       "       [1.],\n",
       "       [0.],\n",
       "       [1.],\n",
       "       [1.],\n",
       "       [0.],\n",
       "       [0.],\n",
       "       [0.],\n",
       "       [1.],\n",
       "       [1.],\n",
       "       [0.],\n",
       "       [0.],\n",
       "       [0.],\n",
       "       [1.],\n",
       "       [0.],\n",
       "       [0.],\n",
       "       [0.],\n",
       "       [0.],\n",
       "       [0.],\n",
       "       [1.],\n",
       "       [0.],\n",
       "       [1.],\n",
       "       [0.],\n",
       "       [0.],\n",
       "       [0.],\n",
       "       [0.],\n",
       "       [0.],\n",
       "       [0.],\n",
       "       [0.],\n",
       "       [1.],\n",
       "       [0.],\n",
       "       [0.],\n",
       "       [1.],\n",
       "       [1.],\n",
       "       [0.],\n",
       "       [0.],\n",
       "       [0.],\n",
       "       [0.],\n",
       "       [0.],\n",
       "       [1.],\n",
       "       [0.],\n",
       "       [0.],\n",
       "       [0.],\n",
       "       [1.],\n",
       "       [0.],\n",
       "       [1.],\n",
       "       [0.],\n",
       "       [0.],\n",
       "       [1.],\n",
       "       [0.],\n",
       "       [0.],\n",
       "       [0.],\n",
       "       [0.],\n",
       "       [1.],\n",
       "       [1.],\n",
       "       [0.],\n",
       "       [1.],\n",
       "       [1.],\n",
       "       [1.],\n",
       "       [1.],\n",
       "       [0.],\n",
       "       [0.],\n",
       "       [0.],\n",
       "       [0.],\n",
       "       [0.],\n",
       "       [1.],\n",
       "       [0.],\n",
       "       [1.],\n",
       "       [0.],\n",
       "       [1.],\n",
       "       [1.],\n",
       "       [0.]], dtype=float32)"
      ]
     },
     "execution_count": 19,
     "metadata": {},
     "output_type": "execute_result"
    }
   ],
   "source": [
    "y_pred = np.around(y_pred)\n",
    "y_pred"
   ]
  },
  {
   "cell_type": "code",
   "execution_count": 18,
   "metadata": {},
   "outputs": [
    {
     "data": {
      "text/plain": [
       "453    0\n",
       "153    0\n",
       "385    1\n",
       "67     0\n",
       "528    0\n",
       "      ..\n",
       "252    1\n",
       "358    0\n",
       "491    0\n",
       "521    1\n",
       "398    0\n",
       "Name: target, Length: 171, dtype: int64"
      ]
     },
     "execution_count": 18,
     "metadata": {},
     "output_type": "execute_result"
    }
   ],
   "source": [
    "y_test"
   ]
  },
  {
   "cell_type": "code",
   "execution_count": 20,
   "metadata": {},
   "outputs": [
    {
     "name": "stdout",
     "output_type": "stream",
     "text": [
      "              precision    recall  f1-score   support\n",
      "\n",
      "           0       0.89      0.99      0.94       103\n",
      "           1       0.98      0.82      0.90        68\n",
      "\n",
      "    accuracy                           0.92       171\n",
      "   macro avg       0.94      0.91      0.92       171\n",
      "weighted avg       0.93      0.92      0.92       171\n",
      "\n"
     ]
    }
   ],
   "source": [
    "# 테스트 결과 평가\n",
    "from sklearn.metrics import classification_report\n",
    "print(classification_report(y_test,y_pred))"
   ]
  },
  {
   "cell_type": "markdown",
   "metadata": {
    "id": "UMxtGX8n7ZO7"
   },
   "source": [
    "## Locally connected layer를 구성하기 위한 feature 설정\n",
    "\n",
    "* mean, error, worst를 각 feature별로 묶어 새로운 변수를 만든다.\n",
    "        ex) mean radius, radius error, worst radius\n",
    "\n",
    "<details><summary> Hint </summary>\n",
    "\n",
    "* x의 train 구조와 test 구조는 동일해야 한다.\n",
    "\n",
    "</details>"
   ]
  },
  {
   "cell_type": "code",
   "execution_count": null,
   "metadata": {},
   "outputs": [],
   "source": [
    "x_train.info()"
   ]
  },
  {
   "cell_type": "code",
   "execution_count": 23,
   "metadata": {},
   "outputs": [],
   "source": [
    "# mean, error, worst 별로 구분\n",
    "xt_mean = x_train.loc[:,['mean radius','mean texture','mean perimeter','mean area','mean smoothness','mean compactness',\n",
    "                        'mean concavity','mean concave points','mean symmetry','mean fractal dimension']]\n",
    "xt_error = x_train.loc[:,['radius error','texture error','perimeter error','area error','smoothness error',\n",
    "                         'compactness error','concavity error','concave points error','symmetry error','fractal dimension error']]\n",
    "xt_worst = x_train.loc[:,['worst radius','worst texture','worst perimeter','worst area','worst smoothness','worst compactness',\n",
    "                         'worst concavity','worst concave points','worst symmetry','worst fractal dimension']]"
   ]
  },
  {
   "cell_type": "markdown",
   "metadata": {
    "id": "pN2YChw-9ACb"
   },
   "source": [
    "## 모델링\n",
    "\n",
    "1. 윗 단계에서 생성한 변수의 **형태**를 이용하여, 각 변수별 input layer를 만든다.\n",
    "2. node가 12개인 hidden layer를 **각각** 생성하여, 각 input layer와 연결한다.\n",
    "3. 생성된 hidden layer를 add 한다.\n",
    "---\n",
    "4. 전체 변수를 이용한 input layer를 만든다.\n",
    "5. 3번 단계로 add 된 레이어와 4번 단계로 만들어진 input layer를 concat한다.\n",
    "---\n",
    "6. node가 128개인 hidden layer를 5번 단계로 concat된 레이어와 연결한다.\n",
    "7. output layer를 생성하고 compile 한다."
   ]
  },
  {
   "cell_type": "code",
   "execution_count": 24,
   "metadata": {},
   "outputs": [
    {
     "name": "stdout",
     "output_type": "stream",
     "text": [
      "(398, 10)\n",
      "(398, 10)\n",
      "(398, 10)\n"
     ]
    }
   ],
   "source": [
    "# 로컬 레이어 확인\n",
    "print(xt_mean.shape)\n",
    "print(xt_error.shape)\n",
    "print(xt_worst.shape)"
   ]
  },
  {
   "cell_type": "code",
   "execution_count": 25,
   "metadata": {
    "id": "hmNQKHvHM0D9"
   },
   "outputs": [],
   "source": [
    "# 세션 초기화\n",
    "clear_session()\n",
    "\n",
    "# 레이어 생성\n",
    "il_1 = Input(shape=(10,),name='means')\n",
    "hl_1 = Dense(12,activation='relu')(il_1)\n",
    "\n",
    "il_2 = Input(shape=(10,),name='errors')\n",
    "hl_2 = Dense(12, activation='relu')(il_2)\n",
    "\n",
    "il_3 = Input(shape=(10,),name='radiuses')\n",
    "hl_3 = Dense(12, activation='relu')(il_3)\n",
    "\n",
    "cl = Concatenate()([hl_1,hl_2,hl_3])\n",
    "ol = Dense(1,activation='sigmoid')(cl)\n",
    "\n",
    "# 모델 생성\n",
    "model = Model([il_1,il_2,il_3],ol)\n",
    "\n",
    "# 모델 컴파일\n",
    "model.compile(loss=binary_crossentropy,optimizer=Adam(),metrics=['accuracy',Precision(), Recall()])"
   ]
  },
  {
   "cell_type": "code",
   "execution_count": 26,
   "metadata": {},
   "outputs": [
    {
     "name": "stdout",
     "output_type": "stream",
     "text": [
      "Model: \"model\"\n",
      "__________________________________________________________________________________________________\n",
      " Layer (type)                   Output Shape         Param #     Connected to                     \n",
      "==================================================================================================\n",
      " means (InputLayer)             [(None, 10)]         0           []                               \n",
      "                                                                                                  \n",
      " errors (InputLayer)            [(None, 10)]         0           []                               \n",
      "                                                                                                  \n",
      " radiuses (InputLayer)          [(None, 10)]         0           []                               \n",
      "                                                                                                  \n",
      " dense (Dense)                  (None, 12)           132         ['means[0][0]']                  \n",
      "                                                                                                  \n",
      " dense_1 (Dense)                (None, 12)           132         ['errors[0][0]']                 \n",
      "                                                                                                  \n",
      " dense_2 (Dense)                (None, 12)           132         ['radiuses[0][0]']               \n",
      "                                                                                                  \n",
      " concatenate (Concatenate)      (None, 36)           0           ['dense[0][0]',                  \n",
      "                                                                  'dense_1[0][0]',                \n",
      "                                                                  'dense_2[0][0]']                \n",
      "                                                                                                  \n",
      " dense_3 (Dense)                (None, 1)            37          ['concatenate[0][0]']            \n",
      "                                                                                                  \n",
      "==================================================================================================\n",
      "Total params: 433\n",
      "Trainable params: 433\n",
      "Non-trainable params: 0\n",
      "__________________________________________________________________________________________________\n"
     ]
    },
    {
     "data": {
      "image/png": "[encoded data removed]",
      "text/plain": [
       "<IPython.core.display.Image object>"
      ]
     },
     "execution_count": 26,
     "metadata": {},
     "output_type": "execute_result"
    }
   ],
   "source": [
    "# 모델 요약\n",
    "model.summary()\n",
    "\n",
    "# 요약 시각화\n",
    "plot_model(model, show_shapes=True, show_layer_names=True)"
   ]
  },
  {
   "cell_type": "code",
   "execution_count": 27,
   "metadata": {},
   "outputs": [],
   "source": [
    "# EarlyStopping 추가\n",
    "es = EarlyStopping(monitor='val_loss',verbose=1,restore_best_weights=True, min_delta=0,patience=10)"
   ]
  },
  {
   "cell_type": "code",
   "execution_count": 28,
   "metadata": {
    "scrolled": true
   },
   "outputs": [
    {
     "name": "stdout",
     "output_type": "stream",
     "text": [
      "Epoch 1/1000\n",
      "11/11 [==============================] - 1s 46ms/step - loss: 113.9118 - accuracy: 0.3787 - precision: 0.3787 - recall: 1.0000 - val_loss: 113.6129 - val_accuracy: 0.2667 - val_precision: 0.2667 - val_recall: 1.0000\n",
      "Epoch 2/1000\n",
      "11/11 [==============================] - 0s 6ms/step - loss: 89.5202 - accuracy: 0.3787 - precision: 0.3787 - recall: 1.0000 - val_loss: 85.9640 - val_accuracy: 0.2667 - val_precision: 0.2667 - val_recall: 1.0000\n",
      "Epoch 3/1000\n",
      "11/11 [==============================] - 0s 6ms/step - loss: 65.8392 - accuracy: 0.3787 - precision: 0.3787 - recall: 1.0000 - val_loss: 58.2722 - val_accuracy: 0.2667 - val_precision: 0.2667 - val_recall: 1.0000\n",
      "Epoch 4/1000\n",
      "11/11 [==============================] - 0s 6ms/step - loss: 41.8647 - accuracy: 0.3787 - precision: 0.3787 - recall: 1.0000 - val_loss: 30.8559 - val_accuracy: 0.2667 - val_precision: 0.2667 - val_recall: 1.0000\n",
      "Epoch 5/1000\n",
      "11/11 [==============================] - 0s 6ms/step - loss: 18.5461 - accuracy: 0.3935 - precision: 0.3830 - recall: 0.9844 - val_loss: 4.8938 - val_accuracy: 0.5167 - val_precision: 0.3556 - val_recall: 1.0000\n",
      "Epoch 6/1000\n",
      "11/11 [==============================] - 0s 5ms/step - loss: 2.4432 - accuracy: 0.7988 - precision: 0.6705 - recall: 0.9219 - val_loss: 1.4101 - val_accuracy: 0.9333 - val_precision: 1.0000 - val_recall: 0.7500\n",
      "Epoch 7/1000\n",
      "11/11 [==============================] - 0s 6ms/step - loss: 3.3635 - accuracy: 0.8432 - precision: 0.9630 - recall: 0.6094 - val_loss: 1.4868 - val_accuracy: 0.9333 - val_precision: 1.0000 - val_recall: 0.7500\n",
      "Epoch 8/1000\n",
      "11/11 [==============================] - 0s 5ms/step - loss: 2.2443 - accuracy: 0.8876 - precision: 0.9091 - recall: 0.7812 - val_loss: 0.4594 - val_accuracy: 0.9500 - val_precision: 0.9333 - val_recall: 0.8750\n",
      "Epoch 9/1000\n",
      "11/11 [==============================] - 0s 5ms/step - loss: 1.8375 - accuracy: 0.8373 - precision: 0.7417 - recall: 0.8750 - val_loss: 0.4747 - val_accuracy: 0.9000 - val_precision: 0.7500 - val_recall: 0.9375\n",
      "Epoch 10/1000\n",
      "11/11 [==============================] - 0s 4ms/step - loss: 1.8366 - accuracy: 0.8314 - precision: 0.7290 - recall: 0.8828 - val_loss: 0.3915 - val_accuracy: 0.9667 - val_precision: 0.9375 - val_recall: 0.9375\n",
      "Epoch 11/1000\n",
      "11/11 [==============================] - 0s 4ms/step - loss: 1.7689 - accuracy: 0.8757 - precision: 0.8209 - recall: 0.8594 - val_loss: 0.4074 - val_accuracy: 0.9667 - val_precision: 0.9375 - val_recall: 0.9375\n",
      "Epoch 12/1000\n",
      "11/11 [==============================] - 0s 5ms/step - loss: 1.7468 - accuracy: 0.8669 - precision: 0.8029 - recall: 0.8594 - val_loss: 0.3627 - val_accuracy: 0.9667 - val_precision: 0.9375 - val_recall: 0.9375\n",
      "Epoch 13/1000\n",
      "11/11 [==============================] - 0s 5ms/step - loss: 1.6979 - accuracy: 0.8609 - precision: 0.7872 - recall: 0.8672 - val_loss: 0.3554 - val_accuracy: 0.9667 - val_precision: 0.9375 - val_recall: 0.9375\n",
      "Epoch 14/1000\n",
      "11/11 [==============================] - 0s 4ms/step - loss: 1.6631 - accuracy: 0.8728 - precision: 0.8102 - recall: 0.8672 - val_loss: 0.3444 - val_accuracy: 0.9667 - val_precision: 0.9375 - val_recall: 0.9375\n",
      "Epoch 15/1000\n",
      "11/11 [==============================] - 0s 5ms/step - loss: 1.6335 - accuracy: 0.8698 - precision: 0.8134 - recall: 0.8516 - val_loss: 0.3341 - val_accuracy: 0.9667 - val_precision: 0.9375 - val_recall: 0.9375\n",
      "Epoch 16/1000\n",
      "11/11 [==============================] - 0s 5ms/step - loss: 1.6005 - accuracy: 0.8698 - precision: 0.8088 - recall: 0.8594 - val_loss: 0.3151 - val_accuracy: 0.9667 - val_precision: 0.9375 - val_recall: 0.9375\n",
      "Epoch 17/1000\n",
      "11/11 [==============================] - 0s 4ms/step - loss: 1.5614 - accuracy: 0.8728 - precision: 0.8102 - recall: 0.8672 - val_loss: 0.3077 - val_accuracy: 0.9667 - val_precision: 0.9375 - val_recall: 0.9375\n",
      "Epoch 18/1000\n",
      "11/11 [==============================] - 0s 4ms/step - loss: 1.5413 - accuracy: 0.8757 - precision: 0.8162 - recall: 0.8672 - val_loss: 0.2818 - val_accuracy: 0.9500 - val_precision: 0.8824 - val_recall: 0.9375\n",
      "Epoch 19/1000\n",
      "11/11 [==============================] - 0s 5ms/step - loss: 1.5005 - accuracy: 0.8698 - precision: 0.8000 - recall: 0.8750 - val_loss: 0.2809 - val_accuracy: 0.9667 - val_precision: 0.9375 - val_recall: 0.9375\n",
      "Epoch 20/1000\n",
      "11/11 [==============================] - 0s 5ms/step - loss: 1.4803 - accuracy: 0.8698 - precision: 0.8134 - recall: 0.8516 - val_loss: 0.2783 - val_accuracy: 0.9833 - val_precision: 1.0000 - val_recall: 0.9375\n",
      "Epoch 21/1000\n",
      "11/11 [==============================] - 0s 4ms/step - loss: 1.4432 - accuracy: 0.8698 - precision: 0.8134 - recall: 0.8516 - val_loss: 0.2433 - val_accuracy: 0.9500 - val_precision: 0.8824 - val_recall: 0.9375\n",
      "Epoch 22/1000\n",
      "11/11 [==============================] - 0s 5ms/step - loss: 1.4372 - accuracy: 0.8669 - precision: 0.7943 - recall: 0.8750 - val_loss: 0.2288 - val_accuracy: 0.9500 - val_precision: 0.8824 - val_recall: 0.9375\n",
      "Epoch 23/1000\n",
      "11/11 [==============================] - 0s 4ms/step - loss: 1.3826 - accuracy: 0.8757 - precision: 0.8116 - recall: 0.8750 - val_loss: 0.2302 - val_accuracy: 0.9833 - val_precision: 1.0000 - val_recall: 0.9375\n",
      "Epoch 24/1000\n",
      "11/11 [==============================] - 0s 4ms/step - loss: 1.3509 - accuracy: 0.8698 - precision: 0.8134 - recall: 0.8516 - val_loss: 0.2248 - val_accuracy: 0.9833 - val_precision: 1.0000 - val_recall: 0.9375\n",
      "Epoch 25/1000\n",
      "11/11 [==============================] - 0s 4ms/step - loss: 1.3263 - accuracy: 0.8728 - precision: 0.8148 - recall: 0.8594 - val_loss: 0.1984 - val_accuracy: 0.9833 - val_precision: 1.0000 - val_recall: 0.9375\n",
      "Epoch 26/1000\n",
      "11/11 [==============================] - 0s 5ms/step - loss: 1.3054 - accuracy: 0.8757 - precision: 0.8116 - recall: 0.8750 - val_loss: 0.1868 - val_accuracy: 0.9667 - val_precision: 0.9375 - val_recall: 0.9375\n",
      "Epoch 27/1000\n",
      "11/11 [==============================] - 0s 4ms/step - loss: 1.2896 - accuracy: 0.8698 - precision: 0.8043 - recall: 0.8672 - val_loss: 0.1861 - val_accuracy: 0.9833 - val_precision: 1.0000 - val_recall: 0.9375\n",
      "Epoch 28/1000\n",
      "11/11 [==============================] - 0s 4ms/step - loss: 1.2558 - accuracy: 0.8757 - precision: 0.8258 - recall: 0.8516 - val_loss: 0.1826 - val_accuracy: 0.9833 - val_precision: 1.0000 - val_recall: 0.9375\n",
      "Epoch 29/1000\n",
      "11/11 [==============================] - 0s 5ms/step - loss: 1.2363 - accuracy: 0.8728 - precision: 0.8148 - recall: 0.8594 - val_loss: 0.1421 - val_accuracy: 0.9667 - val_precision: 0.9375 - val_recall: 0.9375\n",
      "Epoch 30/1000\n",
      "11/11 [==============================] - 0s 4ms/step - loss: 1.2275 - accuracy: 0.8757 - precision: 0.8209 - recall: 0.8594 - val_loss: 0.1706 - val_accuracy: 0.9833 - val_precision: 1.0000 - val_recall: 0.9375\n",
      "Epoch 31/1000\n",
      "11/11 [==============================] - 0s 4ms/step - loss: 1.1863 - accuracy: 0.8757 - precision: 0.8258 - recall: 0.8516 - val_loss: 0.1418 - val_accuracy: 0.9833 - val_precision: 1.0000 - val_recall: 0.9375\n",
      "Epoch 32/1000\n",
      "11/11 [==============================] - 0s 5ms/step - loss: 1.1496 - accuracy: 0.8757 - precision: 0.8116 - recall: 0.8750 - val_loss: 0.1049 - val_accuracy: 0.9667 - val_precision: 0.9375 - val_recall: 0.9375\n",
      "Epoch 33/1000\n",
      "11/11 [==============================] - 0s 5ms/step - loss: 1.1524 - accuracy: 0.8728 - precision: 0.8014 - recall: 0.8828 - val_loss: 0.0939 - val_accuracy: 0.9667 - val_precision: 0.9375 - val_recall: 0.9375\n",
      "Epoch 34/1000\n",
      "11/11 [==============================] - 0s 4ms/step - loss: 1.1204 - accuracy: 0.8787 - precision: 0.8271 - recall: 0.8594 - val_loss: 0.0977 - val_accuracy: 0.9833 - val_precision: 1.0000 - val_recall: 0.9375\n",
      "Epoch 35/1000\n",
      "11/11 [==============================] - 0s 4ms/step - loss: 1.0852 - accuracy: 0.8757 - precision: 0.8258 - recall: 0.8516 - val_loss: 0.0783 - val_accuracy: 0.9833 - val_precision: 1.0000 - val_recall: 0.9375\n",
      "Epoch 36/1000\n",
      "11/11 [==============================] - 0s 5ms/step - loss: 1.0470 - accuracy: 0.8787 - precision: 0.8271 - recall: 0.8594 - val_loss: 0.0645 - val_accuracy: 0.9667 - val_precision: 0.9375 - val_recall: 0.9375\n",
      "Epoch 37/1000\n"
     ]
    },
    {
     "name": "stdout",
     "output_type": "stream",
     "text": [
      "11/11 [==============================] - 0s 5ms/step - loss: 1.0464 - accuracy: 0.8787 - precision: 0.8175 - recall: 0.8750 - val_loss: 0.0533 - val_accuracy: 0.9667 - val_precision: 0.9375 - val_recall: 0.9375\n",
      "Epoch 38/1000\n",
      "11/11 [==============================] - 0s 4ms/step - loss: 1.0284 - accuracy: 0.8817 - precision: 0.8235 - recall: 0.8750 - val_loss: 0.0398 - val_accuracy: 0.9667 - val_precision: 0.9375 - val_recall: 0.9375\n",
      "Epoch 39/1000\n",
      "11/11 [==============================] - 0s 4ms/step - loss: 1.0204 - accuracy: 0.8846 - precision: 0.8397 - recall: 0.8594 - val_loss: 0.0841 - val_accuracy: 0.9833 - val_precision: 1.0000 - val_recall: 0.9375\n",
      "Epoch 40/1000\n",
      "11/11 [==============================] - 0s 4ms/step - loss: 0.9887 - accuracy: 0.8846 - precision: 0.8346 - recall: 0.8672 - val_loss: 0.0343 - val_accuracy: 0.9833 - val_precision: 0.9412 - val_recall: 1.0000\n",
      "Epoch 41/1000\n",
      "11/11 [==============================] - 0s 4ms/step - loss: 0.9331 - accuracy: 0.8817 - precision: 0.8188 - recall: 0.8828 - val_loss: 0.0253 - val_accuracy: 0.9833 - val_precision: 0.9412 - val_recall: 1.0000\n",
      "Epoch 42/1000\n",
      "11/11 [==============================] - 0s 5ms/step - loss: 0.9392 - accuracy: 0.8817 - precision: 0.8438 - recall: 0.8438 - val_loss: 0.0247 - val_accuracy: 0.9833 - val_precision: 1.0000 - val_recall: 0.9375\n",
      "Epoch 43/1000\n",
      "11/11 [==============================] - 0s 4ms/step - loss: 0.9028 - accuracy: 0.8757 - precision: 0.8116 - recall: 0.8750 - val_loss: 0.0369 - val_accuracy: 0.9833 - val_precision: 0.9412 - val_recall: 1.0000\n",
      "Epoch 44/1000\n",
      "11/11 [==============================] - 0s 4ms/step - loss: 0.8644 - accuracy: 0.8817 - precision: 0.8188 - recall: 0.8828 - val_loss: 0.0152 - val_accuracy: 1.0000 - val_precision: 1.0000 - val_recall: 1.0000\n",
      "Epoch 45/1000\n",
      "11/11 [==============================] - 0s 4ms/step - loss: 0.8423 - accuracy: 0.8787 - precision: 0.8372 - recall: 0.8438 - val_loss: 0.0175 - val_accuracy: 0.9833 - val_precision: 0.9412 - val_recall: 1.0000\n",
      "Epoch 46/1000\n",
      "11/11 [==============================] - 0s 5ms/step - loss: 0.8085 - accuracy: 0.8787 - precision: 0.8271 - recall: 0.8594 - val_loss: 0.0345 - val_accuracy: 0.9833 - val_precision: 0.9412 - val_recall: 1.0000\n",
      "Epoch 47/1000\n",
      "11/11 [==============================] - 0s 4ms/step - loss: 0.8001 - accuracy: 0.8876 - precision: 0.8309 - recall: 0.8828 - val_loss: 0.0146 - val_accuracy: 1.0000 - val_precision: 1.0000 - val_recall: 1.0000\n",
      "Epoch 48/1000\n",
      "11/11 [==============================] - 0s 5ms/step - loss: 0.7937 - accuracy: 0.8876 - precision: 0.8571 - recall: 0.8438 - val_loss: 0.0112 - val_accuracy: 1.0000 - val_precision: 1.0000 - val_recall: 1.0000\n",
      "Epoch 49/1000\n",
      "11/11 [==============================] - 0s 5ms/step - loss: 0.7870 - accuracy: 0.8876 - precision: 0.8516 - recall: 0.8516 - val_loss: 0.0238 - val_accuracy: 0.9833 - val_precision: 0.9412 - val_recall: 1.0000\n",
      "Epoch 50/1000\n",
      "11/11 [==============================] - 0s 4ms/step - loss: 0.7853 - accuracy: 0.8905 - precision: 0.8370 - recall: 0.8828 - val_loss: 0.0111 - val_accuracy: 1.0000 - val_precision: 1.0000 - val_recall: 1.0000\n",
      "Epoch 51/1000\n",
      "11/11 [==============================] - 0s 4ms/step - loss: 0.7731 - accuracy: 0.8846 - precision: 0.8450 - recall: 0.8516 - val_loss: 0.0133 - val_accuracy: 1.0000 - val_precision: 1.0000 - val_recall: 1.0000\n",
      "Epoch 52/1000\n",
      "11/11 [==============================] - 0s 4ms/step - loss: 0.7620 - accuracy: 0.8846 - precision: 0.8450 - recall: 0.8516 - val_loss: 0.0114 - val_accuracy: 1.0000 - val_precision: 1.0000 - val_recall: 1.0000\n",
      "Epoch 53/1000\n",
      "11/11 [==============================] - 0s 5ms/step - loss: 0.7588 - accuracy: 0.8905 - precision: 0.8583 - recall: 0.8516 - val_loss: 0.0101 - val_accuracy: 1.0000 - val_precision: 1.0000 - val_recall: 1.0000\n",
      "Epoch 54/1000\n",
      "11/11 [==============================] - 0s 4ms/step - loss: 0.7562 - accuracy: 0.8817 - precision: 0.8385 - recall: 0.8516 - val_loss: 0.0234 - val_accuracy: 0.9833 - val_precision: 0.9412 - val_recall: 1.0000\n",
      "Epoch 55/1000\n",
      "11/11 [==============================] - 0s 4ms/step - loss: 0.7531 - accuracy: 0.8846 - precision: 0.8248 - recall: 0.8828 - val_loss: 0.0098 - val_accuracy: 1.0000 - val_precision: 1.0000 - val_recall: 1.0000\n",
      "Epoch 56/1000\n",
      "11/11 [==============================] - 0s 5ms/step - loss: 0.8042 - accuracy: 0.8964 - precision: 0.8843 - recall: 0.8359 - val_loss: 0.0107 - val_accuracy: 1.0000 - val_precision: 1.0000 - val_recall: 1.0000\n",
      "Epoch 57/1000\n",
      "11/11 [==============================] - 0s 4ms/step - loss: 0.7595 - accuracy: 0.8935 - precision: 0.8485 - recall: 0.8750 - val_loss: 0.0308 - val_accuracy: 0.9833 - val_precision: 0.9412 - val_recall: 1.0000\n",
      "Epoch 58/1000\n",
      "11/11 [==============================] - 0s 5ms/step - loss: 0.7384 - accuracy: 0.8876 - precision: 0.8462 - recall: 0.8594 - val_loss: 0.0104 - val_accuracy: 1.0000 - val_precision: 1.0000 - val_recall: 1.0000\n",
      "Epoch 59/1000\n",
      "11/11 [==============================] - 0s 5ms/step - loss: 0.7363 - accuracy: 0.8905 - precision: 0.8473 - recall: 0.8672 - val_loss: 0.0130 - val_accuracy: 1.0000 - val_precision: 1.0000 - val_recall: 1.0000\n",
      "Epoch 60/1000\n",
      "11/11 [==============================] - 0s 5ms/step - loss: 0.7358 - accuracy: 0.8935 - precision: 0.8485 - recall: 0.8750 - val_loss: 0.0129 - val_accuracy: 1.0000 - val_precision: 1.0000 - val_recall: 1.0000\n",
      "Epoch 61/1000\n",
      "11/11 [==============================] - 0s 5ms/step - loss: 0.7197 - accuracy: 0.8935 - precision: 0.8485 - recall: 0.8750 - val_loss: 0.0150 - val_accuracy: 1.0000 - val_precision: 1.0000 - val_recall: 1.0000\n",
      "Epoch 62/1000\n",
      "11/11 [==============================] - 0s 4ms/step - loss: 0.7241 - accuracy: 0.8935 - precision: 0.8651 - recall: 0.8516 - val_loss: 0.0124 - val_accuracy: 1.0000 - val_precision: 1.0000 - val_recall: 1.0000\n",
      "Epoch 63/1000\n",
      "11/11 [==============================] - 0s 4ms/step - loss: 0.7254 - accuracy: 0.8935 - precision: 0.8485 - recall: 0.8750 - val_loss: 0.0116 - val_accuracy: 1.0000 - val_precision: 1.0000 - val_recall: 1.0000\n",
      "Epoch 64/1000\n",
      "11/11 [==============================] - 0s 4ms/step - loss: 0.7317 - accuracy: 0.8964 - precision: 0.8720 - recall: 0.8516 - val_loss: 0.0196 - val_accuracy: 0.9833 - val_precision: 0.9412 - val_recall: 1.0000\n",
      "Epoch 65/1000\n",
      " 1/11 [=>............................] - ETA: 0s - loss: 0.5234 - accuracy: 0.9375 - precision: 0.8462 - recall: 1.0000Restoring model weights from the end of the best epoch: 55.\n",
      "11/11 [==============================] - 0s 5ms/step - loss: 0.7054 - accuracy: 0.8994 - precision: 0.8507 - recall: 0.8906 - val_loss: 0.0257 - val_accuracy: 0.9833 - val_precision: 0.9412 - val_recall: 1.0000\n",
      "Epoch 65: early stopping\n"
     ]
    },
    {
     "data": {
      "text/plain": [
       "<keras.callbacks.History at 0x1170874bbe0>"
      ]
     },
     "execution_count": 28,
     "metadata": {},
     "output_type": "execute_result"
    }
   ],
   "source": [
    "# 모델 학습\n",
    "model.fit([xt_mean,xt_error,xt_worst],y_train, verbose=1, validation_split=0.15, epochs=1000,callbacks=[es])"
   ]
  },
  {
   "cell_type": "code",
   "execution_count": 29,
   "metadata": {
    "id": "AJLLVhBXM12J"
   },
   "outputs": [],
   "source": [
    "# 평가용 데이터 구분\n",
    "xT_mean = x_test.loc[:,['mean radius','mean texture','mean perimeter','mean area','mean smoothness','mean compactness',\n",
    "                        'mean concavity','mean concave points','mean symmetry','mean fractal dimension']]\n",
    "xT_error = x_test.loc[:,['radius error','texture error','perimeter error','area error','smoothness error',\n",
    "                         'compactness error','concavity error','concave points error','symmetry error','fractal dimension error']]\n",
    "xT_worst = x_test.loc[:,['worst radius','worst texture','worst perimeter','worst area','worst smoothness','worst compactness',\n",
    "                         'worst concavity','worst concave points','worst symmetry','worst fractal dimension']]\n",
    "# 모델 예측\n",
    "y_pred = model.predict([xT_mean,xT_error,xT_worst])"
   ]
  },
  {
   "cell_type": "code",
   "execution_count": 33,
   "metadata": {},
   "outputs": [
    {
     "data": {
      "text/plain": [
       "array([[0.],\n",
       "       [0.],\n",
       "       [0.],\n",
       "       [0.],\n",
       "       [0.],\n",
       "       [0.],\n",
       "       [0.],\n",
       "       [1.],\n",
       "       [1.],\n",
       "       [1.],\n",
       "       [1.],\n",
       "       [1.],\n",
       "       [1.],\n",
       "       [1.],\n",
       "       [0.],\n",
       "       [0.],\n",
       "       [0.],\n",
       "       [0.],\n",
       "       [0.],\n",
       "       [0.],\n",
       "       [0.],\n",
       "       [0.],\n",
       "       [0.],\n",
       "       [0.],\n",
       "       [0.],\n",
       "       [0.],\n",
       "       [0.],\n",
       "       [0.],\n",
       "       [1.],\n",
       "       [0.],\n",
       "       [0.],\n",
       "       [0.],\n",
       "       [1.],\n",
       "       [0.],\n",
       "       [0.],\n",
       "       [1.],\n",
       "       [1.],\n",
       "       [0.],\n",
       "       [1.],\n",
       "       [0.],\n",
       "       [0.],\n",
       "       [1.],\n",
       "       [1.],\n",
       "       [0.],\n",
       "       [1.],\n",
       "       [0.],\n",
       "       [1.],\n",
       "       [0.],\n",
       "       [1.],\n",
       "       [1.],\n",
       "       [0.],\n",
       "       [1.],\n",
       "       [0.],\n",
       "       [0.],\n",
       "       [1.],\n",
       "       [1.],\n",
       "       [0.],\n",
       "       [0.],\n",
       "       [0.],\n",
       "       [0.],\n",
       "       [1.],\n",
       "       [0.],\n",
       "       [0.],\n",
       "       [1.],\n",
       "       [0.],\n",
       "       [0.],\n",
       "       [0.],\n",
       "       [0.],\n",
       "       [0.],\n",
       "       [0.],\n",
       "       [0.],\n",
       "       [1.],\n",
       "       [0.],\n",
       "       [0.],\n",
       "       [1.],\n",
       "       [0.],\n",
       "       [1.],\n",
       "       [0.],\n",
       "       [1.],\n",
       "       [0.],\n",
       "       [0.],\n",
       "       [0.],\n",
       "       [1.],\n",
       "       [0.],\n",
       "       [0.],\n",
       "       [1.],\n",
       "       [1.],\n",
       "       [1.],\n",
       "       [0.],\n",
       "       [1.],\n",
       "       [0.],\n",
       "       [1.],\n",
       "       [0.],\n",
       "       [0.],\n",
       "       [1.],\n",
       "       [0.],\n",
       "       [0.],\n",
       "       [0.],\n",
       "       [0.],\n",
       "       [0.],\n",
       "       [1.],\n",
       "       [0.],\n",
       "       [1.],\n",
       "       [1.],\n",
       "       [1.],\n",
       "       [0.],\n",
       "       [0.],\n",
       "       [1.],\n",
       "       [1.],\n",
       "       [0.],\n",
       "       [0.],\n",
       "       [0.],\n",
       "       [1.],\n",
       "       [0.],\n",
       "       [0.],\n",
       "       [0.],\n",
       "       [0.],\n",
       "       [0.],\n",
       "       [1.],\n",
       "       [0.],\n",
       "       [1.],\n",
       "       [0.],\n",
       "       [0.],\n",
       "       [0.],\n",
       "       [0.],\n",
       "       [0.],\n",
       "       [0.],\n",
       "       [0.],\n",
       "       [1.],\n",
       "       [0.],\n",
       "       [1.],\n",
       "       [1.],\n",
       "       [1.],\n",
       "       [0.],\n",
       "       [0.],\n",
       "       [0.],\n",
       "       [0.],\n",
       "       [0.],\n",
       "       [1.],\n",
       "       [0.],\n",
       "       [0.],\n",
       "       [0.],\n",
       "       [1.],\n",
       "       [0.],\n",
       "       [1.],\n",
       "       [0.],\n",
       "       [0.],\n",
       "       [1.],\n",
       "       [0.],\n",
       "       [0.],\n",
       "       [0.],\n",
       "       [0.],\n",
       "       [1.],\n",
       "       [1.],\n",
       "       [0.],\n",
       "       [1.],\n",
       "       [1.],\n",
       "       [1.],\n",
       "       [1.],\n",
       "       [0.],\n",
       "       [0.],\n",
       "       [0.],\n",
       "       [0.],\n",
       "       [0.],\n",
       "       [1.],\n",
       "       [1.],\n",
       "       [1.],\n",
       "       [0.],\n",
       "       [1.],\n",
       "       [1.],\n",
       "       [0.]], dtype=float32)"
      ]
     },
     "execution_count": 33,
     "metadata": {},
     "output_type": "execute_result"
    }
   ],
   "source": [
    "# 예측 결과 조회\n",
    "y_pred = np.around(y_pred)\n",
    "y_pred"
   ]
  },
  {
   "cell_type": "code",
   "execution_count": 31,
   "metadata": {},
   "outputs": [
    {
     "data": {
      "text/plain": [
       "pandas.core.series.Series"
      ]
     },
     "execution_count": 31,
     "metadata": {},
     "output_type": "execute_result"
    }
   ],
   "source": [
    "type(y_test)"
   ]
  },
  {
   "cell_type": "code",
   "execution_count": 35,
   "metadata": {},
   "outputs": [
    {
     "name": "stdout",
     "output_type": "stream",
     "text": [
      "              precision    recall  f1-score   support\n",
      "\n",
      "           0       0.91      0.96      0.93       103\n",
      "           1       0.94      0.85      0.89        68\n",
      "\n",
      "    accuracy                           0.92       171\n",
      "   macro avg       0.92      0.91      0.91       171\n",
      "weighted avg       0.92      0.92      0.92       171\n",
      "\n"
     ]
    }
   ],
   "source": [
    "from sklearn.metrics import classification_report\n",
    "print(classification_report(y_test,y_pred))"
   ]
  },
  {
   "cell_type": "code",
   "execution_count": null,
   "metadata": {},
   "outputs": [],
   "source": [
    "# 모델 평가\n",
    "model.evaluate([xT_mean,xT_error,xT_worst],y_test)"
   ]
  },
  {
   "cell_type": "code",
   "execution_count": 36,
   "metadata": {},
   "outputs": [
    {
     "data": {
      "image/png": "[encoded data removed]",
      "text/plain": [
       "<Figure size 432x288 with 2 Axes>"
      ]
     },
     "metadata": {
      "needs_background": "light"
     },
     "output_type": "display_data"
    }
   ],
   "source": [
    "# 결과 시각화\n",
    "import matplotlib.pyplot as plt\n",
    "import seaborn as sns\n",
    "from sklearn.metrics import confusion_matrix\n",
    "sns.heatmap(confusion_matrix(y_test,y_pred),annot=True,fmt='g')\n",
    "plt.show()"
   ]
  },
  {
   "cell_type": "markdown",
   "metadata": {
    "id": "FJfDbKduBnxz"
   },
   "source": [
    "## 평가\n",
    "\n",
    "1. 모델의 정확도를 확인하시오.\n",
    "2. 악성이라 예측한 것 중 실제 악성으로 나온 비율을 구하시오.\n",
    "3. 실제 악성 중 모델이 악성이라 예측한 것의 비율을 구하시오.\n",
    "4. 정상이라 예측한 것 중 실제 정상으로 나온 비율을 구하시오."
   ]
  },
  {
   "cell_type": "markdown",
   "metadata": {
    "id": "6uOhCHhIM7SO"
   },
   "source": [
    "* 부분적으로 연결된 레이어(Locally connected layer) 기반 모델을 학습했을 때 큰 차이가 없는 것 같다."
   ]
  },
  {
   "cell_type": "markdown",
   "metadata": {},
   "source": [
    "* 일반 모델 재실행한 결과 : accuracy: 0.92 - precision: 0.98 - recall: 0.82"
   ]
  },
  {
   "cell_type": "markdown",
   "metadata": {},
   "source": [
    "* 로컬 모델 재실행한 결과 : accuracy: 0.92 - precision: 0.94 - recall: 0.85"
   ]
  },
  {
   "cell_type": "code",
   "execution_count": null,
   "metadata": {},
   "outputs": [],
   "source": []
  }
 ],
 "metadata": {
  "colab": {
   "authorship_tag": "ABX9TyM8qi94ktQtXkjB4Cj5dLJI",
   "collapsed_sections": [],
   "name": "3_4_Breast_cancer.ipynb",
   "provenance": [],
   "toc_visible": true
  },
  "kernelspec": {
   "display_name": "Python 3",
   "language": "python",
   "name": "python3"
  },
  "language_info": {
   "codemirror_mode": {
    "name": "ipython",
    "version": 3
   },
   "file_extension": ".py",
   "mimetype": "text/x-python",
   "name": "python",
   "nbconvert_exporter": "python",
   "pygments_lexer": "ipython3",
   "version": "3.8.8"
  }
 },
 "nbformat": 4,
 "nbformat_minor": 1
}
