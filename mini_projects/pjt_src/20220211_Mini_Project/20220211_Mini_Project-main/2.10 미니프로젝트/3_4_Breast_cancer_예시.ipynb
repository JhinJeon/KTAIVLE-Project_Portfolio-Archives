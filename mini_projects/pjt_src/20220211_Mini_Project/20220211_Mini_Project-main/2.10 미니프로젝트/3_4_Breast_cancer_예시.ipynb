{
 "cells": [
  {
   "cell_type": "markdown",
   "metadata": {
    "id": "XZ7tAmJDypSo"
   },
   "source": [
    "# 유방암 종양 예측\n",
    "\n",
    "## 악성 종양인지, 양성 종양(정상)인지 예측\n",
    "\n",
    "* radius : 반경\n",
    "* texture : 질감\n",
    "* perimeter : 둘레\n",
    "* area : 면적\n",
    "* smoothness : 매끄러움\n",
    "* compactness : 조그만 정도\n",
    "* concavity : 윤곽의 오목함\n",
    "* concave points : 윤곽의 오목한 부분의 수\n",
    "* symmetry : 대칭\n",
    "* fractal dimension : 프랙탈 차원\n",
    "* target : Malignant-악성 종양 / Benign-양성 종양(정상)\n",
    "---\n",
    "* mean ~ : 데이터별 평균 값\n",
    "* ~ error : 데이터별 표준편차 값\n",
    "* worst ~ : 데이터별 가장 큰 3개의 평균으로 만든 값"
   ]
  },
  {
   "cell_type": "markdown",
   "metadata": {
    "id": "lyYyOsXgy9Vx"
   },
   "source": [
    "## 데이터셋 불러오기"
   ]
  },
  {
   "cell_type": "code",
   "execution_count": 1,
   "metadata": {
    "id": "9qac0OkvzCK3"
   },
   "outputs": [],
   "source": [
    "import pandas as pd\n",
    "import numpy as np"
   ]
  },
  {
   "cell_type": "code",
   "execution_count": 2,
   "metadata": {
    "colab": {
     "base_uri": "https://localhost:8080/",
     "height": 305
    },
    "id": "Lv7VQADpzH_W",
    "outputId": "f50ad827-e9e4-47d3-8206-2d0b02db4f79"
   },
   "outputs": [
    {
     "data": {
      "text/html": [
       "<div>\n",
       "<style scoped>\n",
       "    .dataframe tbody tr th:only-of-type {\n",
       "        vertical-align: middle;\n",
       "    }\n",
       "\n",
       "    .dataframe tbody tr th {\n",
       "        vertical-align: top;\n",
       "    }\n",
       "\n",
       "    .dataframe thead th {\n",
       "        text-align: right;\n",
       "    }\n",
       "</style>\n",
       "<table border=\"1\" class=\"dataframe\">\n",
       "  <thead>\n",
       "    <tr style=\"text-align: right;\">\n",
       "      <th></th>\n",
       "      <th>mean radius</th>\n",
       "      <th>mean texture</th>\n",
       "      <th>mean perimeter</th>\n",
       "      <th>mean area</th>\n",
       "      <th>mean smoothness</th>\n",
       "      <th>mean compactness</th>\n",
       "      <th>mean concavity</th>\n",
       "      <th>mean concave points</th>\n",
       "      <th>mean symmetry</th>\n",
       "      <th>mean fractal dimension</th>\n",
       "      <th>...</th>\n",
       "      <th>worst texture</th>\n",
       "      <th>worst perimeter</th>\n",
       "      <th>worst area</th>\n",
       "      <th>worst smoothness</th>\n",
       "      <th>worst compactness</th>\n",
       "      <th>worst concavity</th>\n",
       "      <th>worst concave points</th>\n",
       "      <th>worst symmetry</th>\n",
       "      <th>worst fractal dimension</th>\n",
       "      <th>target</th>\n",
       "    </tr>\n",
       "  </thead>\n",
       "  <tbody>\n",
       "    <tr>\n",
       "      <th>0</th>\n",
       "      <td>17.99</td>\n",
       "      <td>10.38</td>\n",
       "      <td>122.80</td>\n",
       "      <td>1001.0</td>\n",
       "      <td>0.11840</td>\n",
       "      <td>0.27760</td>\n",
       "      <td>0.3001</td>\n",
       "      <td>0.14710</td>\n",
       "      <td>0.2419</td>\n",
       "      <td>0.07871</td>\n",
       "      <td>...</td>\n",
       "      <td>17.33</td>\n",
       "      <td>184.60</td>\n",
       "      <td>2019.0</td>\n",
       "      <td>0.1622</td>\n",
       "      <td>0.6656</td>\n",
       "      <td>0.7119</td>\n",
       "      <td>0.2654</td>\n",
       "      <td>0.4601</td>\n",
       "      <td>0.11890</td>\n",
       "      <td>Malignant</td>\n",
       "    </tr>\n",
       "    <tr>\n",
       "      <th>1</th>\n",
       "      <td>20.57</td>\n",
       "      <td>17.77</td>\n",
       "      <td>132.90</td>\n",
       "      <td>1326.0</td>\n",
       "      <td>0.08474</td>\n",
       "      <td>0.07864</td>\n",
       "      <td>0.0869</td>\n",
       "      <td>0.07017</td>\n",
       "      <td>0.1812</td>\n",
       "      <td>0.05667</td>\n",
       "      <td>...</td>\n",
       "      <td>23.41</td>\n",
       "      <td>158.80</td>\n",
       "      <td>1956.0</td>\n",
       "      <td>0.1238</td>\n",
       "      <td>0.1866</td>\n",
       "      <td>0.2416</td>\n",
       "      <td>0.1860</td>\n",
       "      <td>0.2750</td>\n",
       "      <td>0.08902</td>\n",
       "      <td>Malignant</td>\n",
       "    </tr>\n",
       "    <tr>\n",
       "      <th>2</th>\n",
       "      <td>19.69</td>\n",
       "      <td>21.25</td>\n",
       "      <td>130.00</td>\n",
       "      <td>1203.0</td>\n",
       "      <td>0.10960</td>\n",
       "      <td>0.15990</td>\n",
       "      <td>0.1974</td>\n",
       "      <td>0.12790</td>\n",
       "      <td>0.2069</td>\n",
       "      <td>0.05999</td>\n",
       "      <td>...</td>\n",
       "      <td>25.53</td>\n",
       "      <td>152.50</td>\n",
       "      <td>1709.0</td>\n",
       "      <td>0.1444</td>\n",
       "      <td>0.4245</td>\n",
       "      <td>0.4504</td>\n",
       "      <td>0.2430</td>\n",
       "      <td>0.3613</td>\n",
       "      <td>0.08758</td>\n",
       "      <td>Malignant</td>\n",
       "    </tr>\n",
       "    <tr>\n",
       "      <th>3</th>\n",
       "      <td>11.42</td>\n",
       "      <td>20.38</td>\n",
       "      <td>77.58</td>\n",
       "      <td>386.1</td>\n",
       "      <td>0.14250</td>\n",
       "      <td>0.28390</td>\n",
       "      <td>0.2414</td>\n",
       "      <td>0.10520</td>\n",
       "      <td>0.2597</td>\n",
       "      <td>0.09744</td>\n",
       "      <td>...</td>\n",
       "      <td>26.50</td>\n",
       "      <td>98.87</td>\n",
       "      <td>567.7</td>\n",
       "      <td>0.2098</td>\n",
       "      <td>0.8663</td>\n",
       "      <td>0.6869</td>\n",
       "      <td>0.2575</td>\n",
       "      <td>0.6638</td>\n",
       "      <td>0.17300</td>\n",
       "      <td>Malignant</td>\n",
       "    </tr>\n",
       "    <tr>\n",
       "      <th>4</th>\n",
       "      <td>20.29</td>\n",
       "      <td>14.34</td>\n",
       "      <td>135.10</td>\n",
       "      <td>1297.0</td>\n",
       "      <td>0.10030</td>\n",
       "      <td>0.13280</td>\n",
       "      <td>0.1980</td>\n",
       "      <td>0.10430</td>\n",
       "      <td>0.1809</td>\n",
       "      <td>0.05883</td>\n",
       "      <td>...</td>\n",
       "      <td>16.67</td>\n",
       "      <td>152.20</td>\n",
       "      <td>1575.0</td>\n",
       "      <td>0.1374</td>\n",
       "      <td>0.2050</td>\n",
       "      <td>0.4000</td>\n",
       "      <td>0.1625</td>\n",
       "      <td>0.2364</td>\n",
       "      <td>0.07678</td>\n",
       "      <td>Malignant</td>\n",
       "    </tr>\n",
       "  </tbody>\n",
       "</table>\n",
       "<p>5 rows × 31 columns</p>\n",
       "</div>"
      ],
      "text/plain": [
       "   mean radius  mean texture  mean perimeter  mean area  mean smoothness  \\\n",
       "0        17.99         10.38          122.80     1001.0          0.11840   \n",
       "1        20.57         17.77          132.90     1326.0          0.08474   \n",
       "2        19.69         21.25          130.00     1203.0          0.10960   \n",
       "3        11.42         20.38           77.58      386.1          0.14250   \n",
       "4        20.29         14.34          135.10     1297.0          0.10030   \n",
       "\n",
       "   mean compactness  mean concavity  mean concave points  mean symmetry  \\\n",
       "0           0.27760          0.3001              0.14710         0.2419   \n",
       "1           0.07864          0.0869              0.07017         0.1812   \n",
       "2           0.15990          0.1974              0.12790         0.2069   \n",
       "3           0.28390          0.2414              0.10520         0.2597   \n",
       "4           0.13280          0.1980              0.10430         0.1809   \n",
       "\n",
       "   mean fractal dimension  ...  worst texture  worst perimeter  worst area  \\\n",
       "0                 0.07871  ...          17.33           184.60      2019.0   \n",
       "1                 0.05667  ...          23.41           158.80      1956.0   \n",
       "2                 0.05999  ...          25.53           152.50      1709.0   \n",
       "3                 0.09744  ...          26.50            98.87       567.7   \n",
       "4                 0.05883  ...          16.67           152.20      1575.0   \n",
       "\n",
       "   worst smoothness  worst compactness  worst concavity  worst concave points  \\\n",
       "0            0.1622             0.6656           0.7119                0.2654   \n",
       "1            0.1238             0.1866           0.2416                0.1860   \n",
       "2            0.1444             0.4245           0.4504                0.2430   \n",
       "3            0.2098             0.8663           0.6869                0.2575   \n",
       "4            0.1374             0.2050           0.4000                0.1625   \n",
       "\n",
       "   worst symmetry  worst fractal dimension     target  \n",
       "0          0.4601                  0.11890  Malignant  \n",
       "1          0.2750                  0.08902  Malignant  \n",
       "2          0.3613                  0.08758  Malignant  \n",
       "3          0.6638                  0.17300  Malignant  \n",
       "4          0.2364                  0.07678  Malignant  \n",
       "\n",
       "[5 rows x 31 columns]"
      ]
     },
     "execution_count": 2,
     "metadata": {},
     "output_type": "execute_result"
    }
   ],
   "source": [
    "data = pd.read_csv('https://raw.githubusercontent.com/DrKAI/dataset/main/breast_cancer.csv')\n",
    "\n",
    "data.head()"
   ]
  },
  {
   "cell_type": "code",
   "execution_count": 3,
   "metadata": {
    "colab": {
     "base_uri": "https://localhost:8080/"
    },
    "id": "hF1C2qsSzUk7",
    "outputId": "606b9223-268e-4bb1-c676-9bdc772a95cd"
   },
   "outputs": [
    {
     "name": "stdout",
     "output_type": "stream",
     "text": [
      "<class 'pandas.core.frame.DataFrame'>\n",
      "RangeIndex: 569 entries, 0 to 568\n",
      "Data columns (total 31 columns):\n",
      " #   Column                   Non-Null Count  Dtype  \n",
      "---  ------                   --------------  -----  \n",
      " 0   mean radius              569 non-null    float64\n",
      " 1   mean texture             569 non-null    float64\n",
      " 2   mean perimeter           569 non-null    float64\n",
      " 3   mean area                569 non-null    float64\n",
      " 4   mean smoothness          569 non-null    float64\n",
      " 5   mean compactness         569 non-null    float64\n",
      " 6   mean concavity           569 non-null    float64\n",
      " 7   mean concave points      569 non-null    float64\n",
      " 8   mean symmetry            569 non-null    float64\n",
      " 9   mean fractal dimension   569 non-null    float64\n",
      " 10  radius error             569 non-null    float64\n",
      " 11  texture error            569 non-null    float64\n",
      " 12  perimeter error          569 non-null    float64\n",
      " 13  area error               569 non-null    float64\n",
      " 14  smoothness error         569 non-null    float64\n",
      " 15  compactness error        569 non-null    float64\n",
      " 16  concavity error          569 non-null    float64\n",
      " 17  concave points error     569 non-null    float64\n",
      " 18  symmetry error           569 non-null    float64\n",
      " 19  fractal dimension error  569 non-null    float64\n",
      " 20  worst radius             569 non-null    float64\n",
      " 21  worst texture            569 non-null    float64\n",
      " 22  worst perimeter          569 non-null    float64\n",
      " 23  worst area               569 non-null    float64\n",
      " 24  worst smoothness         569 non-null    float64\n",
      " 25  worst compactness        569 non-null    float64\n",
      " 26  worst concavity          569 non-null    float64\n",
      " 27  worst concave points     569 non-null    float64\n",
      " 28  worst symmetry           569 non-null    float64\n",
      " 29  worst fractal dimension  569 non-null    float64\n",
      " 30  target                   569 non-null    object \n",
      "dtypes: float64(30), object(1)\n",
      "memory usage: 137.9+ KB\n"
     ]
    }
   ],
   "source": [
    "data.info()"
   ]
  },
  {
   "cell_type": "markdown",
   "metadata": {
    "id": "wvsEjq9CzJy3"
   },
   "source": [
    "## 데이터 전처리\n",
    "\n",
    "<details><summary>Hint</summary>\n",
    "\n",
    "* x, y 구분 필요\n",
    "* y에 대한 전처리 필요\n",
    "* 데이터셋 구분 필요\n",
    "\n",
    "</details>"
   ]
  },
  {
   "cell_type": "code",
   "execution_count": 4,
   "metadata": {
    "id": "JHOkzyCpzQcn"
   },
   "outputs": [],
   "source": [
    "## 악성 종양 여부가 더 중요한 것이라 생각하여 Malignant를 1로 설정\n",
    "\n",
    "data.loc[ data['target']=='Malignant' , 'target'] = 1\n",
    "data.loc[ data['target']=='Benign' , 'target'] = 0"
   ]
  },
  {
   "cell_type": "code",
   "execution_count": 5,
   "metadata": {
    "id": "6bWn5VqFzSr4"
   },
   "outputs": [],
   "source": [
    "data['target'] = data['target'].astype(float)"
   ]
  },
  {
   "cell_type": "code",
   "execution_count": 6,
   "metadata": {
    "id": "yHD8__R66tbd"
   },
   "outputs": [],
   "source": [
    "x = data.drop(['target'], axis=1)\n",
    "y = data['target']"
   ]
  },
  {
   "cell_type": "code",
   "execution_count": 7,
   "metadata": {
    "id": "k2v7XhVI610y"
   },
   "outputs": [
    {
     "data": {
      "text/plain": [
       "((569, 30), (569,))"
      ]
     },
     "execution_count": 7,
     "metadata": {},
     "output_type": "execute_result"
    }
   ],
   "source": [
    "x.shape, y.shape"
   ]
  },
  {
   "cell_type": "code",
   "execution_count": 8,
   "metadata": {
    "id": "_ziQctA95dP9"
   },
   "outputs": [],
   "source": [
    "from sklearn.model_selection import train_test_split"
   ]
  },
  {
   "cell_type": "code",
   "execution_count": 9,
   "metadata": {
    "id": "OHro1pmO5_H1"
   },
   "outputs": [],
   "source": [
    "train_x, test_x, train_y, test_y \\\n",
    "    = train_test_split(x, y, test_size=0.1, random_state=2022)"
   ]
  },
  {
   "cell_type": "code",
   "execution_count": 10,
   "metadata": {
    "id": "uwbZm4T75dSk"
   },
   "outputs": [
    {
     "data": {
      "text/plain": [
       "((512, 30), (512,))"
      ]
     },
     "execution_count": 10,
     "metadata": {},
     "output_type": "execute_result"
    }
   ],
   "source": [
    "train_x.shape, train_y.shape"
   ]
  },
  {
   "cell_type": "markdown",
   "metadata": {
    "id": "saT7eZyPwLUt"
   },
   "source": [
    "## 모델링"
   ]
  },
  {
   "cell_type": "markdown",
   "metadata": {
    "id": "UMxtGX8n7ZO7"
   },
   "source": [
    "### Locally connected layer를 구성하기 위한 feature 설정\n",
    "\n",
    "* mean, error, worst를 각 feature별로 묶어 새로운 변수를 만든다.\n",
    "        ex) mean radius, radius error, worst radius\n",
    "\n",
    "<details><summary> Hint </summary>\n",
    "\n",
    "* x의 train 구조와 test 구조는 동일해야 한다.\n",
    "\n",
    "</details>"
   ]
  },
  {
   "cell_type": "code",
   "execution_count": 11,
   "metadata": {
    "id": "MeXhOSrS5dYE"
   },
   "outputs": [],
   "source": [
    "tr_radius = train_x.loc[ : , ['mean radius', 'radius error', 'worst radius'] ]\n",
    "tr_texture = train_x.loc[ : , ['mean texture', 'texture error', 'worst texture'] ]\n",
    "tr_area = train_x.loc[ : , ['mean area', 'area error', 'worst area'] ]\n",
    "tr_perimeter = train_x.loc[ : , ['mean perimeter', 'perimeter error', 'worst perimeter'] ]\n",
    "tr_smoothness = train_x.loc[ : , ['mean smoothness', 'smoothness error', 'worst smoothness'] ]\n",
    "tr_compactness = train_x.loc[ : , ['mean compactness', 'compactness error', 'worst compactness'] ]\n",
    "tr_concavity = train_x.loc[ : , ['mean concavity', 'concavity error', 'worst concavity'] ]\n",
    "tr_con_point = train_x.loc[ : , ['mean concave points', 'concave points error', 'worst concave points'] ]\n",
    "tr_symmetry = train_x.loc[ : , ['mean symmetry', 'symmetry error', 'worst symmetry'] ]\n",
    "tr_fractal = train_x.loc[ : , ['mean fractal dimension', 'fractal dimension error', 'worst fractal dimension'] ]"
   ]
  },
  {
   "cell_type": "code",
   "execution_count": 12,
   "metadata": {
    "id": "-V9ByrUx5dbE"
   },
   "outputs": [],
   "source": [
    "te_radius = test_x.loc[ : , ['mean radius', 'radius error', 'worst radius'] ]\n",
    "te_texture = test_x.loc[ : , ['mean texture', 'texture error', 'worst texture'] ]\n",
    "te_area = test_x.loc[ : , ['mean area', 'area error', 'worst area'] ]\n",
    "te_perimeter = test_x.loc[ : , ['mean perimeter', 'perimeter error', 'worst perimeter'] ]\n",
    "te_smoothness = test_x.loc[ : , ['mean smoothness', 'smoothness error', 'worst smoothness'] ]\n",
    "te_compactness = test_x.loc[ : , ['mean compactness', 'compactness error', 'worst compactness'] ]\n",
    "te_concavity = test_x.loc[ : , ['mean concavity', 'concavity error', 'worst concavity'] ]\n",
    "te_con_point = test_x.loc[ : , ['mean concave points', 'concave points error', 'worst concave points'] ]\n",
    "te_symmetry = test_x.loc[ : , ['mean symmetry', 'symmetry error', 'worst symmetry'] ]\n",
    "te_fractal = test_x.loc[ : , ['mean fractal dimension', 'fractal dimension error', 'worst fractal dimension'] ]"
   ]
  },
  {
   "cell_type": "markdown",
   "metadata": {
    "id": "pN2YChw-9ACb"
   },
   "source": [
    "### 모델 코드 작성\n",
    "\n",
    "1. 윗 단계에서 생성한 변수의 **형태**를 이용하여, 각 변수별 input layer를 만든다.\n",
    "2. node가 12개인 hidden layer를 **각각** 생성하여, 각 input layer와 연결한다.\n",
    "3. 생성된 hidden layer를 add 한다.\n",
    "---\n",
    "4. 전체 변수를 이용한 input layer를 만든다.\n",
    "5. 3번 단계로 add 된 레이어와 4번 단계로 만들어진 input layer를 concat한다.\n",
    "---\n",
    "6. node가 128개인 hidden layer를 5번 단계로 concat된 레이어와 연결한다.\n",
    "7. output layer를 생성하고 compile 한다."
   ]
  },
  {
   "cell_type": "code",
   "execution_count": 16,
   "metadata": {
    "id": "YE7dXNML_5ir"
   },
   "outputs": [],
   "source": [
    "import tensorflow as tf\n",
    "from tensorflow import keras\n",
    "\n",
    "from tensorflow.keras.models import Model\n",
    "from tensorflow.keras.layers import Input, Dense, Add, Concatenate\n",
    "\n",
    "from tensorflow.keras.callbacks import EarlyStopping\n",
    "from tensorflow.keras.utils import plot_model"
   ]
  },
  {
   "cell_type": "code",
   "execution_count": 17,
   "metadata": {
    "id": "clIR5YyB5dgm"
   },
   "outputs": [
    {
     "name": "stdout",
     "output_type": "stream",
     "text": [
      "Model: \"model\"\n",
      "__________________________________________________________________________________________________\n",
      " Layer (type)                   Output Shape         Param #     Connected to                     \n",
      "==================================================================================================\n",
      " input_2 (InputLayer)           [(None, 3)]          0           []                               \n",
      "                                                                                                  \n",
      " input_3 (InputLayer)           [(None, 3)]          0           []                               \n",
      "                                                                                                  \n",
      " input_4 (InputLayer)           [(None, 3)]          0           []                               \n",
      "                                                                                                  \n",
      " input_5 (InputLayer)           [(None, 3)]          0           []                               \n",
      "                                                                                                  \n",
      " input_6 (InputLayer)           [(None, 3)]          0           []                               \n",
      "                                                                                                  \n",
      " input_7 (InputLayer)           [(None, 3)]          0           []                               \n",
      "                                                                                                  \n",
      " input_8 (InputLayer)           [(None, 3)]          0           []                               \n",
      "                                                                                                  \n",
      " input_9 (InputLayer)           [(None, 3)]          0           []                               \n",
      "                                                                                                  \n",
      " input_10 (InputLayer)          [(None, 3)]          0           []                               \n",
      "                                                                                                  \n",
      " input_11 (InputLayer)          [(None, 3)]          0           []                               \n",
      "                                                                                                  \n",
      " dense (Dense)                  (None, 12)           48          ['input_2[0][0]']                \n",
      "                                                                                                  \n",
      " dense_1 (Dense)                (None, 12)           48          ['input_3[0][0]']                \n",
      "                                                                                                  \n",
      " dense_2 (Dense)                (None, 12)           48          ['input_4[0][0]']                \n",
      "                                                                                                  \n",
      " dense_3 (Dense)                (None, 12)           48          ['input_5[0][0]']                \n",
      "                                                                                                  \n",
      " dense_4 (Dense)                (None, 12)           48          ['input_6[0][0]']                \n",
      "                                                                                                  \n",
      " dense_5 (Dense)                (None, 12)           48          ['input_7[0][0]']                \n",
      "                                                                                                  \n",
      " dense_6 (Dense)                (None, 12)           48          ['input_8[0][0]']                \n",
      "                                                                                                  \n",
      " dense_7 (Dense)                (None, 12)           48          ['input_9[0][0]']                \n",
      "                                                                                                  \n",
      " dense_8 (Dense)                (None, 12)           48          ['input_10[0][0]']               \n",
      "                                                                                                  \n",
      " dense_9 (Dense)                (None, 12)           48          ['input_11[0][0]']               \n",
      "                                                                                                  \n",
      " input_1 (InputLayer)           [(None, 30)]         0           []                               \n",
      "                                                                                                  \n",
      " add (Add)                      (None, 12)           0           ['dense[0][0]',                  \n",
      "                                                                  'dense_1[0][0]',                \n",
      "                                                                  'dense_2[0][0]',                \n",
      "                                                                  'dense_3[0][0]',                \n",
      "                                                                  'dense_4[0][0]',                \n",
      "                                                                  'dense_5[0][0]',                \n",
      "                                                                  'dense_6[0][0]',                \n",
      "                                                                  'dense_7[0][0]',                \n",
      "                                                                  'dense_8[0][0]',                \n",
      "                                                                  'dense_9[0][0]']                \n",
      "                                                                                                  \n",
      " concatenate (Concatenate)      (None, 42)           0           ['input_1[0][0]',                \n",
      "                                                                  'add[0][0]']                    \n",
      "                                                                                                  \n",
      " dense_10 (Dense)               (None, 128)          5504        ['concatenate[0][0]']            \n",
      "                                                                                                  \n",
      " dense_11 (Dense)               (None, 1)            129         ['dense_10[0][0]']               \n",
      "                                                                                                  \n",
      "==================================================================================================\n",
      "Total params: 6,113\n",
      "Trainable params: 6,113\n",
      "Non-trainable params: 0\n",
      "__________________________________________________________________________________________________\n"
     ]
    }
   ],
   "source": [
    "# 1번. 세션 클리어\n",
    "keras.backend.clear_session()\n",
    "\n",
    "# 2번. 모델의 레이어를 엮기!\n",
    "il_full = Input(shape=(30,))\n",
    "\n",
    "il_rad = Input(shape=(3,))\n",
    "hl_rad = Dense(12, activation='relu')(il_rad)\n",
    "\n",
    "il_tex = Input(shape=(3,))\n",
    "hl_tex = Dense(12, activation='relu')(il_tex)\n",
    "\n",
    "il_peri = Input(shape=(3,))\n",
    "hl_peri = Dense(12, activation='relu')(il_peri)\n",
    "\n",
    "il_area = Input(shape=(3,))\n",
    "hl_area = Dense(12, activation='relu')(il_area)\n",
    "\n",
    "il_smoo = Input(shape=(3,))\n",
    "hl_smoo = Dense(12, activation='relu')(il_smoo)\n",
    "\n",
    "il_com = Input(shape=(3,))\n",
    "hl_com = Dense(12, activation='relu')(il_com)\n",
    "\n",
    "il_con = Input(shape=(3,))\n",
    "hl_con = Dense(12, activation='relu')(il_con)\n",
    "\n",
    "il_conp = Input(shape=(3,))\n",
    "hl_conp = Dense(12, activation='relu')(il_conp)\n",
    "\n",
    "il_sym = Input(shape=(3,))\n",
    "hl_sym = Dense(12, activation='relu')(il_sym)\n",
    "\n",
    "il_frac = Input(shape=(3,))\n",
    "hl_frac = Dense(12, activation='relu')(il_frac)\n",
    "\n",
    "hl_add = Add()([hl_rad, hl_tex, hl_peri, hl_area, hl_smoo,\n",
    "                hl_com, hl_con, hl_conp, hl_sym, hl_frac])\n",
    "\n",
    "hl_concat = Concatenate()([il_full, hl_add])\n",
    "hl_dense = Dense(128, activation='relu')(hl_concat)\n",
    "ol = Dense(1, activation='sigmoid')(hl_dense)\n",
    "\n",
    "input_list = [il_full, il_rad, il_tex, il_peri, il_area,\n",
    "              il_smoo, il_com, il_con, il_conp, il_sym, il_frac]\n",
    "model = Model(input_list, ol)\n",
    "\n",
    "model.compile(loss=keras.losses.binary_crossentropy, metrics=['accuracy'],\n",
    "              optimizer=keras.optimizers.Adam(0.001) )\n",
    "\n",
    "model.summary()"
   ]
  },
  {
   "cell_type": "markdown",
   "metadata": {
    "id": "KMj76a4ACXur"
   },
   "source": [
    "### 모델 구조 시각화"
   ]
  },
  {
   "cell_type": "code",
   "execution_count": 18,
   "metadata": {
    "id": "hvCRKoJ4AN6Q"
   },
   "outputs": [
    {
     "data": {
      "image/png": "[encoded data removed]",
      "text/plain": [
       "<IPython.core.display.Image object>"
      ]
     },
     "execution_count": 18,
     "metadata": {},
     "output_type": "execute_result"
    }
   ],
   "source": [
    "plot_model(model, show_shapes=True)"
   ]
  },
  {
   "cell_type": "markdown",
   "metadata": {
    "id": "OzvoyHKCCgkP"
   },
   "source": [
    "### 모델 학습"
   ]
  },
  {
   "cell_type": "code",
   "execution_count": 19,
   "metadata": {
    "id": "FxOS_4dpAUeR"
   },
   "outputs": [],
   "source": [
    "tr_list = [train_x, tr_radius, tr_texture,\n",
    "           tr_perimeter, tr_area,\n",
    "           tr_smoothness, tr_compactness,\n",
    "           tr_concavity, tr_con_point, \n",
    "           tr_symmetry, tr_fractal]"
   ]
  },
  {
   "cell_type": "code",
   "execution_count": 20,
   "metadata": {
    "id": "3YRv464wBgV0"
   },
   "outputs": [],
   "source": [
    "te_list = [test_x, te_radius, te_texture,\n",
    "           te_perimeter, te_area,\n",
    "           te_smoothness, te_compactness,\n",
    "           te_concavity, te_con_point, \n",
    "           te_symmetry, te_fractal]"
   ]
  },
  {
   "cell_type": "code",
   "execution_count": 21,
   "metadata": {
    "id": "00U0wogFBUhg",
    "scrolled": true
   },
   "outputs": [
    {
     "name": "stdout",
     "output_type": "stream",
     "text": [
      "Epoch 1/25\n",
      "15/15 [==============================] - 2s 34ms/step - loss: 32.4928 - accuracy: 0.4659 - val_loss: 6.1043 - val_accuracy: 0.7719\n",
      "Epoch 2/25\n",
      "15/15 [==============================] - 0s 4ms/step - loss: 4.5355 - accuracy: 0.6110 - val_loss: 0.9279 - val_accuracy: 0.7018\n",
      "Epoch 3/25\n",
      "15/15 [==============================] - 0s 4ms/step - loss: 2.3836 - accuracy: 0.7055 - val_loss: 0.3043 - val_accuracy: 0.8772\n",
      "Epoch 4/25\n",
      "15/15 [==============================] - 0s 5ms/step - loss: 0.9597 - accuracy: 0.8527 - val_loss: 0.1679 - val_accuracy: 0.9825\n",
      "Epoch 5/25\n",
      "15/15 [==============================] - 0s 5ms/step - loss: 0.4788 - accuracy: 0.9055 - val_loss: 0.0155 - val_accuracy: 1.0000\n",
      "Epoch 6/25\n",
      "15/15 [==============================] - 0s 5ms/step - loss: 0.5000 - accuracy: 0.9077 - val_loss: 0.0207 - val_accuracy: 0.9825\n",
      "Epoch 7/25\n",
      "15/15 [==============================] - 0s 5ms/step - loss: 0.2601 - accuracy: 0.9187 - val_loss: 0.5162 - val_accuracy: 0.7895\n",
      "Epoch 8/25\n",
      "15/15 [==============================] - 0s 5ms/step - loss: 0.5261 - accuracy: 0.8484 - val_loss: 0.0550 - val_accuracy: 0.9825\n",
      "Epoch 9/25\n",
      "15/15 [==============================] - 0s 5ms/step - loss: 0.3667 - accuracy: 0.9077 - val_loss: 0.4962 - val_accuracy: 0.8947\n",
      "Epoch 10/25\n",
      "15/15 [==============================] - 0s 5ms/step - loss: 0.5169 - accuracy: 0.8769 - val_loss: 0.6304 - val_accuracy: 0.7719\n",
      "Epoch 11/25\n",
      "15/15 [==============================] - 0s 5ms/step - loss: 0.5939 - accuracy: 0.8659 - val_loss: 0.4965 - val_accuracy: 0.7719\n",
      "Epoch 12/25\n",
      "15/15 [==============================] - 0s 5ms/step - loss: 0.4397 - accuracy: 0.8923 - val_loss: 0.1084 - val_accuracy: 0.9649\n",
      "Epoch 13/25\n",
      "15/15 [==============================] - 0s 5ms/step - loss: 0.3031 - accuracy: 0.9231 - val_loss: 0.2412 - val_accuracy: 0.8947\n",
      "Epoch 14/25\n",
      "15/15 [==============================] - 0s 5ms/step - loss: 0.5902 - accuracy: 0.8637 - val_loss: 0.1545 - val_accuracy: 0.9123\n",
      "Epoch 15/25\n",
      "15/15 [==============================] - 0s 5ms/step - loss: 0.6378 - accuracy: 0.8659 - val_loss: 0.4412 - val_accuracy: 0.8246\n",
      "Epoch 16/25\n",
      "15/15 [==============================] - 0s 5ms/step - loss: 0.3675 - accuracy: 0.9033 - val_loss: 0.0134 - val_accuracy: 1.0000\n",
      "Epoch 17/25\n",
      "15/15 [==============================] - 0s 5ms/step - loss: 0.2463 - accuracy: 0.9231 - val_loss: 0.0203 - val_accuracy: 1.0000\n",
      "Epoch 18/25\n",
      "15/15 [==============================] - 0s 5ms/step - loss: 0.2323 - accuracy: 0.9253 - val_loss: 0.0308 - val_accuracy: 1.0000\n",
      "Epoch 19/25\n",
      "15/15 [==============================] - 0s 5ms/step - loss: 0.2085 - accuracy: 0.9231 - val_loss: 0.0597 - val_accuracy: 0.9825\n",
      "Epoch 20/25\n",
      "15/15 [==============================] - 0s 5ms/step - loss: 0.4030 - accuracy: 0.8901 - val_loss: 0.1751 - val_accuracy: 0.9474\n",
      "Epoch 21/25\n",
      "15/15 [==============================] - 0s 5ms/step - loss: 0.4146 - accuracy: 0.8879 - val_loss: 0.0235 - val_accuracy: 0.9825\n",
      "Epoch 22/25\n",
      "15/15 [==============================] - 0s 5ms/step - loss: 0.4342 - accuracy: 0.9011 - val_loss: 0.0351 - val_accuracy: 1.0000\n",
      "Epoch 23/25\n",
      "15/15 [==============================] - 0s 5ms/step - loss: 0.3278 - accuracy: 0.8989 - val_loss: 0.0227 - val_accuracy: 0.9825\n",
      "Epoch 24/25\n",
      "15/15 [==============================] - 0s 5ms/step - loss: 0.2709 - accuracy: 0.9121 - val_loss: 0.0942 - val_accuracy: 0.9649\n",
      "Epoch 25/25\n",
      "15/15 [==============================] - 0s 5ms/step - loss: 0.2859 - accuracy: 0.9187 - val_loss: 0.1217 - val_accuracy: 0.9474\n"
     ]
    },
    {
     "data": {
      "text/plain": [
       "<keras.callbacks.History at 0x1aabb86ef70>"
      ]
     },
     "execution_count": 21,
     "metadata": {},
     "output_type": "execute_result"
    }
   ],
   "source": [
    "model.fit( tr_list, train_y, validation_split=1/9, verbose=1, epochs=25)"
   ]
  },
  {
   "cell_type": "code",
   "execution_count": 45,
   "metadata": {},
   "outputs": [
    {
     "data": {
      "image/png": "[encoded data removed]",
      "text/plain": [
       "<Figure size 432x288 with 1 Axes>"
      ]
     },
     "metadata": {
      "needs_background": "light"
     },
     "output_type": "display_data"
    },
    {
     "data": {
      "image/png": "[encoded data removed]",
      "text/plain": [
       "<Figure size 432x288 with 1 Axes>"
      ]
     },
     "metadata": {
      "needs_background": "light"
     },
     "output_type": "display_data"
    }
   ],
   "source": [
    "# 6 훈련 과정 시각화 (정확도)\n",
    "history = model.fit( tr_list, train_y, validation_split=1/9, verbose=1, epochs=25)\n",
    "import numpy as np\n",
    "plt.plot(history.history['val_accuracy'])\n",
    "plt.title('Model val_accuracy')\n",
    "plt.xlabel('Epoch')\n",
    "plt.ylabel('Accuracy')\n",
    "plt.axhline(np.mean(history.history['val_accuracy']), color='red')\n",
    "plt.show()\n",
    "\n",
    "# 7 훈련 과정 시각화 (손실)\n",
    "plt.plot(history.history['val_loss'])\n",
    "plt.title('Model val_loss')\n",
    "plt.xlabel('Epoch')\n",
    "plt.ylabel('Loss')\n",
    "plt.axhline(np.mean(history.history['val_loss']), color='red')\n",
    "plt.show()"
   ]
  },
  {
   "cell_type": "markdown",
   "metadata": {
    "id": "17erPekYBnqg"
   },
   "source": [
    "### 모델 예측"
   ]
  },
  {
   "cell_type": "code",
   "execution_count": 22,
   "metadata": {
    "id": "-PQGbQkpBnuf"
   },
   "outputs": [
    {
     "data": {
      "text/plain": [
       "array([7.1110636e-02, 7.2419643e-04, 7.2382575e-01, 9.0122521e-03,\n",
       "       4.5972764e-02, 5.9184730e-03, 9.9908733e-01, 1.0000000e+00,\n",
       "       9.9822754e-01, 1.0000000e+00, 1.0000000e+00], dtype=float32)"
      ]
     },
     "execution_count": 22,
     "metadata": {},
     "output_type": "execute_result"
    }
   ],
   "source": [
    "pred_y = model.predict(te_list)\n",
    "\n",
    "pred_y[:11].reshape(-1)"
   ]
  },
  {
   "cell_type": "code",
   "execution_count": 23,
   "metadata": {
    "id": "AamMy3N7C8qg"
   },
   "outputs": [],
   "source": [
    "for idx, val in enumerate(pred_y) :\n",
    "    if pred_y[idx] >= 0.5 :\n",
    "        pred_y[idx] = 1\n",
    "    else :\n",
    "        pred_y[idx] = 0"
   ]
  },
  {
   "cell_type": "code",
   "execution_count": 24,
   "metadata": {
    "id": "o0hC6Ow-C8qh"
   },
   "outputs": [
    {
     "data": {
      "text/plain": [
       "array([0., 0., 1., 0., 0., 0., 1., 1., 1., 1., 1.], dtype=float32)"
      ]
     },
     "execution_count": 24,
     "metadata": {},
     "output_type": "execute_result"
    }
   ],
   "source": [
    "pred_y[:11].reshape(-1)"
   ]
  },
  {
   "cell_type": "markdown",
   "metadata": {
    "id": "FJfDbKduBnxz"
   },
   "source": [
    "## 평가\n",
    "\n",
    "1. 모델의 정확도를 확인하시오.\n",
    "2. 악성이라 예측한 것 중 실제 악성으로 나온 비율을 구하시오.\n",
    "3. 실제 악성 중 모델이 악성이라 예측한 것의 비율을 구하시오.\n",
    "4. 정상이라 예측한 것 중 실제 정상으로 나온 비율을 구하시오."
   ]
  },
  {
   "cell_type": "markdown",
   "metadata": {
    "id": "7klXoCsbCuJP"
   },
   "source": [
    "### 모델 평가"
   ]
  },
  {
   "cell_type": "code",
   "execution_count": null,
   "metadata": {
    "id": "8ZhbIYs4CmXE"
   },
   "outputs": [],
   "source": [
    "model.evaluate(te_list, test_y)"
   ]
  },
  {
   "cell_type": "code",
   "execution_count": null,
   "metadata": {
    "id": "xFMCC9oGBn1C"
   },
   "outputs": [],
   "source": [
    "for idx, val in enumerate(pred_y) :\n",
    "    if pred_y[idx] >= 0.5 :\n",
    "        pred_y[idx] = 1\n",
    "    else :\n",
    "        pred_y[idx] = 0"
   ]
  },
  {
   "cell_type": "code",
   "execution_count": null,
   "metadata": {
    "id": "GiRdPTxAD1__"
   },
   "outputs": [],
   "source": [
    "pred_y[:11].reshape(-1)"
   ]
  },
  {
   "cell_type": "markdown",
   "metadata": {
    "id": "ZLShynNLCw-g"
   },
   "source": [
    "### classification_report"
   ]
  },
  {
   "cell_type": "code",
   "execution_count": 25,
   "metadata": {
    "id": "-7eQQPZHDkux"
   },
   "outputs": [],
   "source": [
    "from sklearn.metrics import classification_report"
   ]
  },
  {
   "cell_type": "code",
   "execution_count": 26,
   "metadata": {
    "id": "CtxG0xeIEITg"
   },
   "outputs": [
    {
     "name": "stdout",
     "output_type": "stream",
     "text": [
      "              precision    recall  f1-score   support\n",
      "\n",
      "      Benign       1.00      0.82      0.90        33\n",
      "   Malignant       0.80      1.00      0.89        24\n",
      "\n",
      "    accuracy                           0.89        57\n",
      "   macro avg       0.90      0.91      0.89        57\n",
      "weighted avg       0.92      0.89      0.90        57\n",
      "\n"
     ]
    }
   ],
   "source": [
    "print( classification_report(test_y, pred_y, target_names=['Benign' , 'Malignant']) )"
   ]
  },
  {
   "cell_type": "code",
   "execution_count": null,
   "metadata": {
    "id": "K45WcHwqGIcn"
   },
   "outputs": [],
   "source": [
    "## 1. 정확도 : 91%\n",
    "## 2. Malignant precision : 100%\n",
    "## 3. Malignant recall : 79% <- 의료 사고\n",
    "## 4. Benign precision : 87% <- 영화 '아는 여자'"
   ]
  }
 ],
 "metadata": {
  "colab": {
   "collapsed_sections": [],
   "name": "3_4_Breast_cancer_예시.ipynb",
   "provenance": []
  },
  "kernelspec": {
   "display_name": "Python 3",
   "language": "python",
   "name": "python3"
  },
  "language_info": {
   "codemirror_mode": {
    "name": "ipython",
    "version": 3
   },
   "file_extension": ".py",
   "mimetype": "text/x-python",
   "name": "python",
   "nbconvert_exporter": "python",
   "pygments_lexer": "ipython3",
   "version": "3.8.8"
  }
 },
 "nbformat": 4,
 "nbformat_minor": 1
}
