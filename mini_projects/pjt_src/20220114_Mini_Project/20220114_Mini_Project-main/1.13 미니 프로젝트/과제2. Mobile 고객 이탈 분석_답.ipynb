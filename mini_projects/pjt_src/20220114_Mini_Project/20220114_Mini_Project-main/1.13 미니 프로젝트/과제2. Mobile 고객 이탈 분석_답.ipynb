{
 "cells": [
  {
   "cell_type": "markdown",
   "metadata": {
    "id": "mTt7qGUTCcFs"
   },
   "source": [
    "# 과제2. Mobile 고객 이탈 분석"
   ]
  },
  {
   "cell_type": "markdown",
   "metadata": {
    "id": "wxRsRRwbEQ2K"
   },
   "source": [
    "* 고객 이탈여부(CHURN)에 영향을 주는 요인을 분석하고자 합니다."
   ]
  },
  {
   "cell_type": "markdown",
   "metadata": {
    "id": "0wuYJKZHjA3d"
   },
   "source": [
    "![](https://d18lkz4dllo6v2.cloudfront.net/cumulus_uploads/entry/23964/mobile%20phones.png)"
   ]
  },
  {
   "cell_type": "markdown",
   "metadata": {
    "id": "AHmt88Q5EVsj"
   },
   "source": [
    "## 0.환경설정"
   ]
  },
  {
   "cell_type": "markdown",
   "metadata": {
    "id": "KnzVh2LmkLDU"
   },
   "source": [
    "### 1) 라이브러리 로딩"
   ]
  },
  {
   "cell_type": "code",
   "execution_count": 1,
   "metadata": {
    "id": "3rsQerEaELwI"
   },
   "outputs": [],
   "source": [
    "import pandas as pd\n",
    "import numpy as np\n",
    "import matplotlib.pyplot as plt\n",
    "import seaborn as sns\n",
    "\n",
    "from statsmodels.graphics.mosaicplot import mosaic\n",
    "from scipy import stats as spst\n",
    "import statsmodels.api as sm"
   ]
  },
  {
   "cell_type": "markdown",
   "metadata": {
    "id": "5Qh5KYWokO_N"
   },
   "source": [
    "### 2) 데이터 로딩"
   ]
  },
  {
   "cell_type": "code",
   "execution_count": 2,
   "metadata": {
    "id": "lM3HN6OwEL3d"
   },
   "outputs": [
    {
     "data": {
      "text/html": [
       "<div>\n",
       "<style scoped>\n",
       "    .dataframe tbody tr th:only-of-type {\n",
       "        vertical-align: middle;\n",
       "    }\n",
       "\n",
       "    .dataframe tbody tr th {\n",
       "        vertical-align: top;\n",
       "    }\n",
       "\n",
       "    .dataframe thead th {\n",
       "        text-align: right;\n",
       "    }\n",
       "</style>\n",
       "<table border=\"1\" class=\"dataframe\">\n",
       "  <thead>\n",
       "    <tr style=\"text-align: right;\">\n",
       "      <th></th>\n",
       "      <th>COLLEGE</th>\n",
       "      <th>INCOME</th>\n",
       "      <th>OVERAGE</th>\n",
       "      <th>LEFTOVER</th>\n",
       "      <th>HOUSE</th>\n",
       "      <th>HANDSET_PRICE</th>\n",
       "      <th>AVERAGE_CALL_DURATION</th>\n",
       "      <th>REPORTED_SATISFACTION</th>\n",
       "      <th>CONSIDERING_CHANGE_OF_PLAN</th>\n",
       "      <th>CHURN</th>\n",
       "    </tr>\n",
       "  </thead>\n",
       "  <tbody>\n",
       "    <tr>\n",
       "      <th>0</th>\n",
       "      <td>1</td>\n",
       "      <td>47711</td>\n",
       "      <td>183</td>\n",
       "      <td>17</td>\n",
       "      <td>730589.0</td>\n",
       "      <td>192</td>\n",
       "      <td>5</td>\n",
       "      <td>unsat</td>\n",
       "      <td>considering</td>\n",
       "      <td>0</td>\n",
       "    </tr>\n",
       "    <tr>\n",
       "      <th>1</th>\n",
       "      <td>0</td>\n",
       "      <td>74132</td>\n",
       "      <td>191</td>\n",
       "      <td>43</td>\n",
       "      <td>535092.0</td>\n",
       "      <td>349</td>\n",
       "      <td>2</td>\n",
       "      <td>unsat</td>\n",
       "      <td>no</td>\n",
       "      <td>1</td>\n",
       "    </tr>\n",
       "    <tr>\n",
       "      <th>2</th>\n",
       "      <td>1</td>\n",
       "      <td>150419</td>\n",
       "      <td>0</td>\n",
       "      <td>14</td>\n",
       "      <td>204004.0</td>\n",
       "      <td>682</td>\n",
       "      <td>6</td>\n",
       "      <td>unsat</td>\n",
       "      <td>considering</td>\n",
       "      <td>0</td>\n",
       "    </tr>\n",
       "    <tr>\n",
       "      <th>3</th>\n",
       "      <td>0</td>\n",
       "      <td>159567</td>\n",
       "      <td>0</td>\n",
       "      <td>58</td>\n",
       "      <td>281969.0</td>\n",
       "      <td>634</td>\n",
       "      <td>1</td>\n",
       "      <td>very_unsat</td>\n",
       "      <td>never_thought</td>\n",
       "      <td>0</td>\n",
       "    </tr>\n",
       "    <tr>\n",
       "      <th>4</th>\n",
       "      <td>1</td>\n",
       "      <td>23392</td>\n",
       "      <td>0</td>\n",
       "      <td>0</td>\n",
       "      <td>216707.0</td>\n",
       "      <td>233</td>\n",
       "      <td>15</td>\n",
       "      <td>unsat</td>\n",
       "      <td>no</td>\n",
       "      <td>1</td>\n",
       "    </tr>\n",
       "  </tbody>\n",
       "</table>\n",
       "</div>"
      ],
      "text/plain": [
       "   COLLEGE  INCOME  OVERAGE  LEFTOVER     HOUSE  HANDSET_PRICE  \\\n",
       "0        1   47711      183        17  730589.0            192   \n",
       "1        0   74132      191        43  535092.0            349   \n",
       "2        1  150419        0        14  204004.0            682   \n",
       "3        0  159567        0        58  281969.0            634   \n",
       "4        1   23392        0         0  216707.0            233   \n",
       "\n",
       "   AVERAGE_CALL_DURATION REPORTED_SATISFACTION CONSIDERING_CHANGE_OF_PLAN  \\\n",
       "0                      5                 unsat                considering   \n",
       "1                      2                 unsat                         no   \n",
       "2                      6                 unsat                considering   \n",
       "3                      1            very_unsat              never_thought   \n",
       "4                     15                 unsat                         no   \n",
       "\n",
       "   CHURN  \n",
       "0      0  \n",
       "1      1  \n",
       "2      0  \n",
       "3      0  \n",
       "4      1  "
      ]
     },
     "execution_count": 2,
     "metadata": {},
     "output_type": "execute_result"
    }
   ],
   "source": [
    "# mobile data\n",
    "data_path = \"https://raw.githubusercontent.com/DA4BAM/dataset/master/mobile_NA2.csv\"\n",
    "mobile = pd.read_csv(data_path)\n",
    "mobile.drop(['id', 'REPORTED_USAGE_LEVEL','OVER_15MINS_CALLS_PER_MONTH'], axis = 1, inplace = True)\n",
    "mobile.head()"
   ]
  },
  {
   "cell_type": "markdown",
   "metadata": {
    "id": "2VGIfdrXAvw_"
   },
   "source": [
    "|변수 명|내용|구분|\n",
    "|\t----\t|\t----\t|\t----\t|\n",
    "|\tCOLLEGE\t|\t대학졸업 여부(1,0) - 범주\t|\t\t|\n",
    "|\tINCOME\t|\t연 수입액(달러)\t|\t\t|\n",
    "|\tOVERAGE\t|\t월 초과사용 시간(분)\t|\t\t|\n",
    "|\tLEFTOVER\t|\t월 사용 잔여시간(분)\t|\t\t|\n",
    "|\tHOUSE\t|\t집 가격(달러)\t|\t\t|\n",
    "|\tHANDSET_PRICE\t|\t핸드폰 가격(달러)\t|\t\t|\n",
    "|\tAVERAGE_CALL_DURATION\t|\t평균 통화시간(분)\t|\t\t|\n",
    "|\tREPORTED_SATISFACTION\t|\t만족도 설문('very_unsat', 'unsat', 'avg', 'sat', 'very_sat' ) - 범주\t|\t\t|\n",
    "|\tCONSIDERING_CHANGE_OF_PLAN\t|\t변경 계획 설문('never_thought', 'no', 'perhaps', 'considering',   'actively_looking_into_it') - 범주\t|\t\t|\n",
    "|\t**CHURN**\t|\t이탈여부(1 : 이탈, 0 : 잔류)\t|\tLabel\t|\n"
   ]
  },
  {
   "cell_type": "markdown",
   "metadata": {
    "id": "bKimk8qVm8oC"
   },
   "source": [
    "----"
   ]
  },
  {
   "cell_type": "markdown",
   "metadata": {
    "id": "0bouXLxGkSSd"
   },
   "source": [
    "## 1.가설수립"
   ]
  },
  {
   "cell_type": "markdown",
   "metadata": {
    "id": "nb3mes75kUSt"
   },
   "source": [
    "* 여기서는 가설을 간략히 수립합니다.\n",
    "    * 숫자형, 범주형 각각 최소 2개 이상씩, 전체 5개의 변수를 도출, 가설을 수립하시오."
   ]
  },
  {
   "cell_type": "markdown",
   "metadata": {
    "id": "HoZUdXCRkjK9"
   },
   "source": [
    "* 가설1 : "
   ]
  },
  {
   "cell_type": "markdown",
   "metadata": {
    "id": "l9X_boJ8kjEt"
   },
   "source": [
    "* 가설2 : "
   ]
  },
  {
   "cell_type": "markdown",
   "metadata": {
    "id": "3_gTMgCWki91"
   },
   "source": [
    "* 가설3 : "
   ]
  },
  {
   "cell_type": "markdown",
   "metadata": {
    "id": "rSrSFnsVki2d"
   },
   "source": [
    "* 가설4 : "
   ]
  },
  {
   "cell_type": "markdown",
   "metadata": {
    "id": "2lueFYjWktYt"
   },
   "source": [
    "* 가설5 : "
   ]
  },
  {
   "cell_type": "markdown",
   "metadata": {
    "id": "82xzJIZhnAaX"
   },
   "source": [
    "----"
   ]
  },
  {
   "cell_type": "markdown",
   "metadata": {
    "id": "1hYPpnplEedX"
   },
   "source": [
    "## 2.단변량 분석\n",
    "\n",
    "① 변수의 비즈니스 의미  \n",
    "\n",
    "② 숫자? 범주?  \n",
    "\n",
    "③ NaN 존재 여부 및 조치 방안  \n",
    "\n",
    "④ 기초통계량  \n",
    "\n",
    "⑤ 분포  \n",
    "\n",
    "⑥ 위 정보로부터 파악한 내용(비즈니스!) 정리  \n",
    "\n",
    "⑦ 추가 분석해볼 사항 도출"
   ]
  },
  {
   "cell_type": "markdown",
   "metadata": {
    "id": "BP8iBi7We3AI"
   },
   "source": [
    "### 1) COLLEGE"
   ]
  },
  {
   "cell_type": "code",
   "execution_count": 3,
   "metadata": {
    "id": "NRIsridhK3el"
   },
   "outputs": [],
   "source": [
    "var= 'COLLEGE'\n",
    "temp =  mobile[var]"
   ]
  },
  {
   "cell_type": "markdown",
   "metadata": {
    "id": "6H1XUqWEIZ0c"
   },
   "source": [
    "① 변수의 비즈니스 의미"
   ]
  },
  {
   "cell_type": "markdown",
   "metadata": {
    "id": "i62N9PVRKD5n"
   },
   "source": [
    "> 대학 졸업 여부"
   ]
  },
  {
   "cell_type": "markdown",
   "metadata": {
    "id": "o9aiDpJZIZi-"
   },
   "source": [
    "② 숫자, 범주?"
   ]
  },
  {
   "cell_type": "code",
   "execution_count": 4,
   "metadata": {
    "id": "tIICLl__gEVJ"
   },
   "outputs": [
    {
     "data": {
      "text/plain": [
       "array([1, 0], dtype=int64)"
      ]
     },
     "execution_count": 4,
     "metadata": {},
     "output_type": "execute_result"
    }
   ],
   "source": [
    "temp.unique()"
   ]
  },
  {
   "cell_type": "markdown",
   "metadata": {
    "id": "Y9p3Tsx6IZdV"
   },
   "source": [
    "> 범주 : 1 - 대학졸업, 0 - 미졸업"
   ]
  },
  {
   "cell_type": "markdown",
   "metadata": {
    "id": "sKZWnu78IZT0"
   },
   "source": [
    "③ NaN 존재 유무"
   ]
  },
  {
   "cell_type": "code",
   "execution_count": 5,
   "metadata": {
    "id": "hCn91k1sIZOO"
   },
   "outputs": [
    {
     "data": {
      "text/plain": [
       "0"
      ]
     },
     "execution_count": 5,
     "metadata": {},
     "output_type": "execute_result"
    }
   ],
   "source": [
    "temp.isna().sum()"
   ]
  },
  {
   "cell_type": "markdown",
   "metadata": {
    "id": "Hp5fgxVIKZ-z"
   },
   "source": [
    "> NaN은 존재하지 않음"
   ]
  },
  {
   "cell_type": "markdown",
   "metadata": {
    "id": "5d5JYEBCIZID"
   },
   "source": [
    "④ 기초통계량(수치화)"
   ]
  },
  {
   "cell_type": "code",
   "execution_count": 6,
   "metadata": {
    "id": "F151PJCNIZBU"
   },
   "outputs": [
    {
     "name": "stdout",
     "output_type": "stream",
     "text": [
      "1    9049\n",
      "0    8951\n",
      "Name: COLLEGE, dtype: int64\n",
      "1    0.502722\n",
      "0    0.497278\n",
      "Name: COLLEGE, dtype: float64\n"
     ]
    }
   ],
   "source": [
    "print(temp.value_counts())\n",
    "print(temp.value_counts()/ len(temp))"
   ]
  },
  {
   "cell_type": "markdown",
   "metadata": {
    "id": "e1yzg_B8IY5M"
   },
   "source": [
    "⑤ 분포 확인(시각화)"
   ]
  },
  {
   "cell_type": "code",
   "execution_count": 7,
   "metadata": {
    "id": "_Lb2G500IYyF"
   },
   "outputs": [
    {
     "name": "stderr",
     "output_type": "stream",
     "text": [
      "C:\\ProgramData\\Anaconda3\\lib\\site-packages\\seaborn\\_decorators.py:36: FutureWarning: Pass the following variable as a keyword arg: x. From version 0.12, the only valid positional argument will be `data`, and passing other arguments without an explicit keyword will result in an error or misinterpretation.\n",
      "  warnings.warn(\n"
     ]
    },
    {
     "data": {
      "image/png": "[encoded data removed]",
      "text/plain": [
       "<Figure size 432x288 with 1 Axes>"
      ]
     },
     "metadata": {
      "needs_background": "light"
     },
     "output_type": "display_data"
    }
   ],
   "source": [
    "sns.countplot(temp)\n",
    "plt.show()"
   ]
  },
  {
   "cell_type": "markdown",
   "metadata": {
    "id": "yRUYICkIIuc0"
   },
   "source": [
    "⑥ 기초통계량과 분포를 통해서 파악한 내용을 적어 봅시다.\n",
    "\n",
    "보이는 그대로를 넘어, 비즈니스 관점에서 고민하며 적어 봅시다."
   ]
  },
  {
   "cell_type": "markdown",
   "metadata": {
    "id": "3vxJ3DglMBLT"
   },
   "source": [
    "> * 고객중 대학 졸업자와 미졸업자 비율이 거의 1:1 임\n",
    "==> 어떻게 그럴수 있을까?"
   ]
  },
  {
   "cell_type": "markdown",
   "metadata": {
    "id": "3ZVNnImDIyRE"
   },
   "source": [
    "⑦ 추가 분석해 볼 사항이 있나요?"
   ]
  },
  {
   "cell_type": "markdown",
   "metadata": {
    "id": "Zhk1wAIhN4hk"
   },
   "source": [
    "> * 졸업여부와 이탈여부의 관계는?"
   ]
  },
  {
   "cell_type": "markdown",
   "metadata": {
    "id": "cYkgwG47evaF"
   },
   "source": [
    "### 2) INCOME"
   ]
  },
  {
   "cell_type": "code",
   "execution_count": 8,
   "metadata": {
    "id": "R22ElT4ng6s7"
   },
   "outputs": [],
   "source": [
    "var= 'INCOME'\n",
    "temp =  mobile[var]"
   ]
  },
  {
   "cell_type": "markdown",
   "metadata": {
    "id": "GTYiyra4g6s8"
   },
   "source": [
    "1) 변수의 비즈니스 의미"
   ]
  },
  {
   "cell_type": "markdown",
   "metadata": {
    "id": "YFdWZCMjg6s8"
   },
   "source": [
    "> 고객의 연 수입($)"
   ]
  },
  {
   "cell_type": "markdown",
   "metadata": {
    "id": "OhxH7VLCg6s8"
   },
   "source": [
    "2) 숫자, 범주?"
   ]
  },
  {
   "cell_type": "markdown",
   "metadata": {
    "id": "0agF7NKag6s9"
   },
   "source": [
    "> 숫자"
   ]
  },
  {
   "cell_type": "markdown",
   "metadata": {
    "id": "GbafoZ2_g6s9"
   },
   "source": [
    "3) NaN 존재 유무"
   ]
  },
  {
   "cell_type": "code",
   "execution_count": 9,
   "metadata": {
    "id": "K6Ntnp9jg6s9"
   },
   "outputs": [
    {
     "data": {
      "text/plain": [
       "0"
      ]
     },
     "execution_count": 9,
     "metadata": {},
     "output_type": "execute_result"
    }
   ],
   "source": [
    "temp.isna().sum()"
   ]
  },
  {
   "cell_type": "markdown",
   "metadata": {
    "id": "Hl_l96VDg6s9"
   },
   "source": [
    "> NaN은 존재하지 않음"
   ]
  },
  {
   "cell_type": "markdown",
   "metadata": {
    "id": "xfgLLlNcg6s9"
   },
   "source": [
    "4) 기초통계량(수치화)"
   ]
  },
  {
   "cell_type": "code",
   "execution_count": 10,
   "metadata": {
    "id": "f0UwFqN5g6s9"
   },
   "outputs": [
    {
     "data": {
      "text/plain": [
       "count     18000.000000\n",
       "mean      80314.400278\n",
       "std       41703.420130\n",
       "min       20007.000000\n",
       "25%       42151.500000\n",
       "50%       75501.500000\n",
       "75%      116082.250000\n",
       "max      159983.000000\n",
       "Name: INCOME, dtype: float64"
      ]
     },
     "execution_count": 10,
     "metadata": {},
     "output_type": "execute_result"
    }
   ],
   "source": [
    "temp.describe()"
   ]
  },
  {
   "cell_type": "markdown",
   "metadata": {
    "id": "bHgLzkHvg6s9"
   },
   "source": [
    "5) 분포 확인(시각화)"
   ]
  },
  {
   "cell_type": "code",
   "execution_count": 11,
   "metadata": {
    "id": "xm7IgKJVLsET"
   },
   "outputs": [
    {
     "data": {
      "image/png": "[encoded data removed]",
      "text/plain": [
       "<Figure size 432x288 with 1 Axes>"
      ]
     },
     "metadata": {
      "needs_background": "light"
     },
     "output_type": "display_data"
    },
    {
     "name": "stdout",
     "output_type": "stream",
     "text": [
      "20007.0 159983.0\n"
     ]
    }
   ],
   "source": [
    "box = plt.boxplot(temp)\n",
    "plt.show()\n",
    "\n",
    "l_fence = box['whiskers'][0].get_ydata()[1]\n",
    "u_fence = box['whiskers'][1].get_ydata()[1]\n",
    "print(l_fence, u_fence)"
   ]
  },
  {
   "cell_type": "code",
   "execution_count": 12,
   "metadata": {
    "id": "KbTO_F-Ag6s-"
   },
   "outputs": [
    {
     "data": {
      "image/png": "[encoded data removed]",
      "text/plain": [
       "<Figure size 432x288 with 1 Axes>"
      ]
     },
     "metadata": {
      "needs_background": "light"
     },
     "output_type": "display_data"
    }
   ],
   "source": [
    "avg = temp.mean()\n",
    "\n",
    "sns.histplot(temp, bins = 50)\n",
    "\n",
    "plt.axvline(l_fence, color = 'orange')\n",
    "plt.axvline(avg, color = 'r')\n",
    "plt.axvline(u_fence, color = 'orange')\n",
    "plt.show()"
   ]
  },
  {
   "cell_type": "markdown",
   "metadata": {
    "id": "RK2uS3iGg6s_"
   },
   "source": [
    "6) 기초통계량과 분포를 통해서 파악한 내용을 적어 봅시다.\n",
    "\n",
    "보이는 그대로를 넘어, 비즈니스 관점에서 고민하며 적어 봅시다."
   ]
  },
  {
   "cell_type": "markdown",
   "metadata": {
    "id": "NQdfUTzrg6s_"
   },
   "source": [
    "> * 고객소득 분포가 특이함\n",
    "    * 50000 달러 이전과 이후로 구분되어 보임\n",
    "    * 20000 달러는 최저임금일 수도 있음.\n",
    "    * 그렇다면 160000달러는 최대임금? --> 말이 안됨.\n",
    "    * 아마도, 이런 데이터를 모았거나, 이상치 데이터를 조치한 것이거나..."
   ]
  },
  {
   "cell_type": "markdown",
   "metadata": {
    "id": "oPhr8ukDg6s_"
   },
   "source": [
    "7) 추가 분석해 볼 사항이 있나요?"
   ]
  },
  {
   "cell_type": "markdown",
   "metadata": {
    "id": "OtZy6lHAg6s_"
   },
   "source": [
    "> * 수익을 50000 달러 이전과 이후로 구분하고, 이에따른 이탈 여부를 비교"
   ]
  },
  {
   "cell_type": "markdown",
   "metadata": {
    "id": "UNgJNBEIfB1p"
   },
   "source": [
    "### 3) OVERAGE"
   ]
  },
  {
   "cell_type": "code",
   "execution_count": 13,
   "metadata": {
    "id": "424jTwzejEs1"
   },
   "outputs": [],
   "source": [
    "var= 'OVERAGE'\n",
    "temp =  mobile[var]"
   ]
  },
  {
   "cell_type": "markdown",
   "metadata": {
    "id": "FnOS94UZjEs2"
   },
   "source": [
    "1) 변수의 비즈니스 의미"
   ]
  },
  {
   "cell_type": "markdown",
   "metadata": {
    "id": "G-qiAl_HjEs2"
   },
   "source": [
    "> 월 평균 초과사용 시간(분)"
   ]
  },
  {
   "cell_type": "markdown",
   "metadata": {
    "id": "05Kd98MvjEs2"
   },
   "source": [
    "2) 숫자, 범주?"
   ]
  },
  {
   "cell_type": "markdown",
   "metadata": {
    "id": "-e2c2q8LjEs2"
   },
   "source": [
    "> 숫자"
   ]
  },
  {
   "cell_type": "markdown",
   "metadata": {
    "id": "7EThCJ3zjEs2"
   },
   "source": [
    "3) NaN 존재 유무"
   ]
  },
  {
   "cell_type": "code",
   "execution_count": 14,
   "metadata": {
    "id": "b5E9lcjKjEs2"
   },
   "outputs": [
    {
     "data": {
      "text/plain": [
       "0"
      ]
     },
     "execution_count": 14,
     "metadata": {},
     "output_type": "execute_result"
    }
   ],
   "source": [
    "temp.isna().sum()"
   ]
  },
  {
   "cell_type": "markdown",
   "metadata": {
    "id": "UMStRiRvjEs2"
   },
   "source": [
    "> NaN은 존재하지 않음"
   ]
  },
  {
   "cell_type": "markdown",
   "metadata": {
    "id": "hB4fx54EjEs2"
   },
   "source": [
    "4) 기초통계량(수치화)"
   ]
  },
  {
   "cell_type": "code",
   "execution_count": 15,
   "metadata": {
    "id": "WvF01wA-jEs3"
   },
   "outputs": [
    {
     "data": {
      "text/plain": [
       "count    18000.000000\n",
       "mean        86.014833\n",
       "std         85.963981\n",
       "min         -2.000000\n",
       "25%          0.000000\n",
       "50%         59.000000\n",
       "75%        179.000000\n",
       "max        335.000000\n",
       "Name: OVERAGE, dtype: float64"
      ]
     },
     "execution_count": 15,
     "metadata": {},
     "output_type": "execute_result"
    }
   ],
   "source": [
    "temp.describe()"
   ]
  },
  {
   "cell_type": "markdown",
   "metadata": {
    "id": "0psXvbZgjEs3"
   },
   "source": [
    "5) 분포 확인(시각화)"
   ]
  },
  {
   "cell_type": "code",
   "execution_count": 16,
   "metadata": {
    "id": "_hRIFC5hjEs3"
   },
   "outputs": [
    {
     "data": {
      "image/png": "[encoded data removed]",
      "text/plain": [
       "<Figure size 432x288 with 1 Axes>"
      ]
     },
     "metadata": {
      "needs_background": "light"
     },
     "output_type": "display_data"
    },
    {
     "name": "stdout",
     "output_type": "stream",
     "text": [
      "-2.0 335.0\n"
     ]
    }
   ],
   "source": [
    "box = plt.boxplot(temp)\n",
    "plt.show()\n",
    "\n",
    "l_fence = box['whiskers'][0].get_ydata()[1]\n",
    "u_fence = box['whiskers'][1].get_ydata()[1]\n",
    "print(l_fence, u_fence)"
   ]
  },
  {
   "cell_type": "code",
   "execution_count": 17,
   "metadata": {
    "id": "F9YXd4rVjEs3"
   },
   "outputs": [
    {
     "data": {
      "image/png": "[encoded data removed]",
      "text/plain": [
       "<Figure size 432x288 with 1 Axes>"
      ]
     },
     "metadata": {
      "needs_background": "light"
     },
     "output_type": "display_data"
    }
   ],
   "source": [
    "avg = temp.mean()\n",
    "\n",
    "sns.histplot(temp, bins = 50)\n",
    "\n",
    "plt.axvline(l_fence, color = 'orange')\n",
    "plt.axvline(avg, color = 'r')\n",
    "plt.axvline(u_fence, color = 'orange')\n",
    "plt.show()"
   ]
  },
  {
   "cell_type": "markdown",
   "metadata": {
    "id": "DBbPjpf9jEs3"
   },
   "source": [
    "6) 기초통계량과 분포를 통해서 파악한 내용을 적어 봅시다.\n",
    "\n",
    "보이는 그대로를 넘어, 비즈니스 관점에서 고민하며 적어 봅시다."
   ]
  },
  {
   "cell_type": "markdown",
   "metadata": {
    "id": "YFR62MeojEs3"
   },
   "source": [
    "> * 분포가 명확하게 3가지로 구분됨\n",
    "    * 초과사용 : 0\n",
    "    * 초과사용 : 60분 기준\n",
    "    * 초과사용 : 200분 기준\n",
    "* 왜 이런 분포가 나왔을까?\n",
    "    * 초과사용에 대한 요금제 때문이 아닐까?"
   ]
  },
  {
   "cell_type": "markdown",
   "metadata": {
    "id": "kbAn-of6jEs3"
   },
   "source": [
    "7) 추가 분석해 볼 사항이 있나요?"
   ]
  },
  {
   "cell_type": "markdown",
   "metadata": {
    "id": "W5E_WE1hjEs3"
   },
   "source": [
    "> * 그룹을 3개로 나눠서 이탈여부와의 관계를 분석할 필요 있음."
   ]
  },
  {
   "cell_type": "markdown",
   "metadata": {
    "id": "e3QPEq8efB1r"
   },
   "source": [
    "### 4) LEFTOVER"
   ]
  },
  {
   "cell_type": "code",
   "execution_count": 18,
   "metadata": {
    "id": "pCI794Cfj8NL"
   },
   "outputs": [],
   "source": [
    "var= 'LEFTOVER'\n",
    "temp =  mobile[var]"
   ]
  },
  {
   "cell_type": "markdown",
   "metadata": {
    "id": "R84CeWyLj8NL"
   },
   "source": [
    "1) 변수의 비즈니스 의미"
   ]
  },
  {
   "cell_type": "markdown",
   "metadata": {
    "id": "FUCUlFf5j8NL"
   },
   "source": [
    "> 월 평균 통화 잔여량 비율(%)"
   ]
  },
  {
   "cell_type": "markdown",
   "metadata": {
    "id": "IJyjgv-0j8NL"
   },
   "source": [
    "2) 숫자, 범주?"
   ]
  },
  {
   "cell_type": "markdown",
   "metadata": {
    "id": "bbtV7vVnj8NM"
   },
   "source": [
    "> 숫자"
   ]
  },
  {
   "cell_type": "markdown",
   "metadata": {
    "id": "jwHgGFapj8NM"
   },
   "source": [
    "3) NaN 존재 유무"
   ]
  },
  {
   "cell_type": "code",
   "execution_count": 19,
   "metadata": {
    "id": "uvccUYaej8NM"
   },
   "outputs": [
    {
     "data": {
      "text/plain": [
       "0"
      ]
     },
     "execution_count": 19,
     "metadata": {},
     "output_type": "execute_result"
    }
   ],
   "source": [
    "temp.isna().sum()"
   ]
  },
  {
   "cell_type": "markdown",
   "metadata": {
    "id": "ubwIUDqoj8NM"
   },
   "source": [
    "> NaN은 존재하지 않음"
   ]
  },
  {
   "cell_type": "markdown",
   "metadata": {
    "id": "wYsOjA4tj8NM"
   },
   "source": [
    "4) 기초통계량(수치화)"
   ]
  },
  {
   "cell_type": "code",
   "execution_count": 20,
   "metadata": {
    "id": "FlGmzygEj8NM"
   },
   "outputs": [
    {
     "data": {
      "text/plain": [
       "count    18000.000000\n",
       "mean        23.995500\n",
       "std         26.860363\n",
       "min          0.000000\n",
       "25%          0.000000\n",
       "50%         14.500000\n",
       "75%         42.000000\n",
       "max         89.000000\n",
       "Name: LEFTOVER, dtype: float64"
      ]
     },
     "execution_count": 20,
     "metadata": {},
     "output_type": "execute_result"
    }
   ],
   "source": [
    "temp.describe()"
   ]
  },
  {
   "cell_type": "markdown",
   "metadata": {
    "id": "72ukZNmgj8NM"
   },
   "source": [
    "5) 분포 확인(시각화)"
   ]
  },
  {
   "cell_type": "code",
   "execution_count": 21,
   "metadata": {
    "id": "oXT3_o1Hj8NM"
   },
   "outputs": [
    {
     "data": {
      "image/png": "[encoded data removed]",
      "text/plain": [
       "<Figure size 432x288 with 1 Axes>"
      ]
     },
     "metadata": {
      "needs_background": "light"
     },
     "output_type": "display_data"
    },
    {
     "name": "stdout",
     "output_type": "stream",
     "text": [
      "0.0 89.0\n"
     ]
    }
   ],
   "source": [
    "box = plt.boxplot(temp)\n",
    "plt.show()\n",
    "\n",
    "l_fence = box['whiskers'][0].get_ydata()[1]\n",
    "u_fence = box['whiskers'][1].get_ydata()[1]\n",
    "print(l_fence, u_fence)"
   ]
  },
  {
   "cell_type": "code",
   "execution_count": 22,
   "metadata": {
    "id": "knk5Tn7Wj8NM"
   },
   "outputs": [
    {
     "data": {
      "image/png": "[encoded data removed]",
      "text/plain": [
       "<Figure size 432x288 with 1 Axes>"
      ]
     },
     "metadata": {
      "needs_background": "light"
     },
     "output_type": "display_data"
    }
   ],
   "source": [
    "avg = temp.mean()\n",
    "\n",
    "sns.histplot(temp, bins = 30)\n",
    "\n",
    "plt.axvline(l_fence, color = 'orange')\n",
    "plt.axvline(avg, color = 'r')\n",
    "plt.axvline(u_fence, color = 'orange')\n",
    "plt.show()"
   ]
  },
  {
   "cell_type": "markdown",
   "metadata": {
    "id": "HhOabpXoj8NN"
   },
   "source": [
    "6) 기초통계량과 분포를 통해서 파악한 내용을 적어 봅시다.\n",
    "\n",
    "보이는 그대로를 넘어, 비즈니스 관점에서 고민하며 적어 봅시다."
   ]
  },
  {
   "cell_type": "markdown",
   "metadata": {
    "id": "X9_35LVHj8NN"
   },
   "source": [
    "> * 분포가 대략 3가지로 구분됨\n",
    "    * 잔여비율 : 0\n",
    "    * 잔여비율 : 25% 이내\n",
    "    * 잔여비율 : 25% 이상\n",
    "* 왜 이런 분포가 나왔을까?\n"
   ]
  },
  {
   "cell_type": "markdown",
   "metadata": {
    "id": "UTcKh8Lmj8NN"
   },
   "source": [
    "7) 추가 분석해 볼 사항이 있나요?"
   ]
  },
  {
   "cell_type": "markdown",
   "metadata": {
    "id": "794ybPlMj8NO"
   },
   "source": [
    "> * 그룹을 3개로 나눠서 이탈여부와의 관계를 분석할 필요 있음.\n",
    "* 잔여비율과 초과사용을 하나의 변수로 결합하여 분석"
   ]
  },
  {
   "cell_type": "code",
   "execution_count": 97,
   "metadata": {},
   "outputs": [
    {
     "data": {
      "text/html": [
       "<div>\n",
       "<style scoped>\n",
       "    .dataframe tbody tr th:only-of-type {\n",
       "        vertical-align: middle;\n",
       "    }\n",
       "\n",
       "    .dataframe tbody tr th {\n",
       "        vertical-align: top;\n",
       "    }\n",
       "\n",
       "    .dataframe thead th {\n",
       "        text-align: right;\n",
       "    }\n",
       "</style>\n",
       "<table border=\"1\" class=\"dataframe\">\n",
       "  <thead>\n",
       "    <tr style=\"text-align: right;\">\n",
       "      <th></th>\n",
       "      <th>LEFTOVER</th>\n",
       "      <th>OVERAGE</th>\n",
       "    </tr>\n",
       "  </thead>\n",
       "  <tbody>\n",
       "    <tr>\n",
       "      <th>4</th>\n",
       "      <td>0</td>\n",
       "      <td>0</td>\n",
       "    </tr>\n",
       "    <tr>\n",
       "      <th>6</th>\n",
       "      <td>0</td>\n",
       "      <td>235</td>\n",
       "    </tr>\n",
       "    <tr>\n",
       "      <th>12</th>\n",
       "      <td>0</td>\n",
       "      <td>51</td>\n",
       "    </tr>\n",
       "    <tr>\n",
       "      <th>13</th>\n",
       "      <td>0</td>\n",
       "      <td>0</td>\n",
       "    </tr>\n",
       "    <tr>\n",
       "      <th>16</th>\n",
       "      <td>0</td>\n",
       "      <td>189</td>\n",
       "    </tr>\n",
       "    <tr>\n",
       "      <th>...</th>\n",
       "      <td>...</td>\n",
       "      <td>...</td>\n",
       "    </tr>\n",
       "    <tr>\n",
       "      <th>17989</th>\n",
       "      <td>0</td>\n",
       "      <td>60</td>\n",
       "    </tr>\n",
       "    <tr>\n",
       "      <th>17990</th>\n",
       "      <td>0</td>\n",
       "      <td>0</td>\n",
       "    </tr>\n",
       "    <tr>\n",
       "      <th>17991</th>\n",
       "      <td>0</td>\n",
       "      <td>0</td>\n",
       "    </tr>\n",
       "    <tr>\n",
       "      <th>17994</th>\n",
       "      <td>0</td>\n",
       "      <td>0</td>\n",
       "    </tr>\n",
       "    <tr>\n",
       "      <th>17996</th>\n",
       "      <td>0</td>\n",
       "      <td>63</td>\n",
       "    </tr>\n",
       "  </tbody>\n",
       "</table>\n",
       "<p>5966 rows × 2 columns</p>\n",
       "</div>"
      ],
      "text/plain": [
       "       LEFTOVER  OVERAGE\n",
       "4             0        0\n",
       "6             0      235\n",
       "12            0       51\n",
       "13            0        0\n",
       "16            0      189\n",
       "...         ...      ...\n",
       "17989         0       60\n",
       "17990         0        0\n",
       "17991         0        0\n",
       "17994         0        0\n",
       "17996         0       63\n",
       "\n",
       "[5966 rows x 2 columns]"
      ]
     },
     "execution_count": 97,
     "metadata": {},
     "output_type": "execute_result"
    }
   ],
   "source": [
    "left0 = mobile.loc[mobile['LEFTOVER']==0,['LEFTOVER','OVERAGE']]\n",
    "left0"
   ]
  },
  {
   "cell_type": "markdown",
   "metadata": {
    "id": "E5rB6CiofI_d"
   },
   "source": [
    "### 5) HOUSE"
   ]
  },
  {
   "cell_type": "code",
   "execution_count": 23,
   "metadata": {
    "id": "sgzFEWKgwh-6"
   },
   "outputs": [],
   "source": [
    "var= 'HOUSE'\n",
    "temp =  mobile[var]"
   ]
  },
  {
   "cell_type": "markdown",
   "metadata": {
    "id": "JuCyudtywh-9"
   },
   "source": [
    "1) 변수의 비즈니스 의미"
   ]
  },
  {
   "cell_type": "markdown",
   "metadata": {
    "id": "Jb0f5ASYwh-9"
   },
   "source": [
    "> 고객 주택 가격($)"
   ]
  },
  {
   "cell_type": "markdown",
   "metadata": {
    "id": "WGGj8juWwh-9"
   },
   "source": [
    "2) 숫자, 범주?"
   ]
  },
  {
   "cell_type": "markdown",
   "metadata": {
    "id": "RogTQA-ewh-9"
   },
   "source": [
    "> 숫자"
   ]
  },
  {
   "cell_type": "markdown",
   "metadata": {
    "id": "LpvCln0Vwh--"
   },
   "source": [
    "3) NaN 존재 유무"
   ]
  },
  {
   "cell_type": "code",
   "execution_count": 24,
   "metadata": {
    "id": "NwpXQ2aFwh--"
   },
   "outputs": [
    {
     "name": "stdout",
     "output_type": "stream",
     "text": [
      "215\n",
      "0.011944444444444445\n"
     ]
    }
   ],
   "source": [
    "print(temp.isna().sum())\n",
    "print(temp.isna().sum()/len(temp))"
   ]
  },
  {
   "cell_type": "markdown",
   "metadata": {
    "id": "an2uoBmHwh--"
   },
   "source": [
    "> NaN 215건, 1.2% 존재"
   ]
  },
  {
   "cell_type": "markdown",
   "metadata": {
    "id": "pVTYS4FIwh--"
   },
   "source": [
    "4) 기초통계량(수치화)"
   ]
  },
  {
   "cell_type": "code",
   "execution_count": 25,
   "metadata": {
    "id": "5KYVZFDdwh-_"
   },
   "outputs": [
    {
     "data": {
      "text/plain": [
       "count     17785.000000\n",
       "mean     492950.532696\n",
       "std      252175.173507\n",
       "min      150015.000000\n",
       "25%      263876.000000\n",
       "50%      452277.000000\n",
       "75%      701460.000000\n",
       "max      999970.000000\n",
       "Name: HOUSE, dtype: float64"
      ]
     },
     "execution_count": 25,
     "metadata": {},
     "output_type": "execute_result"
    }
   ],
   "source": [
    "temp.describe()"
   ]
  },
  {
   "cell_type": "markdown",
   "metadata": {
    "id": "LelBWipDwh-_"
   },
   "source": [
    "5) 분포 확인(시각화)"
   ]
  },
  {
   "cell_type": "code",
   "execution_count": 26,
   "metadata": {
    "id": "Zd7JTTtwwh-_"
   },
   "outputs": [
    {
     "data": {
      "image/png": "[encoded data removed]",
      "text/plain": [
       "<Figure size 432x288 with 1 Axes>"
      ]
     },
     "metadata": {
      "needs_background": "light"
     },
     "output_type": "display_data"
    },
    {
     "name": "stdout",
     "output_type": "stream",
     "text": [
      "150015.0 999970.0\n"
     ]
    }
   ],
   "source": [
    "# NaN을 제외하고 boxplot을 그려야 함.\n",
    "temp = temp[temp.notnull()]\n",
    "\n",
    "box = plt.boxplot(temp)\n",
    "plt.show()\n",
    "\n",
    "l_fence = box['whiskers'][0].get_ydata()[1]\n",
    "u_fence = box['whiskers'][1].get_ydata()[1]\n",
    "print(l_fence, u_fence)"
   ]
  },
  {
   "cell_type": "code",
   "execution_count": 27,
   "metadata": {
    "id": "W5NnwP8rwh-_"
   },
   "outputs": [
    {
     "data": {
      "image/png": "[encoded data removed]",
      "text/plain": [
       "<Figure size 432x288 with 1 Axes>"
      ]
     },
     "metadata": {
      "needs_background": "light"
     },
     "output_type": "display_data"
    }
   ],
   "source": [
    "avg = temp.mean()\n",
    "\n",
    "sns.histplot(temp, bins = 30)\n",
    "\n",
    "plt.axvline(l_fence, color = 'orange')\n",
    "plt.axvline(avg, color = 'r')\n",
    "plt.axvline(u_fence, color = 'orange')\n",
    "plt.show()"
   ]
  },
  {
   "cell_type": "markdown",
   "metadata": {
    "id": "6kaHmdCKwh-_"
   },
   "source": [
    "6) 기초통계량과 분포를 통해서 파악한 내용을 적어 봅시다.\n",
    "\n",
    "보이는 그대로를 넘어, 비즈니스 관점에서 고민하며 적어 봅시다."
   ]
  },
  {
   "cell_type": "markdown",
   "metadata": {
    "id": "x5ptZHQjwh_A"
   },
   "source": [
    "> * 분포가 2가지로 구분됨\n",
    "    * 500000 달러 전과 후\n",
    "* 왜 이런 분포가 나왔을까?\n"
   ]
  },
  {
   "cell_type": "markdown",
   "metadata": {
    "id": "0vA7K2qPwh_A"
   },
   "source": [
    "7) 추가 분석해 볼 사항이 있나요?"
   ]
  },
  {
   "cell_type": "markdown",
   "metadata": {
    "id": "21vB1E5kwh_A"
   },
   "source": [
    "> * 그룹을 2개로 나눠서 이탈여부와의 관계를 분석할 필요 있음.\n",
    "* 집값과 연 소득과의 관계"
   ]
  },
  {
   "cell_type": "markdown",
   "metadata": {
    "id": "StLPnFePfI_f"
   },
   "source": [
    "### 6) HANDSET_PRICE"
   ]
  },
  {
   "cell_type": "code",
   "execution_count": 28,
   "metadata": {
    "id": "ziQkAVwVlKlB"
   },
   "outputs": [],
   "source": [
    "var= 'HANDSET_PRICE'\n",
    "temp =  mobile[var]"
   ]
  },
  {
   "cell_type": "markdown",
   "metadata": {
    "id": "5BZEuF50lKlC"
   },
   "source": [
    "1) 변수의 비즈니스 의미"
   ]
  },
  {
   "cell_type": "markdown",
   "metadata": {
    "id": "8DlSqMhhlKlC"
   },
   "source": [
    "> 스마트폰 가격"
   ]
  },
  {
   "cell_type": "markdown",
   "metadata": {
    "id": "ncbYwMsGlKlC"
   },
   "source": [
    "2) 숫자, 범주?"
   ]
  },
  {
   "cell_type": "markdown",
   "metadata": {
    "id": "GxrR--jelKlC"
   },
   "source": [
    "> 숫자"
   ]
  },
  {
   "cell_type": "markdown",
   "metadata": {
    "id": "qdyC3TVYlKlC"
   },
   "source": [
    "3) NaN 존재 유무"
   ]
  },
  {
   "cell_type": "code",
   "execution_count": 29,
   "metadata": {
    "id": "PQvA20KdlKlD"
   },
   "outputs": [
    {
     "data": {
      "text/plain": [
       "0"
      ]
     },
     "execution_count": 29,
     "metadata": {},
     "output_type": "execute_result"
    }
   ],
   "source": [
    "temp.isna().sum()"
   ]
  },
  {
   "cell_type": "markdown",
   "metadata": {
    "id": "-lG1cbq6lKlD"
   },
   "source": [
    "> NaN은 존재하지 않음"
   ]
  },
  {
   "cell_type": "markdown",
   "metadata": {
    "id": "iCbYCWLNlKlD"
   },
   "source": [
    "4) 기초통계량(수치화)"
   ]
  },
  {
   "cell_type": "code",
   "execution_count": 30,
   "metadata": {
    "id": "bmRTXAtdlKlD"
   },
   "outputs": [
    {
     "data": {
      "text/plain": [
       "count    18000.000000\n",
       "mean       390.096667\n",
       "std        214.239639\n",
       "min        130.000000\n",
       "25%        219.000000\n",
       "50%        326.000000\n",
       "75%        536.000000\n",
       "max        899.000000\n",
       "Name: HANDSET_PRICE, dtype: float64"
      ]
     },
     "execution_count": 30,
     "metadata": {},
     "output_type": "execute_result"
    }
   ],
   "source": [
    "temp.describe()"
   ]
  },
  {
   "cell_type": "markdown",
   "metadata": {
    "id": "31dJ8li7lKlD"
   },
   "source": [
    "5) 분포 확인(시각화)"
   ]
  },
  {
   "cell_type": "code",
   "execution_count": 31,
   "metadata": {
    "id": "k5et75IFlKlD"
   },
   "outputs": [
    {
     "data": {
      "image/png": "[encoded data removed]",
      "text/plain": [
       "<Figure size 432x288 with 1 Axes>"
      ]
     },
     "metadata": {
      "needs_background": "light"
     },
     "output_type": "display_data"
    },
    {
     "name": "stdout",
     "output_type": "stream",
     "text": [
      "130.0 899.0\n"
     ]
    }
   ],
   "source": [
    "box = plt.boxplot(temp)\n",
    "plt.show()\n",
    "\n",
    "l_fence = box['whiskers'][0].get_ydata()[1]\n",
    "u_fence = box['whiskers'][1].get_ydata()[1]\n",
    "print(l_fence, u_fence)"
   ]
  },
  {
   "cell_type": "code",
   "execution_count": 32,
   "metadata": {
    "id": "zASY6wnslKlE"
   },
   "outputs": [
    {
     "data": {
      "image/png": "[encoded data removed]",
      "text/plain": [
       "<Figure size 432x288 with 1 Axes>"
      ]
     },
     "metadata": {
      "needs_background": "light"
     },
     "output_type": "display_data"
    }
   ],
   "source": [
    "avg = temp.mean()\n",
    "\n",
    "sns.histplot(temp, bins = 30)\n",
    "\n",
    "plt.axvline(l_fence, color = 'orange')\n",
    "plt.axvline(avg, color = 'r')\n",
    "plt.axvline(u_fence, color = 'orange')\n",
    "plt.show()"
   ]
  },
  {
   "cell_type": "markdown",
   "metadata": {
    "id": "QijEyWF4lKlE"
   },
   "source": [
    "6) 기초통계량과 분포를 통해서 파악한 내용을 적어 봅시다.\n",
    "\n",
    "보이는 그대로를 넘어, 비즈니스 관점에서 고민하며 적어 봅시다."
   ]
  },
  {
   "cell_type": "markdown",
   "metadata": {
    "id": "pRxgmvC9lKlE"
   },
   "source": [
    "> * 분포가 2가지로 구분됨\n",
    "    * 400달러 이하, 초과\n",
    "* 왜 이런 분포가 나왔을까?\n"
   ]
  },
  {
   "cell_type": "markdown",
   "metadata": {
    "id": "gmzVDb7ulKlE"
   },
   "source": [
    "7) 추가 분석해 볼 사항이 있나요?"
   ]
  },
  {
   "cell_type": "markdown",
   "metadata": {
    "id": "erVwunxClKlE"
   },
   "source": [
    "> * 그룹을 2개로 나눠서 이탈여부와의 관계를 분석할 필요 있음.\n",
    "* 스마트폰 가격과 연소득 관계"
   ]
  },
  {
   "cell_type": "markdown",
   "metadata": {
    "id": "vvDtctcMfI_g"
   },
   "source": [
    "### 7) AVERAGE_CALL_DURATION"
   ]
  },
  {
   "cell_type": "code",
   "execution_count": 33,
   "metadata": {
    "id": "4duhAwaEH5im"
   },
   "outputs": [],
   "source": [
    "var= 'AVERAGE_CALL_DURATION'\n",
    "temp =  mobile[var]"
   ]
  },
  {
   "cell_type": "markdown",
   "metadata": {
    "id": "DxcrwZbOH5im"
   },
   "source": [
    "1) 변수의 비즈니스 의미"
   ]
  },
  {
   "cell_type": "markdown",
   "metadata": {
    "id": "qzPCryOGH5in"
   },
   "source": [
    "> 월 평균 통화 시간(분)."
   ]
  },
  {
   "cell_type": "markdown",
   "metadata": {
    "id": "lCzmXNmTH5in"
   },
   "source": [
    "2) 숫자, 범주?"
   ]
  },
  {
   "cell_type": "markdown",
   "metadata": {
    "id": "vdT1h3i_H5in"
   },
   "source": [
    "> 숫자"
   ]
  },
  {
   "cell_type": "markdown",
   "metadata": {
    "id": "3YWOdjKCH5in"
   },
   "source": [
    "3) NaN 존재 유무"
   ]
  },
  {
   "cell_type": "code",
   "execution_count": 34,
   "metadata": {
    "id": "h8yraoG1H5in"
   },
   "outputs": [
    {
     "data": {
      "text/plain": [
       "0"
      ]
     },
     "execution_count": 34,
     "metadata": {},
     "output_type": "execute_result"
    }
   ],
   "source": [
    "temp.isna().sum()"
   ]
  },
  {
   "cell_type": "markdown",
   "metadata": {
    "id": "6FVhceFvH5io"
   },
   "source": [
    "> NaN은 존재하지 않음"
   ]
  },
  {
   "cell_type": "markdown",
   "metadata": {
    "id": "WI7TjHY6H5io"
   },
   "source": [
    "4) 기초통계량(수치화)"
   ]
  },
  {
   "cell_type": "code",
   "execution_count": 35,
   "metadata": {
    "id": "UeQUvRJRH5io"
   },
   "outputs": [
    {
     "data": {
      "text/plain": [
       "count    18000.000000\n",
       "mean         5.990944\n",
       "std          4.398894\n",
       "min          1.000000\n",
       "25%          2.000000\n",
       "50%          5.000000\n",
       "75%         10.000000\n",
       "max         15.000000\n",
       "Name: AVERAGE_CALL_DURATION, dtype: float64"
      ]
     },
     "execution_count": 35,
     "metadata": {},
     "output_type": "execute_result"
    }
   ],
   "source": [
    "temp.describe()"
   ]
  },
  {
   "cell_type": "markdown",
   "metadata": {
    "id": "_XCF7tE5H5io"
   },
   "source": [
    "5) 분포 확인(시각화)"
   ]
  },
  {
   "cell_type": "code",
   "execution_count": 36,
   "metadata": {
    "id": "eGR_h8w3H5io"
   },
   "outputs": [
    {
     "data": {
      "image/png": "[encoded data removed]",
      "text/plain": [
       "<Figure size 432x288 with 1 Axes>"
      ]
     },
     "metadata": {
      "needs_background": "light"
     },
     "output_type": "display_data"
    },
    {
     "name": "stdout",
     "output_type": "stream",
     "text": [
      "1.0 15.0\n"
     ]
    }
   ],
   "source": [
    "box = plt.boxplot(temp)\n",
    "plt.show()\n",
    "\n",
    "l_fence = box['whiskers'][0].get_ydata()[1]\n",
    "u_fence = box['whiskers'][1].get_ydata()[1]\n",
    "print(l_fence, u_fence)"
   ]
  },
  {
   "cell_type": "code",
   "execution_count": 37,
   "metadata": {
    "id": "Wz6MT-zfH5ip"
   },
   "outputs": [
    {
     "data": {
      "image/png": "[encoded data removed]",
      "text/plain": [
       "<Figure size 432x288 with 1 Axes>"
      ]
     },
     "metadata": {
      "needs_background": "light"
     },
     "output_type": "display_data"
    }
   ],
   "source": [
    "avg = temp.mean()\n",
    "\n",
    "sns.histplot(temp, bins = 30)\n",
    "\n",
    "plt.axvline(l_fence, color = 'orange')\n",
    "plt.axvline(avg, color = 'r')\n",
    "plt.axvline(u_fence, color = 'orange')\n",
    "plt.show()"
   ]
  },
  {
   "cell_type": "markdown",
   "metadata": {
    "id": "6CKYVV2iH5ip"
   },
   "source": [
    "6) 기초통계량과 분포를 통해서 파악한 내용을 적어 봅시다.\n",
    "\n",
    "보이는 그대로를 넘어, 비즈니스 관점에서 고민하며 적어 봅시다."
   ]
  },
  {
   "cell_type": "markdown",
   "metadata": {
    "id": "pY0qAr4MH5ip"
   },
   "source": [
    "> * 분포가 3가지로 구분됨\n",
    "    * 0~2분\n",
    "    * 4~6분\n",
    "    * 8분~\n",
    "* 왜 이런 분포가 나왔을까?\n"
   ]
  },
  {
   "cell_type": "markdown",
   "metadata": {
    "id": "5pd-SdhRH5ip"
   },
   "source": [
    "7) 추가 분석해 볼 사항이 있나요?"
   ]
  },
  {
   "cell_type": "markdown",
   "metadata": {
    "id": "yPOBOTafH5ip"
   },
   "source": [
    "> * 각 그룹별 이탈여부와 관계"
   ]
  },
  {
   "cell_type": "markdown",
   "metadata": {
    "id": "ZxGouoNnfa8A"
   },
   "source": [
    "### 8) REPORTED_SATISFACTION"
   ]
  },
  {
   "cell_type": "code",
   "execution_count": 38,
   "metadata": {
    "id": "QvY3b1cTIasN"
   },
   "outputs": [],
   "source": [
    "var= 'REPORTED_SATISFACTION'\n",
    "temp =  mobile[var]"
   ]
  },
  {
   "cell_type": "markdown",
   "metadata": {
    "id": "uDTxy208IasN"
   },
   "source": [
    "① 변수의 비즈니스 의미"
   ]
  },
  {
   "cell_type": "markdown",
   "metadata": {
    "id": "mjI799IuIasN"
   },
   "source": [
    "> 만족도 설문조사 결과"
   ]
  },
  {
   "cell_type": "markdown",
   "metadata": {
    "id": "2XkpmI43IasN"
   },
   "source": [
    "② 숫자, 범주?"
   ]
  },
  {
   "cell_type": "code",
   "execution_count": 39,
   "metadata": {
    "id": "jWwtoO4AIasN"
   },
   "outputs": [
    {
     "data": {
      "text/plain": [
       "array(['unsat', 'very_unsat', 'very_sat', 'sat', nan, 'avg'], dtype=object)"
      ]
     },
     "execution_count": 39,
     "metadata": {},
     "output_type": "execute_result"
    }
   ],
   "source": [
    "temp.unique()"
   ]
  },
  {
   "cell_type": "markdown",
   "metadata": {
    "id": "bLPYZvc1IasO"
   },
   "source": [
    "> 범주 : 'very_unsat', 'unsat', 'avg','sat','very_sat'"
   ]
  },
  {
   "cell_type": "markdown",
   "metadata": {
    "id": "xJYqjvAfIasO"
   },
   "source": [
    "③ NaN 존재 유무"
   ]
  },
  {
   "cell_type": "code",
   "execution_count": 40,
   "metadata": {
    "id": "kRUVrkPaIasO"
   },
   "outputs": [
    {
     "name": "stdout",
     "output_type": "stream",
     "text": [
      "38\n",
      "0.002111111111111111\n"
     ]
    }
   ],
   "source": [
    "print(temp.isna().sum())\n",
    "print(temp.isna().sum()/len(temp))"
   ]
  },
  {
   "cell_type": "markdown",
   "metadata": {
    "id": "5ZSkIVyUIasO"
   },
   "source": [
    "> * NaN 존재 : 38건, 0.2%\n",
    "* 조치 방법\n",
    "    * 삭제?\n",
    "    * 채우기?"
   ]
  },
  {
   "cell_type": "markdown",
   "metadata": {
    "id": "N8VZMfqTIasO"
   },
   "source": [
    "④ 기초통계량(수치화)"
   ]
  },
  {
   "cell_type": "code",
   "execution_count": 41,
   "metadata": {
    "id": "BmzxzL4UIasO"
   },
   "outputs": [
    {
     "name": "stdout",
     "output_type": "stream",
     "text": [
      "very_unsat    7072\n",
      "very_sat      4562\n",
      "unsat         3590\n",
      "avg           1806\n",
      "sat            932\n",
      "Name: REPORTED_SATISFACTION, dtype: int64\n",
      "very_unsat    0.392889\n",
      "very_sat      0.253444\n",
      "unsat         0.199444\n",
      "avg           0.100333\n",
      "sat           0.051778\n",
      "Name: REPORTED_SATISFACTION, dtype: float64\n"
     ]
    }
   ],
   "source": [
    "print(temp.value_counts())\n",
    "print(temp.value_counts()/ len(temp))"
   ]
  },
  {
   "cell_type": "markdown",
   "metadata": {
    "id": "_VwuMgqEIasP"
   },
   "source": [
    "⑤ 분포 확인(시각화)"
   ]
  },
  {
   "cell_type": "code",
   "execution_count": 42,
   "metadata": {
    "id": "TkYmatJLIasP"
   },
   "outputs": [
    {
     "name": "stderr",
     "output_type": "stream",
     "text": [
      "C:\\ProgramData\\Anaconda3\\lib\\site-packages\\seaborn\\_decorators.py:36: FutureWarning: Pass the following variable as a keyword arg: x. From version 0.12, the only valid positional argument will be `data`, and passing other arguments without an explicit keyword will result in an error or misinterpretation.\n",
      "  warnings.warn(\n"
     ]
    },
    {
     "data": {
      "image/png": "[encoded data removed]",
      "text/plain": [
       "<Figure size 432x288 with 1 Axes>"
      ]
     },
     "metadata": {
      "needs_background": "light"
     },
     "output_type": "display_data"
    }
   ],
   "source": [
    "sns.countplot(temp, order = ['very_unsat', 'unsat', 'avg','sat','very_sat'])\n",
    "plt.show()"
   ]
  },
  {
   "cell_type": "markdown",
   "metadata": {
    "id": "Ebo5LQQrIasP"
   },
   "source": [
    "⑥ 기초통계량과 분포를 통해서 파악한 내용을 적어 봅시다.\n",
    "\n",
    "보이는 그대로를 넘어, 비즈니스 관점에서 고민하며 적어 봅시다."
   ]
  },
  {
   "cell_type": "markdown",
   "metadata": {
    "id": "nVH4Q7wTIasP"
   },
   "source": [
    "> * 매우불만이 가장 높은 비율. 그 다음이 매우 만족. ==> 양극화. 왜?\n"
   ]
  },
  {
   "cell_type": "markdown",
   "metadata": {
    "id": "cMuy00ZCIasP"
   },
   "source": [
    "⑦ 추가 분석해 볼 사항이 있나요?"
   ]
  },
  {
   "cell_type": "markdown",
   "metadata": {
    "id": "OY1d0GDRIasP"
   },
   "source": [
    "> * 매우불만, 매우만족 집단의 특성을 살펴볼 필요가 있음"
   ]
  },
  {
   "cell_type": "markdown",
   "metadata": {
    "id": "Aj-uSgHBfa8Y"
   },
   "source": [
    "### 9) CONSIDERING_CHANGE_OF_PLAN"
   ]
  },
  {
   "cell_type": "code",
   "execution_count": 43,
   "metadata": {
    "id": "Al2uAEs7T9Hs"
   },
   "outputs": [],
   "source": [
    "var= 'CONSIDERING_CHANGE_OF_PLAN'\n",
    "temp =  mobile[var]"
   ]
  },
  {
   "cell_type": "markdown",
   "metadata": {
    "id": "ufvsAPpRT9Ht"
   },
   "source": [
    "① 변수의 비즈니스 의미"
   ]
  },
  {
   "cell_type": "markdown",
   "metadata": {
    "id": "9cR8u1LVT9Ht"
   },
   "source": [
    "> 향후 번호이동 계획 조사 결과"
   ]
  },
  {
   "cell_type": "markdown",
   "metadata": {
    "id": "XJwPJWu7T9Ht"
   },
   "source": [
    "② 숫자, 범주?"
   ]
  },
  {
   "cell_type": "code",
   "execution_count": 44,
   "metadata": {
    "id": "r5H0-FFbT9Ht"
   },
   "outputs": [
    {
     "data": {
      "text/plain": [
       "array(['considering', 'no', 'never_thought', 'actively_looking_into_it',\n",
       "       'perhaps'], dtype=object)"
      ]
     },
     "execution_count": 44,
     "metadata": {},
     "output_type": "execute_result"
    }
   ],
   "source": [
    "temp.unique()"
   ]
  },
  {
   "cell_type": "markdown",
   "metadata": {
    "id": "voDbwY5LT9Ht"
   },
   "source": [
    "> 범주 : 'very_unsat', 'unsat', 'avg','sat','very_sat'"
   ]
  },
  {
   "cell_type": "markdown",
   "metadata": {
    "id": "5h8ck7RiT9Ht"
   },
   "source": [
    "③ NaN 존재 유무"
   ]
  },
  {
   "cell_type": "code",
   "execution_count": 45,
   "metadata": {
    "id": "-JxWOBLjT9Ht"
   },
   "outputs": [
    {
     "name": "stdout",
     "output_type": "stream",
     "text": [
      "0\n",
      "0.0\n"
     ]
    }
   ],
   "source": [
    "print(temp.isna().sum())\n",
    "print(temp.isna().sum()/len(temp))"
   ]
  },
  {
   "cell_type": "markdown",
   "metadata": {
    "id": "UuTxMg4yT9Ht"
   },
   "source": [
    "> * NaN 없음"
   ]
  },
  {
   "cell_type": "markdown",
   "metadata": {
    "id": "y-LP6v1-T9Ht"
   },
   "source": [
    "④ 기초통계량(수치화)"
   ]
  },
  {
   "cell_type": "code",
   "execution_count": 46,
   "metadata": {
    "id": "Wni4AdwHT9Hu"
   },
   "outputs": [
    {
     "name": "stdout",
     "output_type": "stream",
     "text": [
      "considering                 7141\n",
      "actively_looking_into_it    4453\n",
      "no                          3644\n",
      "never_thought               1804\n",
      "perhaps                      958\n",
      "Name: CONSIDERING_CHANGE_OF_PLAN, dtype: int64\n",
      "considering                 0.396722\n",
      "actively_looking_into_it    0.247389\n",
      "no                          0.202444\n",
      "never_thought               0.100222\n",
      "perhaps                     0.053222\n",
      "Name: CONSIDERING_CHANGE_OF_PLAN, dtype: float64\n"
     ]
    }
   ],
   "source": [
    "print(temp.value_counts())\n",
    "print(temp.value_counts()/ len(temp))"
   ]
  },
  {
   "cell_type": "markdown",
   "metadata": {
    "id": "dRgkXkZYT9Hu"
   },
   "source": [
    "⑤ 분포 확인(시각화)"
   ]
  },
  {
   "cell_type": "code",
   "execution_count": 47,
   "metadata": {
    "id": "DtkIyTRvT9Hu"
   },
   "outputs": [
    {
     "name": "stderr",
     "output_type": "stream",
     "text": [
      "C:\\ProgramData\\Anaconda3\\lib\\site-packages\\seaborn\\_decorators.py:36: FutureWarning: Pass the following variable as a keyword arg: x. From version 0.12, the only valid positional argument will be `data`, and passing other arguments without an explicit keyword will result in an error or misinterpretation.\n",
      "  warnings.warn(\n"
     ]
    },
    {
     "data": {
      "image/png": "[encoded data removed]",
      "text/plain": [
       "<Figure size 432x288 with 1 Axes>"
      ]
     },
     "metadata": {
      "needs_background": "light"
     },
     "output_type": "display_data"
    }
   ],
   "source": [
    "sns.countplot(temp, order = ['never_thought','no', 'perhaps', 'considering', 'actively_looking_into_it'])\n",
    "plt.xticks(rotation = 60)\n",
    "plt.show()"
   ]
  },
  {
   "cell_type": "markdown",
   "metadata": {
    "id": "tltvwirPT9Hu"
   },
   "source": [
    "⑥ 기초통계량과 분포를 통해서 파악한 내용을 적어 봅시다.\n",
    "\n",
    "보이는 그대로를 넘어, 비즈니스 관점에서 고민하며 적어 봅시다."
   ]
  },
  {
   "cell_type": "markdown",
   "metadata": {
    "id": "bAVqd4rkT9Hu"
   },
   "source": [
    "> * 향후 변경 계획이 있는 사람이 그렇지 않은 사람보다 높다.\n",
    "    * 'considering', 'actively_looking_into_it' : 약 65%"
   ]
  },
  {
   "cell_type": "markdown",
   "metadata": {
    "id": "jSPlgawlT9Hu"
   },
   "source": [
    "⑦ 추가 분석해 볼 사항이 있나요?"
   ]
  },
  {
   "cell_type": "markdown",
   "metadata": {
    "id": "_JZqDvb9T9Hu"
   },
   "source": [
    "> * 각 답변에 따른 이탈여부 \n",
    "* 만족도 조사와 변경계획 관계, 그에 따른 이탈여부\n"
   ]
  },
  {
   "cell_type": "markdown",
   "metadata": {
    "id": "Bj6P00jyfa8Z"
   },
   "source": [
    "### 10) CHURN"
   ]
  },
  {
   "cell_type": "code",
   "execution_count": 48,
   "metadata": {
    "id": "1ZrfQfxlVL6Q"
   },
   "outputs": [],
   "source": [
    "var= 'CHURN'\n",
    "temp =  mobile[var]"
   ]
  },
  {
   "cell_type": "markdown",
   "metadata": {
    "id": "gBQlYM42VL6Q"
   },
   "source": [
    "① 변수의 비즈니스 의미"
   ]
  },
  {
   "cell_type": "markdown",
   "metadata": {
    "id": "AjJ0pmNsVL6Q"
   },
   "source": [
    "> 이탈 여부"
   ]
  },
  {
   "cell_type": "markdown",
   "metadata": {
    "id": "YgMJitJGVL6R"
   },
   "source": [
    "② 숫자, 범주?"
   ]
  },
  {
   "cell_type": "code",
   "execution_count": 49,
   "metadata": {
    "id": "aFn0l33hVL6R"
   },
   "outputs": [
    {
     "data": {
      "text/plain": [
       "array([0, 1], dtype=int64)"
      ]
     },
     "execution_count": 49,
     "metadata": {},
     "output_type": "execute_result"
    }
   ],
   "source": [
    "temp.unique()"
   ]
  },
  {
   "cell_type": "markdown",
   "metadata": {
    "id": "FBblNrFxVL6R"
   },
   "source": [
    "> 범주 : 0 - 잔류, 1 - 이탈(번호이동)"
   ]
  },
  {
   "cell_type": "markdown",
   "metadata": {
    "id": "lYmxMR72VL6R"
   },
   "source": [
    "③ NaN 존재 유무"
   ]
  },
  {
   "cell_type": "code",
   "execution_count": 50,
   "metadata": {
    "id": "sfz_UOMmVL6R"
   },
   "outputs": [
    {
     "name": "stdout",
     "output_type": "stream",
     "text": [
      "0\n",
      "0.0\n"
     ]
    }
   ],
   "source": [
    "print(temp.isna().sum())\n",
    "print(temp.isna().sum()/len(temp))"
   ]
  },
  {
   "cell_type": "markdown",
   "metadata": {
    "id": "h0rTtHvdVL6R"
   },
   "source": [
    "> * NaN 없음 (y, 당연히 NaN이 없어야 함)"
   ]
  },
  {
   "cell_type": "markdown",
   "metadata": {
    "id": "qcG9_f4gVL6R"
   },
   "source": [
    "④ 기초통계량(수치화)"
   ]
  },
  {
   "cell_type": "code",
   "execution_count": 51,
   "metadata": {
    "id": "hD-upMhrVL6R"
   },
   "outputs": [
    {
     "name": "stdout",
     "output_type": "stream",
     "text": [
      "0    9131\n",
      "1    8869\n",
      "Name: CHURN, dtype: int64\n",
      "0    0.507278\n",
      "1    0.492722\n",
      "Name: CHURN, dtype: float64\n"
     ]
    }
   ],
   "source": [
    "print(temp.value_counts())\n",
    "print(temp.value_counts()/ len(temp))"
   ]
  },
  {
   "cell_type": "markdown",
   "metadata": {
    "id": "NbCwraLtVL6R"
   },
   "source": [
    "⑤ 분포 확인(시각화)"
   ]
  },
  {
   "cell_type": "code",
   "execution_count": 52,
   "metadata": {
    "id": "eFi385mXVL6R"
   },
   "outputs": [
    {
     "name": "stderr",
     "output_type": "stream",
     "text": [
      "C:\\ProgramData\\Anaconda3\\lib\\site-packages\\seaborn\\_decorators.py:36: FutureWarning: Pass the following variable as a keyword arg: x. From version 0.12, the only valid positional argument will be `data`, and passing other arguments without an explicit keyword will result in an error or misinterpretation.\n",
      "  warnings.warn(\n"
     ]
    },
    {
     "data": {
      "image/png": "[encoded data removed]",
      "text/plain": [
       "<Figure size 432x288 with 1 Axes>"
      ]
     },
     "metadata": {
      "needs_background": "light"
     },
     "output_type": "display_data"
    }
   ],
   "source": [
    "sns.countplot(temp)\n",
    "plt.show()"
   ]
  },
  {
   "cell_type": "markdown",
   "metadata": {
    "id": "2JFsyVfGVL6S"
   },
   "source": [
    "⑥ 기초통계량과 분포를 통해서 파악한 내용을 적어 봅시다.\n",
    "\n",
    "보이는 그대로를 넘어, 비즈니스 관점에서 고민하며 적어 봅시다."
   ]
  },
  {
   "cell_type": "markdown",
   "metadata": {
    "id": "idIEOJf-VL6S"
   },
   "source": [
    "> * 잔존과 이탈 비율이 1:1\n",
    "    * ==> 실제 비즈니스 상황에서도 1:1일까? \n",
    "    * 아마도 범주 밸런스를 맞춘 것으로 보임(이 부분은 향후 모델링에서 중요한 부분)"
   ]
  },
  {
   "cell_type": "markdown",
   "metadata": {
    "id": "FH9-0HEkVL6S"
   },
   "source": [
    "⑦ 추가 분석해 볼 사항이 있나요?"
   ]
  },
  {
   "cell_type": "markdown",
   "metadata": {
    "id": "nD1josABVL6S"
   },
   "source": [
    "> 다른 feature들과 비교"
   ]
  },
  {
   "cell_type": "markdown",
   "metadata": {
    "id": "ZghJJ7yLEpDA"
   },
   "source": [
    "## 3.이변량 분석 \n",
    "* 자료의 종류에 맞게 X --> Y 에 대해서 그래프(시각화)와 가설검정(수치화)를 수행하고 결과를 평가합니다.\n",
    "* 가설검정시 다음의 항목을 참조하여 수행합니다.\n",
    "    * 유의수준 : 5%\n",
    "    * 숫자 --> 숫자 : 상관분석\n",
    "    * 범주 --> 범주 : 카이제곱검정\n",
    "    * 범주 --> 숫자 : t검정, 분산분석\n",
    "    * 숫자 --> 범주 : 로지스틱 회귀모형을 통해, 회귀계수의 P.value로 검정을 수행합니다.\n",
    "* (옵션)자료에 대한 가정 검정.(정규성, 등분산성 등)"
   ]
  },
  {
   "cell_type": "code",
   "execution_count": 53,
   "metadata": {
    "id": "qiWKeotjGkLp"
   },
   "outputs": [],
   "source": [
    "target = 'CHURN'"
   ]
  },
  {
   "cell_type": "markdown",
   "metadata": {
    "id": "fap08wfEMqtY"
   },
   "source": [
    "### (1) 범주형 Feature --> CHURN\n",
    "* 모든 범주형 Feature에 대해서 Y와 비교하여 차트를 그리고 수치화 하시오.  \n",
    "    ① 교차표(pd.crosstab())  \n",
    "    ② 시각화( Stacked Bar, Mosaic)  \n",
    "    ③ 가설검정(카이제곱검정)\n",
    "* 각 feature 별로 관계의 정도를 3가지로 정리해봅시다. "
   ]
  },
  {
   "cell_type": "code",
   "execution_count": 54,
   "metadata": {
    "id": "8ihePGJJYTAF"
   },
   "outputs": [],
   "source": [
    "target = 'CHURN'"
   ]
  },
  {
   "cell_type": "code",
   "execution_count": 55,
   "metadata": {
    "id": "r4wGQJtSYRWD"
   },
   "outputs": [
    {
     "name": "stdout",
     "output_type": "stream",
     "text": [
      "0.49272222222222223\n"
     ]
    }
   ],
   "source": [
    "# 전체 이탈율\n",
    "total_mean = mobile[target].mean()\n",
    "print(total_mean)"
   ]
  },
  {
   "cell_type": "markdown",
   "metadata": {
    "id": "Dh2UW7_S-yoq"
   },
   "source": [
    "#### 1) COLLEGE --> CHURN"
   ]
  },
  {
   "cell_type": "code",
   "execution_count": 56,
   "metadata": {
    "id": "EWXtZEr_X0ok"
   },
   "outputs": [],
   "source": [
    "var = 'COLLEGE'"
   ]
  },
  {
   "cell_type": "markdown",
   "metadata": {
    "id": "sq4qjPyrXkS3"
   },
   "source": [
    "① 교차표(pd.crosstab())"
   ]
  },
  {
   "cell_type": "code",
   "execution_count": 57,
   "metadata": {
    "id": "qkS8v_BxX3Gk"
   },
   "outputs": [
    {
     "data": {
      "text/html": [
       "<div>\n",
       "<style scoped>\n",
       "    .dataframe tbody tr th:only-of-type {\n",
       "        vertical-align: middle;\n",
       "    }\n",
       "\n",
       "    .dataframe tbody tr th {\n",
       "        vertical-align: top;\n",
       "    }\n",
       "\n",
       "    .dataframe thead th {\n",
       "        text-align: right;\n",
       "    }\n",
       "</style>\n",
       "<table border=\"1\" class=\"dataframe\">\n",
       "  <thead>\n",
       "    <tr style=\"text-align: right;\">\n",
       "      <th>CHURN</th>\n",
       "      <th>0</th>\n",
       "      <th>1</th>\n",
       "    </tr>\n",
       "    <tr>\n",
       "      <th>COLLEGE</th>\n",
       "      <th></th>\n",
       "      <th></th>\n",
       "    </tr>\n",
       "  </thead>\n",
       "  <tbody>\n",
       "    <tr>\n",
       "      <th>0</th>\n",
       "      <td>0.515697</td>\n",
       "      <td>0.484303</td>\n",
       "    </tr>\n",
       "    <tr>\n",
       "      <th>1</th>\n",
       "      <td>0.498950</td>\n",
       "      <td>0.501050</td>\n",
       "    </tr>\n",
       "  </tbody>\n",
       "</table>\n",
       "</div>"
      ],
      "text/plain": [
       "CHURN           0         1\n",
       "COLLEGE                    \n",
       "0        0.515697  0.484303\n",
       "1        0.498950  0.501050"
      ]
     },
     "execution_count": 57,
     "metadata": {},
     "output_type": "execute_result"
    }
   ],
   "source": [
    "temp = pd.crosstab(mobile[var], mobile[target] , normalize = 'index')\n",
    "temp"
   ]
  },
  {
   "cell_type": "markdown",
   "metadata": {
    "id": "s2QiOyPmZ1Sy"
   },
   "source": [
    "② 시각화( Stacked Bar, Mosaic)"
   ]
  },
  {
   "cell_type": "code",
   "execution_count": 58,
   "metadata": {
    "id": "eLZgTrQqYciB"
   },
   "outputs": [
    {
     "data": {
      "image/png": "[encoded data removed]",
      "text/plain": [
       "<Figure size 432x288 with 1 Axes>"
      ]
     },
     "metadata": {
      "needs_background": "light"
     },
     "output_type": "display_data"
    }
   ],
   "source": [
    "# 100% Stacked Bar\n",
    "temp.plot.bar(stacked=True)\n",
    "plt.axhline(1-total_mean, color = 'r')\n",
    "plt.show()"
   ]
  },
  {
   "cell_type": "code",
   "execution_count": 59,
   "metadata": {
    "id": "RVjIC6RsaQfv"
   },
   "outputs": [
    {
     "data": {
      "image/png": "[encoded data removed]",
      "text/plain": [
       "<Figure size 432x288 with 3 Axes>"
      ]
     },
     "metadata": {
      "needs_background": "light"
     },
     "output_type": "display_data"
    }
   ],
   "source": [
    "# Mosaic\n",
    "mosaic(mobile, [ var, target]) # [x축, y축]\n",
    "plt.axhline(1- total_mean, color = 'r')\n",
    "plt.xlabel(var)\n",
    "plt.show()"
   ]
  },
  {
   "cell_type": "markdown",
   "metadata": {
    "id": "V1pyYZ3ibCyO"
   },
   "source": [
    "시각화를 통해 파악한 내용을 적어 봅시다."
   ]
  },
  {
   "cell_type": "markdown",
   "metadata": {
    "id": "v3oxJlPJc0T-"
   },
   "source": [
    "> COLLEGE와 CHURN 간에는 관련이 없어 보임"
   ]
  },
  {
   "cell_type": "markdown",
   "metadata": {
    "id": "8MX4b9jZbGal"
   },
   "source": [
    "③ 가설검정(카이제곱검정)"
   ]
  },
  {
   "cell_type": "code",
   "execution_count": 60,
   "metadata": {
    "id": "ZIhdTgsSnE_P"
   },
   "outputs": [
    {
     "name": "stdout",
     "output_type": "stream",
     "text": [
      "카이제곱통계량 : 4.982102934693503\n",
      "p-value : 0.02561083347822053560\n"
     ]
    }
   ],
   "source": [
    "table = pd.crosstab(mobile[target], mobile[var])\n",
    "chiresult = spst.chi2_contingency(table)\n",
    "print(\"카이제곱통계량 : {}\".format(chiresult[0]))\n",
    "print(\"p-value : {:.20f}\".format(chiresult[1]))"
   ]
  },
  {
   "cell_type": "markdown",
   "metadata": {
    "id": "wuH_fPA6bTE1"
   },
   "source": [
    "④ 시각화와 가설검정을 통해서 파악한 내용을 적어 봅시다."
   ]
  },
  {
   "cell_type": "markdown",
   "metadata": {
    "id": "Eg_fzBzqbj0U"
   },
   "source": [
    "> * 차트를 통해서는 대학졸업여부와 이탈여부는 관련이 없어 보임. \n",
    "* 그러나 카이제곱검정으로는 pvalue가 0.02로 유의수준 0.05보다 작게 나옴\n",
    "* 결론 : 약한 관계"
   ]
  },
  {
   "cell_type": "markdown",
   "metadata": {
    "id": "RrGOWOmr-4yK"
   },
   "source": [
    "#### 2) REPORTED_SATISFACTION  --> CHURN"
   ]
  },
  {
   "cell_type": "code",
   "execution_count": 61,
   "metadata": {
    "id": "EPuOTFKLb91j"
   },
   "outputs": [],
   "source": [
    "var = 'REPORTED_SATISFACTION'"
   ]
  },
  {
   "cell_type": "markdown",
   "metadata": {
    "id": "qToDrvjnb91k"
   },
   "source": [
    "① 교차표(pd.crosstab())"
   ]
  },
  {
   "cell_type": "code",
   "execution_count": 62,
   "metadata": {
    "id": "VTpho7bUb91k"
   },
   "outputs": [
    {
     "data": {
      "text/html": [
       "<div>\n",
       "<style scoped>\n",
       "    .dataframe tbody tr th:only-of-type {\n",
       "        vertical-align: middle;\n",
       "    }\n",
       "\n",
       "    .dataframe tbody tr th {\n",
       "        vertical-align: top;\n",
       "    }\n",
       "\n",
       "    .dataframe thead th {\n",
       "        text-align: right;\n",
       "    }\n",
       "</style>\n",
       "<table border=\"1\" class=\"dataframe\">\n",
       "  <thead>\n",
       "    <tr style=\"text-align: right;\">\n",
       "      <th>CHURN</th>\n",
       "      <th>0</th>\n",
       "      <th>1</th>\n",
       "    </tr>\n",
       "    <tr>\n",
       "      <th>REPORTED_SATISFACTION</th>\n",
       "      <th></th>\n",
       "      <th></th>\n",
       "    </tr>\n",
       "  </thead>\n",
       "  <tbody>\n",
       "    <tr>\n",
       "      <th>avg</th>\n",
       "      <td>0.527132</td>\n",
       "      <td>0.472868</td>\n",
       "    </tr>\n",
       "    <tr>\n",
       "      <th>sat</th>\n",
       "      <td>0.527897</td>\n",
       "      <td>0.472103</td>\n",
       "    </tr>\n",
       "    <tr>\n",
       "      <th>unsat</th>\n",
       "      <td>0.499164</td>\n",
       "      <td>0.500836</td>\n",
       "    </tr>\n",
       "    <tr>\n",
       "      <th>very_sat</th>\n",
       "      <td>0.511618</td>\n",
       "      <td>0.488382</td>\n",
       "    </tr>\n",
       "    <tr>\n",
       "      <th>very_unsat</th>\n",
       "      <td>0.500990</td>\n",
       "      <td>0.499010</td>\n",
       "    </tr>\n",
       "  </tbody>\n",
       "</table>\n",
       "</div>"
      ],
      "text/plain": [
       "CHURN                         0         1\n",
       "REPORTED_SATISFACTION                    \n",
       "avg                    0.527132  0.472868\n",
       "sat                    0.527897  0.472103\n",
       "unsat                  0.499164  0.500836\n",
       "very_sat               0.511618  0.488382\n",
       "very_unsat             0.500990  0.499010"
      ]
     },
     "execution_count": 62,
     "metadata": {},
     "output_type": "execute_result"
    }
   ],
   "source": [
    "temp = pd.crosstab(mobile[var], mobile[target] , normalize = 'index')\n",
    "temp"
   ]
  },
  {
   "cell_type": "markdown",
   "metadata": {
    "id": "1-8ZqrH2b91k"
   },
   "source": [
    "② 시각화( Stacked Bar, Mosaic)"
   ]
  },
  {
   "cell_type": "code",
   "execution_count": 63,
   "metadata": {
    "id": "-Hs6rGlPb91k"
   },
   "outputs": [
    {
     "data": {
      "image/png": "[encoded data removed]",
      "text/plain": [
       "<Figure size 432x288 with 1 Axes>"
      ]
     },
     "metadata": {
      "needs_background": "light"
     },
     "output_type": "display_data"
    }
   ],
   "source": [
    "# 100% Stacked Bar\n",
    "temp.plot.bar(stacked=True)\n",
    "plt.axhline(1-total_mean, color = 'r')\n",
    "plt.show()"
   ]
  },
  {
   "cell_type": "code",
   "execution_count": 64,
   "metadata": {
    "id": "MQrAm6Gfb91l"
   },
   "outputs": [
    {
     "data": {
      "image/png": "[encoded data removed]",
      "text/plain": [
       "<Figure size 432x288 with 3 Axes>"
      ]
     },
     "metadata": {
      "needs_background": "light"
     },
     "output_type": "display_data"
    }
   ],
   "source": [
    "# Mosaic\n",
    "mosaic(mobile, [ var, target]) # [x축, y축]\n",
    "plt.axhline(1- total_mean, color = 'r')\n",
    "plt.xlabel(var)\n",
    "plt.show()"
   ]
  },
  {
   "cell_type": "markdown",
   "metadata": {
    "id": "9XJJTRKZb91l"
   },
   "source": [
    "시각화를 통해 파악한 내용을 적어 봅시다."
   ]
  },
  {
   "cell_type": "markdown",
   "metadata": {
    "id": "GUcPC5KIc7gA"
   },
   "source": [
    "> 보통과 만족에서는 이탈율이 약간 낮으나, 전반적으로 관련이 없어 보임"
   ]
  },
  {
   "cell_type": "markdown",
   "metadata": {
    "id": "gsI2tOFsb91l"
   },
   "source": [
    "③ 가설검정(카이제곱검정)"
   ]
  },
  {
   "cell_type": "code",
   "execution_count": 65,
   "metadata": {
    "id": "XYtW1pKkb91l"
   },
   "outputs": [
    {
     "name": "stdout",
     "output_type": "stream",
     "text": [
      "카이제곱통계량 : 6.8411009572056445\n",
      "p-value : 0.14452738878905066477\n"
     ]
    }
   ],
   "source": [
    "table = pd.crosstab(mobile[target], mobile[var])\n",
    "chiresult = spst.chi2_contingency(table)\n",
    "print(\"카이제곱통계량 : {}\".format(chiresult[0]))\n",
    "print(\"p-value : {:.20f}\".format(chiresult[1]))"
   ]
  },
  {
   "cell_type": "markdown",
   "metadata": {
    "id": "ZU45Ok9Wb91l"
   },
   "source": [
    "④ 시각화와 가설검정을 통해서 파악한 내용을 적어 봅시다."
   ]
  },
  {
   "cell_type": "markdown",
   "metadata": {
    "id": "cOJ-6_Pvb91l"
   },
   "source": [
    "> * 차트를 통해서 만족도와 이탈여부는 관련이 없어 보임. \n",
    "* 카이제곱검정으로도 pvalue가 0.14로 유의수준 0.05보다 크게 나옴\n",
    "* 결론 : 관련 없음."
   ]
  },
  {
   "cell_type": "markdown",
   "metadata": {
    "id": "qUdbAB4I_fIE"
   },
   "source": [
    "#### 3) CONSIDERING_CHANGE_OF_PLAN --> CHURN"
   ]
  },
  {
   "cell_type": "code",
   "execution_count": 66,
   "metadata": {
    "id": "3zaWqQ7adTOX"
   },
   "outputs": [],
   "source": [
    "var = 'CONSIDERING_CHANGE_OF_PLAN'"
   ]
  },
  {
   "cell_type": "markdown",
   "metadata": {
    "id": "TAkrGh6ddTOY"
   },
   "source": [
    "① 교차표(pd.crosstab())"
   ]
  },
  {
   "cell_type": "code",
   "execution_count": 67,
   "metadata": {
    "id": "8Nubv8S3dTOY"
   },
   "outputs": [
    {
     "data": {
      "text/html": [
       "<div>\n",
       "<style scoped>\n",
       "    .dataframe tbody tr th:only-of-type {\n",
       "        vertical-align: middle;\n",
       "    }\n",
       "\n",
       "    .dataframe tbody tr th {\n",
       "        vertical-align: top;\n",
       "    }\n",
       "\n",
       "    .dataframe thead th {\n",
       "        text-align: right;\n",
       "    }\n",
       "</style>\n",
       "<table border=\"1\" class=\"dataframe\">\n",
       "  <thead>\n",
       "    <tr style=\"text-align: right;\">\n",
       "      <th>CHURN</th>\n",
       "      <th>0</th>\n",
       "      <th>1</th>\n",
       "    </tr>\n",
       "    <tr>\n",
       "      <th>CONSIDERING_CHANGE_OF_PLAN</th>\n",
       "      <th></th>\n",
       "      <th></th>\n",
       "    </tr>\n",
       "  </thead>\n",
       "  <tbody>\n",
       "    <tr>\n",
       "      <th>actively_looking_into_it</th>\n",
       "      <td>0.511565</td>\n",
       "      <td>0.488435</td>\n",
       "    </tr>\n",
       "    <tr>\n",
       "      <th>considering</th>\n",
       "      <td>0.510853</td>\n",
       "      <td>0.489147</td>\n",
       "    </tr>\n",
       "    <tr>\n",
       "      <th>never_thought</th>\n",
       "      <td>0.513304</td>\n",
       "      <td>0.486696</td>\n",
       "    </tr>\n",
       "    <tr>\n",
       "      <th>no</th>\n",
       "      <td>0.500274</td>\n",
       "      <td>0.499726</td>\n",
       "    </tr>\n",
       "    <tr>\n",
       "      <th>perhaps</th>\n",
       "      <td>0.475992</td>\n",
       "      <td>0.524008</td>\n",
       "    </tr>\n",
       "  </tbody>\n",
       "</table>\n",
       "</div>"
      ],
      "text/plain": [
       "CHURN                              0         1\n",
       "CONSIDERING_CHANGE_OF_PLAN                    \n",
       "actively_looking_into_it    0.511565  0.488435\n",
       "considering                 0.510853  0.489147\n",
       "never_thought               0.513304  0.486696\n",
       "no                          0.500274  0.499726\n",
       "perhaps                     0.475992  0.524008"
      ]
     },
     "execution_count": 67,
     "metadata": {},
     "output_type": "execute_result"
    }
   ],
   "source": [
    "temp = pd.crosstab(mobile[var], mobile[target] , normalize = 'index')\n",
    "temp"
   ]
  },
  {
   "cell_type": "markdown",
   "metadata": {
    "id": "6WGwdUfcdTOY"
   },
   "source": [
    "② 시각화( Stacked Bar, Mosaic)"
   ]
  },
  {
   "cell_type": "code",
   "execution_count": 68,
   "metadata": {
    "id": "RaWa00cfdTOY"
   },
   "outputs": [
    {
     "data": {
      "image/png": "[encoded data removed]",
      "text/plain": [
       "<Figure size 432x288 with 1 Axes>"
      ]
     },
     "metadata": {
      "needs_background": "light"
     },
     "output_type": "display_data"
    }
   ],
   "source": [
    "# 100% Stacked Bar\n",
    "temp.plot.bar(stacked=True)\n",
    "plt.axhline(1-total_mean, color = 'r')\n",
    "plt.show()"
   ]
  },
  {
   "cell_type": "code",
   "execution_count": 69,
   "metadata": {
    "id": "beZsV9vKdTOY"
   },
   "outputs": [
    {
     "data": {
      "image/png": "[encoded data removed]",
      "text/plain": [
       "<Figure size 432x288 with 3 Axes>"
      ]
     },
     "metadata": {
      "needs_background": "light"
     },
     "output_type": "display_data"
    }
   ],
   "source": [
    "# Mosaic\n",
    "mosaic(mobile, [ var, target]) # [x축, y축]\n",
    "plt.axhline(1- total_mean, color = 'r')\n",
    "plt.xlabel(var)\n",
    "plt.show()"
   ]
  },
  {
   "cell_type": "markdown",
   "metadata": {
    "id": "eOEnUl2EdTOY"
   },
   "source": [
    "시각화를 통해 파악한 내용을 적어 봅시다."
   ]
  },
  {
   "cell_type": "markdown",
   "metadata": {
    "id": "u5xkbqfVdTOY"
   },
   "source": [
    "> perhaps에서는 이탈율이 약간 높으나, 전반적으로 관련이 없어 보임"
   ]
  },
  {
   "cell_type": "markdown",
   "metadata": {
    "id": "sKBJGSQCdTOY"
   },
   "source": [
    "③ 가설검정(카이제곱검정)"
   ]
  },
  {
   "cell_type": "code",
   "execution_count": 70,
   "metadata": {
    "id": "eQXtbbpsdTOZ"
   },
   "outputs": [
    {
     "name": "stdout",
     "output_type": "stream",
     "text": [
      "카이제곱통계량 : 5.421434419620689\n",
      "p-value : 0.24672225866799690763\n"
     ]
    }
   ],
   "source": [
    "table = pd.crosstab(mobile[target], mobile[var])\n",
    "chiresult = spst.chi2_contingency(table)\n",
    "print(\"카이제곱통계량 : {}\".format(chiresult[0]))\n",
    "print(\"p-value : {:.20f}\".format(chiresult[1]))"
   ]
  },
  {
   "cell_type": "markdown",
   "metadata": {
    "id": "KwEnftofdTOZ"
   },
   "source": [
    "④ 시각화와 가설검정을 통해서 파악한 내용을 적어 봅시다."
   ]
  },
  {
   "cell_type": "markdown",
   "metadata": {
    "id": "yKYeFNKudTOZ"
   },
   "source": [
    "> * 차트를 통해서 변경계획과 이탈여부는 관련이 없어 보임. \n",
    "* 카이제곱검정으로도 pvalue가 0.25로 유의수준 0.05보다 크게 나옴\n",
    "* 결론 : 관련 없음."
   ]
  },
  {
   "cell_type": "markdown",
   "metadata": {
    "id": "lUsQ0iBHMqte"
   },
   "source": [
    "### (2) 숫자형 Feature --> CHURN\n",
    "\n",
    "* 숫자형 Feature에 대해서 Y와 비교하여 차트를 그리고 수치화 하시오.  \n",
    "    ① 그래프 : histogram, densityplot   \n",
    "    ② 수치화 : 로지스틱회귀"
   ]
  },
  {
   "cell_type": "markdown",
   "metadata": {
    "id": "F_Mugk3f_y3X"
   },
   "source": [
    "#### 1) INCOME --> CHURN\n"
   ]
  },
  {
   "cell_type": "code",
   "execution_count": 71,
   "metadata": {
    "id": "8ROLKtUueHSn"
   },
   "outputs": [],
   "source": [
    "var = 'INCOME'"
   ]
  },
  {
   "cell_type": "markdown",
   "metadata": {
    "id": "iZwchGY8eRH_"
   },
   "source": [
    "① 그래프 : histogram, densityplot"
   ]
  },
  {
   "cell_type": "code",
   "execution_count": 72,
   "metadata": {
    "id": "Kdch3Zm-Mqtg"
   },
   "outputs": [
    {
     "data": {
      "image/png": "[encoded data removed]",
      "text/plain": [
       "<Figure size 432x288 with 1 Axes>"
      ]
     },
     "metadata": {
      "needs_background": "light"
     },
     "output_type": "display_data"
    }
   ],
   "source": [
    "# 히스토그램\n",
    "sns.histplot(x=var, data = mobile, hue = target)\n",
    "plt.show()"
   ]
  },
  {
   "cell_type": "code",
   "execution_count": 73,
   "metadata": {
    "id": "NFpqDUZEemhq"
   },
   "outputs": [
    {
     "data": {
      "image/png": "[encoded data removed]",
      "text/plain": [
       "<Figure size 432x288 with 1 Axes>"
      ]
     },
     "metadata": {
      "needs_background": "light"
     },
     "output_type": "display_data"
    }
   ],
   "source": [
    "# density plot\n",
    "t0 = mobile.loc[mobile[target]==0]\n",
    "t1 = mobile.loc[mobile[target]==1]\n",
    "\n",
    "sns.kdeplot(x=var, data = t0, label = '0')\n",
    "sns.kdeplot(x=var, data = t1, label = '1')\n",
    "\n",
    "plt.legend()\n",
    "plt.show()"
   ]
  },
  {
   "cell_type": "markdown",
   "metadata": {
    "id": "62LpmfYBfADw"
   },
   "source": [
    "시각화를 통해 파악한 내용을 적어 봅시다."
   ]
  },
  {
   "cell_type": "markdown",
   "metadata": {
    "id": "rPbprP0NfADx"
   },
   "source": [
    "> * 100000 달러를 기준으로 나뉨.\n",
    "    * 100000 이내 : 잔류가 더 높음\n",
    "    * 100000 이상 : 이탈이 더 높음.\n",
    "* 왜???"
   ]
  },
  {
   "cell_type": "markdown",
   "metadata": {
    "id": "AMOh1uw2fVoO"
   },
   "source": [
    "② 수치화 : 로지스틱회귀"
   ]
  },
  {
   "cell_type": "code",
   "execution_count": 74,
   "metadata": {
    "id": "B-kCeQE5G_NU"
   },
   "outputs": [
    {
     "name": "stdout",
     "output_type": "stream",
     "text": [
      "Optimization terminated successfully.\n",
      "         Current function value: 0.692683\n",
      "         Iterations 2\n",
      "INCOME    0.000044\n",
      "dtype: float64\n"
     ]
    }
   ],
   "source": [
    "model=sm.Logit(mobile[target], mobile[var])\n",
    "result=model.fit()\n",
    "print(result.pvalues)"
   ]
  },
  {
   "cell_type": "markdown",
   "metadata": {
    "id": "1QGY11sufcJ1"
   },
   "source": [
    "③ 시각화와 수치화를 통해 파악한 내용을 적어 봅시다."
   ]
  },
  {
   "cell_type": "markdown",
   "metadata": {
    "id": "iRgq5a36fhGD"
   },
   "source": [
    "> * 그래프상으로 10만달러 기준으로 이탈율에 차이가 있다.\n",
    "* 로지스틱회귀로 부터 얻은 P-value가 0.000044로 0.05보다 작으므로 관련이 있다.\n",
    "* 결론: 강한 관계가 있다."
   ]
  },
  {
   "cell_type": "markdown",
   "metadata": {
    "id": "g7JV84um_5KF"
   },
   "source": [
    "#### 2) OVERAGE --> CHURN\n"
   ]
  },
  {
   "cell_type": "code",
   "execution_count": 75,
   "metadata": {
    "id": "lZqc4KHKf0Rz"
   },
   "outputs": [],
   "source": [
    "var = 'OVERAGE'"
   ]
  },
  {
   "cell_type": "markdown",
   "metadata": {
    "id": "HYkOnsOhf0R0"
   },
   "source": [
    "① 그래프 : histogram, densityplot"
   ]
  },
  {
   "cell_type": "code",
   "execution_count": 76,
   "metadata": {
    "id": "SRQtyQ7Rf0R0"
   },
   "outputs": [
    {
     "data": {
      "image/png": "[encoded data removed]",
      "text/plain": [
       "<Figure size 432x288 with 1 Axes>"
      ]
     },
     "metadata": {
      "needs_background": "light"
     },
     "output_type": "display_data"
    }
   ],
   "source": [
    "# 히스토그램\n",
    "sns.histplot(x=var, data = mobile, hue = target)\n",
    "plt.show()"
   ]
  },
  {
   "cell_type": "code",
   "execution_count": 77,
   "metadata": {
    "id": "aJ8Gs6TIf0R1"
   },
   "outputs": [
    {
     "data": {
      "image/png": "[encoded data removed]",
      "text/plain": [
       "<Figure size 432x288 with 1 Axes>"
      ]
     },
     "metadata": {
      "needs_background": "light"
     },
     "output_type": "display_data"
    }
   ],
   "source": [
    "# density plot\n",
    "t0 = mobile.loc[mobile[target]==0]\n",
    "t1 = mobile.loc[mobile[target]==1]\n",
    "\n",
    "sns.kdeplot(x=var, data = t0, label = '0')\n",
    "sns.kdeplot(x=var, data = t1, label = '1')\n",
    "\n",
    "plt.legend()\n",
    "plt.show()"
   ]
  },
  {
   "cell_type": "markdown",
   "metadata": {
    "id": "4A4SDMiGf0R1"
   },
   "source": [
    "시각화를 통해 파악한 내용을 적어 봅시다."
   ]
  },
  {
   "cell_type": "markdown",
   "metadata": {
    "id": "i9aHb6DPf0R1"
   },
   "source": [
    "> * 초과사용 안하는 사람 : 이탈율 낮음\n",
    "    * 60분 중심 : 이탈율 낮음\n",
    "    * 200분 중심 : 이탈율 높음\n",
    "* 많이 사용할 수록 이탈율이 높다. ==> 서비스에 불만을 갖거나, 경쟁사에 비해 비싼 것일까?"
   ]
  },
  {
   "cell_type": "markdown",
   "metadata": {
    "id": "qm3B2Nonf0R1"
   },
   "source": [
    "② 수치화 : 로지스틱회귀"
   ]
  },
  {
   "cell_type": "code",
   "execution_count": 78,
   "metadata": {
    "id": "Xpzb4n43f0R2"
   },
   "outputs": [
    {
     "name": "stdout",
     "output_type": "stream",
     "text": [
      "Optimization terminated successfully.\n",
      "         Current function value: 0.680553\n",
      "         Iterations 4\n",
      "OVERAGE    3.521095e-97\n",
      "dtype: float64\n"
     ]
    }
   ],
   "source": [
    "model=sm.Logit(mobile[target], mobile[var])\n",
    "result=model.fit()\n",
    "print(result.pvalues)"
   ]
  },
  {
   "cell_type": "markdown",
   "metadata": {
    "id": "M-u6AkGUf0R2"
   },
   "source": [
    "③ 시각화와 수치화를 통해 파악한 내용을 적어 봅시다."
   ]
  },
  {
   "cell_type": "markdown",
   "metadata": {
    "id": "4KBt17xsf0R2"
   },
   "source": [
    "> * 그래프상으로 이탈율과 관련이 있다.\n",
    "* 로지스틱회귀로 부터 얻은 P-value가 거의 0에 수렴.\n",
    "* 결론: 강한 관계가 있다."
   ]
  },
  {
   "cell_type": "markdown",
   "metadata": {
    "id": "S2xRvNaDACL7"
   },
   "source": [
    "#### 3) LEFTOVER --> CHURN\n"
   ]
  },
  {
   "cell_type": "code",
   "execution_count": 79,
   "metadata": {
    "id": "ENRDvAFkgnvS"
   },
   "outputs": [],
   "source": [
    "var = 'LEFTOVER'"
   ]
  },
  {
   "cell_type": "markdown",
   "metadata": {
    "id": "Kmux22sAgnvT"
   },
   "source": [
    "① 그래프 : histogram, densityplot"
   ]
  },
  {
   "cell_type": "code",
   "execution_count": 80,
   "metadata": {
    "id": "03oDEi6ZgnvU"
   },
   "outputs": [
    {
     "data": {
      "image/png": "[encoded data removed]",
      "text/plain": [
       "<Figure size 432x288 with 1 Axes>"
      ]
     },
     "metadata": {
      "needs_background": "light"
     },
     "output_type": "display_data"
    }
   ],
   "source": [
    "# 히스토그램\n",
    "sns.histplot(x=var, data = mobile, hue = target)\n",
    "plt.show()"
   ]
  },
  {
   "cell_type": "code",
   "execution_count": 81,
   "metadata": {
    "id": "hV8wqI1vgnvU"
   },
   "outputs": [
    {
     "data": {
      "image/png": "[encoded data removed]",
      "text/plain": [
       "<Figure size 432x288 with 1 Axes>"
      ]
     },
     "metadata": {
      "needs_background": "light"
     },
     "output_type": "display_data"
    }
   ],
   "source": [
    "# density plot\n",
    "t0 = mobile.loc[mobile[target]==0]\n",
    "t1 = mobile.loc[mobile[target]==1]\n",
    "\n",
    "sns.kdeplot(x=var, data = t0, label = '0')\n",
    "sns.kdeplot(x=var, data = t1, label = '1')\n",
    "\n",
    "plt.legend()\n",
    "plt.show()"
   ]
  },
  {
   "cell_type": "markdown",
   "metadata": {
    "id": "FkfphkRAgnvU"
   },
   "source": [
    "시각화를 통해 파악한 내용을 적어 봅시다."
   ]
  },
  {
   "cell_type": "markdown",
   "metadata": {
    "id": "Sf4Wa-vSgnvV"
   },
   "source": [
    "> * 잔여시간이 \n",
    "    * 없는사람 : 이탈율 높음\n",
    "    * 25분 이내 : 이탈율 낮음\n",
    "    * 25분 이상 : 이탈율 높음\n"
   ]
  },
  {
   "cell_type": "markdown",
   "metadata": {
    "id": "Di3YQY6WgnvV"
   },
   "source": [
    "② 수치화 : 로지스틱회귀"
   ]
  },
  {
   "cell_type": "code",
   "execution_count": 82,
   "metadata": {
    "id": "8Lh-hliLgnvV"
   },
   "outputs": [
    {
     "name": "stdout",
     "output_type": "stream",
     "text": [
      "Optimization terminated successfully.\n",
      "         Current function value: 0.692532\n",
      "         Iterations 3\n",
      "LEFTOVER    0.000003\n",
      "dtype: float64\n"
     ]
    }
   ],
   "source": [
    "model=sm.Logit(mobile[target], mobile[var])\n",
    "result=model.fit()\n",
    "print(result.pvalues)"
   ]
  },
  {
   "cell_type": "markdown",
   "metadata": {
    "id": "s3PzV6j4gnvV"
   },
   "source": [
    "③ 시각화와 수치화를 통해 파악한 내용을 적어 봅시다."
   ]
  },
  {
   "cell_type": "markdown",
   "metadata": {
    "id": "OILO536NgnvV"
   },
   "source": [
    "> * 그래프상으로 이탈율과 관련이 있다.\n",
    "* 로지스틱회귀로 부터 얻은 P-value 0.000003\n",
    "* 결론: 강한 관계가 있다."
   ]
  },
  {
   "cell_type": "markdown",
   "metadata": {
    "id": "pVhjKsCJADTG"
   },
   "source": [
    "#### 4) HOUSE --> CHURN\n"
   ]
  },
  {
   "cell_type": "markdown",
   "metadata": {
    "id": "YnK3sqr-hu6n"
   },
   "source": [
    "* **[주의]** HOUSE에 NaN이 존재합니다. ==> 로지스틱회귀를 수행하기 위해서는 NaN을 제외한 데이터로 수행해야 합니다."
   ]
  },
  {
   "cell_type": "code",
   "execution_count": 83,
   "metadata": {
    "id": "IEhs13qXgjBt"
   },
   "outputs": [],
   "source": [
    "var = 'HOUSE'"
   ]
  },
  {
   "cell_type": "markdown",
   "metadata": {
    "id": "_368twEUgjBu"
   },
   "source": [
    "① 그래프 : histogram, densityplot"
   ]
  },
  {
   "cell_type": "code",
   "execution_count": 84,
   "metadata": {
    "id": "wkyOJvISgjBu"
   },
   "outputs": [
    {
     "data": {
      "image/png": "[encoded data removed]",
      "text/plain": [
       "<Figure size 432x288 with 1 Axes>"
      ]
     },
     "metadata": {
      "needs_background": "light"
     },
     "output_type": "display_data"
    }
   ],
   "source": [
    "# 히스토그램\n",
    "sns.histplot(x=var, data = mobile, hue = target)\n",
    "plt.show()"
   ]
  },
  {
   "cell_type": "code",
   "execution_count": 85,
   "metadata": {
    "id": "C_SHYpa1gjBu"
   },
   "outputs": [
    {
     "data": {
      "image/png": "[encoded data removed]",
      "text/plain": [
       "<Figure size 432x288 with 1 Axes>"
      ]
     },
     "metadata": {
      "needs_background": "light"
     },
     "output_type": "display_data"
    }
   ],
   "source": [
    "# density plot\n",
    "t0 = mobile.loc[mobile[target]==0]\n",
    "t1 = mobile.loc[mobile[target]==1]\n",
    "\n",
    "sns.kdeplot(x=var, data = t0, label = '0')\n",
    "sns.kdeplot(x=var, data = t1, label = '1')\n",
    "\n",
    "plt.legend()\n",
    "plt.show()"
   ]
  },
  {
   "cell_type": "markdown",
   "metadata": {
    "id": "JuxgZIeIgjBu"
   },
   "source": [
    "시각화를 통해 파악한 내용을 적어 봅시다."
   ]
  },
  {
   "cell_type": "markdown",
   "metadata": {
    "id": "BPLpX9uwgjBu"
   },
   "source": [
    "> * 600000 달러 기준으로 이탈율 나뉨\n",
    "    * 이하 : 이탈율 높음\n",
    "    * 이상 : 이탈율 낮음."
   ]
  },
  {
   "cell_type": "markdown",
   "metadata": {
    "id": "tQ0owqahgjBu"
   },
   "source": [
    "② 수치화 : 로지스틱회귀"
   ]
  },
  {
   "cell_type": "code",
   "execution_count": 86,
   "metadata": {
    "id": "xHRD-y61gjBv"
   },
   "outputs": [
    {
     "name": "stdout",
     "output_type": "stream",
     "text": [
      "Optimization terminated successfully.\n",
      "         Current function value: 0.687266\n",
      "         Iterations 2\n",
      "HOUSE    6.401120e-47\n",
      "dtype: float64\n"
     ]
    }
   ],
   "source": [
    "# NaN 제외한 데이터셋\n",
    "temp = mobile.loc[mobile[var].notnull()]\n",
    "\n",
    "model=sm.Logit(temp[target], temp[var])\n",
    "result=model.fit()\n",
    "print(result.pvalues)"
   ]
  },
  {
   "cell_type": "markdown",
   "metadata": {
    "id": "N4uFrsm8gjBv"
   },
   "source": [
    "③ 시각화와 수치화를 통해 파악한 내용을 적어 봅시다."
   ]
  },
  {
   "cell_type": "markdown",
   "metadata": {
    "id": "ZvZl-1H2gjBv"
   },
   "source": [
    "> * 그래프상으로 이탈율과 관련이 있다.\n",
    "* 로지스틱회귀로 부터 얻은 P-value가 거의 0에 수렴.\n",
    "* 결론: 강한 관계가 있다."
   ]
  },
  {
   "cell_type": "markdown",
   "metadata": {
    "id": "vOrbIWoAAD2N"
   },
   "source": [
    "#### 5) HANDSET_PRICE --> CHURN\n"
   ]
  },
  {
   "cell_type": "code",
   "execution_count": 87,
   "metadata": {
    "id": "kglz1uS6ibMf"
   },
   "outputs": [],
   "source": [
    "var = 'HANDSET_PRICE'"
   ]
  },
  {
   "cell_type": "markdown",
   "metadata": {
    "id": "6W0zAkl-ibMf"
   },
   "source": [
    "① 그래프 : histogram, densityplot"
   ]
  },
  {
   "cell_type": "code",
   "execution_count": 88,
   "metadata": {
    "id": "Dt4lPPYYibMf"
   },
   "outputs": [
    {
     "data": {
      "image/png": "[encoded data removed]",
      "text/plain": [
       "<Figure size 432x288 with 1 Axes>"
      ]
     },
     "metadata": {
      "needs_background": "light"
     },
     "output_type": "display_data"
    }
   ],
   "source": [
    "# 히스토그램\n",
    "sns.histplot(x=var, data = mobile, hue = target)\n",
    "plt.show()"
   ]
  },
  {
   "cell_type": "code",
   "execution_count": 89,
   "metadata": {
    "id": "3TgPXuFDibMf"
   },
   "outputs": [
    {
     "data": {
      "image/png": "[encoded data removed]",
      "text/plain": [
       "<Figure size 432x288 with 1 Axes>"
      ]
     },
     "metadata": {
      "needs_background": "light"
     },
     "output_type": "display_data"
    }
   ],
   "source": [
    "# density plot\n",
    "t0 = mobile.loc[mobile[target]==0]\n",
    "t1 = mobile.loc[mobile[target]==1]\n",
    "\n",
    "sns.kdeplot(x=var, data = t0, label = '0')\n",
    "sns.kdeplot(x=var, data = t1, label = '1')\n",
    "\n",
    "plt.legend()\n",
    "plt.show()"
   ]
  },
  {
   "cell_type": "markdown",
   "metadata": {
    "id": "MESNQAXribMf"
   },
   "source": [
    "시각화를 통해 파악한 내용을 적어 봅시다."
   ]
  },
  {
   "cell_type": "markdown",
   "metadata": {
    "id": "xufyCAqyibMg"
   },
   "source": [
    "> * 가격이 400 달러 기준으로 나뉨. \n",
    "    * 이내 : 이탈율 낮음\n",
    "    * 이상 : 이탈율 높음"
   ]
  },
  {
   "cell_type": "markdown",
   "metadata": {
    "id": "kwtMdkl8ibMg"
   },
   "source": [
    "② 수치화 : 로지스틱회귀"
   ]
  },
  {
   "cell_type": "code",
   "execution_count": 90,
   "metadata": {
    "id": "5AQj6uFCibMg"
   },
   "outputs": [
    {
     "name": "stdout",
     "output_type": "stream",
     "text": [
      "Optimization terminated successfully.\n",
      "         Current function value: 0.692730\n",
      "         Iterations 3\n",
      "HANDSET_PRICE    0.000107\n",
      "dtype: float64\n"
     ]
    }
   ],
   "source": [
    "model=sm.Logit(mobile[target], mobile[var])\n",
    "result=model.fit()\n",
    "print(result.pvalues)"
   ]
  },
  {
   "cell_type": "markdown",
   "metadata": {
    "id": "VzwwDB-LibMg"
   },
   "source": [
    "③ 시각화와 수치화를 통해 파악한 내용을 적어 봅시다."
   ]
  },
  {
   "cell_type": "markdown",
   "metadata": {
    "id": "ebeL_8rSibMg"
   },
   "source": [
    "> * 그래프상으로 이탈율과 관련이 있다.\n",
    "* 로지스틱회귀로 부터 얻은 P-value 0.000107\n",
    "* 결론: 강한 관계가 있다."
   ]
  },
  {
   "cell_type": "markdown",
   "metadata": {
    "id": "Nx2iLwVEAQwS"
   },
   "source": [
    "#### 6) AVERAGE_CALL_DURATION --> CHURN\n"
   ]
  },
  {
   "cell_type": "code",
   "execution_count": 91,
   "metadata": {
    "id": "sLRLSiEqizlt"
   },
   "outputs": [],
   "source": [
    "var = 'AVERAGE_CALL_DURATION'"
   ]
  },
  {
   "cell_type": "markdown",
   "metadata": {
    "id": "jWqn3Zg4izlt"
   },
   "source": [
    "① 그래프 : histogram, densityplot"
   ]
  },
  {
   "cell_type": "code",
   "execution_count": 92,
   "metadata": {
    "id": "TP6OFbBEizlt"
   },
   "outputs": [
    {
     "data": {
      "image/png": "[encoded data removed]",
      "text/plain": [
       "<Figure size 432x288 with 1 Axes>"
      ]
     },
     "metadata": {
      "needs_background": "light"
     },
     "output_type": "display_data"
    }
   ],
   "source": [
    "# 히스토그램\n",
    "sns.histplot(x=var, data = mobile, hue = target)\n",
    "plt.show()"
   ]
  },
  {
   "cell_type": "code",
   "execution_count": 93,
   "metadata": {
    "id": "vnAvw0iFizlu"
   },
   "outputs": [
    {
     "data": {
      "image/png": "[encoded data removed]",
      "text/plain": [
       "<Figure size 432x288 with 1 Axes>"
      ]
     },
     "metadata": {
      "needs_background": "light"
     },
     "output_type": "display_data"
    }
   ],
   "source": [
    "# density plot\n",
    "t0 = mobile.loc[mobile[target]==0]\n",
    "t1 = mobile.loc[mobile[target]==1]\n",
    "\n",
    "sns.kdeplot(x=var, data = t0, label = '0')\n",
    "sns.kdeplot(x=var, data = t1, label = '1')\n",
    "\n",
    "plt.legend()\n",
    "plt.show()"
   ]
  },
  {
   "cell_type": "markdown",
   "metadata": {
    "id": "-M9IgXK5izlu"
   },
   "source": [
    "시각화를 통해 파악한 내용을 적어 봅시다."
   ]
  },
  {
   "cell_type": "markdown",
   "metadata": {
    "id": "aq_GQ7peizlu"
   },
   "source": [
    "> * 평균 통화 시간이\n",
    "    * 3분이내 : 이탈율 높음 \n",
    "    * 3~7분 : 이탈율 낮음\n",
    "    * 7분이상 : 이탈율 약간 높음."
   ]
  },
  {
   "cell_type": "markdown",
   "metadata": {
    "id": "YRw4vjVBizlu"
   },
   "source": [
    "② 수치화 : 로지스틱회귀"
   ]
  },
  {
   "cell_type": "code",
   "execution_count": 94,
   "metadata": {
    "id": "wMZSCRhZizlu"
   },
   "outputs": [
    {
     "name": "stdout",
     "output_type": "stream",
     "text": [
      "Optimization terminated successfully.\n",
      "         Current function value: 0.693027\n",
      "         Iterations 3\n",
      "AVERAGE_CALL_DURATION    0.03783\n",
      "dtype: float64\n"
     ]
    }
   ],
   "source": [
    "model=sm.Logit(mobile[target], mobile[var])\n",
    "result=model.fit()\n",
    "print(result.pvalues)"
   ]
  },
  {
   "cell_type": "markdown",
   "metadata": {
    "id": "4O_XZnQuizlu"
   },
   "source": [
    "③ 시각화와 수치화를 통해 파악한 내용을 적어 봅시다."
   ]
  },
  {
   "cell_type": "markdown",
   "metadata": {
    "id": "Fwf-uvy9izlu"
   },
   "source": [
    "> * 그래프상으로 이탈율과 관련이 있다.\n",
    "* 로지스틱회귀로 부터 얻은 P-value 0.03으로 0.05보다는 작으나, 다른 값들에 비하면 약한 관계.\n",
    "* 결론: 로지스틱회귀로 부터 얻은 Pvalue는 미봉책이므로, 시각화로 얻은 정보를 바탕으로, 강한 관계"
   ]
  },
  {
   "cell_type": "markdown",
   "metadata": {
    "id": "Jd4WbbU-jqU3"
   },
   "source": [
    "## 4.관계 정리"
   ]
  },
  {
   "cell_type": "markdown",
   "metadata": {
    "id": "bKmN0rtAjto6"
   },
   "source": [
    "### 1) 강한관계의 변수"
   ]
  },
  {
   "cell_type": "markdown",
   "metadata": {
    "id": "BgUuHiHbjw62"
   },
   "source": [
    "* INCOME\n",
    "* OVERAGE\n",
    "* LEFTOVER\n",
    "* HOUSE\n",
    "* HANDSET_PRICE\n",
    "* AVERAGE_CALL_DURATION"
   ]
  },
  {
   "cell_type": "markdown",
   "metadata": {
    "id": "u8B765zNjwp5"
   },
   "source": [
    "### 2) 약한관계의 변수"
   ]
  },
  {
   "cell_type": "markdown",
   "metadata": {
    "id": "k9CJjmAljwjd"
   },
   "source": [
    "* COLLEGE"
   ]
  },
  {
   "cell_type": "markdown",
   "metadata": {
    "id": "eYiQ9OUijwdq"
   },
   "source": [
    "### 3) 관계 없음"
   ]
  },
  {
   "cell_type": "markdown",
   "metadata": {
    "id": "v0qkBnp3jwbE"
   },
   "source": [
    "* REPORTED_SATISFACTION\n",
    "* CONSIDERING_CHANGE_OF_PLAN"
   ]
  },
  {
   "cell_type": "markdown",
   "metadata": {
    "id": "nePF6KE6jlX6"
   },
   "source": [
    "### 4) 추가 분석"
   ]
  },
  {
   "cell_type": "code",
   "execution_count": null,
   "metadata": {
    "id": "B8E9F24bkYTn"
   },
   "outputs": [],
   "source": []
  }
 ],
 "metadata": {
  "colab": {
   "collapsed_sections": [],
   "name": "과제2. Mobile 고객 이탈 분석_답.ipynb",
   "provenance": [],
   "toc_visible": true
  },
  "kernelspec": {
   "display_name": "Python 3",
   "language": "python",
   "name": "python3"
  },
  "language_info": {
   "codemirror_mode": {
    "name": "ipython",
    "version": 3
   },
   "file_extension": ".py",
   "mimetype": "text/x-python",
   "name": "python",
   "nbconvert_exporter": "python",
   "pygments_lexer": "ipython3",
   "version": "3.8.8"
  }
 },
 "nbformat": 4,
 "nbformat_minor": 1
}
