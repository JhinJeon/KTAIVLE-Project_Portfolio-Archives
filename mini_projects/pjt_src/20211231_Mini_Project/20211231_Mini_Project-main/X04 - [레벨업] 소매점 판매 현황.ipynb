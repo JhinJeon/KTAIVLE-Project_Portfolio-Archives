{
 "cells": [
  {
   "cell_type": "markdown",
   "metadata": {
    "id": "BFhIXgdYoYGp"
   },
   "source": [
    "<center><img src='https://raw.githubusercontent.com/Jangrae/img/master/title.png' width=500/></center>"
   ]
  },
  {
   "cell_type": "markdown",
   "metadata": {
    "id": "d6jVPeiR2MK_"
   },
   "source": [
    "<center><img src='https://raw.githubusercontent.com/Jangrae/img/master/practice3.png' width=300/></center>"
   ]
  },
  {
   "cell_type": "markdown",
   "metadata": {
    "id": "ZogNxmpZgBMp"
   },
   "source": [
    "# 소매점 판매 현황"
   ]
  },
  {
   "cell_type": "markdown",
   "metadata": {
    "id": "0IUReT56gBMq"
   },
   "source": [
    "<img src='https://raw.githubusercontent.com/Jangrae/img/master/retail.png' width=\"650\" align=\"left\">"
   ]
  },
  {
   "cell_type": "markdown",
   "metadata": {
    "id": "qb1iLyXwGlnw"
   },
   "source": [
    "## 1.환경 설정\n",
    "\n",
    "- 데이터 탐색과 전처리를 하기 전 라이브러리와 파일을 읽어옵니다.\n",
    "- 시각화에 한글이 포함된 경우 이에 대한 설정을 진행합니다."
   ]
  },
  {
   "cell_type": "markdown",
   "metadata": {
    "id": "4Xz2TqMRgBMr"
   },
   "source": [
    "**1) 한글 설정**\n",
    "\n",
    "- Jupyter Notebook 시각화에 한글이 표시되게 설정합니다."
   ]
  },
  {
   "cell_type": "code",
   "execution_count": 43,
   "metadata": {
    "id": "CjQJWPwmgBMr"
   },
   "outputs": [],
   "source": [
    "# 라이브러리 불러오기\n",
    "import matplotlib \n",
    "import matplotlib.pyplot as plt\n",
    "\n",
    "# 폰트설정\n",
    "matplotlib.font_manager._rebuild()\n",
    "plt.rc('font', family='Malgun Gothic')\n",
    "plt.rcParams['axes.unicode_minus'] = False"
   ]
  },
  {
   "cell_type": "markdown",
   "metadata": {
    "id": "0uNXxebRGrd8"
   },
   "source": [
    "**2) 라이브러리 불러오기**\n",
    "\n",
    "- 사용할 라이브러리를 불러옵니다."
   ]
  },
  {
   "cell_type": "code",
   "execution_count": 44,
   "metadata": {
    "id": "zFm_DPTaUdqQ"
   },
   "outputs": [],
   "source": [
    "# 라이브러리 불러오기\n",
    "import numpy as np\n",
    "import pandas as pd\n",
    "import matplotlib.pyplot as plt\n",
    "\n",
    "%config InlineBackend.figure_format = 'retina'"
   ]
  },
  {
   "cell_type": "markdown",
   "metadata": {
    "id": "PcLUjkq0wxpF"
   },
   "source": [
    "**3) 데이터 읽어오기**\n",
    "\n",
    "- 다음 경로의 파일을 읽어와 customers, products, orders 데이터프레임을 만듭니다.\n",
    "- 파일 경로1: 'https://raw.githubusercontent.com/Jangrae/csv/master/customers.csv'    \n",
    "- 파일 경로2: 'https://raw.githubusercontent.com/Jangrae/csv/master/products.csv'\n",
    "- 파일 경로3: 'https://raw.githubusercontent.com/Jangrae/csv/master/orders.csv'\n",
    "- 단축 경로1: 'https://bit.ly/CustomersFile'    \n",
    "- 단축 경로2: 'https://bit.ly/ProductsFile'  \n",
    "- 단축 경로3: 'https://bit.ly/OrdersFile'  "
   ]
  },
  {
   "cell_type": "code",
   "execution_count": 45,
   "metadata": {
    "id": "91c9vKQ0E1A4"
   },
   "outputs": [
    {
     "data": {
      "text/html": [
       "<div>\n",
       "<style scoped>\n",
       "    .dataframe tbody tr th:only-of-type {\n",
       "        vertical-align: middle;\n",
       "    }\n",
       "\n",
       "    .dataframe tbody tr th {\n",
       "        vertical-align: top;\n",
       "    }\n",
       "\n",
       "    .dataframe thead th {\n",
       "        text-align: right;\n",
       "    }\n",
       "</style>\n",
       "<table border=\"1\" class=\"dataframe\">\n",
       "  <thead>\n",
       "    <tr style=\"text-align: right;\">\n",
       "      <th></th>\n",
       "      <th>CustomerID</th>\n",
       "      <th>RegisterDate</th>\n",
       "      <th>Address</th>\n",
       "      <th>Gender</th>\n",
       "      <th>BirthYear</th>\n",
       "      <th>Addr1</th>\n",
       "      <th>Addr2</th>\n",
       "    </tr>\n",
       "  </thead>\n",
       "  <tbody>\n",
       "    <tr>\n",
       "      <th>0</th>\n",
       "      <td>c017487</td>\n",
       "      <td>2002-07-31</td>\n",
       "      <td>경기 성남시 중원구 둔촌대로190번길</td>\n",
       "      <td>F</td>\n",
       "      <td>1968</td>\n",
       "      <td>경기도</td>\n",
       "      <td>성남시</td>\n",
       "    </tr>\n",
       "    <tr>\n",
       "      <th>1</th>\n",
       "      <td>c017503</td>\n",
       "      <td>2002-07-31</td>\n",
       "      <td>서울 마포구 새터산12길</td>\n",
       "      <td>F</td>\n",
       "      <td>1971</td>\n",
       "      <td>서울특별시</td>\n",
       "      <td>마포구</td>\n",
       "    </tr>\n",
       "    <tr>\n",
       "      <th>2</th>\n",
       "      <td>c017517</td>\n",
       "      <td>2002-07-31</td>\n",
       "      <td>경기도 남양주시 와부읍 덕소로</td>\n",
       "      <td>M</td>\n",
       "      <td>1967</td>\n",
       "      <td>경기도</td>\n",
       "      <td>남양주시</td>\n",
       "    </tr>\n",
       "    <tr>\n",
       "      <th>3</th>\n",
       "      <td>c017522</td>\n",
       "      <td>2002-07-31</td>\n",
       "      <td>강원도 원주시 단구로</td>\n",
       "      <td>F</td>\n",
       "      <td>1965</td>\n",
       "      <td>강원도</td>\n",
       "      <td>원주시</td>\n",
       "    </tr>\n",
       "    <tr>\n",
       "      <th>4</th>\n",
       "      <td>c017526</td>\n",
       "      <td>2002-07-31</td>\n",
       "      <td>경기도 부천시 오정구 소사로730번길</td>\n",
       "      <td>F</td>\n",
       "      <td>1960</td>\n",
       "      <td>경기도</td>\n",
       "      <td>부천시</td>\n",
       "    </tr>\n",
       "  </tbody>\n",
       "</table>\n",
       "</div>"
      ],
      "text/plain": [
       "  CustomerID RegisterDate               Address Gender  BirthYear  Addr1 Addr2\n",
       "0    c017487   2002-07-31  경기 성남시 중원구 둔촌대로190번길      F       1968    경기도   성남시\n",
       "1    c017503   2002-07-31         서울 마포구 새터산12길      F       1971  서울특별시   마포구\n",
       "2    c017517   2002-07-31      경기도 남양주시 와부읍 덕소로      M       1967    경기도  남양주시\n",
       "3    c017522   2002-07-31           강원도 원주시 단구로      F       1965    강원도   원주시\n",
       "4    c017526   2002-07-31  경기도 부천시 오정구 소사로730번길      F       1960    경기도   부천시"
      ]
     },
     "execution_count": 45,
     "metadata": {},
     "output_type": "execute_result"
    }
   ],
   "source": [
    "\n",
    "path1 = 'https://bit.ly/CustomersFile'\n",
    "customers = pd.read_csv(path1)\n",
    "\n",
    "customers.head()"
   ]
  },
  {
   "cell_type": "code",
   "execution_count": 46,
   "metadata": {
    "id": "QSedynVWEp3W"
   },
   "outputs": [
    {
     "data": {
      "text/html": [
       "<div>\n",
       "<style scoped>\n",
       "    .dataframe tbody tr th:only-of-type {\n",
       "        vertical-align: middle;\n",
       "    }\n",
       "\n",
       "    .dataframe tbody tr th {\n",
       "        vertical-align: top;\n",
       "    }\n",
       "\n",
       "    .dataframe thead th {\n",
       "        text-align: right;\n",
       "    }\n",
       "</style>\n",
       "<table border=\"1\" class=\"dataframe\">\n",
       "  <thead>\n",
       "    <tr style=\"text-align: right;\">\n",
       "      <th></th>\n",
       "      <th>ProductID</th>\n",
       "      <th>ProductName</th>\n",
       "      <th>Category</th>\n",
       "      <th>SubCategory</th>\n",
       "      <th>CategoryOrd</th>\n",
       "    </tr>\n",
       "  </thead>\n",
       "  <tbody>\n",
       "    <tr>\n",
       "      <th>0</th>\n",
       "      <td>p1001771</td>\n",
       "      <td>마늘</td>\n",
       "      <td>채소</td>\n",
       "      <td>뿌리채소</td>\n",
       "      <td>5</td>\n",
       "    </tr>\n",
       "    <tr>\n",
       "      <th>1</th>\n",
       "      <td>p1002841</td>\n",
       "      <td>딸기_대</td>\n",
       "      <td>과일</td>\n",
       "      <td>과채</td>\n",
       "      <td>2</td>\n",
       "    </tr>\n",
       "    <tr>\n",
       "      <th>2</th>\n",
       "      <td>p1005621</td>\n",
       "      <td>숙주나물</td>\n",
       "      <td>반찬류</td>\n",
       "      <td>나물류</td>\n",
       "      <td>1</td>\n",
       "    </tr>\n",
       "    <tr>\n",
       "      <th>3</th>\n",
       "      <td>p1005771</td>\n",
       "      <td>두부_소</td>\n",
       "      <td>반찬류</td>\n",
       "      <td>두부</td>\n",
       "      <td>1</td>\n",
       "    </tr>\n",
       "    <tr>\n",
       "      <th>4</th>\n",
       "      <td>p1005891</td>\n",
       "      <td>두부_대</td>\n",
       "      <td>반찬류</td>\n",
       "      <td>두부</td>\n",
       "      <td>1</td>\n",
       "    </tr>\n",
       "  </tbody>\n",
       "</table>\n",
       "</div>"
      ],
      "text/plain": [
       "  ProductID ProductName Category SubCategory  CategoryOrd\n",
       "0  p1001771          마늘       채소        뿌리채소            5\n",
       "1  p1002841        딸기_대       과일          과채            2\n",
       "2  p1005621        숙주나물      반찬류         나물류            1\n",
       "3  p1005771        두부_소      반찬류          두부            1\n",
       "4  p1005891        두부_대      반찬류          두부            1"
      ]
     },
     "execution_count": 46,
     "metadata": {},
     "output_type": "execute_result"
    }
   ],
   "source": [
    "path2 = 'https://bit.ly/ProductsFile' #CategoryOrd는 무시\n",
    "products = pd.read_csv(path2)\n",
    "\n",
    "products.head()"
   ]
  },
  {
   "cell_type": "code",
   "execution_count": 47,
   "metadata": {
    "id": "OPfgGedaEqnw"
   },
   "outputs": [
    {
     "data": {
      "text/html": [
       "<div>\n",
       "<style scoped>\n",
       "    .dataframe tbody tr th:only-of-type {\n",
       "        vertical-align: middle;\n",
       "    }\n",
       "\n",
       "    .dataframe tbody tr th {\n",
       "        vertical-align: top;\n",
       "    }\n",
       "\n",
       "    .dataframe thead th {\n",
       "        text-align: right;\n",
       "    }\n",
       "</style>\n",
       "<table border=\"1\" class=\"dataframe\">\n",
       "  <thead>\n",
       "    <tr style=\"text-align: right;\">\n",
       "      <th></th>\n",
       "      <th>OrderID</th>\n",
       "      <th>Seq</th>\n",
       "      <th>OrderDate</th>\n",
       "      <th>ProductID</th>\n",
       "      <th>Qty</th>\n",
       "      <th>Amt</th>\n",
       "      <th>CustomerID</th>\n",
       "    </tr>\n",
       "  </thead>\n",
       "  <tbody>\n",
       "    <tr>\n",
       "      <th>0</th>\n",
       "      <td>1</td>\n",
       "      <td>1</td>\n",
       "      <td>2016-01-02</td>\n",
       "      <td>p1030071</td>\n",
       "      <td>2</td>\n",
       "      <td>7900</td>\n",
       "      <td>c107853</td>\n",
       "    </tr>\n",
       "    <tr>\n",
       "      <th>1</th>\n",
       "      <td>2</td>\n",
       "      <td>1</td>\n",
       "      <td>2016-01-02</td>\n",
       "      <td>p1012761</td>\n",
       "      <td>1</td>\n",
       "      <td>1700</td>\n",
       "      <td>c110521</td>\n",
       "    </tr>\n",
       "    <tr>\n",
       "      <th>2</th>\n",
       "      <td>2</td>\n",
       "      <td>2</td>\n",
       "      <td>2016-01-02</td>\n",
       "      <td>p1012581</td>\n",
       "      <td>1</td>\n",
       "      <td>1000</td>\n",
       "      <td>c110521</td>\n",
       "    </tr>\n",
       "    <tr>\n",
       "      <th>3</th>\n",
       "      <td>2</td>\n",
       "      <td>3</td>\n",
       "      <td>2016-01-02</td>\n",
       "      <td>p1175481</td>\n",
       "      <td>1</td>\n",
       "      <td>1300</td>\n",
       "      <td>c110521</td>\n",
       "    </tr>\n",
       "    <tr>\n",
       "      <th>4</th>\n",
       "      <td>2</td>\n",
       "      <td>4</td>\n",
       "      <td>2016-01-02</td>\n",
       "      <td>p1178011</td>\n",
       "      <td>1</td>\n",
       "      <td>8800</td>\n",
       "      <td>c110521</td>\n",
       "    </tr>\n",
       "  </tbody>\n",
       "</table>\n",
       "</div>"
      ],
      "text/plain": [
       "   OrderID  Seq   OrderDate ProductID  Qty   Amt CustomerID\n",
       "0        1    1  2016-01-02  p1030071    2  7900    c107853\n",
       "1        2    1  2016-01-02  p1012761    1  1700    c110521\n",
       "2        2    2  2016-01-02  p1012581    1  1000    c110521\n",
       "3        2    3  2016-01-02  p1175481    1  1300    c110521\n",
       "4        2    4  2016-01-02  p1178011    1  8800    c110521"
      ]
     },
     "execution_count": 47,
     "metadata": {},
     "output_type": "execute_result"
    }
   ],
   "source": [
    "path3 = 'https://bit.ly/OrdersFile'\n",
    "orders = pd.read_csv(path3)\n",
    "\n",
    "orders.head()\n",
    "\n"
   ]
  },
  {
   "cell_type": "markdown",
   "metadata": {
    "id": "H4KWZGI8HBIA"
   },
   "source": [
    "## 2.데이터 탐색\n",
    "\n",
    "다음과 같은 정보 확인을 통해 처리할 대상 데이터를 이해합니다.\n",
    "- 상/하위 데이터 확인\n",
    "- 데이터프레임 크기 확인\n",
    "- 열 이름, 데이터 형식, 값 개수 등 확인\n",
    "- 기초 통계정보 확인\n",
    "- 결측치 확인\n",
    "- 범주형 데이터 확인\n",
    "- 개별 열 값 상세 확인 등"
   ]
  },
  {
   "cell_type": "markdown",
   "metadata": {
    "id": "X7I-KgAjJ60t"
   },
   "source": [
    "**1) 고객 정보(customers) 4가지 이상 탐색**\n",
    "\n",
    "- customers 데이터프레임을 충분히 탐색합니다.\n",
    "- 간단한 집계를 수행해 보는 것도 좋은 방법입니다."
   ]
  },
  {
   "cell_type": "code",
   "execution_count": 48,
   "metadata": {
    "id": "SBDudJlmHDOi"
   },
   "outputs": [
    {
     "data": {
      "text/plain": [
       "(2243, 7)"
      ]
     },
     "execution_count": 48,
     "metadata": {},
     "output_type": "execute_result"
    }
   ],
   "source": [
    "#행,열 개수 확인\n",
    "\n",
    "customers.shape"
   ]
  },
  {
   "cell_type": "code",
   "execution_count": 49,
   "metadata": {
    "id": "x9_8MKEwtWFZ"
   },
   "outputs": [
    {
     "data": {
      "text/plain": [
       "CustomerID      0\n",
       "RegisterDate    0\n",
       "Address         0\n",
       "Gender          0\n",
       "BirthYear       0\n",
       "Addr1           0\n",
       "Addr2           0\n",
       "dtype: int64"
      ]
     },
     "execution_count": 49,
     "metadata": {},
     "output_type": "execute_result"
    }
   ],
   "source": [
    "#결측치 확인\n",
    "\n",
    "customers.isnull().sum()"
   ]
  },
  {
   "cell_type": "code",
   "execution_count": 50,
   "metadata": {
    "id": "3BTuZtbRs4HO"
   },
   "outputs": [
    {
     "data": {
      "text/html": [
       "<div>\n",
       "<style scoped>\n",
       "    .dataframe tbody tr th:only-of-type {\n",
       "        vertical-align: middle;\n",
       "    }\n",
       "\n",
       "    .dataframe tbody tr th {\n",
       "        vertical-align: top;\n",
       "    }\n",
       "\n",
       "    .dataframe thead th {\n",
       "        text-align: right;\n",
       "    }\n",
       "</style>\n",
       "<table border=\"1\" class=\"dataframe\">\n",
       "  <thead>\n",
       "    <tr style=\"text-align: right;\">\n",
       "      <th></th>\n",
       "      <th>BirthYear</th>\n",
       "    </tr>\n",
       "  </thead>\n",
       "  <tbody>\n",
       "    <tr>\n",
       "      <th>count</th>\n",
       "      <td>2243.000000</td>\n",
       "    </tr>\n",
       "    <tr>\n",
       "      <th>mean</th>\n",
       "      <td>1971.107445</td>\n",
       "    </tr>\n",
       "    <tr>\n",
       "      <th>std</th>\n",
       "      <td>9.658465</td>\n",
       "    </tr>\n",
       "    <tr>\n",
       "      <th>min</th>\n",
       "      <td>1932.000000</td>\n",
       "    </tr>\n",
       "    <tr>\n",
       "      <th>25%</th>\n",
       "      <td>1966.000000</td>\n",
       "    </tr>\n",
       "    <tr>\n",
       "      <th>50%</th>\n",
       "      <td>1972.000000</td>\n",
       "    </tr>\n",
       "    <tr>\n",
       "      <th>75%</th>\n",
       "      <td>1978.000000</td>\n",
       "    </tr>\n",
       "    <tr>\n",
       "      <th>max</th>\n",
       "      <td>1999.000000</td>\n",
       "    </tr>\n",
       "  </tbody>\n",
       "</table>\n",
       "</div>"
      ],
      "text/plain": [
       "         BirthYear\n",
       "count  2243.000000\n",
       "mean   1971.107445\n",
       "std       9.658465\n",
       "min    1932.000000\n",
       "25%    1966.000000\n",
       "50%    1972.000000\n",
       "75%    1978.000000\n",
       "max    1999.000000"
      ]
     },
     "execution_count": 50,
     "metadata": {},
     "output_type": "execute_result"
    }
   ],
   "source": [
    "#기초통계정보\n",
    "\n",
    "customers.describe()"
   ]
  },
  {
   "cell_type": "code",
   "execution_count": 51,
   "metadata": {
    "id": "vAZLgCLXKCMB"
   },
   "outputs": [
    {
     "name": "stdout",
     "output_type": "stream",
     "text": [
      "<class 'pandas.core.frame.DataFrame'>\n",
      "RangeIndex: 2243 entries, 0 to 2242\n",
      "Data columns (total 7 columns):\n",
      " #   Column        Non-Null Count  Dtype \n",
      "---  ------        --------------  ----- \n",
      " 0   CustomerID    2243 non-null   object\n",
      " 1   RegisterDate  2243 non-null   object\n",
      " 2   Address       2243 non-null   object\n",
      " 3   Gender        2243 non-null   object\n",
      " 4   BirthYear     2243 non-null   int64 \n",
      " 5   Addr1         2243 non-null   object\n",
      " 6   Addr2         2243 non-null   object\n",
      "dtypes: int64(1), object(6)\n",
      "memory usage: 122.8+ KB\n"
     ]
    }
   ],
   "source": [
    "#통계 정보\n",
    "\n",
    "customers.info()"
   ]
  },
  {
   "cell_type": "code",
   "execution_count": 52,
   "metadata": {
    "id": "SYVsLxh6KguC"
   },
   "outputs": [
    {
     "data": {
      "text/plain": [
       "F    2060\n",
       "M     183\n",
       "Name: Gender, dtype: int64"
      ]
     },
     "execution_count": 52,
     "metadata": {},
     "output_type": "execute_result"
    }
   ],
   "source": [
    "#성별(Gender) 정보\n",
    "\n",
    "customers['Gender'].value_counts(False)"
   ]
  },
  {
   "cell_type": "code",
   "execution_count": 53,
   "metadata": {
    "id": "RlaiQ6xOGNvx"
   },
   "outputs": [
    {
     "data": {
      "text/plain": [
       "1973    122\n",
       "1971    116\n",
       "1974    107\n",
       "1979    105\n",
       "1970    104\n",
       "       ... \n",
       "1939      2\n",
       "1936      1\n",
       "1994      1\n",
       "1995      1\n",
       "1999      1\n",
       "Name: BirthYear, Length: 62, dtype: int64"
      ]
     },
     "execution_count": 53,
     "metadata": {},
     "output_type": "execute_result"
    }
   ],
   "source": [
    "#출생년 정보\n",
    "\n",
    "customers['BirthYear'].value_counts(False)"
   ]
  },
  {
   "cell_type": "code",
   "execution_count": 54,
   "metadata": {
    "id": "z8eUFVYTGNvy"
   },
   "outputs": [
    {
     "data": {
      "text/plain": [
       "경기도      1260\n",
       "서울특별시     564\n",
       "인천광역시     325\n",
       "강원도        62\n",
       "충청북도        8\n",
       "대구광역시       8\n",
       "충청남도        6\n",
       "광주광역시       3\n",
       "전라남도        3\n",
       "경상북도        2\n",
       "경상남도        1\n",
       "전라북도        1\n",
       "Name: Addr1, dtype: int64"
      ]
     },
     "execution_count": 54,
     "metadata": {},
     "output_type": "execute_result"
    }
   ],
   "source": [
    "#시군 정보\n",
    "\n",
    "customers['Addr1'].value_counts(False)"
   ]
  },
  {
   "cell_type": "code",
   "execution_count": 55,
   "metadata": {
    "id": "PUYIHVzYGNvy"
   },
   "outputs": [
    {
     "data": {
      "text/plain": [
       "2002-07-31    40\n",
       "2015-12-26     6\n",
       "2014-03-10     5\n",
       "2009-09-02     5\n",
       "2016-01-11     5\n",
       "              ..\n",
       "2006-06-01     1\n",
       "2013-11-08     1\n",
       "2009-02-02     1\n",
       "2015-07-22     1\n",
       "2012-03-06     1\n",
       "Name: RegisterDate, Length: 1642, dtype: int64"
      ]
     },
     "execution_count": 55,
     "metadata": {},
     "output_type": "execute_result"
    }
   ],
   "source": [
    "#등록일 정보\n",
    "\n",
    "customers['RegisterDate'].value_counts(False)"
   ]
  },
  {
   "cell_type": "markdown",
   "metadata": {
    "id": "ktmISAkXgBM0"
   },
   "source": [
    "**2) 상품 정보(products) 4가지 이상 탐색**\n",
    "\n",
    "- products 데이터프레임을 충분히 탐색합니다.\n",
    "- 간단한 집계를 수행해 보는 것도 좋은 방법입니다."
   ]
  },
  {
   "cell_type": "code",
   "execution_count": 56,
   "metadata": {
    "id": "xmhzfhVlgBM0"
   },
   "outputs": [
    {
     "data": {
      "text/plain": [
       "(62, 5)"
      ]
     },
     "execution_count": 56,
     "metadata": {},
     "output_type": "execute_result"
    }
   ],
   "source": [
    "#행,열 개수 확인\n",
    "\n",
    "products.shape"
   ]
  },
  {
   "cell_type": "code",
   "execution_count": 57,
   "metadata": {
    "id": "C_IRCYhStTmn"
   },
   "outputs": [
    {
     "data": {
      "text/plain": [
       "ProductID      0\n",
       "ProductName    0\n",
       "Category       0\n",
       "SubCategory    0\n",
       "CategoryOrd    0\n",
       "dtype: int64"
      ]
     },
     "execution_count": 57,
     "metadata": {},
     "output_type": "execute_result"
    }
   ],
   "source": [
    "#결측치 확인\n",
    "\n",
    "products.isnull().sum()"
   ]
  },
  {
   "cell_type": "code",
   "execution_count": 58,
   "metadata": {
    "id": "2UORrtJftFR2"
   },
   "outputs": [
    {
     "data": {
      "text/plain": [
       "채소     23\n",
       "유제품    14\n",
       "간식     11\n",
       "반찬류     8\n",
       "과일      6\n",
       "Name: Category, dtype: int64"
      ]
     },
     "execution_count": 58,
     "metadata": {},
     "output_type": "execute_result"
    }
   ],
   "source": [
    "#제품군(Category) 종류 확인\n",
    "\n",
    "products['Category'].value_counts(False)"
   ]
  },
  {
   "cell_type": "code",
   "execution_count": 59,
   "metadata": {
    "id": "tNMknvcbgBM0"
   },
   "outputs": [
    {
     "data": {
      "text/plain": [
       "당근         3\n",
       "감자칩        2\n",
       "양배출        1\n",
       "사과_대       1\n",
       "무          1\n",
       "무농약시금치     1\n",
       "팽이버섯       1\n",
       "우유1000     1\n",
       "통단팥빵       1\n",
       "뿌셔뿌셔       1\n",
       "팥아이스크림     1\n",
       "참외         1\n",
       "딸기요거트      1\n",
       "소보루빵       1\n",
       "두부_대       1\n",
       "마늘         1\n",
       "플레인요거트     1\n",
       "고구마스틱      1\n",
       "열무         1\n",
       "사과아이스크림    1\n",
       "콘칩         1\n",
       "딸기아이스크림    1\n",
       "순두부        1\n",
       "딸기_대       1\n",
       "청오이        1\n",
       "양파         1\n",
       "두부_소       1\n",
       "새우깡        1\n",
       "콩나물        1\n",
       "초코아이스크림    1\n",
       "느타리버섯      1\n",
       "초코콘        1\n",
       "애호박        1\n",
       "깻잎         1\n",
       "낱개캔디       1\n",
       "백오이        1\n",
       "브로컬리       1\n",
       "초코우유       1\n",
       "연두부        1\n",
       "감귤컵푸딩      1\n",
       "쌈모음        1\n",
       "상추         1\n",
       "피망         1\n",
       "토마토        1\n",
       "숙주나물       1\n",
       "저지방우유      1\n",
       "딸기_소       1\n",
       "시금치        1\n",
       "배아이스크림     1\n",
       "유부         1\n",
       "우유200      1\n",
       "포도컵푸딩      1\n",
       "부침용두부      1\n",
       "파          1\n",
       "사과_소       1\n",
       "짱구         1\n",
       "부추         1\n",
       "포토아이스크림    1\n",
       "유기농우유      1\n",
       "Name: ProductName, dtype: int64"
      ]
     },
     "execution_count": 59,
     "metadata": {},
     "output_type": "execute_result"
    }
   ],
   "source": [
    "#제품(ProductName) 확인\n",
    "\n",
    "products['ProductName'].value_counts(False)"
   ]
  },
  {
   "cell_type": "code",
   "execution_count": 60,
   "metadata": {
    "id": "50EpPpSJGNVV"
   },
   "outputs": [
    {
     "data": {
      "text/plain": [
       "Category  SubCategory\n",
       "채소        뿌리채소           9\n",
       "          잎채소            8\n",
       "유제품       아이스크림          7\n",
       "간식        과자             6\n",
       "반찬류       두부             6\n",
       "유제품       우유             5\n",
       "과일        과채             4\n",
       "채소        열매채소           4\n",
       "간식        사탕류            3\n",
       "          빵              2\n",
       "과일        과수             2\n",
       "반찬류       나물류            2\n",
       "유제품       요거트            2\n",
       "채소        버섯             2\n",
       "dtype: int64"
      ]
     },
     "execution_count": 60,
     "metadata": {},
     "output_type": "execute_result"
    }
   ],
   "source": [
    "#제품목록(Category, SubCategory) 종류 확인\n",
    "\n",
    "products[['Category', 'SubCategory']].value_counts()"
   ]
  },
  {
   "cell_type": "code",
   "execution_count": 61,
   "metadata": {
    "id": "WxG2uaoRGNVW"
   },
   "outputs": [
    {
     "data": {
      "text/plain": [
       "p1234751    1\n",
       "p1149391    1\n",
       "p1256521    1\n",
       "p1012811    1\n",
       "p1233511    1\n",
       "           ..\n",
       "p1162631    1\n",
       "p1012751    1\n",
       "p1179241    1\n",
       "p1144371    1\n",
       "p1013251    1\n",
       "Name: ProductID, Length: 62, dtype: int64"
      ]
     },
     "execution_count": 61,
     "metadata": {},
     "output_type": "execute_result"
    }
   ],
   "source": [
    "#혹시 ProductID가 중복되는 값이 있는지?\n",
    "\n",
    "products['ProductID'].value_counts(False)"
   ]
  },
  {
   "cell_type": "code",
   "execution_count": 62,
   "metadata": {
    "id": "HFmk-QPmGNVW"
   },
   "outputs": [],
   "source": [
    "#(진행중) 문자열에서 ''-소 -대' 떼기\n"
   ]
  },
  {
   "cell_type": "markdown",
   "metadata": {
    "id": "Ek_BgBX7gBM1"
   },
   "source": [
    "**3) 주문 정보(orders) 4가지 이상 탐색**\n",
    "\n",
    "- orders 데이터프레임을 충분히 탐색합니다.\n",
    "- 간단한 집계를 수행해 보는 것도 좋은 방법입니다."
   ]
  },
  {
   "cell_type": "code",
   "execution_count": 63,
   "metadata": {
    "id": "6550xr-LgBM1"
   },
   "outputs": [
    {
     "data": {
      "text/plain": [
       "(68839, 7)"
      ]
     },
     "execution_count": 63,
     "metadata": {},
     "output_type": "execute_result"
    }
   ],
   "source": [
    "#orders 행, 열 개수 확인\n",
    "\n",
    "orders.shape"
   ]
  },
  {
   "cell_type": "code",
   "execution_count": 64,
   "metadata": {
    "id": "Az3Ms14YgBM1"
   },
   "outputs": [
    {
     "data": {
      "text/plain": [
       "OrderID       0\n",
       "Seq           0\n",
       "OrderDate     0\n",
       "ProductID     0\n",
       "Qty           0\n",
       "Amt           0\n",
       "CustomerID    0\n",
       "dtype: int64"
      ]
     },
     "execution_count": 64,
     "metadata": {},
     "output_type": "execute_result"
    }
   ],
   "source": [
    "#결측치 확인\n",
    "\n",
    "orders.isnull().sum()"
   ]
  },
  {
   "cell_type": "code",
   "execution_count": 65,
   "metadata": {
    "id": "jaTP8tS2tJOT"
   },
   "outputs": [
    {
     "data": {
      "text/plain": [
       "2016-02-06    313\n",
       "2017-01-26    285\n",
       "2016-05-02    279\n",
       "2016-09-02    255\n",
       "2016-09-13    253\n",
       "             ... \n",
       "2016-09-11     69\n",
       "2016-10-16     68\n",
       "2016-12-25     67\n",
       "2016-07-10     66\n",
       "2017-02-26     59\n",
       "Name: OrderDate, Length: 447, dtype: int64"
      ]
     },
     "execution_count": 65,
     "metadata": {},
     "output_type": "execute_result"
    }
   ],
   "source": [
    "#어떤 날짜에 몰렸는지?\n",
    "\n",
    "orders['OrderDate'].value_counts(False)"
   ]
  },
  {
   "cell_type": "code",
   "execution_count": 66,
   "metadata": {
    "id": "Gb4qRTALgBM2"
   },
   "outputs": [
    {
     "data": {
      "text/html": [
       "<div>\n",
       "<style scoped>\n",
       "    .dataframe tbody tr th:only-of-type {\n",
       "        vertical-align: middle;\n",
       "    }\n",
       "\n",
       "    .dataframe tbody tr th {\n",
       "        vertical-align: top;\n",
       "    }\n",
       "\n",
       "    .dataframe thead th {\n",
       "        text-align: right;\n",
       "    }\n",
       "</style>\n",
       "<table border=\"1\" class=\"dataframe\">\n",
       "  <thead>\n",
       "    <tr style=\"text-align: right;\">\n",
       "      <th></th>\n",
       "      <th>OrderID</th>\n",
       "      <th>Seq</th>\n",
       "      <th>OrderDate</th>\n",
       "      <th>ProductID</th>\n",
       "      <th>Qty</th>\n",
       "      <th>Amt</th>\n",
       "      <th>CustomerID</th>\n",
       "      <th>Income</th>\n",
       "    </tr>\n",
       "  </thead>\n",
       "  <tbody>\n",
       "    <tr>\n",
       "      <th>0</th>\n",
       "      <td>1</td>\n",
       "      <td>1</td>\n",
       "      <td>2016-01-02</td>\n",
       "      <td>p1030071</td>\n",
       "      <td>2</td>\n",
       "      <td>7900</td>\n",
       "      <td>c107853</td>\n",
       "      <td>15800</td>\n",
       "    </tr>\n",
       "    <tr>\n",
       "      <th>1</th>\n",
       "      <td>2</td>\n",
       "      <td>1</td>\n",
       "      <td>2016-01-02</td>\n",
       "      <td>p1012761</td>\n",
       "      <td>1</td>\n",
       "      <td>1700</td>\n",
       "      <td>c110521</td>\n",
       "      <td>1700</td>\n",
       "    </tr>\n",
       "    <tr>\n",
       "      <th>2</th>\n",
       "      <td>2</td>\n",
       "      <td>2</td>\n",
       "      <td>2016-01-02</td>\n",
       "      <td>p1012581</td>\n",
       "      <td>1</td>\n",
       "      <td>1000</td>\n",
       "      <td>c110521</td>\n",
       "      <td>1000</td>\n",
       "    </tr>\n",
       "    <tr>\n",
       "      <th>3</th>\n",
       "      <td>2</td>\n",
       "      <td>3</td>\n",
       "      <td>2016-01-02</td>\n",
       "      <td>p1175481</td>\n",
       "      <td>1</td>\n",
       "      <td>1300</td>\n",
       "      <td>c110521</td>\n",
       "      <td>1300</td>\n",
       "    </tr>\n",
       "    <tr>\n",
       "      <th>4</th>\n",
       "      <td>2</td>\n",
       "      <td>4</td>\n",
       "      <td>2016-01-02</td>\n",
       "      <td>p1178011</td>\n",
       "      <td>1</td>\n",
       "      <td>8800</td>\n",
       "      <td>c110521</td>\n",
       "      <td>8800</td>\n",
       "    </tr>\n",
       "  </tbody>\n",
       "</table>\n",
       "</div>"
      ],
      "text/plain": [
       "   OrderID  Seq   OrderDate ProductID  Qty   Amt CustomerID  Income\n",
       "0        1    1  2016-01-02  p1030071    2  7900    c107853   15800\n",
       "1        2    1  2016-01-02  p1012761    1  1700    c110521    1700\n",
       "2        2    2  2016-01-02  p1012581    1  1000    c110521    1000\n",
       "3        2    3  2016-01-02  p1175481    1  1300    c110521    1300\n",
       "4        2    4  2016-01-02  p1178011    1  8800    c110521    8800"
      ]
     },
     "execution_count": 66,
     "metadata": {},
     "output_type": "execute_result"
    }
   ],
   "source": [
    "#매출액 집계\n",
    "\n",
    "orders['Income'] = orders['Qty'] * orders['Amt']\n",
    "\n",
    "orders.head()"
   ]
  },
  {
   "cell_type": "code",
   "execution_count": 67,
   "metadata": {
    "id": "9HLuVi0UgBM2"
   },
   "outputs": [
    {
     "data": {
      "text/plain": [
       "p1175481    4905\n",
       "p1005891    3937\n",
       "p1072601    3480\n",
       "p1005771    3378\n",
       "p1012751    2856\n",
       "            ... \n",
       "p1152861     417\n",
       "p1006281     373\n",
       "p1149381     345\n",
       "p1234751     277\n",
       "p1201601     260\n",
       "Name: ProductID, Length: 62, dtype: int64"
      ]
     },
     "execution_count": 67,
     "metadata": {},
     "output_type": "execute_result"
    }
   ],
   "source": [
    "#어떤 상품을 많이 주문했지?\n",
    "\n",
    "orders['ProductID'].value_counts(False)"
   ]
  },
  {
   "cell_type": "code",
   "execution_count": 68,
   "metadata": {
    "id": "Dz8NnIutGMwy"
   },
   "outputs": [
    {
     "data": {
      "text/plain": [
       "2016-02-06    313\n",
       "2017-01-26    285\n",
       "2016-05-02    279\n",
       "2016-09-02    255\n",
       "2016-09-13    253\n",
       "             ... \n",
       "2016-09-11     69\n",
       "2016-10-16     68\n",
       "2016-12-25     67\n",
       "2016-07-10     66\n",
       "2017-02-26     59\n",
       "Name: OrderDate, Length: 447, dtype: int64"
      ]
     },
     "execution_count": 68,
     "metadata": {},
     "output_type": "execute_result"
    }
   ],
   "source": [
    "#언제 주문이 많이 몰렸나\n",
    "\n",
    "orders['OrderDate'].value_counts(False)"
   ]
  },
  {
   "cell_type": "code",
   "execution_count": 69,
   "metadata": {
    "id": "wSVyCChjGMw4"
   },
   "outputs": [
    {
     "data": {
      "text/html": [
       "<div>\n",
       "<style scoped>\n",
       "    .dataframe tbody tr th:only-of-type {\n",
       "        vertical-align: middle;\n",
       "    }\n",
       "\n",
       "    .dataframe tbody tr th {\n",
       "        vertical-align: top;\n",
       "    }\n",
       "\n",
       "    .dataframe thead th {\n",
       "        text-align: right;\n",
       "    }\n",
       "</style>\n",
       "<table border=\"1\" class=\"dataframe\">\n",
       "  <thead>\n",
       "    <tr style=\"text-align: right;\">\n",
       "      <th></th>\n",
       "      <th>OrderID</th>\n",
       "      <th>Seq</th>\n",
       "      <th>OrderDate</th>\n",
       "      <th>ProductID</th>\n",
       "      <th>Qty</th>\n",
       "      <th>Amt</th>\n",
       "      <th>CustomerID</th>\n",
       "      <th>Income</th>\n",
       "    </tr>\n",
       "  </thead>\n",
       "  <tbody>\n",
       "    <tr>\n",
       "      <th>0</th>\n",
       "      <td>1</td>\n",
       "      <td>1</td>\n",
       "      <td>20160102</td>\n",
       "      <td>p1030071</td>\n",
       "      <td>2</td>\n",
       "      <td>7900</td>\n",
       "      <td>c107853</td>\n",
       "      <td>15800</td>\n",
       "    </tr>\n",
       "    <tr>\n",
       "      <th>1</th>\n",
       "      <td>2</td>\n",
       "      <td>1</td>\n",
       "      <td>20160102</td>\n",
       "      <td>p1012761</td>\n",
       "      <td>1</td>\n",
       "      <td>1700</td>\n",
       "      <td>c110521</td>\n",
       "      <td>1700</td>\n",
       "    </tr>\n",
       "    <tr>\n",
       "      <th>2</th>\n",
       "      <td>2</td>\n",
       "      <td>2</td>\n",
       "      <td>20160102</td>\n",
       "      <td>p1012581</td>\n",
       "      <td>1</td>\n",
       "      <td>1000</td>\n",
       "      <td>c110521</td>\n",
       "      <td>1000</td>\n",
       "    </tr>\n",
       "    <tr>\n",
       "      <th>3</th>\n",
       "      <td>2</td>\n",
       "      <td>3</td>\n",
       "      <td>20160102</td>\n",
       "      <td>p1175481</td>\n",
       "      <td>1</td>\n",
       "      <td>1300</td>\n",
       "      <td>c110521</td>\n",
       "      <td>1300</td>\n",
       "    </tr>\n",
       "    <tr>\n",
       "      <th>4</th>\n",
       "      <td>2</td>\n",
       "      <td>4</td>\n",
       "      <td>20160102</td>\n",
       "      <td>p1178011</td>\n",
       "      <td>1</td>\n",
       "      <td>8800</td>\n",
       "      <td>c110521</td>\n",
       "      <td>8800</td>\n",
       "    </tr>\n",
       "  </tbody>\n",
       "</table>\n",
       "</div>"
      ],
      "text/plain": [
       "   OrderID  Seq OrderDate ProductID  Qty   Amt CustomerID  Income\n",
       "0        1    1  20160102  p1030071    2  7900    c107853   15800\n",
       "1        2    1  20160102  p1012761    1  1700    c110521    1700\n",
       "2        2    2  20160102  p1012581    1  1000    c110521    1000\n",
       "3        2    3  20160102  p1175481    1  1300    c110521    1300\n",
       "4        2    4  20160102  p1178011    1  8800    c110521    8800"
      ]
     },
     "execution_count": 69,
     "metadata": {},
     "output_type": "execute_result"
    }
   ],
   "source": [
    "#날짜 정리\n",
    "\n",
    "orders['OrderDate'] = orders['OrderDate'].str.replace(pat=r'[^\\w]', repl=r'', regex=True)\n",
    "\n",
    "orders.head()"
   ]
  },
  {
   "cell_type": "markdown",
   "metadata": {
    "id": "Ssb_UpOagBM2"
   },
   "source": [
    "## 3.데이터 전처리\n",
    "\n",
    "전처리 과정에서 다음과 같은 처리를 할 수 있습니다.\n",
    "\n",
    "- 결측치 처리\n",
    "- 값 변경\n",
    "- 열 추가\n",
    "- 불필요한 열 제거\n",
    "- 열 이름 변경\n",
    "- 데이터 통합(연결 또는 조인)\n",
    "- 가변수화 등"
   ]
  },
  {
   "cell_type": "markdown",
   "metadata": {
    "id": "XDI0-X06gBM3"
   },
   "source": [
    "**1) 데이터 통합 --> sales 데이터프레임**\n",
    "\n",
    "- 각 데이터프레임의 모든 열을 통합 할 것이 아니면 \n",
    "    - 필요한 열만 추출해 별도 데이터프레임을 선언한 후 통합하거나\n",
    "    - 또는 모두 통합 후 불필요한 열을 제거하는 방법을 사용합니다.\n",
    "    \n",
    "- 통합 방안\n",
    "    - 사용할 데이터만 가져와서 통합\n",
    "    - concat, join(merge) 방법 중 선택"
   ]
  },
  {
   "cell_type": "code",
   "execution_count": 70,
   "metadata": {},
   "outputs": [
    {
     "data": {
      "text/html": [
       "<div>\n",
       "<style scoped>\n",
       "    .dataframe tbody tr th:only-of-type {\n",
       "        vertical-align: middle;\n",
       "    }\n",
       "\n",
       "    .dataframe tbody tr th {\n",
       "        vertical-align: top;\n",
       "    }\n",
       "\n",
       "    .dataframe thead th {\n",
       "        text-align: right;\n",
       "    }\n",
       "</style>\n",
       "<table border=\"1\" class=\"dataframe\">\n",
       "  <thead>\n",
       "    <tr style=\"text-align: right;\">\n",
       "      <th></th>\n",
       "      <th>ProductID</th>\n",
       "      <th>ProductName</th>\n",
       "      <th>Category</th>\n",
       "      <th>SubCategory</th>\n",
       "    </tr>\n",
       "  </thead>\n",
       "  <tbody>\n",
       "    <tr>\n",
       "      <th>0</th>\n",
       "      <td>p1001771</td>\n",
       "      <td>마늘</td>\n",
       "      <td>채소</td>\n",
       "      <td>뿌리채소</td>\n",
       "    </tr>\n",
       "    <tr>\n",
       "      <th>1</th>\n",
       "      <td>p1002841</td>\n",
       "      <td>딸기_대</td>\n",
       "      <td>과일</td>\n",
       "      <td>과채</td>\n",
       "    </tr>\n",
       "    <tr>\n",
       "      <th>2</th>\n",
       "      <td>p1005621</td>\n",
       "      <td>숙주나물</td>\n",
       "      <td>반찬류</td>\n",
       "      <td>나물류</td>\n",
       "    </tr>\n",
       "    <tr>\n",
       "      <th>3</th>\n",
       "      <td>p1005771</td>\n",
       "      <td>두부_소</td>\n",
       "      <td>반찬류</td>\n",
       "      <td>두부</td>\n",
       "    </tr>\n",
       "    <tr>\n",
       "      <th>4</th>\n",
       "      <td>p1005891</td>\n",
       "      <td>두부_대</td>\n",
       "      <td>반찬류</td>\n",
       "      <td>두부</td>\n",
       "    </tr>\n",
       "  </tbody>\n",
       "</table>\n",
       "</div>"
      ],
      "text/plain": [
       "  ProductID ProductName Category SubCategory\n",
       "0  p1001771          마늘       채소        뿌리채소\n",
       "1  p1002841        딸기_대       과일          과채\n",
       "2  p1005621        숙주나물      반찬류         나물류\n",
       "3  p1005771        두부_소      반찬류          두부\n",
       "4  p1005891        두부_대      반찬류          두부"
      ]
     },
     "execution_count": 70,
     "metadata": {},
     "output_type": "execute_result"
    }
   ],
   "source": [
    "#Products 열 정리\n",
    "\n",
    "productscol = ['ProductID', 'ProductName', 'Category', 'SubCategory']\n",
    "\n",
    "products = products.loc[ : , productscol]\n",
    "\n",
    "products.head()"
   ]
  },
  {
   "cell_type": "code",
   "execution_count": 71,
   "metadata": {
    "id": "NW7N_xeVgBM4"
   },
   "outputs": [
    {
     "data": {
      "text/html": [
       "<div>\n",
       "<style scoped>\n",
       "    .dataframe tbody tr th:only-of-type {\n",
       "        vertical-align: middle;\n",
       "    }\n",
       "\n",
       "    .dataframe tbody tr th {\n",
       "        vertical-align: top;\n",
       "    }\n",
       "\n",
       "    .dataframe thead th {\n",
       "        text-align: right;\n",
       "    }\n",
       "</style>\n",
       "<table border=\"1\" class=\"dataframe\">\n",
       "  <thead>\n",
       "    <tr style=\"text-align: right;\">\n",
       "      <th></th>\n",
       "      <th>ProductID</th>\n",
       "      <th>ProductName</th>\n",
       "      <th>Category</th>\n",
       "      <th>SubCategory</th>\n",
       "      <th>OrderID</th>\n",
       "      <th>Seq</th>\n",
       "      <th>OrderDate</th>\n",
       "      <th>Qty</th>\n",
       "      <th>Amt</th>\n",
       "      <th>CustomerID</th>\n",
       "      <th>Income</th>\n",
       "    </tr>\n",
       "  </thead>\n",
       "  <tbody>\n",
       "    <tr>\n",
       "      <th>0</th>\n",
       "      <td>p1001771</td>\n",
       "      <td>마늘</td>\n",
       "      <td>채소</td>\n",
       "      <td>뿌리채소</td>\n",
       "      <td>38</td>\n",
       "      <td>1</td>\n",
       "      <td>20160102</td>\n",
       "      <td>1</td>\n",
       "      <td>3150</td>\n",
       "      <td>c115512</td>\n",
       "      <td>3150</td>\n",
       "    </tr>\n",
       "    <tr>\n",
       "      <th>1</th>\n",
       "      <td>p1001771</td>\n",
       "      <td>마늘</td>\n",
       "      <td>채소</td>\n",
       "      <td>뿌리채소</td>\n",
       "      <td>28</td>\n",
       "      <td>1</td>\n",
       "      <td>20160103</td>\n",
       "      <td>1</td>\n",
       "      <td>3150</td>\n",
       "      <td>c083862</td>\n",
       "      <td>3150</td>\n",
       "    </tr>\n",
       "    <tr>\n",
       "      <th>2</th>\n",
       "      <td>p1001771</td>\n",
       "      <td>마늘</td>\n",
       "      <td>채소</td>\n",
       "      <td>뿌리채소</td>\n",
       "      <td>30</td>\n",
       "      <td>2</td>\n",
       "      <td>20160103</td>\n",
       "      <td>1</td>\n",
       "      <td>3150</td>\n",
       "      <td>c304973</td>\n",
       "      <td>3150</td>\n",
       "    </tr>\n",
       "    <tr>\n",
       "      <th>3</th>\n",
       "      <td>p1001771</td>\n",
       "      <td>마늘</td>\n",
       "      <td>채소</td>\n",
       "      <td>뿌리채소</td>\n",
       "      <td>35</td>\n",
       "      <td>1</td>\n",
       "      <td>20160104</td>\n",
       "      <td>1</td>\n",
       "      <td>3150</td>\n",
       "      <td>c088320</td>\n",
       "      <td>3150</td>\n",
       "    </tr>\n",
       "    <tr>\n",
       "      <th>4</th>\n",
       "      <td>p1001771</td>\n",
       "      <td>마늘</td>\n",
       "      <td>채소</td>\n",
       "      <td>뿌리채소</td>\n",
       "      <td>52</td>\n",
       "      <td>1</td>\n",
       "      <td>20160104</td>\n",
       "      <td>1</td>\n",
       "      <td>3150</td>\n",
       "      <td>c280766</td>\n",
       "      <td>3150</td>\n",
       "    </tr>\n",
       "  </tbody>\n",
       "</table>\n",
       "</div>"
      ],
      "text/plain": [
       "  ProductID ProductName Category SubCategory  OrderID  Seq OrderDate  Qty  \\\n",
       "0  p1001771          마늘       채소        뿌리채소       38    1  20160102    1   \n",
       "1  p1001771          마늘       채소        뿌리채소       28    1  20160103    1   \n",
       "2  p1001771          마늘       채소        뿌리채소       30    2  20160103    1   \n",
       "3  p1001771          마늘       채소        뿌리채소       35    1  20160104    1   \n",
       "4  p1001771          마늘       채소        뿌리채소       52    1  20160104    1   \n",
       "\n",
       "    Amt CustomerID  Income  \n",
       "0  3150    c115512    3150  \n",
       "1  3150    c083862    3150  \n",
       "2  3150    c304973    3150  \n",
       "3  3150    c088320    3150  \n",
       "4  3150    c280766    3150  "
      ]
     },
     "execution_count": 71,
     "metadata": {},
     "output_type": "execute_result"
    }
   ],
   "source": [
    "#1차 병합(products - orders)\n",
    "# Seq = 순서, OrderID = 주문번호\n",
    "\n",
    "sales = pd.merge(products, orders, on = 'ProductID', how = 'inner')\n",
    "\n",
    "sales.head()"
   ]
  },
  {
   "cell_type": "code",
   "execution_count": 72,
   "metadata": {},
   "outputs": [
    {
     "data": {
      "text/html": [
       "<div>\n",
       "<style scoped>\n",
       "    .dataframe tbody tr th:only-of-type {\n",
       "        vertical-align: middle;\n",
       "    }\n",
       "\n",
       "    .dataframe tbody tr th {\n",
       "        vertical-align: top;\n",
       "    }\n",
       "\n",
       "    .dataframe thead th {\n",
       "        text-align: right;\n",
       "    }\n",
       "</style>\n",
       "<table border=\"1\" class=\"dataframe\">\n",
       "  <thead>\n",
       "    <tr style=\"text-align: right;\">\n",
       "      <th></th>\n",
       "      <th>ProductName</th>\n",
       "      <th>Category</th>\n",
       "      <th>SubCategory</th>\n",
       "      <th>OrderDate</th>\n",
       "      <th>Qty</th>\n",
       "      <th>Amt</th>\n",
       "      <th>CustomerID</th>\n",
       "      <th>Income</th>\n",
       "    </tr>\n",
       "  </thead>\n",
       "  <tbody>\n",
       "    <tr>\n",
       "      <th>0</th>\n",
       "      <td>마늘</td>\n",
       "      <td>채소</td>\n",
       "      <td>뿌리채소</td>\n",
       "      <td>20160102</td>\n",
       "      <td>1</td>\n",
       "      <td>3150</td>\n",
       "      <td>c115512</td>\n",
       "      <td>3150</td>\n",
       "    </tr>\n",
       "    <tr>\n",
       "      <th>1</th>\n",
       "      <td>마늘</td>\n",
       "      <td>채소</td>\n",
       "      <td>뿌리채소</td>\n",
       "      <td>20160103</td>\n",
       "      <td>1</td>\n",
       "      <td>3150</td>\n",
       "      <td>c083862</td>\n",
       "      <td>3150</td>\n",
       "    </tr>\n",
       "    <tr>\n",
       "      <th>2</th>\n",
       "      <td>마늘</td>\n",
       "      <td>채소</td>\n",
       "      <td>뿌리채소</td>\n",
       "      <td>20160103</td>\n",
       "      <td>1</td>\n",
       "      <td>3150</td>\n",
       "      <td>c304973</td>\n",
       "      <td>3150</td>\n",
       "    </tr>\n",
       "    <tr>\n",
       "      <th>3</th>\n",
       "      <td>마늘</td>\n",
       "      <td>채소</td>\n",
       "      <td>뿌리채소</td>\n",
       "      <td>20160104</td>\n",
       "      <td>1</td>\n",
       "      <td>3150</td>\n",
       "      <td>c088320</td>\n",
       "      <td>3150</td>\n",
       "    </tr>\n",
       "    <tr>\n",
       "      <th>4</th>\n",
       "      <td>마늘</td>\n",
       "      <td>채소</td>\n",
       "      <td>뿌리채소</td>\n",
       "      <td>20160104</td>\n",
       "      <td>1</td>\n",
       "      <td>3150</td>\n",
       "      <td>c280766</td>\n",
       "      <td>3150</td>\n",
       "    </tr>\n",
       "  </tbody>\n",
       "</table>\n",
       "</div>"
      ],
      "text/plain": [
       "  ProductName Category SubCategory OrderDate  Qty   Amt CustomerID  Income\n",
       "0          마늘       채소        뿌리채소  20160102    1  3150    c115512    3150\n",
       "1          마늘       채소        뿌리채소  20160103    1  3150    c083862    3150\n",
       "2          마늘       채소        뿌리채소  20160103    1  3150    c304973    3150\n",
       "3          마늘       채소        뿌리채소  20160104    1  3150    c088320    3150\n",
       "4          마늘       채소        뿌리채소  20160104    1  3150    c280766    3150"
      ]
     },
     "execution_count": 72,
     "metadata": {},
     "output_type": "execute_result"
    }
   ],
   "source": [
    "#sales 열 정리\n",
    "\n",
    "salescol = ['ProductName','Category','SubCategory','OrderDate','Qty','Amt','CustomerID','Income']\n",
    "sales = sales.loc[ : , salescol]\n",
    "\n",
    "sales.head()"
   ]
  },
  {
   "cell_type": "code",
   "execution_count": 73,
   "metadata": {},
   "outputs": [
    {
     "data": {
      "text/html": [
       "<div>\n",
       "<style scoped>\n",
       "    .dataframe tbody tr th:only-of-type {\n",
       "        vertical-align: middle;\n",
       "    }\n",
       "\n",
       "    .dataframe tbody tr th {\n",
       "        vertical-align: top;\n",
       "    }\n",
       "\n",
       "    .dataframe thead th {\n",
       "        text-align: right;\n",
       "    }\n",
       "</style>\n",
       "<table border=\"1\" class=\"dataframe\">\n",
       "  <thead>\n",
       "    <tr style=\"text-align: right;\">\n",
       "      <th></th>\n",
       "      <th>CustomerID</th>\n",
       "      <th>RegisterDate</th>\n",
       "      <th>Addr1</th>\n",
       "      <th>Addr2</th>\n",
       "      <th>Address</th>\n",
       "      <th>BirthYear</th>\n",
       "      <th>Gender</th>\n",
       "    </tr>\n",
       "  </thead>\n",
       "  <tbody>\n",
       "    <tr>\n",
       "      <th>0</th>\n",
       "      <td>c017487</td>\n",
       "      <td>2002-07-31</td>\n",
       "      <td>경기도</td>\n",
       "      <td>성남시</td>\n",
       "      <td>경기 성남시 중원구 둔촌대로190번길</td>\n",
       "      <td>1968</td>\n",
       "      <td>F</td>\n",
       "    </tr>\n",
       "    <tr>\n",
       "      <th>1</th>\n",
       "      <td>c017503</td>\n",
       "      <td>2002-07-31</td>\n",
       "      <td>서울특별시</td>\n",
       "      <td>마포구</td>\n",
       "      <td>서울 마포구 새터산12길</td>\n",
       "      <td>1971</td>\n",
       "      <td>F</td>\n",
       "    </tr>\n",
       "    <tr>\n",
       "      <th>2</th>\n",
       "      <td>c017517</td>\n",
       "      <td>2002-07-31</td>\n",
       "      <td>경기도</td>\n",
       "      <td>남양주시</td>\n",
       "      <td>경기도 남양주시 와부읍 덕소로</td>\n",
       "      <td>1967</td>\n",
       "      <td>M</td>\n",
       "    </tr>\n",
       "    <tr>\n",
       "      <th>3</th>\n",
       "      <td>c017522</td>\n",
       "      <td>2002-07-31</td>\n",
       "      <td>강원도</td>\n",
       "      <td>원주시</td>\n",
       "      <td>강원도 원주시 단구로</td>\n",
       "      <td>1965</td>\n",
       "      <td>F</td>\n",
       "    </tr>\n",
       "    <tr>\n",
       "      <th>4</th>\n",
       "      <td>c017526</td>\n",
       "      <td>2002-07-31</td>\n",
       "      <td>경기도</td>\n",
       "      <td>부천시</td>\n",
       "      <td>경기도 부천시 오정구 소사로730번길</td>\n",
       "      <td>1960</td>\n",
       "      <td>F</td>\n",
       "    </tr>\n",
       "  </tbody>\n",
       "</table>\n",
       "</div>"
      ],
      "text/plain": [
       "  CustomerID RegisterDate  Addr1 Addr2               Address  BirthYear Gender\n",
       "0    c017487   2002-07-31    경기도   성남시  경기 성남시 중원구 둔촌대로190번길       1968      F\n",
       "1    c017503   2002-07-31  서울특별시   마포구         서울 마포구 새터산12길       1971      F\n",
       "2    c017517   2002-07-31    경기도  남양주시      경기도 남양주시 와부읍 덕소로       1967      M\n",
       "3    c017522   2002-07-31    강원도   원주시           강원도 원주시 단구로       1965      F\n",
       "4    c017526   2002-07-31    경기도   부천시  경기도 부천시 오정구 소사로730번길       1960      F"
      ]
     },
     "execution_count": 73,
     "metadata": {},
     "output_type": "execute_result"
    }
   ],
   "source": [
    "#편의사항 - customers 불러오기\n",
    "customerscol = ['CustomerID','RegisterDate', 'Addr1', 'Addr2', 'Address','BirthYear','Gender']\n",
    "customers = customers.loc[ : , customerscol]\n",
    "\n",
    "customers.head()"
   ]
  },
  {
   "cell_type": "markdown",
   "metadata": {
    "id": "RvrfT0pRgBM4"
   },
   "source": [
    "**2) 결과 확인 -- 통합 결과 확인**"
   ]
  },
  {
   "cell_type": "code",
   "execution_count": 74,
   "metadata": {
    "id": "j-24yh-wgBM4"
   },
   "outputs": [
    {
     "data": {
      "text/html": [
       "<div>\n",
       "<style scoped>\n",
       "    .dataframe tbody tr th:only-of-type {\n",
       "        vertical-align: middle;\n",
       "    }\n",
       "\n",
       "    .dataframe tbody tr th {\n",
       "        vertical-align: top;\n",
       "    }\n",
       "\n",
       "    .dataframe thead th {\n",
       "        text-align: right;\n",
       "    }\n",
       "</style>\n",
       "<table border=\"1\" class=\"dataframe\">\n",
       "  <thead>\n",
       "    <tr style=\"text-align: right;\">\n",
       "      <th></th>\n",
       "      <th>ProductName</th>\n",
       "      <th>Category</th>\n",
       "      <th>SubCategory</th>\n",
       "      <th>OrderDate</th>\n",
       "      <th>Qty</th>\n",
       "      <th>Amt</th>\n",
       "      <th>CustomerID</th>\n",
       "      <th>Income</th>\n",
       "      <th>RegisterDate</th>\n",
       "      <th>Addr1</th>\n",
       "      <th>Addr2</th>\n",
       "      <th>Address</th>\n",
       "      <th>BirthYear</th>\n",
       "      <th>Gender</th>\n",
       "    </tr>\n",
       "  </thead>\n",
       "  <tbody>\n",
       "    <tr>\n",
       "      <th>0</th>\n",
       "      <td>마늘</td>\n",
       "      <td>채소</td>\n",
       "      <td>뿌리채소</td>\n",
       "      <td>20160102</td>\n",
       "      <td>1</td>\n",
       "      <td>3150</td>\n",
       "      <td>c115512</td>\n",
       "      <td>3150</td>\n",
       "      <td>2008-11-20</td>\n",
       "      <td>경기도</td>\n",
       "      <td>김포시</td>\n",
       "      <td>경기도 김포시 전원로</td>\n",
       "      <td>1980</td>\n",
       "      <td>F</td>\n",
       "    </tr>\n",
       "    <tr>\n",
       "      <th>1</th>\n",
       "      <td>마늘</td>\n",
       "      <td>채소</td>\n",
       "      <td>뿌리채소</td>\n",
       "      <td>20160301</td>\n",
       "      <td>1</td>\n",
       "      <td>3300</td>\n",
       "      <td>c115512</td>\n",
       "      <td>3300</td>\n",
       "      <td>2008-11-20</td>\n",
       "      <td>경기도</td>\n",
       "      <td>김포시</td>\n",
       "      <td>경기도 김포시 전원로</td>\n",
       "      <td>1980</td>\n",
       "      <td>F</td>\n",
       "    </tr>\n",
       "    <tr>\n",
       "      <th>2</th>\n",
       "      <td>마늘</td>\n",
       "      <td>채소</td>\n",
       "      <td>뿌리채소</td>\n",
       "      <td>20160316</td>\n",
       "      <td>1</td>\n",
       "      <td>3300</td>\n",
       "      <td>c115512</td>\n",
       "      <td>3300</td>\n",
       "      <td>2008-11-20</td>\n",
       "      <td>경기도</td>\n",
       "      <td>김포시</td>\n",
       "      <td>경기도 김포시 전원로</td>\n",
       "      <td>1980</td>\n",
       "      <td>F</td>\n",
       "    </tr>\n",
       "    <tr>\n",
       "      <th>3</th>\n",
       "      <td>마늘</td>\n",
       "      <td>채소</td>\n",
       "      <td>뿌리채소</td>\n",
       "      <td>20160828</td>\n",
       "      <td>1</td>\n",
       "      <td>3100</td>\n",
       "      <td>c115512</td>\n",
       "      <td>3100</td>\n",
       "      <td>2008-11-20</td>\n",
       "      <td>경기도</td>\n",
       "      <td>김포시</td>\n",
       "      <td>경기도 김포시 전원로</td>\n",
       "      <td>1980</td>\n",
       "      <td>F</td>\n",
       "    </tr>\n",
       "    <tr>\n",
       "      <th>4</th>\n",
       "      <td>마늘</td>\n",
       "      <td>채소</td>\n",
       "      <td>뿌리채소</td>\n",
       "      <td>20161118</td>\n",
       "      <td>1</td>\n",
       "      <td>3100</td>\n",
       "      <td>c115512</td>\n",
       "      <td>3100</td>\n",
       "      <td>2008-11-20</td>\n",
       "      <td>경기도</td>\n",
       "      <td>김포시</td>\n",
       "      <td>경기도 김포시 전원로</td>\n",
       "      <td>1980</td>\n",
       "      <td>F</td>\n",
       "    </tr>\n",
       "  </tbody>\n",
       "</table>\n",
       "</div>"
      ],
      "text/plain": [
       "  ProductName Category SubCategory OrderDate  Qty   Amt CustomerID  Income  \\\n",
       "0          마늘       채소        뿌리채소  20160102    1  3150    c115512    3150   \n",
       "1          마늘       채소        뿌리채소  20160301    1  3300    c115512    3300   \n",
       "2          마늘       채소        뿌리채소  20160316    1  3300    c115512    3300   \n",
       "3          마늘       채소        뿌리채소  20160828    1  3100    c115512    3100   \n",
       "4          마늘       채소        뿌리채소  20161118    1  3100    c115512    3100   \n",
       "\n",
       "  RegisterDate Addr1 Addr2      Address  BirthYear Gender  \n",
       "0   2008-11-20   경기도   김포시  경기도 김포시 전원로       1980      F  \n",
       "1   2008-11-20   경기도   김포시  경기도 김포시 전원로       1980      F  \n",
       "2   2008-11-20   경기도   김포시  경기도 김포시 전원로       1980      F  \n",
       "3   2008-11-20   경기도   김포시  경기도 김포시 전원로       1980      F  \n",
       "4   2008-11-20   경기도   김포시  경기도 김포시 전원로       1980      F  "
      ]
     },
     "execution_count": 74,
     "metadata": {},
     "output_type": "execute_result"
    }
   ],
   "source": [
    "#최종 통합(sales, customers)\n",
    "\n",
    "Sales = pd.merge(sales, customers, on = 'CustomerID', how = 'inner')\n",
    "\n",
    "Sales.head()"
   ]
  },
  {
   "cell_type": "markdown",
   "metadata": {
    "id": "Ll_SMqdOgBM5"
   },
   "source": [
    "**3) 열 추가**\n",
    "\n",
    "- 분석을 위해 필요한 열을 추가합니다.\n",
    "- 예를 들어 다음과 같은 열들이 필요하다고 판단할 수 있습니다.\n",
    "    - OrderYear: 주문연도, 주문연도별 분석이 용이하게 하기 위함\n",
    "    - OrderMonth: 주문월, 주문년월 분석이 용이하게 하기 위함\n",
    "    - Age: 연령별 분석을 하기 위함(2017 - 출생년도) 등등"
   ]
  },
  {
   "cell_type": "markdown",
   "metadata": {},
   "source": [
    "* 나이 구하기(age) - 2017년 기준"
   ]
  },
  {
   "cell_type": "code",
   "execution_count": 75,
   "metadata": {},
   "outputs": [
    {
     "data": {
      "text/html": [
       "<div>\n",
       "<style scoped>\n",
       "    .dataframe tbody tr th:only-of-type {\n",
       "        vertical-align: middle;\n",
       "    }\n",
       "\n",
       "    .dataframe tbody tr th {\n",
       "        vertical-align: top;\n",
       "    }\n",
       "\n",
       "    .dataframe thead th {\n",
       "        text-align: right;\n",
       "    }\n",
       "</style>\n",
       "<table border=\"1\" class=\"dataframe\">\n",
       "  <thead>\n",
       "    <tr style=\"text-align: right;\">\n",
       "      <th></th>\n",
       "      <th>ProductName</th>\n",
       "      <th>Category</th>\n",
       "      <th>SubCategory</th>\n",
       "      <th>OrderDate</th>\n",
       "      <th>Qty</th>\n",
       "      <th>Amt</th>\n",
       "      <th>CustomerID</th>\n",
       "      <th>Income</th>\n",
       "      <th>RegisterDate</th>\n",
       "      <th>Addr1</th>\n",
       "      <th>Addr2</th>\n",
       "      <th>Address</th>\n",
       "      <th>BirthYear</th>\n",
       "      <th>Gender</th>\n",
       "      <th>Age</th>\n",
       "    </tr>\n",
       "  </thead>\n",
       "  <tbody>\n",
       "    <tr>\n",
       "      <th>0</th>\n",
       "      <td>마늘</td>\n",
       "      <td>채소</td>\n",
       "      <td>뿌리채소</td>\n",
       "      <td>20160102</td>\n",
       "      <td>1</td>\n",
       "      <td>3150</td>\n",
       "      <td>c115512</td>\n",
       "      <td>3150</td>\n",
       "      <td>2008-11-20</td>\n",
       "      <td>경기도</td>\n",
       "      <td>김포시</td>\n",
       "      <td>경기도 김포시 전원로</td>\n",
       "      <td>1980</td>\n",
       "      <td>F</td>\n",
       "      <td>37</td>\n",
       "    </tr>\n",
       "    <tr>\n",
       "      <th>1</th>\n",
       "      <td>마늘</td>\n",
       "      <td>채소</td>\n",
       "      <td>뿌리채소</td>\n",
       "      <td>20160301</td>\n",
       "      <td>1</td>\n",
       "      <td>3300</td>\n",
       "      <td>c115512</td>\n",
       "      <td>3300</td>\n",
       "      <td>2008-11-20</td>\n",
       "      <td>경기도</td>\n",
       "      <td>김포시</td>\n",
       "      <td>경기도 김포시 전원로</td>\n",
       "      <td>1980</td>\n",
       "      <td>F</td>\n",
       "      <td>37</td>\n",
       "    </tr>\n",
       "    <tr>\n",
       "      <th>2</th>\n",
       "      <td>마늘</td>\n",
       "      <td>채소</td>\n",
       "      <td>뿌리채소</td>\n",
       "      <td>20160316</td>\n",
       "      <td>1</td>\n",
       "      <td>3300</td>\n",
       "      <td>c115512</td>\n",
       "      <td>3300</td>\n",
       "      <td>2008-11-20</td>\n",
       "      <td>경기도</td>\n",
       "      <td>김포시</td>\n",
       "      <td>경기도 김포시 전원로</td>\n",
       "      <td>1980</td>\n",
       "      <td>F</td>\n",
       "      <td>37</td>\n",
       "    </tr>\n",
       "    <tr>\n",
       "      <th>3</th>\n",
       "      <td>마늘</td>\n",
       "      <td>채소</td>\n",
       "      <td>뿌리채소</td>\n",
       "      <td>20160828</td>\n",
       "      <td>1</td>\n",
       "      <td>3100</td>\n",
       "      <td>c115512</td>\n",
       "      <td>3100</td>\n",
       "      <td>2008-11-20</td>\n",
       "      <td>경기도</td>\n",
       "      <td>김포시</td>\n",
       "      <td>경기도 김포시 전원로</td>\n",
       "      <td>1980</td>\n",
       "      <td>F</td>\n",
       "      <td>37</td>\n",
       "    </tr>\n",
       "    <tr>\n",
       "      <th>4</th>\n",
       "      <td>마늘</td>\n",
       "      <td>채소</td>\n",
       "      <td>뿌리채소</td>\n",
       "      <td>20161118</td>\n",
       "      <td>1</td>\n",
       "      <td>3100</td>\n",
       "      <td>c115512</td>\n",
       "      <td>3100</td>\n",
       "      <td>2008-11-20</td>\n",
       "      <td>경기도</td>\n",
       "      <td>김포시</td>\n",
       "      <td>경기도 김포시 전원로</td>\n",
       "      <td>1980</td>\n",
       "      <td>F</td>\n",
       "      <td>37</td>\n",
       "    </tr>\n",
       "  </tbody>\n",
       "</table>\n",
       "</div>"
      ],
      "text/plain": [
       "  ProductName Category SubCategory OrderDate  Qty   Amt CustomerID  Income  \\\n",
       "0          마늘       채소        뿌리채소  20160102    1  3150    c115512    3150   \n",
       "1          마늘       채소        뿌리채소  20160301    1  3300    c115512    3300   \n",
       "2          마늘       채소        뿌리채소  20160316    1  3300    c115512    3300   \n",
       "3          마늘       채소        뿌리채소  20160828    1  3100    c115512    3100   \n",
       "4          마늘       채소        뿌리채소  20161118    1  3100    c115512    3100   \n",
       "\n",
       "  RegisterDate Addr1 Addr2      Address  BirthYear Gender  Age  \n",
       "0   2008-11-20   경기도   김포시  경기도 김포시 전원로       1980      F   37  \n",
       "1   2008-11-20   경기도   김포시  경기도 김포시 전원로       1980      F   37  \n",
       "2   2008-11-20   경기도   김포시  경기도 김포시 전원로       1980      F   37  \n",
       "3   2008-11-20   경기도   김포시  경기도 김포시 전원로       1980      F   37  \n",
       "4   2008-11-20   경기도   김포시  경기도 김포시 전원로       1980      F   37  "
      ]
     },
     "execution_count": 75,
     "metadata": {},
     "output_type": "execute_result"
    }
   ],
   "source": [
    "#나이 구하기 (2017 - BirthYear)\n",
    "\n",
    "Sales['Age'] = 2017 - Sales['BirthYear']\n",
    "\n",
    "Sales.head()"
   ]
  },
  {
   "cell_type": "code",
   "execution_count": 76,
   "metadata": {
    "id": "ICHfbKB2gBM5",
    "scrolled": true
   },
   "outputs": [
    {
     "data": {
      "text/html": [
       "<div>\n",
       "<style scoped>\n",
       "    .dataframe tbody tr th:only-of-type {\n",
       "        vertical-align: middle;\n",
       "    }\n",
       "\n",
       "    .dataframe tbody tr th {\n",
       "        vertical-align: top;\n",
       "    }\n",
       "\n",
       "    .dataframe thead th {\n",
       "        text-align: right;\n",
       "    }\n",
       "</style>\n",
       "<table border=\"1\" class=\"dataframe\">\n",
       "  <thead>\n",
       "    <tr style=\"text-align: right;\">\n",
       "      <th></th>\n",
       "      <th>ProductName</th>\n",
       "      <th>Category</th>\n",
       "      <th>SubCategory</th>\n",
       "      <th>OrderDate</th>\n",
       "      <th>Qty</th>\n",
       "      <th>Amt</th>\n",
       "      <th>CustomerID</th>\n",
       "      <th>Income</th>\n",
       "      <th>RegisterDate</th>\n",
       "      <th>Addr1</th>\n",
       "      <th>Addr2</th>\n",
       "      <th>Address</th>\n",
       "      <th>BirthYear</th>\n",
       "      <th>Gender</th>\n",
       "      <th>Age</th>\n",
       "      <th>Price</th>\n",
       "    </tr>\n",
       "  </thead>\n",
       "  <tbody>\n",
       "    <tr>\n",
       "      <th>0</th>\n",
       "      <td>마늘</td>\n",
       "      <td>채소</td>\n",
       "      <td>뿌리채소</td>\n",
       "      <td>20160102</td>\n",
       "      <td>1</td>\n",
       "      <td>3150</td>\n",
       "      <td>c115512</td>\n",
       "      <td>3150</td>\n",
       "      <td>2008-11-20</td>\n",
       "      <td>경기도</td>\n",
       "      <td>김포시</td>\n",
       "      <td>경기도 김포시 전원로</td>\n",
       "      <td>1980</td>\n",
       "      <td>F</td>\n",
       "      <td>37</td>\n",
       "      <td>3150.0</td>\n",
       "    </tr>\n",
       "    <tr>\n",
       "      <th>1</th>\n",
       "      <td>마늘</td>\n",
       "      <td>채소</td>\n",
       "      <td>뿌리채소</td>\n",
       "      <td>20160301</td>\n",
       "      <td>1</td>\n",
       "      <td>3300</td>\n",
       "      <td>c115512</td>\n",
       "      <td>3300</td>\n",
       "      <td>2008-11-20</td>\n",
       "      <td>경기도</td>\n",
       "      <td>김포시</td>\n",
       "      <td>경기도 김포시 전원로</td>\n",
       "      <td>1980</td>\n",
       "      <td>F</td>\n",
       "      <td>37</td>\n",
       "      <td>3300.0</td>\n",
       "    </tr>\n",
       "    <tr>\n",
       "      <th>2</th>\n",
       "      <td>마늘</td>\n",
       "      <td>채소</td>\n",
       "      <td>뿌리채소</td>\n",
       "      <td>20160316</td>\n",
       "      <td>1</td>\n",
       "      <td>3300</td>\n",
       "      <td>c115512</td>\n",
       "      <td>3300</td>\n",
       "      <td>2008-11-20</td>\n",
       "      <td>경기도</td>\n",
       "      <td>김포시</td>\n",
       "      <td>경기도 김포시 전원로</td>\n",
       "      <td>1980</td>\n",
       "      <td>F</td>\n",
       "      <td>37</td>\n",
       "      <td>3300.0</td>\n",
       "    </tr>\n",
       "    <tr>\n",
       "      <th>3</th>\n",
       "      <td>마늘</td>\n",
       "      <td>채소</td>\n",
       "      <td>뿌리채소</td>\n",
       "      <td>20160828</td>\n",
       "      <td>1</td>\n",
       "      <td>3100</td>\n",
       "      <td>c115512</td>\n",
       "      <td>3100</td>\n",
       "      <td>2008-11-20</td>\n",
       "      <td>경기도</td>\n",
       "      <td>김포시</td>\n",
       "      <td>경기도 김포시 전원로</td>\n",
       "      <td>1980</td>\n",
       "      <td>F</td>\n",
       "      <td>37</td>\n",
       "      <td>3100.0</td>\n",
       "    </tr>\n",
       "    <tr>\n",
       "      <th>4</th>\n",
       "      <td>마늘</td>\n",
       "      <td>채소</td>\n",
       "      <td>뿌리채소</td>\n",
       "      <td>20161118</td>\n",
       "      <td>1</td>\n",
       "      <td>3100</td>\n",
       "      <td>c115512</td>\n",
       "      <td>3100</td>\n",
       "      <td>2008-11-20</td>\n",
       "      <td>경기도</td>\n",
       "      <td>김포시</td>\n",
       "      <td>경기도 김포시 전원로</td>\n",
       "      <td>1980</td>\n",
       "      <td>F</td>\n",
       "      <td>37</td>\n",
       "      <td>3100.0</td>\n",
       "    </tr>\n",
       "  </tbody>\n",
       "</table>\n",
       "</div>"
      ],
      "text/plain": [
       "  ProductName Category SubCategory OrderDate  Qty   Amt CustomerID  Income  \\\n",
       "0          마늘       채소        뿌리채소  20160102    1  3150    c115512    3150   \n",
       "1          마늘       채소        뿌리채소  20160301    1  3300    c115512    3300   \n",
       "2          마늘       채소        뿌리채소  20160316    1  3300    c115512    3300   \n",
       "3          마늘       채소        뿌리채소  20160828    1  3100    c115512    3100   \n",
       "4          마늘       채소        뿌리채소  20161118    1  3100    c115512    3100   \n",
       "\n",
       "  RegisterDate Addr1 Addr2      Address  BirthYear Gender  Age   Price  \n",
       "0   2008-11-20   경기도   김포시  경기도 김포시 전원로       1980      F   37  3150.0  \n",
       "1   2008-11-20   경기도   김포시  경기도 김포시 전원로       1980      F   37  3300.0  \n",
       "2   2008-11-20   경기도   김포시  경기도 김포시 전원로       1980      F   37  3300.0  \n",
       "3   2008-11-20   경기도   김포시  경기도 김포시 전원로       1980      F   37  3100.0  \n",
       "4   2008-11-20   경기도   김포시  경기도 김포시 전원로       1980      F   37  3100.0  "
      ]
     },
     "execution_count": 76,
     "metadata": {},
     "output_type": "execute_result"
    }
   ],
   "source": [
    "#제품 단가 구하기 == Amt / Qty\n",
    "\n",
    "Sales['Price'] = Sales['Amt'] / Sales['Qty']\n",
    "\n",
    "Sales.head()"
   ]
  },
  {
   "cell_type": "markdown",
   "metadata": {
    "id": "DBX8rt-PgBM5"
   },
   "source": [
    "**4) 불필요한 열 제거 --> 불필요한 이유 명시**\n",
    "\n",
    "- 분석에 필요가 없다고 생각되는 열은 제거합니다.\n",
    "- 새로운 열을 추가하면 기존 열이 필요하지 않을 수 있습니다.\n",
    "- 예를 들어 다음 열들이 필요하지 않다고 판단할 수 있습니다.\n",
    "    - OrderDate: 새로 추가한 OrderYear, OrderMonth 열 사용\n",
    "    - ProductID: ProductName 열 사용\n",
    "    - SubCategory: 분석 대상에서 제외 등등"
   ]
  },
  {
   "cell_type": "code",
   "execution_count": 77,
   "metadata": {
    "id": "OiIofiMIgBM5"
   },
   "outputs": [
    {
     "data": {
      "text/html": [
       "<div>\n",
       "<style scoped>\n",
       "    .dataframe tbody tr th:only-of-type {\n",
       "        vertical-align: middle;\n",
       "    }\n",
       "\n",
       "    .dataframe tbody tr th {\n",
       "        vertical-align: top;\n",
       "    }\n",
       "\n",
       "    .dataframe thead th {\n",
       "        text-align: right;\n",
       "    }\n",
       "</style>\n",
       "<table border=\"1\" class=\"dataframe\">\n",
       "  <thead>\n",
       "    <tr style=\"text-align: right;\">\n",
       "      <th></th>\n",
       "      <th>ProductName</th>\n",
       "      <th>Category</th>\n",
       "      <th>SubCategory</th>\n",
       "      <th>OrderDate</th>\n",
       "      <th>Price</th>\n",
       "      <th>Qty</th>\n",
       "      <th>Amt</th>\n",
       "      <th>CustomerID</th>\n",
       "      <th>Age</th>\n",
       "      <th>Gender</th>\n",
       "      <th>Addr1</th>\n",
       "      <th>Addr2</th>\n",
       "    </tr>\n",
       "  </thead>\n",
       "  <tbody>\n",
       "    <tr>\n",
       "      <th>0</th>\n",
       "      <td>마늘</td>\n",
       "      <td>채소</td>\n",
       "      <td>뿌리채소</td>\n",
       "      <td>20160102</td>\n",
       "      <td>3150.0</td>\n",
       "      <td>1</td>\n",
       "      <td>3150</td>\n",
       "      <td>c115512</td>\n",
       "      <td>37</td>\n",
       "      <td>F</td>\n",
       "      <td>경기도</td>\n",
       "      <td>김포시</td>\n",
       "    </tr>\n",
       "    <tr>\n",
       "      <th>1</th>\n",
       "      <td>마늘</td>\n",
       "      <td>채소</td>\n",
       "      <td>뿌리채소</td>\n",
       "      <td>20160301</td>\n",
       "      <td>3300.0</td>\n",
       "      <td>1</td>\n",
       "      <td>3300</td>\n",
       "      <td>c115512</td>\n",
       "      <td>37</td>\n",
       "      <td>F</td>\n",
       "      <td>경기도</td>\n",
       "      <td>김포시</td>\n",
       "    </tr>\n",
       "    <tr>\n",
       "      <th>2</th>\n",
       "      <td>마늘</td>\n",
       "      <td>채소</td>\n",
       "      <td>뿌리채소</td>\n",
       "      <td>20160316</td>\n",
       "      <td>3300.0</td>\n",
       "      <td>1</td>\n",
       "      <td>3300</td>\n",
       "      <td>c115512</td>\n",
       "      <td>37</td>\n",
       "      <td>F</td>\n",
       "      <td>경기도</td>\n",
       "      <td>김포시</td>\n",
       "    </tr>\n",
       "    <tr>\n",
       "      <th>3</th>\n",
       "      <td>마늘</td>\n",
       "      <td>채소</td>\n",
       "      <td>뿌리채소</td>\n",
       "      <td>20160828</td>\n",
       "      <td>3100.0</td>\n",
       "      <td>1</td>\n",
       "      <td>3100</td>\n",
       "      <td>c115512</td>\n",
       "      <td>37</td>\n",
       "      <td>F</td>\n",
       "      <td>경기도</td>\n",
       "      <td>김포시</td>\n",
       "    </tr>\n",
       "    <tr>\n",
       "      <th>4</th>\n",
       "      <td>마늘</td>\n",
       "      <td>채소</td>\n",
       "      <td>뿌리채소</td>\n",
       "      <td>20161118</td>\n",
       "      <td>3100.0</td>\n",
       "      <td>1</td>\n",
       "      <td>3100</td>\n",
       "      <td>c115512</td>\n",
       "      <td>37</td>\n",
       "      <td>F</td>\n",
       "      <td>경기도</td>\n",
       "      <td>김포시</td>\n",
       "    </tr>\n",
       "  </tbody>\n",
       "</table>\n",
       "</div>"
      ],
      "text/plain": [
       "  ProductName Category SubCategory OrderDate   Price  Qty   Amt CustomerID  \\\n",
       "0          마늘       채소        뿌리채소  20160102  3150.0    1  3150    c115512   \n",
       "1          마늘       채소        뿌리채소  20160301  3300.0    1  3300    c115512   \n",
       "2          마늘       채소        뿌리채소  20160316  3300.0    1  3300    c115512   \n",
       "3          마늘       채소        뿌리채소  20160828  3100.0    1  3100    c115512   \n",
       "4          마늘       채소        뿌리채소  20161118  3100.0    1  3100    c115512   \n",
       "\n",
       "   Age Gender Addr1 Addr2  \n",
       "0   37      F   경기도   김포시  \n",
       "1   37      F   경기도   김포시  \n",
       "2   37      F   경기도   김포시  \n",
       "3   37      F   경기도   김포시  \n",
       "4   37      F   경기도   김포시  "
      ]
     },
     "execution_count": 77,
     "metadata": {},
     "output_type": "execute_result"
    }
   ],
   "source": [
    "#Income 제거 - 잘못 구함\n",
    "#Address 제거 - Addr1과 Addr2 조합으로 해결 가능\n",
    "#RegisterDate 제거 - 매출과 유의미한 상관관계를 찾기 어렵다\n",
    "\n",
    "Salescol = ['ProductName','Category','SubCategory','OrderDate','Price','Qty','Amt','CustomerID','Age','Gender','Addr1','Addr2']\n",
    "Sales = Sales.loc[ : , Salescol]\n",
    "\n",
    "Sales.head()"
   ]
  },
  {
   "cell_type": "markdown",
   "metadata": {},
   "source": [
    "**5) 값 변경 - 시각화했을 때 보기 쉽도록**"
   ]
  },
  {
   "cell_type": "code",
   "execution_count": 78,
   "metadata": {},
   "outputs": [
    {
     "data": {
      "text/plain": [
       "여    62662\n",
       "남     6177\n",
       "Name: Gender, dtype: int64"
      ]
     },
     "execution_count": 78,
     "metadata": {},
     "output_type": "execute_result"
    }
   ],
   "source": [
    "# M / F를 남 / 여 로 바꿔보자\n",
    "\n",
    "Sales.loc[Sales['Gender'] == 'M', 'Gender'] = '남'\n",
    "Sales.loc[Sales['Gender'] == 'F', 'Gender'] = '여'\n",
    "\n",
    "#확인해 보자\n",
    "\n",
    "Sales['Gender'].value_counts()"
   ]
  },
  {
   "cell_type": "markdown",
   "metadata": {
    "id": "m6GXYXOTgBM6"
   },
   "source": [
    "## 4.데이터 분석\n",
    "\n",
    "- 현재 판매 현황을 분석해 향후 판매 전략 수립에 중요한 정보로 활용할 것입니다.\n",
    "- 데이터를 집계하고 간단히 시각화하여 판매 현황을 분석합니다.\n",
    "- 연속형 값은 선 그래프, 범주형 값은 막대 그래프로 시각화함이 일반적입니다."
   ]
  },
  {
   "cell_type": "markdown",
   "metadata": {
    "id": "xnAS4-iJgBM6"
   },
   "source": [
    "**1) 남녀별 판매 현황**\n",
    "\n",
    "- 남녀별 판매 현황을 막대 그래프로 시각화해 확인합니다."
   ]
  },
  {
   "cell_type": "code",
   "execution_count": 79,
   "metadata": {
    "id": "WEvcSWHSgBM6",
    "scrolled": false
   },
   "outputs": [
    {
     "data": {
      "image/png": "[encoded data removed]",
      "text/plain": [
       "<Figure size 432x288 with 1 Axes>"
      ]
     },
     "metadata": {
      "image/png": {
       "height": 279,
       "width": 389
      },
      "needs_background": "light"
     },
     "output_type": "display_data"
    }
   ],
   "source": [
    "#데이터 시각화(막대그래프)\n",
    "\n",
    "gen = Sales.groupby(by = 'Gender', as_index = False)['Amt'].sum()\n",
    "gen.sort_values(by = 'Amt', ascending = False, inplace = True)\n",
    "\n",
    "plt.bar(gen['Gender'],gen['Amt'])\n",
    "plt.xlabel('성별')\n",
    "plt.title('성별 판매 현황')\n",
    "plt.ylabel('단위 : 억 원')\n",
    "plt.show()"
   ]
  },
  {
   "cell_type": "markdown",
   "metadata": {
    "id": "cN83XzDHgBM7"
   },
   "source": [
    "**2) 지역별 판매 현황**\n",
    "\n",
    "- 지역별 판매 현황을 막대 그래프로 시각화해 확인합니다."
   ]
  },
  {
   "cell_type": "code",
   "execution_count": 80,
   "metadata": {
    "id": "bvPb1xzogBM7",
    "scrolled": true
   },
   "outputs": [
    {
     "data": {
      "image/png": "[encoded data removed]",
      "text/plain": [
       "<Figure size 432x288 with 1 Axes>"
      ]
     },
     "metadata": {
      "image/png": {
       "height": 279,
       "width": 383
      },
      "needs_background": "light"
     },
     "output_type": "display_data"
    }
   ],
   "source": [
    "#데이터 시각화(막대그래프) - 지역별\n",
    "\n",
    "gen = Sales.groupby(by = 'Addr1', as_index = False)['Amt'].sum()\n",
    "gen.sort_values(by = 'Amt', ascending = False, inplace = True)\n",
    "gen = gen.head(3)\n",
    "\n",
    "plt.bar(gen['Addr1'],gen['Amt'])\n",
    "plt.xlabel('지역')\n",
    "plt.title('지역별 판매 현황 TOP3')\n",
    "plt.ylabel('단위 : 억 원')\n",
    "plt.show()"
   ]
  },
  {
   "cell_type": "markdown",
   "metadata": {
    "id": "tOUH5zU8zf9k"
   },
   "source": [
    "**3) 추가**"
   ]
  },
  {
   "cell_type": "code",
   "execution_count": 81,
   "metadata": {
    "id": "mjefn46bzjWW"
   },
   "outputs": [
    {
     "data": {
      "image/png": "[encoded data removed]",
      "text/plain": [
       "<Figure size 432x288 with 1 Axes>"
      ]
     },
     "metadata": {
      "image/png": {
       "height": 311,
       "width": 389
      },
      "needs_background": "light"
     },
     "output_type": "display_data"
    }
   ],
   "source": [
    "#품목 별 효자상품 찾기\n",
    "\n",
    "popular = Sales.groupby(by = 'ProductName', as_index = False)['Amt'].sum()\n",
    "popular.sort_values(by = 'Amt', ascending = False, inplace = True)\n",
    "popular = popular.head(10)\n",
    "\n",
    "#시각화\n",
    "\n",
    "plt.bar(popular['ProductName'],popular['Amt'])\n",
    "plt.xlabel('상품명')\n",
    "plt.xticks(rotation = 45)\n",
    "plt.title('효자 상품 TOP10')\n",
    "plt.ylabel('단위 : 천만 원')\n",
    "plt.show()"
   ]
  },
  {
   "cell_type": "markdown",
   "metadata": {},
   "source": [
    "**3-1) 효자 상품의 가격**"
   ]
  },
  {
   "cell_type": "code",
   "execution_count": 82,
   "metadata": {},
   "outputs": [
    {
     "data": {
      "text/html": [
       "<div>\n",
       "<style scoped>\n",
       "    .dataframe tbody tr th:only-of-type {\n",
       "        vertical-align: middle;\n",
       "    }\n",
       "\n",
       "    .dataframe tbody tr th {\n",
       "        vertical-align: top;\n",
       "    }\n",
       "\n",
       "    .dataframe thead th {\n",
       "        text-align: right;\n",
       "    }\n",
       "</style>\n",
       "<table border=\"1\" class=\"dataframe\">\n",
       "  <thead>\n",
       "    <tr style=\"text-align: right;\">\n",
       "      <th></th>\n",
       "      <th>ProductName</th>\n",
       "      <th>Price</th>\n",
       "      <th>Amt</th>\n",
       "    </tr>\n",
       "  </thead>\n",
       "  <tbody>\n",
       "    <tr>\n",
       "      <th>619</th>\n",
       "      <td>통단팥빵</td>\n",
       "      <td>1091.0</td>\n",
       "      <td>109100</td>\n",
       "    </tr>\n",
       "    <tr>\n",
       "      <th>328</th>\n",
       "      <td>소보루빵</td>\n",
       "      <td>864.0</td>\n",
       "      <td>86400</td>\n",
       "    </tr>\n",
       "    <tr>\n",
       "      <th>269</th>\n",
       "      <td>사과_대</td>\n",
       "      <td>6800.0</td>\n",
       "      <td>81600</td>\n",
       "    </tr>\n",
       "    <tr>\n",
       "      <th>270</th>\n",
       "      <td>사과_대</td>\n",
       "      <td>6900.0</td>\n",
       "      <td>69000</td>\n",
       "    </tr>\n",
       "    <tr>\n",
       "      <th>127</th>\n",
       "      <td>딸기_대</td>\n",
       "      <td>15009.0</td>\n",
       "      <td>60036</td>\n",
       "    </tr>\n",
       "  </tbody>\n",
       "</table>\n",
       "</div>"
      ],
      "text/plain": [
       "    ProductName    Price     Amt\n",
       "619        통단팥빵   1091.0  109100\n",
       "328        소보루빵    864.0   86400\n",
       "269        사과_대   6800.0   81600\n",
       "270        사과_대   6900.0   69000\n",
       "127        딸기_대  15009.0   60036"
      ]
     },
     "execution_count": 82,
     "metadata": {},
     "output_type": "execute_result"
    }
   ],
   "source": [
    "#(진행중)효자 상품의 1단위당 가격\n",
    "\n",
    "popularp = Sales.groupby(by = ['ProductName','Price'] , as_index = False)['Amt'].max()\n",
    "popularp.sort_values(by = 'Amt', ascending = False, inplace = True)\n",
    "popularp = popularp.head(10)\n",
    "\n",
    "popularp.head()\n",
    "#시각화"
   ]
  },
  {
   "cell_type": "markdown",
   "metadata": {
    "id": "RXHtLPhzzj-d"
   },
   "source": [
    "**4) 추가**"
   ]
  },
  {
   "cell_type": "code",
   "execution_count": 83,
   "metadata": {
    "id": "WaqWFfhazj-e"
   },
   "outputs": [
    {
     "data": {
      "image/png": "[encoded data removed]",
      "text/plain": [
       "<Figure size 432x288 with 1 Axes>"
      ]
     },
     "metadata": {
      "image/png": {
       "height": 279,
       "width": 383
      },
      "needs_background": "light"
     },
     "output_type": "display_data"
    }
   ],
   "source": [
    "#연령대 별 매출액\n",
    "\n",
    "cohort = Sales.groupby(by = 'Age', as_index = False)['Amt'].sum()\n",
    "cohort.sort_values(by = 'Age', ascending = True, inplace = True)\n",
    "\n",
    "#시각화\n",
    "\n",
    "plt.plot(cohort['Age'],cohort['Amt'])\n",
    "plt.ylabel('단위 : 천만 원')\n",
    "plt.xlabel('연령대')\n",
    "plt.title('연령대 별 매출액')\n",
    "plt.show()\n"
   ]
  },
  {
   "cell_type": "markdown",
   "metadata": {
    "id": "whE4SZXmzkQR"
   },
   "source": [
    "**5) 추가**"
   ]
  },
  {
   "cell_type": "code",
   "execution_count": 84,
   "metadata": {
    "id": "PWk4bHvFzkQU",
    "scrolled": true
   },
   "outputs": [],
   "source": [
    "#월별 판매액(진행중)\n",
    "\n",
    "month = Sales.groupby(by = 'OrderDate', as_index = False)['Amt'].sum()\n",
    "month.sort_values(by = 'OrderDate', ascending = True, inplace = True)\n",
    "\n",
    "\n",
    "#시각화\n",
    "\n",
    "# plt.bar(month['OrderDate'].str[0:4] + ' 년 ' + month['OrderDate'].str[4:6] + ' 월',month['Amt'])\n",
    "# plt.xticks(rotation = 80)\n",
    "# plt.ylabel('단위 : 백만 원')\n",
    "# plt.title('2016년 1월 ~ 2017년 3월 간 월별 판매액')\n",
    "# plt.show()\n",
    "\n"
   ]
  },
  {
   "cell_type": "markdown",
   "metadata": {
    "id": "ajTIZ9gNgBM7"
   },
   "source": [
    "## 5.고객 분류\n",
    "\n",
    "* 고객을 등급을 나눠 판매 현황을 분석하고 이에 따른 판매 전략을 수립하려합니다.\n",
    "- 우선 고객을 일정 기준에 따라 분류하고 등급을 지정해야 합니다.\n",
    "- 다음과 같은 순서로 처리하면 될 것입니다.\n",
    "    - 고객별 주문 수량 합, 판매 금액 합을 갖는 데이터프레임 선언\n",
    "    - 고객 분류 기준과 이 기준에 따른 등급 이름 정의\n",
    "    - 고객 등급을 갖는 새로운 Level 열 추가"
   ]
  },
  {
   "cell_type": "code",
   "execution_count": 85,
   "metadata": {},
   "outputs": [
    {
     "data": {
      "text/html": [
       "<div>\n",
       "<style scoped>\n",
       "    .dataframe tbody tr th:only-of-type {\n",
       "        vertical-align: middle;\n",
       "    }\n",
       "\n",
       "    .dataframe tbody tr th {\n",
       "        vertical-align: top;\n",
       "    }\n",
       "\n",
       "    .dataframe thead th {\n",
       "        text-align: right;\n",
       "    }\n",
       "</style>\n",
       "<table border=\"1\" class=\"dataframe\">\n",
       "  <thead>\n",
       "    <tr style=\"text-align: right;\">\n",
       "      <th></th>\n",
       "      <th>ProductName</th>\n",
       "      <th>Category</th>\n",
       "      <th>SubCategory</th>\n",
       "      <th>OrderDate</th>\n",
       "      <th>Price</th>\n",
       "      <th>Qty</th>\n",
       "      <th>Amt</th>\n",
       "      <th>CustomerID</th>\n",
       "      <th>Age</th>\n",
       "      <th>Gender</th>\n",
       "      <th>Addr1</th>\n",
       "      <th>Addr2</th>\n",
       "    </tr>\n",
       "  </thead>\n",
       "  <tbody>\n",
       "    <tr>\n",
       "      <th>0</th>\n",
       "      <td>마늘</td>\n",
       "      <td>채소</td>\n",
       "      <td>뿌리채소</td>\n",
       "      <td>20160102</td>\n",
       "      <td>3150.0</td>\n",
       "      <td>1</td>\n",
       "      <td>3150</td>\n",
       "      <td>c115512</td>\n",
       "      <td>37</td>\n",
       "      <td>여</td>\n",
       "      <td>경기도</td>\n",
       "      <td>김포시</td>\n",
       "    </tr>\n",
       "    <tr>\n",
       "      <th>1</th>\n",
       "      <td>마늘</td>\n",
       "      <td>채소</td>\n",
       "      <td>뿌리채소</td>\n",
       "      <td>20160301</td>\n",
       "      <td>3300.0</td>\n",
       "      <td>1</td>\n",
       "      <td>3300</td>\n",
       "      <td>c115512</td>\n",
       "      <td>37</td>\n",
       "      <td>여</td>\n",
       "      <td>경기도</td>\n",
       "      <td>김포시</td>\n",
       "    </tr>\n",
       "    <tr>\n",
       "      <th>2</th>\n",
       "      <td>마늘</td>\n",
       "      <td>채소</td>\n",
       "      <td>뿌리채소</td>\n",
       "      <td>20160316</td>\n",
       "      <td>3300.0</td>\n",
       "      <td>1</td>\n",
       "      <td>3300</td>\n",
       "      <td>c115512</td>\n",
       "      <td>37</td>\n",
       "      <td>여</td>\n",
       "      <td>경기도</td>\n",
       "      <td>김포시</td>\n",
       "    </tr>\n",
       "    <tr>\n",
       "      <th>3</th>\n",
       "      <td>마늘</td>\n",
       "      <td>채소</td>\n",
       "      <td>뿌리채소</td>\n",
       "      <td>20160828</td>\n",
       "      <td>3100.0</td>\n",
       "      <td>1</td>\n",
       "      <td>3100</td>\n",
       "      <td>c115512</td>\n",
       "      <td>37</td>\n",
       "      <td>여</td>\n",
       "      <td>경기도</td>\n",
       "      <td>김포시</td>\n",
       "    </tr>\n",
       "    <tr>\n",
       "      <th>4</th>\n",
       "      <td>마늘</td>\n",
       "      <td>채소</td>\n",
       "      <td>뿌리채소</td>\n",
       "      <td>20161118</td>\n",
       "      <td>3100.0</td>\n",
       "      <td>1</td>\n",
       "      <td>3100</td>\n",
       "      <td>c115512</td>\n",
       "      <td>37</td>\n",
       "      <td>여</td>\n",
       "      <td>경기도</td>\n",
       "      <td>김포시</td>\n",
       "    </tr>\n",
       "  </tbody>\n",
       "</table>\n",
       "</div>"
      ],
      "text/plain": [
       "  ProductName Category SubCategory OrderDate   Price  Qty   Amt CustomerID  \\\n",
       "0          마늘       채소        뿌리채소  20160102  3150.0    1  3150    c115512   \n",
       "1          마늘       채소        뿌리채소  20160301  3300.0    1  3300    c115512   \n",
       "2          마늘       채소        뿌리채소  20160316  3300.0    1  3300    c115512   \n",
       "3          마늘       채소        뿌리채소  20160828  3100.0    1  3100    c115512   \n",
       "4          마늘       채소        뿌리채소  20161118  3100.0    1  3100    c115512   \n",
       "\n",
       "   Age Gender Addr1 Addr2  \n",
       "0   37      여   경기도   김포시  \n",
       "1   37      여   경기도   김포시  \n",
       "2   37      여   경기도   김포시  \n",
       "3   37      여   경기도   김포시  \n",
       "4   37      여   경기도   김포시  "
      ]
     },
     "execution_count": 85,
     "metadata": {},
     "output_type": "execute_result"
    }
   ],
   "source": [
    "Sales.head()"
   ]
  },
  {
   "cell_type": "markdown",
   "metadata": {
    "id": "oYwVs7u2gBM7"
   },
   "source": [
    "**1) 고객별 집계**\n",
    "\n",
    "* 고객별 주문 수량 합, 판매 금액 합을 갖는 cst 데이터프레임을 선언합니다."
   ]
  },
  {
   "cell_type": "code",
   "execution_count": 86,
   "metadata": {
    "id": "JHF506hggBM8"
   },
   "outputs": [
    {
     "data": {
      "text/html": [
       "<div>\n",
       "<style scoped>\n",
       "    .dataframe tbody tr th:only-of-type {\n",
       "        vertical-align: middle;\n",
       "    }\n",
       "\n",
       "    .dataframe tbody tr th {\n",
       "        vertical-align: top;\n",
       "    }\n",
       "\n",
       "    .dataframe thead th {\n",
       "        text-align: right;\n",
       "    }\n",
       "</style>\n",
       "<table border=\"1\" class=\"dataframe\">\n",
       "  <thead>\n",
       "    <tr style=\"text-align: right;\">\n",
       "      <th></th>\n",
       "      <th>CustomerID</th>\n",
       "      <th>Amt</th>\n",
       "    </tr>\n",
       "  </thead>\n",
       "  <tbody>\n",
       "    <tr>\n",
       "      <th>0</th>\n",
       "      <td>c017487</td>\n",
       "      <td>296447</td>\n",
       "    </tr>\n",
       "    <tr>\n",
       "      <th>1</th>\n",
       "      <td>c017503</td>\n",
       "      <td>160444</td>\n",
       "    </tr>\n",
       "    <tr>\n",
       "      <th>2</th>\n",
       "      <td>c017517</td>\n",
       "      <td>317590</td>\n",
       "    </tr>\n",
       "    <tr>\n",
       "      <th>3</th>\n",
       "      <td>c017522</td>\n",
       "      <td>219849</td>\n",
       "    </tr>\n",
       "    <tr>\n",
       "      <th>4</th>\n",
       "      <td>c017526</td>\n",
       "      <td>48881</td>\n",
       "    </tr>\n",
       "  </tbody>\n",
       "</table>\n",
       "</div>"
      ],
      "text/plain": [
       "  CustomerID     Amt\n",
       "0    c017487  296447\n",
       "1    c017503  160444\n",
       "2    c017517  317590\n",
       "3    c017522  219849\n",
       "4    c017526   48881"
      ]
     },
     "execution_count": 86,
     "metadata": {},
     "output_type": "execute_result"
    }
   ],
   "source": [
    "cstq = Sales.groupby(by = 'CustomerID', as_index = False)['Qty'].sum()\n",
    "csta = Sales.groupby(by = 'CustomerID', as_index = False)['Amt'].sum()\n",
    "\n",
    "csta.head()\n",
    "\n"
   ]
  },
  {
   "cell_type": "markdown",
   "metadata": {
    "id": "Se7JGfL4gBM8"
   },
   "source": [
    "**2) 고객 분류 기준 찾기**\n",
    "\n",
    "- 고객 등급 분류 기준을 찾기 위해 관련 데이터를 확인합니다."
   ]
  },
  {
   "cell_type": "code",
   "execution_count": 87,
   "metadata": {
    "id": "OjoihrbtgBM8"
   },
   "outputs": [
    {
     "data": {
      "text/html": [
       "<div>\n",
       "<style scoped>\n",
       "    .dataframe tbody tr th:only-of-type {\n",
       "        vertical-align: middle;\n",
       "    }\n",
       "\n",
       "    .dataframe tbody tr th {\n",
       "        vertical-align: top;\n",
       "    }\n",
       "\n",
       "    .dataframe thead th {\n",
       "        text-align: right;\n",
       "    }\n",
       "</style>\n",
       "<table border=\"1\" class=\"dataframe\">\n",
       "  <thead>\n",
       "    <tr style=\"text-align: right;\">\n",
       "      <th></th>\n",
       "      <th>Qty</th>\n",
       "    </tr>\n",
       "  </thead>\n",
       "  <tbody>\n",
       "    <tr>\n",
       "      <th>count</th>\n",
       "      <td>2237.000000</td>\n",
       "    </tr>\n",
       "    <tr>\n",
       "      <th>mean</th>\n",
       "      <td>38.988824</td>\n",
       "    </tr>\n",
       "    <tr>\n",
       "      <th>std</th>\n",
       "      <td>63.216430</td>\n",
       "    </tr>\n",
       "    <tr>\n",
       "      <th>min</th>\n",
       "      <td>1.000000</td>\n",
       "    </tr>\n",
       "    <tr>\n",
       "      <th>25%</th>\n",
       "      <td>4.000000</td>\n",
       "    </tr>\n",
       "    <tr>\n",
       "      <th>50%</th>\n",
       "      <td>13.000000</td>\n",
       "    </tr>\n",
       "    <tr>\n",
       "      <th>75%</th>\n",
       "      <td>47.000000</td>\n",
       "    </tr>\n",
       "    <tr>\n",
       "      <th>max</th>\n",
       "      <td>1008.000000</td>\n",
       "    </tr>\n",
       "  </tbody>\n",
       "</table>\n",
       "</div>"
      ],
      "text/plain": [
       "               Qty\n",
       "count  2237.000000\n",
       "mean     38.988824\n",
       "std      63.216430\n",
       "min       1.000000\n",
       "25%       4.000000\n",
       "50%      13.000000\n",
       "75%      47.000000\n",
       "max    1008.000000"
      ]
     },
     "execution_count": 87,
     "metadata": {},
     "output_type": "execute_result"
    }
   ],
   "source": [
    "cstq.describe()\n"
   ]
  },
  {
   "cell_type": "markdown",
   "metadata": {
    "id": "OqXtZMluFrHv"
   },
   "source": [
    "**3) 고객 분류 기준 정리**\n",
    "\n",
    "- 고객 등급 분류 기준과 그 기준에 따른 등급 이름을 정리합니다.\n",
    "- 예를 들면 다음과 같은 기준과 등급 이름을 정의할 수 있을 것입니다.\n",
    "    - ~ 30,000: Family\n",
    "    - 30,000 ~ 100,000: Bronze\n",
    "    - 100,000 ~ 300,000: Silver\n",
    "    - 300,000 ~ : Gold\n",
    "    - 600,000 ~ : Platinum\n",
    "- 분류 기준과 등급 이름\n",
    "   - ~300,000 : Smart\n",
    "   -  300,000 ~ 500,000 : Modern\n",
    "   -  500,000 ~ 100,000 : Prestige\n",
    "   -  1,000,000 ~ : Limited"
   ]
  },
  {
   "cell_type": "markdown",
   "metadata": {
    "id": "aav9vJSTgBM8"
   },
   "source": [
    "**4) 고객 등급 반영**\n",
    "\n",
    "- 각자 정의한 기준에 따라 고객 등급을 Level 열로 저장합니다."
   ]
  },
  {
   "cell_type": "code",
   "execution_count": 88,
   "metadata": {},
   "outputs": [
    {
     "data": {
      "text/html": [
       "<div>\n",
       "<style scoped>\n",
       "    .dataframe tbody tr th:only-of-type {\n",
       "        vertical-align: middle;\n",
       "    }\n",
       "\n",
       "    .dataframe tbody tr th {\n",
       "        vertical-align: top;\n",
       "    }\n",
       "\n",
       "    .dataframe thead th {\n",
       "        text-align: right;\n",
       "    }\n",
       "</style>\n",
       "<table border=\"1\" class=\"dataframe\">\n",
       "  <thead>\n",
       "    <tr style=\"text-align: right;\">\n",
       "      <th></th>\n",
       "      <th>CustomerID</th>\n",
       "      <th>Qty</th>\n",
       "      <th>Class</th>\n",
       "    </tr>\n",
       "  </thead>\n",
       "  <tbody>\n",
       "    <tr>\n",
       "      <th>0</th>\n",
       "      <td>c017487</td>\n",
       "      <td>127</td>\n",
       "      <td>Executor</td>\n",
       "    </tr>\n",
       "    <tr>\n",
       "      <th>1</th>\n",
       "      <td>c017503</td>\n",
       "      <td>42</td>\n",
       "      <td>Instructor</td>\n",
       "    </tr>\n",
       "    <tr>\n",
       "      <th>2</th>\n",
       "      <td>c017517</td>\n",
       "      <td>192</td>\n",
       "      <td>Executor</td>\n",
       "    </tr>\n",
       "    <tr>\n",
       "      <th>3</th>\n",
       "      <td>c017522</td>\n",
       "      <td>64</td>\n",
       "      <td>Executor</td>\n",
       "    </tr>\n",
       "    <tr>\n",
       "      <th>4</th>\n",
       "      <td>c017526</td>\n",
       "      <td>26</td>\n",
       "      <td>Mentor</td>\n",
       "    </tr>\n",
       "    <tr>\n",
       "      <th>5</th>\n",
       "      <td>c017531</td>\n",
       "      <td>77</td>\n",
       "      <td>Executor</td>\n",
       "    </tr>\n",
       "    <tr>\n",
       "      <th>6</th>\n",
       "      <td>c017538</td>\n",
       "      <td>90</td>\n",
       "      <td>Executor</td>\n",
       "    </tr>\n",
       "    <tr>\n",
       "      <th>7</th>\n",
       "      <td>c017544</td>\n",
       "      <td>188</td>\n",
       "      <td>Executor</td>\n",
       "    </tr>\n",
       "    <tr>\n",
       "      <th>8</th>\n",
       "      <td>c017546</td>\n",
       "      <td>50</td>\n",
       "      <td>Instructor</td>\n",
       "    </tr>\n",
       "    <tr>\n",
       "      <th>9</th>\n",
       "      <td>c017551</td>\n",
       "      <td>12</td>\n",
       "      <td>Mentor</td>\n",
       "    </tr>\n",
       "  </tbody>\n",
       "</table>\n",
       "</div>"
      ],
      "text/plain": [
       "  CustomerID  Qty       Class\n",
       "0    c017487  127    Executor\n",
       "1    c017503   42  Instructor\n",
       "2    c017517  192    Executor\n",
       "3    c017522   64    Executor\n",
       "4    c017526   26      Mentor\n",
       "5    c017531   77    Executor\n",
       "6    c017538   90    Executor\n",
       "7    c017544  188    Executor\n",
       "8    c017546   50  Instructor\n",
       "9    c017551   12      Mentor"
      ]
     },
     "execution_count": 88,
     "metadata": {},
     "output_type": "execute_result"
    }
   ],
   "source": [
    "#구간별로 등급 정해주기(cstq)\n",
    "#10개까지 : Disciple\n",
    "#11~ 30개 : Mentor\n",
    "#30개 이상 50개 미만: Instructor\n",
    "#50개 이상 : Executor\n",
    "\n",
    "bin2 = [-np.inf,11,31,51, np.inf]\n",
    "classifyq = ['Disciple','Mentor','Instructor','Executor']\n",
    "cstq['Class'] = pd.cut(cstq['Qty'], bins = bin2, labels = list(classifyq))\n",
    "\n",
    "cstq.head(10)"
   ]
  },
  {
   "cell_type": "code",
   "execution_count": 89,
   "metadata": {
    "id": "QgxDdl-EgBM8"
   },
   "outputs": [
    {
     "data": {
      "text/html": [
       "<div>\n",
       "<style scoped>\n",
       "    .dataframe tbody tr th:only-of-type {\n",
       "        vertical-align: middle;\n",
       "    }\n",
       "\n",
       "    .dataframe tbody tr th {\n",
       "        vertical-align: top;\n",
       "    }\n",
       "\n",
       "    .dataframe thead th {\n",
       "        text-align: right;\n",
       "    }\n",
       "</style>\n",
       "<table border=\"1\" class=\"dataframe\">\n",
       "  <thead>\n",
       "    <tr style=\"text-align: right;\">\n",
       "      <th></th>\n",
       "      <th>CustomerID</th>\n",
       "      <th>Amt</th>\n",
       "      <th>Level</th>\n",
       "    </tr>\n",
       "  </thead>\n",
       "  <tbody>\n",
       "    <tr>\n",
       "      <th>0</th>\n",
       "      <td>c017487</td>\n",
       "      <td>296447</td>\n",
       "      <td>Smart</td>\n",
       "    </tr>\n",
       "    <tr>\n",
       "      <th>1</th>\n",
       "      <td>c017503</td>\n",
       "      <td>160444</td>\n",
       "      <td>Smart</td>\n",
       "    </tr>\n",
       "    <tr>\n",
       "      <th>2</th>\n",
       "      <td>c017517</td>\n",
       "      <td>317590</td>\n",
       "      <td>Modern</td>\n",
       "    </tr>\n",
       "    <tr>\n",
       "      <th>3</th>\n",
       "      <td>c017522</td>\n",
       "      <td>219849</td>\n",
       "      <td>Smart</td>\n",
       "    </tr>\n",
       "    <tr>\n",
       "      <th>4</th>\n",
       "      <td>c017526</td>\n",
       "      <td>48881</td>\n",
       "      <td>Smart</td>\n",
       "    </tr>\n",
       "    <tr>\n",
       "      <th>5</th>\n",
       "      <td>c017531</td>\n",
       "      <td>103078</td>\n",
       "      <td>Smart</td>\n",
       "    </tr>\n",
       "    <tr>\n",
       "      <th>6</th>\n",
       "      <td>c017538</td>\n",
       "      <td>135464</td>\n",
       "      <td>Smart</td>\n",
       "    </tr>\n",
       "    <tr>\n",
       "      <th>7</th>\n",
       "      <td>c017544</td>\n",
       "      <td>511038</td>\n",
       "      <td>Prestige</td>\n",
       "    </tr>\n",
       "    <tr>\n",
       "      <th>8</th>\n",
       "      <td>c017546</td>\n",
       "      <td>175031</td>\n",
       "      <td>Smart</td>\n",
       "    </tr>\n",
       "    <tr>\n",
       "      <th>9</th>\n",
       "      <td>c017551</td>\n",
       "      <td>36950</td>\n",
       "      <td>Smart</td>\n",
       "    </tr>\n",
       "  </tbody>\n",
       "</table>\n",
       "</div>"
      ],
      "text/plain": [
       "  CustomerID     Amt     Level\n",
       "0    c017487  296447     Smart\n",
       "1    c017503  160444     Smart\n",
       "2    c017517  317590    Modern\n",
       "3    c017522  219849     Smart\n",
       "4    c017526   48881     Smart\n",
       "5    c017531  103078     Smart\n",
       "6    c017538  135464     Smart\n",
       "7    c017544  511038  Prestige\n",
       "8    c017546  175031     Smart\n",
       "9    c017551   36950     Smart"
      ]
     },
     "execution_count": 89,
     "metadata": {},
     "output_type": "execute_result"
    }
   ],
   "source": [
    "#구간별로 등급 정해주기(csta)\n",
    "# - ~300,000 : Smart\n",
    "# -  300,000 ~ 500,000 : Modern\n",
    "# -  500,000 ~ 100,000 : Prestige\n",
    "# -  1,000,000 ~ : Limited\n",
    "    \n",
    "bin = [-np.inf,300000,500000,1000000, np.inf]\n",
    "classify = ['Smart','Modern','Prestige','Nobless']\n",
    "csta['Level'] = pd.cut(csta['Amt'], bins = bin, labels = list(classify))\n",
    "\n",
    "csta.head(10)"
   ]
  },
  {
   "cell_type": "markdown",
   "metadata": {
    "id": "krCEvndzGUiq"
   },
   "source": [
    "- 등급별 고객 수를 확인해 등급이 적절히 나뉘었는지 검증합니다.\n",
    "- 검증 결과가 적절하지 않다면 위 기준을 변경해 등급을 다시 나눕니다."
   ]
  },
  {
   "cell_type": "code",
   "execution_count": 90,
   "metadata": {
    "id": "6G2TSGW1gBM8"
   },
   "outputs": [
    {
     "data": {
      "text/plain": [
       "Smart       2061\n",
       "Modern       116\n",
       "Prestige      54\n",
       "Nobless        6\n",
       "Name: Level, dtype: int64"
      ]
     },
     "execution_count": 90,
     "metadata": {},
     "output_type": "execute_result"
    }
   ],
   "source": [
    "#등급별로 몇 명 있는지 보자(csta)\n",
    "\n",
    "bin = [-np.inf,300000,500000,1000000, np.inf]\n",
    "classify = ['Smart','Modern','Prestige','Nobless']\n",
    "csta['Level'] = pd.cut(csta['Amt'], bins = bin, labels = list(classify))\n",
    "\n",
    "csta['Level'].value_counts(False)"
   ]
  },
  {
   "cell_type": "code",
   "execution_count": 91,
   "metadata": {},
   "outputs": [
    {
     "data": {
      "text/plain": [
       "Disciple      1033\n",
       "Executor       523\n",
       "Mentor         467\n",
       "Instructor     214\n",
       "Name: Class, dtype: int64"
      ]
     },
     "execution_count": 91,
     "metadata": {},
     "output_type": "execute_result"
    }
   ],
   "source": [
    "#등급별로 몇 명 있는지 보자(csta)\n",
    "\n",
    "bin2 = [-np.inf,11,31,51, np.inf]\n",
    "classifyq = ['Disciple','Mentor','Instructor','Executor']\n",
    "cstq['Class'] = pd.cut(cstq['Qty'], bins = bin2, labels = list(classifyq))\n",
    "\n",
    "cstq['Class'].value_counts(False)"
   ]
  },
  {
   "cell_type": "markdown",
   "metadata": {
    "id": "xRweF7aygBM9"
   },
   "source": [
    "## 6.등급별 고객 분석\n",
    "\n",
    "- 고객 등급을 기준으로 다양한 분석을 진행합니다.\n",
    "- 등급 별 분석은 판매 전략을 새롭게 수립하는 데 중요한 자료가 될 것입니다.\n",
    "- 분석 과정에서 판매 전략에 대한 부분을 고민해 보시기 바랍니다."
   ]
  },
  {
   "cell_type": "markdown",
   "metadata": {
    "id": "FhuIC1EigBM9"
   },
   "source": [
    "**1) 등급별 판매 수량**\n",
    "\n",
    "- 고객 등급별 판매 수량을 막대 그래프로 시각화해 확인합니다."
   ]
  },
  {
   "cell_type": "code",
   "execution_count": 92,
   "metadata": {
    "id": "fQMK4rnLgBM9"
   },
   "outputs": [
    {
     "data": {
      "image/png": "[encoded data removed]",
      "text/plain": [
       "<Figure size 432x288 with 1 Axes>"
      ]
     },
     "metadata": {
      "image/png": {
       "height": 264,
       "width": 392
      },
      "needs_background": "light"
     },
     "output_type": "display_data"
    }
   ],
   "source": [
    "#cstq 시각화\n",
    "\n",
    "plt.bar(cstq['Class'],cstq['Qty'], color = 'orange')\n",
    "plt.title('등급 별 판매 수량')\n",
    "plt.ylabel('단위 : 개')\n",
    "plt.show()\n",
    "\n"
   ]
  },
  {
   "cell_type": "markdown",
   "metadata": {
    "id": "hOZBoX2KgBM9"
   },
   "source": [
    "**2) 등급별 판매 금액**\n",
    "\n",
    "- 고객 등급별 판매 금액을 막대 그래프로 시각화해 확인합니다. "
   ]
  },
  {
   "cell_type": "code",
   "execution_count": 93,
   "metadata": {
    "id": "pSovttlfgBM-",
    "scrolled": false
   },
   "outputs": [
    {
     "data": {
      "image/png": "[encoded data removed]",
      "text/plain": [
       "<Figure size 432x288 with 1 Axes>"
      ]
     },
     "metadata": {
      "image/png": {
       "height": 264,
       "width": 383
      },
      "needs_background": "light"
     },
     "output_type": "display_data"
    }
   ],
   "source": [
    "#csta 시각화\n",
    "\n",
    "plt.bar(csta['Level'],csta['Amt'], color = 'skyblue')\n",
    "plt.title('등급 별 판매 금액')\n",
    "plt.ylabel('단위 : 백만 원')\n",
    "plt.show()"
   ]
  },
  {
   "cell_type": "markdown",
   "metadata": {
    "id": "roH6tulQz6ib"
   },
   "source": [
    "**3) 추가**"
   ]
  },
  {
   "cell_type": "code",
   "execution_count": 94,
   "metadata": {},
   "outputs": [
    {
     "data": {
      "image/png": "[encoded data removed]",
      "text/plain": [
       "<Figure size 432x288 with 1 Axes>"
      ]
     },
     "metadata": {
      "image/png": {
       "height": 264,
       "width": 383
      },
      "needs_background": "light"
     },
     "output_type": "display_data"
    }
   ],
   "source": [
    " #등급별 평균 물품 구매액\n",
    "\n",
    "\n",
    "csta_avg = csta.groupby(by = 'Level', as_index = False)['Amt'].mean()\n",
    "csta_avg.reset_index (drop = True, inplace = True)\n",
    "\n",
    "#시각화\n",
    "\n",
    "plt.bar(csta_avg['Level'],csta_avg['Amt'], color = 'skyblue')\n",
    "plt.title('등급 별 1인당 평균 물품 구매액')\n",
    "plt.ylabel('단위 : 백만 원')\n",
    "plt.show()"
   ]
  },
  {
   "cell_type": "markdown",
   "metadata": {},
   "source": [
    "**4) 추가**"
   ]
  },
  {
   "cell_type": "code",
   "execution_count": 95,
   "metadata": {
    "id": "8ZBjHX04z6ie"
   },
   "outputs": [
    {
     "data": {
      "image/png": "[encoded data removed]",
      "text/plain": [
       "<Figure size 432x288 with 1 Axes>"
      ]
     },
     "metadata": {
      "image/png": {
       "height": 264,
       "width": 387
      },
      "needs_background": "light"
     },
     "output_type": "display_data"
    }
   ],
   "source": [
    " #등급별 1인 당 평균 구매액\n",
    "\n",
    "\n",
    "cstq_avg = cstq.groupby(by = 'Class', as_index = False)['Qty'].mean()\n",
    "cstq_avg.reset_index (drop = True, inplace = True)\n",
    "\n",
    "#시각화\n",
    "\n",
    "plt.bar(cstq_avg['Class'],cstq_avg['Qty'], color = 'yellow')\n",
    "plt.title('등급 별 1인당 평균 물품 구매량')\n",
    "plt.ylabel('단위 : 개')\n",
    "plt.show()\n",
    " \n",
    " "
   ]
  },
  {
   "cell_type": "markdown",
   "metadata": {
    "id": "I2jF2_b1z9zK"
   },
   "source": [
    "**5) 추가 - 연령대 별 구매량**"
   ]
  },
  {
   "cell_type": "code",
   "execution_count": 96,
   "metadata": {
    "id": "2QyGSEBKz9zL"
   },
   "outputs": [
    {
     "data": {
      "image/png": "[encoded data removed]",
      "text/plain": [
       "<Figure size 432x288 with 1 Axes>"
      ]
     },
     "metadata": {
      "image/png": {
       "height": 279,
       "width": 392
      },
      "needs_background": "light"
     },
     "output_type": "display_data"
    }
   ],
   "source": [
    "cohort = Sales.groupby(by = 'Age', as_index = False)['Amt'].count()\n",
    "cohort.sort_values(by = 'Age', ascending = True, inplace = True)\n",
    "\n",
    "#시각화\n",
    "\n",
    "plt.plot(cohort['Age'],cohort['Amt'])\n",
    "plt.ylabel('단위 : 개')\n",
    "plt.xlabel('연령대')\n",
    "plt.title('연령대 별 구매량')\n",
    "plt.show()\n"
   ]
  },
  {
   "cell_type": "markdown",
   "metadata": {},
   "source": [
    "**6) 추가 - 지역별 매출액을 시군 단위까지 확장해서 조회**"
   ]
  },
  {
   "cell_type": "code",
   "execution_count": 97,
   "metadata": {},
   "outputs": [
    {
     "data": {
      "image/png": "[encoded data removed]",
      "text/plain": [
       "<Figure size 432x288 with 1 Axes>"
      ]
     },
     "metadata": {
      "image/png": {
       "height": 320,
       "width": 389
      },
      "needs_background": "light"
     },
     "output_type": "display_data"
    }
   ],
   "source": [
    "#지역별 매출액(시,군 단위까지)\n",
    "\n",
    "gen = Sales.groupby(by = ['Addr1','Addr2'], as_index = False)['Amt'].sum()\n",
    "gen.sort_values(by = 'Amt', ascending = False, inplace = True)\n",
    "gen = gen.head(10)\n",
    "\n",
    "plt.bar(gen['Addr1'] + ' ' + gen['Addr2'],gen['Amt'])\n",
    "plt.title('지역별 매출액 TOP10')\n",
    "plt.xticks(rotation = 45)\n",
    "plt.ylabel('단위 : 천만 원')\n",
    "plt.show()"
   ]
  },
  {
   "cell_type": "markdown",
   "metadata": {},
   "source": [
    "**7) 추가 - 월별 매출액**"
   ]
  },
  {
   "cell_type": "code",
   "execution_count": 98,
   "metadata": {},
   "outputs": [
    {
     "data": {
      "text/html": [
       "<div>\n",
       "<style scoped>\n",
       "    .dataframe tbody tr th:only-of-type {\n",
       "        vertical-align: middle;\n",
       "    }\n",
       "\n",
       "    .dataframe tbody tr th {\n",
       "        vertical-align: top;\n",
       "    }\n",
       "\n",
       "    .dataframe thead th {\n",
       "        text-align: right;\n",
       "    }\n",
       "</style>\n",
       "<table border=\"1\" class=\"dataframe\">\n",
       "  <thead>\n",
       "    <tr style=\"text-align: right;\">\n",
       "      <th></th>\n",
       "      <th>ProductName</th>\n",
       "      <th>Category</th>\n",
       "      <th>SubCategory</th>\n",
       "      <th>OrderDate</th>\n",
       "      <th>Price</th>\n",
       "      <th>Qty</th>\n",
       "      <th>Amt</th>\n",
       "      <th>CustomerID</th>\n",
       "      <th>Age</th>\n",
       "      <th>Gender</th>\n",
       "      <th>Addr1</th>\n",
       "      <th>Addr2</th>\n",
       "    </tr>\n",
       "  </thead>\n",
       "  <tbody>\n",
       "    <tr>\n",
       "      <th>0</th>\n",
       "      <td>마늘</td>\n",
       "      <td>채소</td>\n",
       "      <td>뿌리채소</td>\n",
       "      <td>20160102</td>\n",
       "      <td>3150.0</td>\n",
       "      <td>1</td>\n",
       "      <td>3150</td>\n",
       "      <td>c115512</td>\n",
       "      <td>37</td>\n",
       "      <td>여</td>\n",
       "      <td>경기도</td>\n",
       "      <td>김포시</td>\n",
       "    </tr>\n",
       "    <tr>\n",
       "      <th>1</th>\n",
       "      <td>마늘</td>\n",
       "      <td>채소</td>\n",
       "      <td>뿌리채소</td>\n",
       "      <td>20160301</td>\n",
       "      <td>3300.0</td>\n",
       "      <td>1</td>\n",
       "      <td>3300</td>\n",
       "      <td>c115512</td>\n",
       "      <td>37</td>\n",
       "      <td>여</td>\n",
       "      <td>경기도</td>\n",
       "      <td>김포시</td>\n",
       "    </tr>\n",
       "    <tr>\n",
       "      <th>2</th>\n",
       "      <td>마늘</td>\n",
       "      <td>채소</td>\n",
       "      <td>뿌리채소</td>\n",
       "      <td>20160316</td>\n",
       "      <td>3300.0</td>\n",
       "      <td>1</td>\n",
       "      <td>3300</td>\n",
       "      <td>c115512</td>\n",
       "      <td>37</td>\n",
       "      <td>여</td>\n",
       "      <td>경기도</td>\n",
       "      <td>김포시</td>\n",
       "    </tr>\n",
       "    <tr>\n",
       "      <th>3</th>\n",
       "      <td>마늘</td>\n",
       "      <td>채소</td>\n",
       "      <td>뿌리채소</td>\n",
       "      <td>20160828</td>\n",
       "      <td>3100.0</td>\n",
       "      <td>1</td>\n",
       "      <td>3100</td>\n",
       "      <td>c115512</td>\n",
       "      <td>37</td>\n",
       "      <td>여</td>\n",
       "      <td>경기도</td>\n",
       "      <td>김포시</td>\n",
       "    </tr>\n",
       "    <tr>\n",
       "      <th>4</th>\n",
       "      <td>마늘</td>\n",
       "      <td>채소</td>\n",
       "      <td>뿌리채소</td>\n",
       "      <td>20161118</td>\n",
       "      <td>3100.0</td>\n",
       "      <td>1</td>\n",
       "      <td>3100</td>\n",
       "      <td>c115512</td>\n",
       "      <td>37</td>\n",
       "      <td>여</td>\n",
       "      <td>경기도</td>\n",
       "      <td>김포시</td>\n",
       "    </tr>\n",
       "  </tbody>\n",
       "</table>\n",
       "</div>"
      ],
      "text/plain": [
       "  ProductName Category SubCategory OrderDate   Price  Qty   Amt CustomerID  \\\n",
       "0          마늘       채소        뿌리채소  20160102  3150.0    1  3150    c115512   \n",
       "1          마늘       채소        뿌리채소  20160301  3300.0    1  3300    c115512   \n",
       "2          마늘       채소        뿌리채소  20160316  3300.0    1  3300    c115512   \n",
       "3          마늘       채소        뿌리채소  20160828  3100.0    1  3100    c115512   \n",
       "4          마늘       채소        뿌리채소  20161118  3100.0    1  3100    c115512   \n",
       "\n",
       "   Age Gender Addr1 Addr2  \n",
       "0   37      여   경기도   김포시  \n",
       "1   37      여   경기도   김포시  \n",
       "2   37      여   경기도   김포시  \n",
       "3   37      여   경기도   김포시  \n",
       "4   37      여   경기도   김포시  "
      ]
     },
     "execution_count": 98,
     "metadata": {},
     "output_type": "execute_result"
    }
   ],
   "source": [
    "Sales.head()"
   ]
  },
  {
   "cell_type": "code",
   "execution_count": 106,
   "metadata": {},
   "outputs": [],
   "source": [
    "Sales['OrderDate'] = Sales['OrderDate'].str[0 : 4] + '-' + Sales['OrderDate'].str[4:6]"
   ]
  },
  {
   "cell_type": "code",
   "execution_count": 107,
   "metadata": {},
   "outputs": [
    {
     "data": {
      "text/html": [
       "<div>\n",
       "<style scoped>\n",
       "    .dataframe tbody tr th:only-of-type {\n",
       "        vertical-align: middle;\n",
       "    }\n",
       "\n",
       "    .dataframe tbody tr th {\n",
       "        vertical-align: top;\n",
       "    }\n",
       "\n",
       "    .dataframe thead th {\n",
       "        text-align: right;\n",
       "    }\n",
       "</style>\n",
       "<table border=\"1\" class=\"dataframe\">\n",
       "  <thead>\n",
       "    <tr style=\"text-align: right;\">\n",
       "      <th></th>\n",
       "      <th>ProductName</th>\n",
       "      <th>Category</th>\n",
       "      <th>SubCategory</th>\n",
       "      <th>OrderDate</th>\n",
       "      <th>Price</th>\n",
       "      <th>Qty</th>\n",
       "      <th>Amt</th>\n",
       "      <th>CustomerID</th>\n",
       "      <th>Age</th>\n",
       "      <th>Gender</th>\n",
       "      <th>Addr1</th>\n",
       "      <th>Addr2</th>\n",
       "    </tr>\n",
       "  </thead>\n",
       "  <tbody>\n",
       "    <tr>\n",
       "      <th>0</th>\n",
       "      <td>마늘</td>\n",
       "      <td>채소</td>\n",
       "      <td>뿌리채소</td>\n",
       "      <td>2016-01</td>\n",
       "      <td>3150.0</td>\n",
       "      <td>1</td>\n",
       "      <td>3150</td>\n",
       "      <td>c115512</td>\n",
       "      <td>37</td>\n",
       "      <td>여</td>\n",
       "      <td>경기도</td>\n",
       "      <td>김포시</td>\n",
       "    </tr>\n",
       "    <tr>\n",
       "      <th>1</th>\n",
       "      <td>마늘</td>\n",
       "      <td>채소</td>\n",
       "      <td>뿌리채소</td>\n",
       "      <td>2016-03</td>\n",
       "      <td>3300.0</td>\n",
       "      <td>1</td>\n",
       "      <td>3300</td>\n",
       "      <td>c115512</td>\n",
       "      <td>37</td>\n",
       "      <td>여</td>\n",
       "      <td>경기도</td>\n",
       "      <td>김포시</td>\n",
       "    </tr>\n",
       "    <tr>\n",
       "      <th>2</th>\n",
       "      <td>마늘</td>\n",
       "      <td>채소</td>\n",
       "      <td>뿌리채소</td>\n",
       "      <td>2016-03</td>\n",
       "      <td>3300.0</td>\n",
       "      <td>1</td>\n",
       "      <td>3300</td>\n",
       "      <td>c115512</td>\n",
       "      <td>37</td>\n",
       "      <td>여</td>\n",
       "      <td>경기도</td>\n",
       "      <td>김포시</td>\n",
       "    </tr>\n",
       "    <tr>\n",
       "      <th>3</th>\n",
       "      <td>마늘</td>\n",
       "      <td>채소</td>\n",
       "      <td>뿌리채소</td>\n",
       "      <td>2016-08</td>\n",
       "      <td>3100.0</td>\n",
       "      <td>1</td>\n",
       "      <td>3100</td>\n",
       "      <td>c115512</td>\n",
       "      <td>37</td>\n",
       "      <td>여</td>\n",
       "      <td>경기도</td>\n",
       "      <td>김포시</td>\n",
       "    </tr>\n",
       "    <tr>\n",
       "      <th>4</th>\n",
       "      <td>마늘</td>\n",
       "      <td>채소</td>\n",
       "      <td>뿌리채소</td>\n",
       "      <td>2016-11</td>\n",
       "      <td>3100.0</td>\n",
       "      <td>1</td>\n",
       "      <td>3100</td>\n",
       "      <td>c115512</td>\n",
       "      <td>37</td>\n",
       "      <td>여</td>\n",
       "      <td>경기도</td>\n",
       "      <td>김포시</td>\n",
       "    </tr>\n",
       "  </tbody>\n",
       "</table>\n",
       "</div>"
      ],
      "text/plain": [
       "  ProductName Category SubCategory OrderDate   Price  Qty   Amt CustomerID  \\\n",
       "0          마늘       채소        뿌리채소   2016-01  3150.0    1  3150    c115512   \n",
       "1          마늘       채소        뿌리채소   2016-03  3300.0    1  3300    c115512   \n",
       "2          마늘       채소        뿌리채소   2016-03  3300.0    1  3300    c115512   \n",
       "3          마늘       채소        뿌리채소   2016-08  3100.0    1  3100    c115512   \n",
       "4          마늘       채소        뿌리채소   2016-11  3100.0    1  3100    c115512   \n",
       "\n",
       "   Age Gender Addr1 Addr2  \n",
       "0   37      여   경기도   김포시  \n",
       "1   37      여   경기도   김포시  \n",
       "2   37      여   경기도   김포시  \n",
       "3   37      여   경기도   김포시  \n",
       "4   37      여   경기도   김포시  "
      ]
     },
     "execution_count": 107,
     "metadata": {},
     "output_type": "execute_result"
    }
   ],
   "source": [
    "Sales.head()"
   ]
  },
  {
   "cell_type": "markdown",
   "metadata": {},
   "source": [
    "**7) 추가 - 월별 매출액, 매출수량 정리**"
   ]
  },
  {
   "cell_type": "code",
   "execution_count": 122,
   "metadata": {},
   "outputs": [
    {
     "data": {
      "image/png": "[encoded data removed]",
      "text/plain": [
       "<Figure size 468x288 with 1 Axes>"
      ]
     },
     "metadata": {
      "image/png": {
       "height": 293,
       "width": 420
      },
      "needs_background": "light"
     },
     "output_type": "display_data"
    }
   ],
   "source": [
    "mon = Sales.groupby(by = 'OrderDate', as_index = False)['Qty'].sum()\n",
    "mon.sort_values(by = 'OrderDate', ascending = True, inplace = True)\n",
    "\n",
    "plt.figure(figsize =[6.5,4])\n",
    "plt.bar(mon['OrderDate'],mon['Qty'])\n",
    "plt.title('월별 매출액', fontsize = 20)\n",
    "plt.xticks(rotation = 45)\n",
    "plt.ylabel('단위 : 만 원')\n",
    "plt.show()                        "
   ]
  },
  {
   "cell_type": "code",
   "execution_count": 123,
   "metadata": {},
   "outputs": [
    {
     "data": {
      "image/png": "[encoded data removed]",
      "text/plain": [
       "<Figure size 468x288 with 1 Axes>"
      ]
     },
     "metadata": {
      "image/png": {
       "height": 293,
       "width": 411
      },
      "needs_background": "light"
     },
     "output_type": "display_data"
    }
   ],
   "source": [
    "mon = Sales.groupby(by = 'OrderDate', as_index = False)['Amt'].sum()\n",
    "mon.sort_values(by = 'OrderDate', ascending = True, inplace = True)\n",
    "\n",
    "plt.figure(figsize =[6.5,4])\n",
    "plt.bar(mon['OrderDate'],mon['Amt'])\n",
    "plt.title('월별 매출량', fontsize = 20)\n",
    "plt.ylabel('단위 : 만 원')\n",
    "plt.xticks(rotation = 45)\n",
    "plt.show()"
   ]
  },
  {
   "cell_type": "markdown",
   "metadata": {
    "id": "yoSBcxGigBM-"
   },
   "source": [
    "## 7.정리\n",
    "\n",
    "- 분석을 통해 확인한 내용을 정리합니다."
   ]
  },
  {
   "cell_type": "markdown",
   "metadata": {
    "id": "dVvspGWngBM-"
   },
   "source": [
    "**1) 의견**\n",
    "\n",
    "\n",
    "\n",
    "\n"
   ]
  },
  {
   "cell_type": "markdown",
   "metadata": {
    "id": "127KsaRJgBM-"
   },
   "source": [
    "- 성별 구분의 경우 여성 이용자가 압도적으로 많다.\n",
    "- 60만 원 이상 구매한 이용자들이 매출액에서 차지하는 비중이 높다.\n",
    "- 고객 거주지는 수도권인 경우가 제일 많고, 그 중에서 경기도인 경우가 제일 많다.\n",
    "- 이용자의 연령은 40대인 경우가 제일 많고, 중년층의 비중이 제일 높다.\n",
    "- 종합하면, 경기도에 거주하는 중년 여성의 소비가 매출의 대부분을 차지한다."
   ]
  },
  {
   "cell_type": "markdown",
   "metadata": {
    "id": "FYaHYxzZgBM-"
   },
   "source": [
    "**2) 기타**"
   ]
  },
  {
   "cell_type": "markdown",
   "metadata": {
    "id": "wl2r0MxDgBM-"
   },
   "source": [
    "- 물품 구매량과 구매액은 일정하게 비례한다. \n",
    "- \n",
    "- \n",
    "- \n",
    "- "
   ]
  }
 ],
 "metadata": {
  "colab": {
   "collapsed_sections": [],
   "name": "X04 - [레벨업] 소매점 판매 현황.ipynb",
   "provenance": []
  },
  "kernelspec": {
   "display_name": "Python 3",
   "language": "python",
   "name": "python3"
  },
  "language_info": {
   "codemirror_mode": {
    "name": "ipython",
    "version": 3
   },
   "file_extension": ".py",
   "mimetype": "text/x-python",
   "name": "python",
   "nbconvert_exporter": "python",
   "pygments_lexer": "ipython3",
   "version": "3.8.8"
  }
 },
 "nbformat": 4,
 "nbformat_minor": 1
}
