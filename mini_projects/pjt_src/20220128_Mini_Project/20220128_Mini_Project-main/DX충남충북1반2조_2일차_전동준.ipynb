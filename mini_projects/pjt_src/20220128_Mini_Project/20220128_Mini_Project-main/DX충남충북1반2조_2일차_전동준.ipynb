{
 "cells": [
  {
   "cell_type": "markdown",
   "metadata": {
    "id": "YfNGaGOD9i7C"
   },
   "source": [
    "<center><img src='https://raw.githubusercontent.com/Jangrae/img/master/ml_python.png' width=600/></center>"
   ]
  },
  {
   "cell_type": "markdown",
   "metadata": {
    "id": "NlQaHFfZUHxn"
   },
   "source": [
    "<center><img src='https://raw.githubusercontent.com/Jangrae/img/master/levelup.png' width=240/></center>"
   ]
  },
  {
   "cell_type": "markdown",
   "metadata": {
    "id": "ldNujhC2R8Ul"
   },
   "source": [
    "<center>모델을 빨리 만드는 것이 목적이 아닙니다. 천천히 생각하고 정리하면서 구문을 정성껏 작성하세요.</center>"
   ]
  },
  {
   "cell_type": "markdown",
   "metadata": {
    "id": "y5V-LFxvFUwe"
   },
   "source": [
    "# 과제: 직원 이직 여부 예측\n"
   ]
  },
  {
   "cell_type": "markdown",
   "metadata": {
    "id": "4yKjzn4-kohB"
   },
   "source": [
    "<img src = \"https://github.com/Jangrae/img/blob/master/employee.png?raw=true\" width=900 align=\"left\"/>"
   ]
  },
  {
   "cell_type": "markdown",
   "metadata": {
    "id": "DdwKO7444yaR"
   },
   "source": [
    "# 실습 안내"
   ]
  },
  {
   "cell_type": "markdown",
   "metadata": {
    "id": "89RhrZ0u4yaS"
   },
   "source": [
    "**1) 실습 방법**\n",
    "\n",
    "- 데이터 전처리와 탐색 보다는 모델 코딩에 중점을 둡니다.\n",
    "- 기존 소스에서 복사해 붙여넣기 하지 않고 다시 코딩합니다.\n",
    "- 실습 후 시간이 남으면 데이터 탐색과 성능 튜닝을 진행합니다. \n",
    "- 모든 작업에는 주석을 가능한 충분히 답니다.\n",
    "- 입력을 요구한 **(작성)**, **(의견)** 부분을 충분히 채웁니다.\n",
    "\n",
    "**2) 실습 내용**\n",
    "\n",
    "- 대상 데이터를 읽어와 탐색하며 이해합니다.\n",
    "- 결측치를 확인하고 처리합니다.\n",
    "- 범주형 변수를 구분하고 가변수화를 진행합니다.\n",
    "- 연속형 변수를 구분하고 정규화를 진행합니다.\n",
    "- 데이터를 학습용 데이터와 평가용 데이터로 분리합니다.\n",
    "- 다양한 머신러닝 알고리즘을 사용해 모델링합니다.\n",
    "- 데이터 불균형을 해결하고 다시 모델링해 이전 성능과 비교합니다.\n",
    "- 성능 평가 결과를 이해하고 설명합니다.\n",
    "\n",
    "**3) 데이터 정보**\n",
    "\n",
    "- Attrition: 이직여부 (1-Yes 0-No)\t\n",
    "- Age: 나이\t\n",
    "- BusinessTravel: 출장 빈도\n",
    "- Department: 현재 부서\t\n",
    "- DistanceFromHome: 집과 직장 사이의 거리 (마일)\t\n",
    "- Education: 교육수준 (1-Below College 2-College 3-Bachelor 4- Master 5-Doctor)\n",
    "- EducationField: 전공\t\n",
    "- EmployeeNumber: 사번\t\n",
    "- EnvironmentSatisfaction: 근무환경에 대한 만족도 (1-Low 2-Good 3-Excellent 4-Outstanding)\n",
    "- Gender: 성별\t\n",
    "- JobInvolvement: 직무 적극성, 참여도 (1-Low 2-Medium 3-High 4-Very High)\n",
    "- JobRole: 직무\t\n",
    "- JobSatisfaction: 직무 만족도 (1-Low 2-Medium 3-High 4-Very High)\n",
    "- MaritalStatus: 결혼상태\t\n",
    "- MonthlyIncome: 월급\t\n",
    "- NumCompaniesWorked: 현재까지 근무한 회사 수\t\n",
    "- OverTime: 야근 여부\t\n",
    "- PercentSalaryHike: 전년대비 급여 인상율 (%)\t\n",
    "- RelationshipSatisfaction: 동료와의 관계 만족도 (1-Low 2-Medium 3-High 4-Very High)\n",
    "- StockOptionLevel: 스톡옵션 수준 (0 ~ 3)\t\n",
    "- TotalWorkingYears: 총 근무 연수\t\n",
    "- TrainingTimesLastYear: 전년 교육훈련 횟수\t\n",
    "- WorkLifeBalance: 워라밸, 일과 삶의 균형도 (1-Bad 2-Good 3-Better 4-Best)\n",
    "- YearsAtCompany: 현 직장 근무 연수\t\n",
    "- YearsInCurrentRole: 현 직무 연수\t\n",
    "- YearsWithCurrManager: 현 팀장과 근무한 연수"
   ]
  },
  {
   "cell_type": "markdown",
   "metadata": {
    "id": "WW5MoKVRHuE8"
   },
   "source": [
    "# 1.환경 준비\n",
    "\n",
    "- 기본 라이브러리와 대상 데이터를 가져와 이후 과정을 준비합니다."
   ]
  },
  {
   "cell_type": "code",
   "execution_count": 256,
   "metadata": {
    "id": "GVvCef6A8uv6",
    "scrolled": true
   },
   "outputs": [],
   "source": [
    "# 라이브러리 불러오기\n",
    "import numpy as np\n",
    "import pandas as pd\n",
    "import matplotlib.pyplot as plt\n",
    "import seaborn as sns\n",
    "import warnings\n",
    "\n",
    "warnings.filterwarnings(action='ignore')\n",
    "%config InlineBackend.figure_format='retina'"
   ]
  },
  {
   "cell_type": "code",
   "execution_count": 257,
   "metadata": {
    "id": "3GgFpOB4zQ7h"
   },
   "outputs": [],
   "source": [
    "# 데이터 읽어오기\n",
    "# path = 'https://raw.githubusercontent.com/Jangrae/csv/master/Attrition_NA.CSV'\n",
    "path = 'https://bit.ly/AttritionFile'\n",
    "data = pd.read_csv(path)\n",
    "\n",
    "# 값 변경: Yes/No --> 1/0\n",
    "data['Attrition'] = data['Attrition'].map({'Yes': 1, 'No': 0})"
   ]
  },
  {
   "cell_type": "markdown",
   "metadata": {
    "id": "ZJOddHq2zfcU"
   },
   "source": [
    "# 2.데이터 탐색\n",
    "\n",
    "- 다양한 탐색 및 분석 방법을 사용해 대상 데이터를 충분히 이해합니다."
   ]
  },
  {
   "cell_type": "markdown",
   "metadata": {
    "id": "Hsrcp5HT4X6y"
   },
   "source": [
    "**1) 상/하위 데이터 확인**\n",
    "\n",
    "- 데이터 앞/뒤를 살펴 데이터를 간단히 확인합니다."
   ]
  },
  {
   "cell_type": "code",
   "execution_count": 258,
   "metadata": {
    "colab": {
     "base_uri": "https://localhost:8080/",
     "height": 339
    },
    "executionInfo": {
     "elapsed": 299,
     "status": "ok",
     "timestamp": 1641719452217,
     "user": {
      "displayName": "Jangrae Lee",
      "photoUrl": "https://lh3.googleusercontent.com/a-/AOh14Gh1Pd8OuWJU2cv7uTt-fURrgvty7atx_Wtarmx0-A=s64",
      "userId": "08475661575434032088"
     },
     "user_tz": -540
    },
    "id": "rX1uN9oLjmLd",
    "outputId": "735b2594-5746-4b27-bbb6-e6bd8f1eed50"
   },
   "outputs": [
    {
     "data": {
      "text/html": [
       "<div>\n",
       "<style scoped>\n",
       "    .dataframe tbody tr th:only-of-type {\n",
       "        vertical-align: middle;\n",
       "    }\n",
       "\n",
       "    .dataframe tbody tr th {\n",
       "        vertical-align: top;\n",
       "    }\n",
       "\n",
       "    .dataframe thead th {\n",
       "        text-align: right;\n",
       "    }\n",
       "</style>\n",
       "<table border=\"1\" class=\"dataframe\">\n",
       "  <thead>\n",
       "    <tr style=\"text-align: right;\">\n",
       "      <th></th>\n",
       "      <th>Attrition</th>\n",
       "      <th>Age</th>\n",
       "      <th>BusinessTravel</th>\n",
       "      <th>Department</th>\n",
       "      <th>DistanceFromHome</th>\n",
       "      <th>Education</th>\n",
       "      <th>EducationField</th>\n",
       "      <th>EmployeeNumber</th>\n",
       "      <th>EnvironmentSatisfaction</th>\n",
       "      <th>Gender</th>\n",
       "      <th>...</th>\n",
       "      <th>OverTime</th>\n",
       "      <th>PercentSalaryHike</th>\n",
       "      <th>RelationshipSatisfaction</th>\n",
       "      <th>StockOptionLevel</th>\n",
       "      <th>TotalWorkingYears</th>\n",
       "      <th>TrainingTimesLastYear</th>\n",
       "      <th>WorkLifeBalance</th>\n",
       "      <th>YearsAtCompany</th>\n",
       "      <th>YearsInCurrentRole</th>\n",
       "      <th>YearsWithCurrManager</th>\n",
       "    </tr>\n",
       "  </thead>\n",
       "  <tbody>\n",
       "    <tr>\n",
       "      <th>0</th>\n",
       "      <td>0</td>\n",
       "      <td>33</td>\n",
       "      <td>Travel_Rarely</td>\n",
       "      <td>Research &amp; Development</td>\n",
       "      <td>7.0</td>\n",
       "      <td>3</td>\n",
       "      <td>Medical</td>\n",
       "      <td>817</td>\n",
       "      <td>3</td>\n",
       "      <td>Male</td>\n",
       "      <td>...</td>\n",
       "      <td>No</td>\n",
       "      <td>11</td>\n",
       "      <td>4</td>\n",
       "      <td>0</td>\n",
       "      <td>14</td>\n",
       "      <td>3</td>\n",
       "      <td>4</td>\n",
       "      <td>13</td>\n",
       "      <td>9</td>\n",
       "      <td>7</td>\n",
       "    </tr>\n",
       "    <tr>\n",
       "      <th>1</th>\n",
       "      <td>0</td>\n",
       "      <td>35</td>\n",
       "      <td>Travel_Frequently</td>\n",
       "      <td>Research &amp; Development</td>\n",
       "      <td>18.0</td>\n",
       "      <td>2</td>\n",
       "      <td>Life Sciences</td>\n",
       "      <td>1412</td>\n",
       "      <td>3</td>\n",
       "      <td>Male</td>\n",
       "      <td>...</td>\n",
       "      <td>No</td>\n",
       "      <td>11</td>\n",
       "      <td>3</td>\n",
       "      <td>0</td>\n",
       "      <td>10</td>\n",
       "      <td>2</td>\n",
       "      <td>3</td>\n",
       "      <td>2</td>\n",
       "      <td>2</td>\n",
       "      <td>2</td>\n",
       "    </tr>\n",
       "    <tr>\n",
       "      <th>2</th>\n",
       "      <td>0</td>\n",
       "      <td>42</td>\n",
       "      <td>Travel_Rarely</td>\n",
       "      <td>Research &amp; Development</td>\n",
       "      <td>6.0</td>\n",
       "      <td>3</td>\n",
       "      <td>Medical</td>\n",
       "      <td>1911</td>\n",
       "      <td>3</td>\n",
       "      <td>Male</td>\n",
       "      <td>...</td>\n",
       "      <td>No</td>\n",
       "      <td>13</td>\n",
       "      <td>2</td>\n",
       "      <td>1</td>\n",
       "      <td>18</td>\n",
       "      <td>3</td>\n",
       "      <td>4</td>\n",
       "      <td>13</td>\n",
       "      <td>7</td>\n",
       "      <td>7</td>\n",
       "    </tr>\n",
       "    <tr>\n",
       "      <th>3</th>\n",
       "      <td>0</td>\n",
       "      <td>46</td>\n",
       "      <td>Travel_Rarely</td>\n",
       "      <td>Sales</td>\n",
       "      <td>2.0</td>\n",
       "      <td>3</td>\n",
       "      <td>Marketing</td>\n",
       "      <td>1204</td>\n",
       "      <td>3</td>\n",
       "      <td>Female</td>\n",
       "      <td>...</td>\n",
       "      <td>No</td>\n",
       "      <td>23</td>\n",
       "      <td>1</td>\n",
       "      <td>0</td>\n",
       "      <td>28</td>\n",
       "      <td>2</td>\n",
       "      <td>3</td>\n",
       "      <td>26</td>\n",
       "      <td>15</td>\n",
       "      <td>9</td>\n",
       "    </tr>\n",
       "    <tr>\n",
       "      <th>4</th>\n",
       "      <td>0</td>\n",
       "      <td>39</td>\n",
       "      <td>Travel_Frequently</td>\n",
       "      <td>Sales</td>\n",
       "      <td>NaN</td>\n",
       "      <td>3</td>\n",
       "      <td>Life Sciences</td>\n",
       "      <td>1812</td>\n",
       "      <td>3</td>\n",
       "      <td>Male</td>\n",
       "      <td>...</td>\n",
       "      <td>No</td>\n",
       "      <td>18</td>\n",
       "      <td>4</td>\n",
       "      <td>1</td>\n",
       "      <td>7</td>\n",
       "      <td>6</td>\n",
       "      <td>3</td>\n",
       "      <td>2</td>\n",
       "      <td>1</td>\n",
       "      <td>2</td>\n",
       "    </tr>\n",
       "  </tbody>\n",
       "</table>\n",
       "<p>5 rows × 26 columns</p>\n",
       "</div>"
      ],
      "text/plain": [
       "   Attrition  Age     BusinessTravel              Department  \\\n",
       "0          0   33      Travel_Rarely  Research & Development   \n",
       "1          0   35  Travel_Frequently  Research & Development   \n",
       "2          0   42      Travel_Rarely  Research & Development   \n",
       "3          0   46      Travel_Rarely                   Sales   \n",
       "4          0   39  Travel_Frequently                   Sales   \n",
       "\n",
       "   DistanceFromHome  Education EducationField  EmployeeNumber  \\\n",
       "0               7.0          3        Medical             817   \n",
       "1              18.0          2  Life Sciences            1412   \n",
       "2               6.0          3        Medical            1911   \n",
       "3               2.0          3      Marketing            1204   \n",
       "4               NaN          3  Life Sciences            1812   \n",
       "\n",
       "   EnvironmentSatisfaction  Gender  ...  OverTime PercentSalaryHike  \\\n",
       "0                        3    Male  ...        No                11   \n",
       "1                        3    Male  ...        No                11   \n",
       "2                        3    Male  ...        No                13   \n",
       "3                        3  Female  ...        No                23   \n",
       "4                        3    Male  ...        No                18   \n",
       "\n",
       "   RelationshipSatisfaction StockOptionLevel  TotalWorkingYears  \\\n",
       "0                         4                0                 14   \n",
       "1                         3                0                 10   \n",
       "2                         2                1                 18   \n",
       "3                         1                0                 28   \n",
       "4                         4                1                  7   \n",
       "\n",
       "   TrainingTimesLastYear WorkLifeBalance  YearsAtCompany  YearsInCurrentRole  \\\n",
       "0                      3               4              13                   9   \n",
       "1                      2               3               2                   2   \n",
       "2                      3               4              13                   7   \n",
       "3                      2               3              26                  15   \n",
       "4                      6               3               2                   1   \n",
       "\n",
       "   YearsWithCurrManager  \n",
       "0                     7  \n",
       "1                     2  \n",
       "2                     7  \n",
       "3                     9  \n",
       "4                     2  \n",
       "\n",
       "[5 rows x 26 columns]"
      ]
     },
     "execution_count": 258,
     "metadata": {},
     "output_type": "execute_result"
    }
   ],
   "source": [
    "# 상위 데이터 확인\n",
    "data.head()"
   ]
  },
  {
   "cell_type": "code",
   "execution_count": 259,
   "metadata": {
    "colab": {
     "base_uri": "https://localhost:8080/",
     "height": 339
    },
    "executionInfo": {
     "elapsed": 9,
     "status": "ok",
     "timestamp": 1641719452218,
     "user": {
      "displayName": "Jangrae Lee",
      "photoUrl": "https://lh3.googleusercontent.com/a-/AOh14Gh1Pd8OuWJU2cv7uTt-fURrgvty7atx_Wtarmx0-A=s64",
      "userId": "08475661575434032088"
     },
     "user_tz": -540
    },
    "id": "Y7oKoKEcjmLe",
    "outputId": "1c905d0c-e986-4fd5-f60c-cd611cfdd8c6"
   },
   "outputs": [
    {
     "data": {
      "text/html": [
       "<div>\n",
       "<style scoped>\n",
       "    .dataframe tbody tr th:only-of-type {\n",
       "        vertical-align: middle;\n",
       "    }\n",
       "\n",
       "    .dataframe tbody tr th {\n",
       "        vertical-align: top;\n",
       "    }\n",
       "\n",
       "    .dataframe thead th {\n",
       "        text-align: right;\n",
       "    }\n",
       "</style>\n",
       "<table border=\"1\" class=\"dataframe\">\n",
       "  <thead>\n",
       "    <tr style=\"text-align: right;\">\n",
       "      <th></th>\n",
       "      <th>Attrition</th>\n",
       "      <th>Age</th>\n",
       "      <th>BusinessTravel</th>\n",
       "      <th>Department</th>\n",
       "      <th>DistanceFromHome</th>\n",
       "      <th>Education</th>\n",
       "      <th>EducationField</th>\n",
       "      <th>EmployeeNumber</th>\n",
       "      <th>EnvironmentSatisfaction</th>\n",
       "      <th>Gender</th>\n",
       "      <th>...</th>\n",
       "      <th>OverTime</th>\n",
       "      <th>PercentSalaryHike</th>\n",
       "      <th>RelationshipSatisfaction</th>\n",
       "      <th>StockOptionLevel</th>\n",
       "      <th>TotalWorkingYears</th>\n",
       "      <th>TrainingTimesLastYear</th>\n",
       "      <th>WorkLifeBalance</th>\n",
       "      <th>YearsAtCompany</th>\n",
       "      <th>YearsInCurrentRole</th>\n",
       "      <th>YearsWithCurrManager</th>\n",
       "    </tr>\n",
       "  </thead>\n",
       "  <tbody>\n",
       "    <tr>\n",
       "      <th>1245</th>\n",
       "      <td>0</td>\n",
       "      <td>27</td>\n",
       "      <td>Travel_Rarely</td>\n",
       "      <td>Research &amp; Development</td>\n",
       "      <td>19.0</td>\n",
       "      <td>3</td>\n",
       "      <td>Other</td>\n",
       "      <td>1619</td>\n",
       "      <td>4</td>\n",
       "      <td>Male</td>\n",
       "      <td>...</td>\n",
       "      <td>No</td>\n",
       "      <td>11</td>\n",
       "      <td>1</td>\n",
       "      <td>2</td>\n",
       "      <td>7</td>\n",
       "      <td>3</td>\n",
       "      <td>3</td>\n",
       "      <td>7</td>\n",
       "      <td>7</td>\n",
       "      <td>7</td>\n",
       "    </tr>\n",
       "    <tr>\n",
       "      <th>1246</th>\n",
       "      <td>0</td>\n",
       "      <td>29</td>\n",
       "      <td>Travel_Rarely</td>\n",
       "      <td>Research &amp; Development</td>\n",
       "      <td>9.0</td>\n",
       "      <td>3</td>\n",
       "      <td>Life Sciences</td>\n",
       "      <td>1558</td>\n",
       "      <td>3</td>\n",
       "      <td>Male</td>\n",
       "      <td>...</td>\n",
       "      <td>No</td>\n",
       "      <td>18</td>\n",
       "      <td>1</td>\n",
       "      <td>2</td>\n",
       "      <td>5</td>\n",
       "      <td>2</td>\n",
       "      <td>2</td>\n",
       "      <td>1</td>\n",
       "      <td>0</td>\n",
       "      <td>0</td>\n",
       "    </tr>\n",
       "    <tr>\n",
       "      <th>1247</th>\n",
       "      <td>0</td>\n",
       "      <td>29</td>\n",
       "      <td>Non-Travel</td>\n",
       "      <td>Sales</td>\n",
       "      <td>2.0</td>\n",
       "      <td>3</td>\n",
       "      <td>Life Sciences</td>\n",
       "      <td>469</td>\n",
       "      <td>4</td>\n",
       "      <td>Male</td>\n",
       "      <td>...</td>\n",
       "      <td>No</td>\n",
       "      <td>14</td>\n",
       "      <td>1</td>\n",
       "      <td>1</td>\n",
       "      <td>4</td>\n",
       "      <td>3</td>\n",
       "      <td>2</td>\n",
       "      <td>4</td>\n",
       "      <td>3</td>\n",
       "      <td>2</td>\n",
       "    </tr>\n",
       "    <tr>\n",
       "      <th>1248</th>\n",
       "      <td>0</td>\n",
       "      <td>43</td>\n",
       "      <td>Travel_Rarely</td>\n",
       "      <td>Sales</td>\n",
       "      <td>16.0</td>\n",
       "      <td>3</td>\n",
       "      <td>Marketing</td>\n",
       "      <td>327</td>\n",
       "      <td>4</td>\n",
       "      <td>Female</td>\n",
       "      <td>...</td>\n",
       "      <td>Yes</td>\n",
       "      <td>22</td>\n",
       "      <td>3</td>\n",
       "      <td>1</td>\n",
       "      <td>22</td>\n",
       "      <td>3</td>\n",
       "      <td>3</td>\n",
       "      <td>17</td>\n",
       "      <td>13</td>\n",
       "      <td>9</td>\n",
       "    </tr>\n",
       "    <tr>\n",
       "      <th>1249</th>\n",
       "      <td>0</td>\n",
       "      <td>26</td>\n",
       "      <td>Travel_Rarely</td>\n",
       "      <td>Research &amp; Development</td>\n",
       "      <td>NaN</td>\n",
       "      <td>4</td>\n",
       "      <td>Medical</td>\n",
       "      <td>1177</td>\n",
       "      <td>1</td>\n",
       "      <td>Male</td>\n",
       "      <td>...</td>\n",
       "      <td>No</td>\n",
       "      <td>22</td>\n",
       "      <td>2</td>\n",
       "      <td>1</td>\n",
       "      <td>8</td>\n",
       "      <td>2</td>\n",
       "      <td>3</td>\n",
       "      <td>8</td>\n",
       "      <td>7</td>\n",
       "      <td>7</td>\n",
       "    </tr>\n",
       "  </tbody>\n",
       "</table>\n",
       "<p>5 rows × 26 columns</p>\n",
       "</div>"
      ],
      "text/plain": [
       "      Attrition  Age BusinessTravel              Department  DistanceFromHome  \\\n",
       "1245          0   27  Travel_Rarely  Research & Development              19.0   \n",
       "1246          0   29  Travel_Rarely  Research & Development               9.0   \n",
       "1247          0   29     Non-Travel                   Sales               2.0   \n",
       "1248          0   43  Travel_Rarely                   Sales              16.0   \n",
       "1249          0   26  Travel_Rarely  Research & Development               NaN   \n",
       "\n",
       "      Education EducationField  EmployeeNumber  EnvironmentSatisfaction  \\\n",
       "1245          3          Other            1619                        4   \n",
       "1246          3  Life Sciences            1558                        3   \n",
       "1247          3  Life Sciences             469                        4   \n",
       "1248          3      Marketing             327                        4   \n",
       "1249          4        Medical            1177                        1   \n",
       "\n",
       "      Gender  ...  OverTime PercentSalaryHike  RelationshipSatisfaction  \\\n",
       "1245    Male  ...        No                11                         1   \n",
       "1246    Male  ...        No                18                         1   \n",
       "1247    Male  ...        No                14                         1   \n",
       "1248  Female  ...       Yes                22                         3   \n",
       "1249    Male  ...        No                22                         2   \n",
       "\n",
       "     StockOptionLevel  TotalWorkingYears  TrainingTimesLastYear  \\\n",
       "1245                2                  7                      3   \n",
       "1246                2                  5                      2   \n",
       "1247                1                  4                      3   \n",
       "1248                1                 22                      3   \n",
       "1249                1                  8                      2   \n",
       "\n",
       "     WorkLifeBalance  YearsAtCompany  YearsInCurrentRole  YearsWithCurrManager  \n",
       "1245               3               7                   7                     7  \n",
       "1246               2               1                   0                     0  \n",
       "1247               2               4                   3                     2  \n",
       "1248               3              17                  13                     9  \n",
       "1249               3               8                   7                     7  \n",
       "\n",
       "[5 rows x 26 columns]"
      ]
     },
     "execution_count": 259,
     "metadata": {},
     "output_type": "execute_result"
    }
   ],
   "source": [
    "# 하위 데이터 확인\n",
    "data.tail()"
   ]
  },
  {
   "cell_type": "markdown",
   "metadata": {
    "id": "PW_COUPqwoz2"
   },
   "source": [
    "**2) 변수 정보 확인**\n",
    "\n",
    "- 변수 이름, 값 개수, 데이터 형식등을 확인합니다."
   ]
  },
  {
   "cell_type": "code",
   "execution_count": 260,
   "metadata": {
    "colab": {
     "base_uri": "https://localhost:8080/"
    },
    "executionInfo": {
     "elapsed": 9,
     "status": "ok",
     "timestamp": 1641719452219,
     "user": {
      "displayName": "Jangrae Lee",
      "photoUrl": "https://lh3.googleusercontent.com/a-/AOh14Gh1Pd8OuWJU2cv7uTt-fURrgvty7atx_Wtarmx0-A=s64",
      "userId": "08475661575434032088"
     },
     "user_tz": -540
    },
    "id": "GCXCvzHLjmLf",
    "outputId": "597f9bfa-560b-43d8-ff94-89f1cf4e987d"
   },
   "outputs": [
    {
     "name": "stdout",
     "output_type": "stream",
     "text": [
      "<class 'pandas.core.frame.DataFrame'>\n",
      "RangeIndex: 1250 entries, 0 to 1249\n",
      "Data columns (total 26 columns):\n",
      " #   Column                    Non-Null Count  Dtype  \n",
      "---  ------                    --------------  -----  \n",
      " 0   Attrition                 1250 non-null   int64  \n",
      " 1   Age                       1250 non-null   int64  \n",
      " 2   BusinessTravel            1250 non-null   object \n",
      " 3   Department                1250 non-null   object \n",
      " 4   DistanceFromHome          1196 non-null   float64\n",
      " 5   Education                 1250 non-null   int64  \n",
      " 6   EducationField            1250 non-null   object \n",
      " 7   EmployeeNumber            1250 non-null   int64  \n",
      " 8   EnvironmentSatisfaction   1250 non-null   int64  \n",
      " 9   Gender                    1250 non-null   object \n",
      " 10  JobInvolvement            1250 non-null   int64  \n",
      " 11  JobRole                   1250 non-null   object \n",
      " 12  JobSatisfaction           1250 non-null   int64  \n",
      " 13  MaritalStatus             1250 non-null   object \n",
      " 14  MonthlyIncome             1250 non-null   int64  \n",
      " 15  NumCompaniesWorked        1229 non-null   float64\n",
      " 16  OverTime                  1250 non-null   object \n",
      " 17  PercentSalaryHike         1250 non-null   int64  \n",
      " 18  RelationshipSatisfaction  1250 non-null   int64  \n",
      " 19  StockOptionLevel          1250 non-null   int64  \n",
      " 20  TotalWorkingYears         1250 non-null   int64  \n",
      " 21  TrainingTimesLastYear     1250 non-null   int64  \n",
      " 22  WorkLifeBalance           1250 non-null   int64  \n",
      " 23  YearsAtCompany            1250 non-null   int64  \n",
      " 24  YearsInCurrentRole        1250 non-null   int64  \n",
      " 25  YearsWithCurrManager      1250 non-null   int64  \n",
      "dtypes: float64(2), int64(17), object(7)\n",
      "memory usage: 254.0+ KB\n"
     ]
    }
   ],
   "source": [
    "# 열 정보 확인\n",
    "data.info()"
   ]
  },
  {
   "cell_type": "markdown",
   "metadata": {
    "id": "gVKnqRbgw1y1"
   },
   "source": [
    "**3) 기초통계정보 확인**\n",
    "\n",
    "- 기초통계정보를 통해 숫자 데이터를 갖는 변수들 값 분포를 확인합니다."
   ]
  },
  {
   "cell_type": "code",
   "execution_count": 261,
   "metadata": {
    "colab": {
     "base_uri": "https://localhost:8080/",
     "height": 364
    },
    "executionInfo": {
     "elapsed": 283,
     "status": "ok",
     "timestamp": 1641719452496,
     "user": {
      "displayName": "Jangrae Lee",
      "photoUrl": "https://lh3.googleusercontent.com/a-/AOh14Gh1Pd8OuWJU2cv7uTt-fURrgvty7atx_Wtarmx0-A=s64",
      "userId": "08475661575434032088"
     },
     "user_tz": -540
    },
    "id": "CUlxANInjmLg",
    "outputId": "fe13a69b-7976-46d7-ad6a-4837137fc5e9"
   },
   "outputs": [
    {
     "data": {
      "text/html": [
       "<div>\n",
       "<style scoped>\n",
       "    .dataframe tbody tr th:only-of-type {\n",
       "        vertical-align: middle;\n",
       "    }\n",
       "\n",
       "    .dataframe tbody tr th {\n",
       "        vertical-align: top;\n",
       "    }\n",
       "\n",
       "    .dataframe thead th {\n",
       "        text-align: right;\n",
       "    }\n",
       "</style>\n",
       "<table border=\"1\" class=\"dataframe\">\n",
       "  <thead>\n",
       "    <tr style=\"text-align: right;\">\n",
       "      <th></th>\n",
       "      <th>Attrition</th>\n",
       "      <th>Age</th>\n",
       "      <th>DistanceFromHome</th>\n",
       "      <th>Education</th>\n",
       "      <th>EmployeeNumber</th>\n",
       "      <th>EnvironmentSatisfaction</th>\n",
       "      <th>JobInvolvement</th>\n",
       "      <th>JobSatisfaction</th>\n",
       "      <th>MonthlyIncome</th>\n",
       "      <th>NumCompaniesWorked</th>\n",
       "      <th>PercentSalaryHike</th>\n",
       "      <th>RelationshipSatisfaction</th>\n",
       "      <th>StockOptionLevel</th>\n",
       "      <th>TotalWorkingYears</th>\n",
       "      <th>TrainingTimesLastYear</th>\n",
       "      <th>WorkLifeBalance</th>\n",
       "      <th>YearsAtCompany</th>\n",
       "      <th>YearsInCurrentRole</th>\n",
       "      <th>YearsWithCurrManager</th>\n",
       "    </tr>\n",
       "  </thead>\n",
       "  <tbody>\n",
       "    <tr>\n",
       "      <th>count</th>\n",
       "      <td>1250.000000</td>\n",
       "      <td>1250.000000</td>\n",
       "      <td>1196.000000</td>\n",
       "      <td>1250.000000</td>\n",
       "      <td>1250.00000</td>\n",
       "      <td>1250.000000</td>\n",
       "      <td>1250.0000</td>\n",
       "      <td>1250.000000</td>\n",
       "      <td>1250.000000</td>\n",
       "      <td>1229.000000</td>\n",
       "      <td>1250.000000</td>\n",
       "      <td>1250.000000</td>\n",
       "      <td>1250.000000</td>\n",
       "      <td>1250.00000</td>\n",
       "      <td>1250.000000</td>\n",
       "      <td>1250.000000</td>\n",
       "      <td>1250.000000</td>\n",
       "      <td>1250.000000</td>\n",
       "      <td>1250.000000</td>\n",
       "    </tr>\n",
       "    <tr>\n",
       "      <th>mean</th>\n",
       "      <td>0.160000</td>\n",
       "      <td>36.931200</td>\n",
       "      <td>9.258361</td>\n",
       "      <td>2.916800</td>\n",
       "      <td>1030.97120</td>\n",
       "      <td>2.739200</td>\n",
       "      <td>2.7272</td>\n",
       "      <td>2.729600</td>\n",
       "      <td>6525.548000</td>\n",
       "      <td>2.678600</td>\n",
       "      <td>15.216000</td>\n",
       "      <td>2.717600</td>\n",
       "      <td>0.796000</td>\n",
       "      <td>11.33920</td>\n",
       "      <td>2.808000</td>\n",
       "      <td>2.761600</td>\n",
       "      <td>7.117600</td>\n",
       "      <td>4.276000</td>\n",
       "      <td>4.166400</td>\n",
       "    </tr>\n",
       "    <tr>\n",
       "      <th>std</th>\n",
       "      <td>0.366753</td>\n",
       "      <td>9.122162</td>\n",
       "      <td>8.166016</td>\n",
       "      <td>1.025436</td>\n",
       "      <td>603.40408</td>\n",
       "      <td>1.096971</td>\n",
       "      <td>0.7102</td>\n",
       "      <td>1.110617</td>\n",
       "      <td>4676.979554</td>\n",
       "      <td>2.473647</td>\n",
       "      <td>3.625556</td>\n",
       "      <td>1.074977</td>\n",
       "      <td>0.851213</td>\n",
       "      <td>7.79687</td>\n",
       "      <td>1.277357</td>\n",
       "      <td>0.715245</td>\n",
       "      <td>6.246966</td>\n",
       "      <td>3.660074</td>\n",
       "      <td>3.610476</td>\n",
       "    </tr>\n",
       "    <tr>\n",
       "      <th>min</th>\n",
       "      <td>0.000000</td>\n",
       "      <td>18.000000</td>\n",
       "      <td>1.000000</td>\n",
       "      <td>1.000000</td>\n",
       "      <td>1.00000</td>\n",
       "      <td>1.000000</td>\n",
       "      <td>1.0000</td>\n",
       "      <td>1.000000</td>\n",
       "      <td>1009.000000</td>\n",
       "      <td>0.000000</td>\n",
       "      <td>11.000000</td>\n",
       "      <td>1.000000</td>\n",
       "      <td>0.000000</td>\n",
       "      <td>0.00000</td>\n",
       "      <td>0.000000</td>\n",
       "      <td>1.000000</td>\n",
       "      <td>0.000000</td>\n",
       "      <td>0.000000</td>\n",
       "      <td>0.000000</td>\n",
       "    </tr>\n",
       "    <tr>\n",
       "      <th>25%</th>\n",
       "      <td>0.000000</td>\n",
       "      <td>30.000000</td>\n",
       "      <td>2.000000</td>\n",
       "      <td>2.000000</td>\n",
       "      <td>496.25000</td>\n",
       "      <td>2.000000</td>\n",
       "      <td>2.0000</td>\n",
       "      <td>2.000000</td>\n",
       "      <td>2932.250000</td>\n",
       "      <td>1.000000</td>\n",
       "      <td>12.000000</td>\n",
       "      <td>2.000000</td>\n",
       "      <td>0.000000</td>\n",
       "      <td>6.00000</td>\n",
       "      <td>2.000000</td>\n",
       "      <td>2.000000</td>\n",
       "      <td>3.000000</td>\n",
       "      <td>2.000000</td>\n",
       "      <td>2.000000</td>\n",
       "    </tr>\n",
       "    <tr>\n",
       "      <th>50%</th>\n",
       "      <td>0.000000</td>\n",
       "      <td>36.000000</td>\n",
       "      <td>7.000000</td>\n",
       "      <td>3.000000</td>\n",
       "      <td>1028.00000</td>\n",
       "      <td>3.000000</td>\n",
       "      <td>3.0000</td>\n",
       "      <td>3.000000</td>\n",
       "      <td>4988.000000</td>\n",
       "      <td>2.000000</td>\n",
       "      <td>14.000000</td>\n",
       "      <td>3.000000</td>\n",
       "      <td>1.000000</td>\n",
       "      <td>10.00000</td>\n",
       "      <td>3.000000</td>\n",
       "      <td>3.000000</td>\n",
       "      <td>5.000000</td>\n",
       "      <td>3.000000</td>\n",
       "      <td>3.000000</td>\n",
       "    </tr>\n",
       "    <tr>\n",
       "      <th>75%</th>\n",
       "      <td>0.000000</td>\n",
       "      <td>43.000000</td>\n",
       "      <td>14.000000</td>\n",
       "      <td>4.000000</td>\n",
       "      <td>1567.00000</td>\n",
       "      <td>4.000000</td>\n",
       "      <td>3.0000</td>\n",
       "      <td>4.000000</td>\n",
       "      <td>8437.500000</td>\n",
       "      <td>4.000000</td>\n",
       "      <td>18.000000</td>\n",
       "      <td>4.000000</td>\n",
       "      <td>1.000000</td>\n",
       "      <td>15.00000</td>\n",
       "      <td>3.000000</td>\n",
       "      <td>3.000000</td>\n",
       "      <td>10.000000</td>\n",
       "      <td>7.000000</td>\n",
       "      <td>7.000000</td>\n",
       "    </tr>\n",
       "    <tr>\n",
       "      <th>max</th>\n",
       "      <td>1.000000</td>\n",
       "      <td>60.000000</td>\n",
       "      <td>29.000000</td>\n",
       "      <td>5.000000</td>\n",
       "      <td>2068.00000</td>\n",
       "      <td>4.000000</td>\n",
       "      <td>4.0000</td>\n",
       "      <td>4.000000</td>\n",
       "      <td>19999.000000</td>\n",
       "      <td>9.000000</td>\n",
       "      <td>25.000000</td>\n",
       "      <td>4.000000</td>\n",
       "      <td>3.000000</td>\n",
       "      <td>40.00000</td>\n",
       "      <td>6.000000</td>\n",
       "      <td>4.000000</td>\n",
       "      <td>40.000000</td>\n",
       "      <td>18.000000</td>\n",
       "      <td>17.000000</td>\n",
       "    </tr>\n",
       "  </tbody>\n",
       "</table>\n",
       "</div>"
      ],
      "text/plain": [
       "         Attrition          Age  DistanceFromHome    Education  \\\n",
       "count  1250.000000  1250.000000       1196.000000  1250.000000   \n",
       "mean      0.160000    36.931200          9.258361     2.916800   \n",
       "std       0.366753     9.122162          8.166016     1.025436   \n",
       "min       0.000000    18.000000          1.000000     1.000000   \n",
       "25%       0.000000    30.000000          2.000000     2.000000   \n",
       "50%       0.000000    36.000000          7.000000     3.000000   \n",
       "75%       0.000000    43.000000         14.000000     4.000000   \n",
       "max       1.000000    60.000000         29.000000     5.000000   \n",
       "\n",
       "       EmployeeNumber  EnvironmentSatisfaction  JobInvolvement  \\\n",
       "count      1250.00000              1250.000000       1250.0000   \n",
       "mean       1030.97120                 2.739200          2.7272   \n",
       "std         603.40408                 1.096971          0.7102   \n",
       "min           1.00000                 1.000000          1.0000   \n",
       "25%         496.25000                 2.000000          2.0000   \n",
       "50%        1028.00000                 3.000000          3.0000   \n",
       "75%        1567.00000                 4.000000          3.0000   \n",
       "max        2068.00000                 4.000000          4.0000   \n",
       "\n",
       "       JobSatisfaction  MonthlyIncome  NumCompaniesWorked  PercentSalaryHike  \\\n",
       "count      1250.000000    1250.000000         1229.000000        1250.000000   \n",
       "mean          2.729600    6525.548000            2.678600          15.216000   \n",
       "std           1.110617    4676.979554            2.473647           3.625556   \n",
       "min           1.000000    1009.000000            0.000000          11.000000   \n",
       "25%           2.000000    2932.250000            1.000000          12.000000   \n",
       "50%           3.000000    4988.000000            2.000000          14.000000   \n",
       "75%           4.000000    8437.500000            4.000000          18.000000   \n",
       "max           4.000000   19999.000000            9.000000          25.000000   \n",
       "\n",
       "       RelationshipSatisfaction  StockOptionLevel  TotalWorkingYears  \\\n",
       "count               1250.000000       1250.000000         1250.00000   \n",
       "mean                   2.717600          0.796000           11.33920   \n",
       "std                    1.074977          0.851213            7.79687   \n",
       "min                    1.000000          0.000000            0.00000   \n",
       "25%                    2.000000          0.000000            6.00000   \n",
       "50%                    3.000000          1.000000           10.00000   \n",
       "75%                    4.000000          1.000000           15.00000   \n",
       "max                    4.000000          3.000000           40.00000   \n",
       "\n",
       "       TrainingTimesLastYear  WorkLifeBalance  YearsAtCompany  \\\n",
       "count            1250.000000      1250.000000     1250.000000   \n",
       "mean                2.808000         2.761600        7.117600   \n",
       "std                 1.277357         0.715245        6.246966   \n",
       "min                 0.000000         1.000000        0.000000   \n",
       "25%                 2.000000         2.000000        3.000000   \n",
       "50%                 3.000000         3.000000        5.000000   \n",
       "75%                 3.000000         3.000000       10.000000   \n",
       "max                 6.000000         4.000000       40.000000   \n",
       "\n",
       "       YearsInCurrentRole  YearsWithCurrManager  \n",
       "count         1250.000000           1250.000000  \n",
       "mean             4.276000              4.166400  \n",
       "std              3.660074              3.610476  \n",
       "min              0.000000              0.000000  \n",
       "25%              2.000000              2.000000  \n",
       "50%              3.000000              3.000000  \n",
       "75%              7.000000              7.000000  \n",
       "max             18.000000             17.000000  "
      ]
     },
     "execution_count": 261,
     "metadata": {},
     "output_type": "execute_result"
    }
   ],
   "source": [
    "# 기초 통계 정보\n",
    "data.describe()"
   ]
  },
  {
   "cell_type": "markdown",
   "metadata": {
    "id": "91cDDczO_Xvs"
   },
   "source": [
    "**4) 결측치 확인**\n",
    "\n",
    "- 결측치가 있는지 확인합니다."
   ]
  },
  {
   "cell_type": "code",
   "execution_count": 262,
   "metadata": {
    "colab": {
     "base_uri": "https://localhost:8080/"
    },
    "executionInfo": {
     "elapsed": 11,
     "status": "ok",
     "timestamp": 1641719452497,
     "user": {
      "displayName": "Jangrae Lee",
      "photoUrl": "https://lh3.googleusercontent.com/a-/AOh14Gh1Pd8OuWJU2cv7uTt-fURrgvty7atx_Wtarmx0-A=s64",
      "userId": "08475661575434032088"
     },
     "user_tz": -540
    },
    "id": "Lbwc3brE_Xvs",
    "outputId": "a9d60c42-b246-40b8-f2b1-3655dc943776"
   },
   "outputs": [
    {
     "data": {
      "text/plain": [
       "Attrition                    0\n",
       "Age                          0\n",
       "BusinessTravel               0\n",
       "Department                   0\n",
       "DistanceFromHome            54\n",
       "Education                    0\n",
       "EducationField               0\n",
       "EmployeeNumber               0\n",
       "EnvironmentSatisfaction      0\n",
       "Gender                       0\n",
       "JobInvolvement               0\n",
       "JobRole                      0\n",
       "JobSatisfaction              0\n",
       "MaritalStatus                0\n",
       "MonthlyIncome                0\n",
       "NumCompaniesWorked          21\n",
       "OverTime                     0\n",
       "PercentSalaryHike            0\n",
       "RelationshipSatisfaction     0\n",
       "StockOptionLevel             0\n",
       "TotalWorkingYears            0\n",
       "TrainingTimesLastYear        0\n",
       "WorkLifeBalance              0\n",
       "YearsAtCompany               0\n",
       "YearsInCurrentRole           0\n",
       "YearsWithCurrManager         0\n",
       "dtype: int64"
      ]
     },
     "execution_count": 262,
     "metadata": {},
     "output_type": "execute_result"
    }
   ],
   "source": [
    "# 결측치 확인\n",
    "data.isnull().sum()"
   ]
  },
  {
   "cell_type": "markdown",
   "metadata": {
    "id": "k34VAsVNflx5"
   },
   "source": [
    "**5) Attrition 변수 분포 확인**\n",
    "\n",
    "- Target 변수인 Attrition 값 분포를 확인합니다."
   ]
  },
  {
   "cell_type": "code",
   "execution_count": 263,
   "metadata": {
    "colab": {
     "base_uri": "https://localhost:8080/"
    },
    "executionInfo": {
     "elapsed": 9,
     "status": "ok",
     "timestamp": 1641719452498,
     "user": {
      "displayName": "Jangrae Lee",
      "photoUrl": "https://lh3.googleusercontent.com/a-/AOh14Gh1Pd8OuWJU2cv7uTt-fURrgvty7atx_Wtarmx0-A=s64",
      "userId": "08475661575434032088"
     },
     "user_tz": -540
    },
    "id": "-d77ejn3flx_",
    "outputId": "d06e6fae-873b-4363-911e-85426be534fa"
   },
   "outputs": [
    {
     "data": {
      "text/plain": [
       "0    1050\n",
       "1     200\n",
       "Name: Attrition, dtype: int64"
      ]
     },
     "execution_count": 263,
     "metadata": {},
     "output_type": "execute_result"
    }
   ],
   "source": [
    "# 번주값과 그 값의 개수 확인\n",
    "data['Attrition'].value_counts()"
   ]
  },
  {
   "cell_type": "markdown",
   "metadata": {
    "id": "pH10o5YhgX9y"
   },
   "source": [
    "**참고**\n",
    "\n",
    "- 0과 1의 분포가 너무 차이가 나며, 이러한 데이터를 불균형 데이터라고 부릅니다.\n",
    "- 우선 불균형 데이터로 모델링을 진행합니다."
   ]
  },
  {
   "cell_type": "markdown",
   "metadata": {
    "id": "UBxTBiP-sBjM"
   },
   "source": [
    "**6) 주요 변수 확인**\n",
    "\n",
    "6-1) Attrition 변수 값 분포를 막대그래프로 시각화해 확인합니다."
   ]
  },
  {
   "cell_type": "code",
   "execution_count": 264,
   "metadata": {
    "colab": {
     "base_uri": "https://localhost:8080/",
     "height": 278
    },
    "executionInfo": {
     "elapsed": 297,
     "status": "ok",
     "timestamp": 1641719460051,
     "user": {
      "displayName": "Jangrae Lee",
      "photoUrl": "https://lh3.googleusercontent.com/a-/AOh14Gh1Pd8OuWJU2cv7uTt-fURrgvty7atx_Wtarmx0-A=s64",
      "userId": "08475661575434032088"
     },
     "user_tz": -540
    },
    "id": "WwHabFdDFbTG",
    "outputId": "c2995730-0a90-4f6e-9942-b8dd5875fce1"
   },
   "outputs": [
    {
     "data": {
      "image/png": "[encoded data removed]",
      "text/plain": [
       "<Figure size 432x288 with 1 Axes>"
      ]
     },
     "metadata": {
      "image/png": {
       "height": 261,
       "width": 395
      },
      "needs_background": "light"
     },
     "output_type": "display_data"
    }
   ],
   "source": [
    "# Attrition 값 분포\n",
    "sns.countplot(data['Attrition'])\n",
    "plt.show()"
   ]
  },
  {
   "cell_type": "markdown",
   "metadata": {},
   "source": [
    "- (의견) 이직 가능성을 예측할 때 정밀도나 민감도가 문제가 될 것 같다.\n",
    "- (의견) 대부분이 이직 의사가 없는 것을 보면 이직하는 사람들은 공통적으로 이직 의사에 강한 영향을 주는 무언가가 있는 것 같다."
   ]
  },
  {
   "cell_type": "markdown",
   "metadata": {},
   "source": [
    "6-2) Attrition 값으로 구분해 Age 변수 값 분포를 히스토그램으로 시각화해 확인합니다."
   ]
  },
  {
   "cell_type": "code",
   "execution_count": 265,
   "metadata": {
    "colab": {
     "base_uri": "https://localhost:8080/",
     "height": 278
    },
    "executionInfo": {
     "elapsed": 696,
     "status": "ok",
     "timestamp": 1641719535022,
     "user": {
      "displayName": "Jangrae Lee",
      "photoUrl": "https://lh3.googleusercontent.com/a-/AOh14Gh1Pd8OuWJU2cv7uTt-fURrgvty7atx_Wtarmx0-A=s64",
      "userId": "08475661575434032088"
     },
     "user_tz": -540
    },
    "id": "9O4jXVPqDsu9",
    "outputId": "f29c1db1-6eff-4f55-8d4c-8ad1fcf98b49"
   },
   "outputs": [
    {
     "data": {
      "image/png": "[encoded data removed]",
      "text/plain": [
       "<Figure size 432x288 with 1 Axes>"
      ]
     },
     "metadata": {
      "image/png": {
       "height": 261,
       "width": 388
      },
      "needs_background": "light"
     },
     "output_type": "display_data"
    }
   ],
   "source": [
    "# Age --> Attrition 값 분포\n",
    "sns.histplot(x=data['Age'], hue=data['Attrition'], bins=30)\n",
    "plt.show()"
   ]
  },
  {
   "cell_type": "markdown",
   "metadata": {},
   "source": [
    "- (의견) 20대~30대가 현재 직무에 만족하지 못하고 이직을 결심하는 게 아닐까?\n",
    "- (의견) 40대 초반과 50대 초반에 이직자 수가 조금씩 튀어나온 걸 보면 연령별, 직급별로 제약이 있는 것 같기도 하다(승진 못하면 이직)"
   ]
  },
  {
   "cell_type": "markdown",
   "metadata": {},
   "source": [
    "6-3) Attrition 값으로 구분해 YearsAtCompany 변수 값 분포를 히스토그램으로 시각화해 확인합니다."
   ]
  },
  {
   "cell_type": "code",
   "execution_count": 266,
   "metadata": {
    "colab": {
     "base_uri": "https://localhost:8080/",
     "height": 278
    },
    "executionInfo": {
     "elapsed": 874,
     "status": "ok",
     "timestamp": 1641719874646,
     "user": {
      "displayName": "Jangrae Lee",
      "photoUrl": "https://lh3.googleusercontent.com/a-/AOh14Gh1Pd8OuWJU2cv7uTt-fURrgvty7atx_Wtarmx0-A=s64",
      "userId": "08475661575434032088"
     },
     "user_tz": -540
    },
    "id": "bQf3DmOgHShu",
    "outputId": "e7581465-f659-413e-a86b-371b1ff97521",
    "scrolled": true
   },
   "outputs": [
    {
     "data": {
      "image/png": "[encoded data removed]",
      "text/plain": [
       "<Figure size 432x288 with 1 Axes>"
      ]
     },
     "metadata": {
      "image/png": {
       "height": 261,
       "width": 388
      },
      "needs_background": "light"
     },
     "output_type": "display_data"
    }
   ],
   "source": [
    "# YearsAtCompany --> Attrition 값 분포\n",
    "sns.histplot(x=data['YearsAtCompany'],hue=data['Attrition'], bins=30)\n",
    "plt.show()"
   ]
  },
  {
   "cell_type": "markdown",
   "metadata": {},
   "source": [
    "- (의견) 회사에 신규로 유입된 인원들이 회사생활에 적응하지 못하고 이직을 결심하는 것 같다.\n",
    "- (의견) 온보딩 프로세스 정비와 신입에 대한 직장 문화 개선 등이 필요할 것 같다."
   ]
  },
  {
   "cell_type": "markdown",
   "metadata": {},
   "source": [
    "6-4) 추가로 확인할 변수가 있으면 더 확인합니다."
   ]
  },
  {
   "cell_type": "code",
   "execution_count": 267,
   "metadata": {},
   "outputs": [
    {
     "data": {
      "image/png": "[encoded data removed]",
      "text/plain": [
       "<Figure size 432x288 with 1 Axes>"
      ]
     },
     "metadata": {
      "image/png": {
       "height": 261,
       "width": 411
      },
      "needs_background": "light"
     },
     "output_type": "display_data"
    }
   ],
   "source": [
    "# 추가 - 월급대 별 이직 여부\n",
    "sns.kdeplot(data=data, x='MonthlyIncome', hue='Attrition')\n",
    "plt.show()"
   ]
  },
  {
   "cell_type": "markdown",
   "metadata": {},
   "source": [
    "* (의견) 이직하는 사람들은 월급에 불만을 가졌을 가능성이 높아 보인다.\n",
    "* (의견) 월급을 더 주거나, 그럴 수 없다면 그에 상응하는 무언가를 주는 것이 좋아 보인다."
   ]
  },
  {
   "cell_type": "markdown",
   "metadata": {
    "id": "wW0d0eGmCYJM"
   },
   "source": [
    "# 3.데이터 준비\n",
    "\n",
    "- 전처리 과정을 통해 머신러닝 알고리즘에 사용할 수 있는 형태의 데이터를 준비합니다."
   ]
  },
  {
   "cell_type": "markdown",
   "metadata": {
    "id": "ETvv8JywX4nx"
   },
   "source": [
    "**1) 결측치 처리**\n",
    "\n",
    "- 다음 두 변수의 결측치는 두 변수의 가장 빈번한 값으로 변경합니다.\n",
    "    - DistanceFromHome, NumCompaniesWorked\n",
    "- value_counts().idxmax()를 사용해 가장 빈도가 높은 변수 값을 얻을 수 있습니다."
   ]
  },
  {
   "cell_type": "code",
   "execution_count": 268,
   "metadata": {
    "colab": {
     "base_uri": "https://localhost:8080/"
    },
    "executionInfo": {
     "elapsed": 38,
     "status": "ok",
     "timestamp": 1641542205267,
     "user": {
      "displayName": "Jangrae Lee",
      "photoUrl": "https://lh3.googleusercontent.com/a-/AOh14Gh1Pd8OuWJU2cv7uTt-fURrgvty7atx_Wtarmx0-A=s64",
      "userId": "08475661575434032088"
     },
     "user_tz": -540
    },
    "id": "pPByQuxjE51k",
    "outputId": "390cd84e-f7bc-455f-918b-530cf5f08bd9"
   },
   "outputs": [
    {
     "data": {
      "text/plain": [
       "Attrition                   0\n",
       "Age                         0\n",
       "BusinessTravel              0\n",
       "Department                  0\n",
       "DistanceFromHome            0\n",
       "Education                   0\n",
       "EducationField              0\n",
       "EmployeeNumber              0\n",
       "EnvironmentSatisfaction     0\n",
       "Gender                      0\n",
       "JobInvolvement              0\n",
       "JobRole                     0\n",
       "JobSatisfaction             0\n",
       "MaritalStatus               0\n",
       "MonthlyIncome               0\n",
       "NumCompaniesWorked          0\n",
       "OverTime                    0\n",
       "PercentSalaryHike           0\n",
       "RelationshipSatisfaction    0\n",
       "StockOptionLevel            0\n",
       "TotalWorkingYears           0\n",
       "TrainingTimesLastYear       0\n",
       "WorkLifeBalance             0\n",
       "YearsAtCompany              0\n",
       "YearsInCurrentRole          0\n",
       "YearsWithCurrManager        0\n",
       "dtype: int64"
      ]
     },
     "execution_count": 268,
     "metadata": {},
     "output_type": "execute_result"
    }
   ],
   "source": [
    "# 결측치 처리\n",
    "fre_DistanceFromHome = data['DistanceFromHome'].value_counts().idxmax()\n",
    "fre_NumCompaniesWorked = data['NumCompaniesWorked'].value_counts().idxmax()\n",
    "data['DistanceFromHome'].fillna(fre_DistanceFromHome, inplace=True)\n",
    "data['NumCompaniesWorked'].fillna(fre_NumCompaniesWorked, inplace=True)\n",
    "\n",
    "# 확인\n",
    "data.isna().sum()"
   ]
  },
  {
   "cell_type": "markdown",
   "metadata": {
    "id": "udAt9UG-6kJc"
   },
   "source": [
    "**2) x, y 분리**\n",
    "\n",
    "- Attrition 변수가 Target입니다.\n",
    "- x, y가 분리된 이후부터 y는 절대로 건드지지 않아야 합니다."
   ]
  },
  {
   "cell_type": "code",
   "execution_count": 269,
   "metadata": {
    "id": "Ops0CDL2dEDe"
   },
   "outputs": [],
   "source": [
    "# target 확인\n",
    "target = 'Attrition'\n",
    "\n",
    "# 데이터 분리\n",
    "\n",
    "x = data.drop(target, axis=1)\n",
    "y = data[target]"
   ]
  },
  {
   "cell_type": "markdown",
   "metadata": {
    "id": "NcNnoSYwWcpY"
   },
   "source": [
    "**3) 가변수화**\n",
    "\n",
    "- 왜 x의 다음 변수들이 가변수화 대상이 되는지 파악한 후 가변수화를 진행합니다.\n",
    "    - BusinessTravel, Department, Education, EducationField, EnvironmentSatisfaction, Gender\n",
    "    - JobInvolvement, JobRole, JobSatisfaction, MaritalStatus, OverTime, RelationshipSatisfaction\n",
    "    - StockOptionLevel, WorkLifeBalance"
   ]
  },
  {
   "cell_type": "code",
   "execution_count": 270,
   "metadata": {
    "colab": {
     "base_uri": "https://localhost:8080/",
     "height": 287
    },
    "executionInfo": {
     "elapsed": 36,
     "status": "ok",
     "timestamp": 1641542205268,
     "user": {
      "displayName": "Jangrae Lee",
      "photoUrl": "https://lh3.googleusercontent.com/a-/AOh14Gh1Pd8OuWJU2cv7uTt-fURrgvty7atx_Wtarmx0-A=s64",
      "userId": "08475661575434032088"
     },
     "user_tz": -540
    },
    "id": "lFP7yuJqYGqw",
    "outputId": "c43d5fa5-55fb-4228-d9fc-6c6d0a1884ea"
   },
   "outputs": [
    {
     "data": {
      "text/html": [
       "<div>\n",
       "<style scoped>\n",
       "    .dataframe tbody tr th:only-of-type {\n",
       "        vertical-align: middle;\n",
       "    }\n",
       "\n",
       "    .dataframe tbody tr th {\n",
       "        vertical-align: top;\n",
       "    }\n",
       "\n",
       "    .dataframe thead th {\n",
       "        text-align: right;\n",
       "    }\n",
       "</style>\n",
       "<table border=\"1\" class=\"dataframe\">\n",
       "  <thead>\n",
       "    <tr style=\"text-align: right;\">\n",
       "      <th></th>\n",
       "      <th>Age</th>\n",
       "      <th>DistanceFromHome</th>\n",
       "      <th>EmployeeNumber</th>\n",
       "      <th>MonthlyIncome</th>\n",
       "      <th>NumCompaniesWorked</th>\n",
       "      <th>PercentSalaryHike</th>\n",
       "      <th>TotalWorkingYears</th>\n",
       "      <th>TrainingTimesLastYear</th>\n",
       "      <th>YearsAtCompany</th>\n",
       "      <th>YearsInCurrentRole</th>\n",
       "      <th>...</th>\n",
       "      <th>RelationshipSatisfaction_3</th>\n",
       "      <th>RelationshipSatisfaction_4</th>\n",
       "      <th>StockOptionLevel_0</th>\n",
       "      <th>StockOptionLevel_1</th>\n",
       "      <th>StockOptionLevel_2</th>\n",
       "      <th>StockOptionLevel_3</th>\n",
       "      <th>WorkLifeBalance_1</th>\n",
       "      <th>WorkLifeBalance_2</th>\n",
       "      <th>WorkLifeBalance_3</th>\n",
       "      <th>WorkLifeBalance_4</th>\n",
       "    </tr>\n",
       "  </thead>\n",
       "  <tbody>\n",
       "    <tr>\n",
       "      <th>0</th>\n",
       "      <td>33</td>\n",
       "      <td>7.0</td>\n",
       "      <td>817</td>\n",
       "      <td>11691</td>\n",
       "      <td>0.0</td>\n",
       "      <td>11</td>\n",
       "      <td>14</td>\n",
       "      <td>3</td>\n",
       "      <td>13</td>\n",
       "      <td>9</td>\n",
       "      <td>...</td>\n",
       "      <td>0</td>\n",
       "      <td>1</td>\n",
       "      <td>1</td>\n",
       "      <td>0</td>\n",
       "      <td>0</td>\n",
       "      <td>0</td>\n",
       "      <td>0</td>\n",
       "      <td>0</td>\n",
       "      <td>0</td>\n",
       "      <td>1</td>\n",
       "    </tr>\n",
       "    <tr>\n",
       "      <th>1</th>\n",
       "      <td>35</td>\n",
       "      <td>18.0</td>\n",
       "      <td>1412</td>\n",
       "      <td>9362</td>\n",
       "      <td>2.0</td>\n",
       "      <td>11</td>\n",
       "      <td>10</td>\n",
       "      <td>2</td>\n",
       "      <td>2</td>\n",
       "      <td>2</td>\n",
       "      <td>...</td>\n",
       "      <td>1</td>\n",
       "      <td>0</td>\n",
       "      <td>1</td>\n",
       "      <td>0</td>\n",
       "      <td>0</td>\n",
       "      <td>0</td>\n",
       "      <td>0</td>\n",
       "      <td>0</td>\n",
       "      <td>1</td>\n",
       "      <td>0</td>\n",
       "    </tr>\n",
       "    <tr>\n",
       "      <th>2</th>\n",
       "      <td>42</td>\n",
       "      <td>6.0</td>\n",
       "      <td>1911</td>\n",
       "      <td>13348</td>\n",
       "      <td>9.0</td>\n",
       "      <td>13</td>\n",
       "      <td>18</td>\n",
       "      <td>3</td>\n",
       "      <td>13</td>\n",
       "      <td>7</td>\n",
       "      <td>...</td>\n",
       "      <td>0</td>\n",
       "      <td>0</td>\n",
       "      <td>0</td>\n",
       "      <td>1</td>\n",
       "      <td>0</td>\n",
       "      <td>0</td>\n",
       "      <td>0</td>\n",
       "      <td>0</td>\n",
       "      <td>0</td>\n",
       "      <td>1</td>\n",
       "    </tr>\n",
       "    <tr>\n",
       "      <th>3</th>\n",
       "      <td>46</td>\n",
       "      <td>2.0</td>\n",
       "      <td>1204</td>\n",
       "      <td>17048</td>\n",
       "      <td>8.0</td>\n",
       "      <td>23</td>\n",
       "      <td>28</td>\n",
       "      <td>2</td>\n",
       "      <td>26</td>\n",
       "      <td>15</td>\n",
       "      <td>...</td>\n",
       "      <td>0</td>\n",
       "      <td>0</td>\n",
       "      <td>1</td>\n",
       "      <td>0</td>\n",
       "      <td>0</td>\n",
       "      <td>0</td>\n",
       "      <td>0</td>\n",
       "      <td>0</td>\n",
       "      <td>1</td>\n",
       "      <td>0</td>\n",
       "    </tr>\n",
       "    <tr>\n",
       "      <th>4</th>\n",
       "      <td>39</td>\n",
       "      <td>2.0</td>\n",
       "      <td>1812</td>\n",
       "      <td>4127</td>\n",
       "      <td>2.0</td>\n",
       "      <td>18</td>\n",
       "      <td>7</td>\n",
       "      <td>6</td>\n",
       "      <td>2</td>\n",
       "      <td>1</td>\n",
       "      <td>...</td>\n",
       "      <td>0</td>\n",
       "      <td>1</td>\n",
       "      <td>0</td>\n",
       "      <td>1</td>\n",
       "      <td>0</td>\n",
       "      <td>0</td>\n",
       "      <td>0</td>\n",
       "      <td>0</td>\n",
       "      <td>1</td>\n",
       "      <td>0</td>\n",
       "    </tr>\n",
       "    <tr>\n",
       "      <th>...</th>\n",
       "      <td>...</td>\n",
       "      <td>...</td>\n",
       "      <td>...</td>\n",
       "      <td>...</td>\n",
       "      <td>...</td>\n",
       "      <td>...</td>\n",
       "      <td>...</td>\n",
       "      <td>...</td>\n",
       "      <td>...</td>\n",
       "      <td>...</td>\n",
       "      <td>...</td>\n",
       "      <td>...</td>\n",
       "      <td>...</td>\n",
       "      <td>...</td>\n",
       "      <td>...</td>\n",
       "      <td>...</td>\n",
       "      <td>...</td>\n",
       "      <td>...</td>\n",
       "      <td>...</td>\n",
       "      <td>...</td>\n",
       "      <td>...</td>\n",
       "    </tr>\n",
       "    <tr>\n",
       "      <th>1245</th>\n",
       "      <td>27</td>\n",
       "      <td>19.0</td>\n",
       "      <td>1619</td>\n",
       "      <td>4066</td>\n",
       "      <td>1.0</td>\n",
       "      <td>11</td>\n",
       "      <td>7</td>\n",
       "      <td>3</td>\n",
       "      <td>7</td>\n",
       "      <td>7</td>\n",
       "      <td>...</td>\n",
       "      <td>0</td>\n",
       "      <td>0</td>\n",
       "      <td>0</td>\n",
       "      <td>0</td>\n",
       "      <td>1</td>\n",
       "      <td>0</td>\n",
       "      <td>0</td>\n",
       "      <td>0</td>\n",
       "      <td>1</td>\n",
       "      <td>0</td>\n",
       "    </tr>\n",
       "    <tr>\n",
       "      <th>1246</th>\n",
       "      <td>29</td>\n",
       "      <td>9.0</td>\n",
       "      <td>1558</td>\n",
       "      <td>2451</td>\n",
       "      <td>6.0</td>\n",
       "      <td>18</td>\n",
       "      <td>5</td>\n",
       "      <td>2</td>\n",
       "      <td>1</td>\n",
       "      <td>0</td>\n",
       "      <td>...</td>\n",
       "      <td>0</td>\n",
       "      <td>0</td>\n",
       "      <td>0</td>\n",
       "      <td>0</td>\n",
       "      <td>1</td>\n",
       "      <td>0</td>\n",
       "      <td>0</td>\n",
       "      <td>1</td>\n",
       "      <td>0</td>\n",
       "      <td>0</td>\n",
       "    </tr>\n",
       "    <tr>\n",
       "      <th>1247</th>\n",
       "      <td>29</td>\n",
       "      <td>2.0</td>\n",
       "      <td>469</td>\n",
       "      <td>4649</td>\n",
       "      <td>1.0</td>\n",
       "      <td>14</td>\n",
       "      <td>4</td>\n",
       "      <td>3</td>\n",
       "      <td>4</td>\n",
       "      <td>3</td>\n",
       "      <td>...</td>\n",
       "      <td>0</td>\n",
       "      <td>0</td>\n",
       "      <td>0</td>\n",
       "      <td>1</td>\n",
       "      <td>0</td>\n",
       "      <td>0</td>\n",
       "      <td>0</td>\n",
       "      <td>1</td>\n",
       "      <td>0</td>\n",
       "      <td>0</td>\n",
       "    </tr>\n",
       "    <tr>\n",
       "      <th>1248</th>\n",
       "      <td>43</td>\n",
       "      <td>16.0</td>\n",
       "      <td>327</td>\n",
       "      <td>16064</td>\n",
       "      <td>5.0</td>\n",
       "      <td>22</td>\n",
       "      <td>22</td>\n",
       "      <td>3</td>\n",
       "      <td>17</td>\n",
       "      <td>13</td>\n",
       "      <td>...</td>\n",
       "      <td>1</td>\n",
       "      <td>0</td>\n",
       "      <td>0</td>\n",
       "      <td>1</td>\n",
       "      <td>0</td>\n",
       "      <td>0</td>\n",
       "      <td>0</td>\n",
       "      <td>0</td>\n",
       "      <td>1</td>\n",
       "      <td>0</td>\n",
       "    </tr>\n",
       "    <tr>\n",
       "      <th>1249</th>\n",
       "      <td>26</td>\n",
       "      <td>2.0</td>\n",
       "      <td>1177</td>\n",
       "      <td>4420</td>\n",
       "      <td>1.0</td>\n",
       "      <td>22</td>\n",
       "      <td>8</td>\n",
       "      <td>2</td>\n",
       "      <td>8</td>\n",
       "      <td>7</td>\n",
       "      <td>...</td>\n",
       "      <td>0</td>\n",
       "      <td>0</td>\n",
       "      <td>0</td>\n",
       "      <td>1</td>\n",
       "      <td>0</td>\n",
       "      <td>0</td>\n",
       "      <td>0</td>\n",
       "      <td>0</td>\n",
       "      <td>1</td>\n",
       "      <td>0</td>\n",
       "    </tr>\n",
       "  </tbody>\n",
       "</table>\n",
       "<p>1250 rows × 68 columns</p>\n",
       "</div>"
      ],
      "text/plain": [
       "      Age  DistanceFromHome  EmployeeNumber  MonthlyIncome  \\\n",
       "0      33               7.0             817          11691   \n",
       "1      35              18.0            1412           9362   \n",
       "2      42               6.0            1911          13348   \n",
       "3      46               2.0            1204          17048   \n",
       "4      39               2.0            1812           4127   \n",
       "...   ...               ...             ...            ...   \n",
       "1245   27              19.0            1619           4066   \n",
       "1246   29               9.0            1558           2451   \n",
       "1247   29               2.0             469           4649   \n",
       "1248   43              16.0             327          16064   \n",
       "1249   26               2.0            1177           4420   \n",
       "\n",
       "      NumCompaniesWorked  PercentSalaryHike  TotalWorkingYears  \\\n",
       "0                    0.0                 11                 14   \n",
       "1                    2.0                 11                 10   \n",
       "2                    9.0                 13                 18   \n",
       "3                    8.0                 23                 28   \n",
       "4                    2.0                 18                  7   \n",
       "...                  ...                ...                ...   \n",
       "1245                 1.0                 11                  7   \n",
       "1246                 6.0                 18                  5   \n",
       "1247                 1.0                 14                  4   \n",
       "1248                 5.0                 22                 22   \n",
       "1249                 1.0                 22                  8   \n",
       "\n",
       "      TrainingTimesLastYear  YearsAtCompany  YearsInCurrentRole  ...  \\\n",
       "0                         3              13                   9  ...   \n",
       "1                         2               2                   2  ...   \n",
       "2                         3              13                   7  ...   \n",
       "3                         2              26                  15  ...   \n",
       "4                         6               2                   1  ...   \n",
       "...                     ...             ...                 ...  ...   \n",
       "1245                      3               7                   7  ...   \n",
       "1246                      2               1                   0  ...   \n",
       "1247                      3               4                   3  ...   \n",
       "1248                      3              17                  13  ...   \n",
       "1249                      2               8                   7  ...   \n",
       "\n",
       "      RelationshipSatisfaction_3  RelationshipSatisfaction_4  \\\n",
       "0                              0                           1   \n",
       "1                              1                           0   \n",
       "2                              0                           0   \n",
       "3                              0                           0   \n",
       "4                              0                           1   \n",
       "...                          ...                         ...   \n",
       "1245                           0                           0   \n",
       "1246                           0                           0   \n",
       "1247                           0                           0   \n",
       "1248                           1                           0   \n",
       "1249                           0                           0   \n",
       "\n",
       "      StockOptionLevel_0  StockOptionLevel_1  StockOptionLevel_2  \\\n",
       "0                      1                   0                   0   \n",
       "1                      1                   0                   0   \n",
       "2                      0                   1                   0   \n",
       "3                      1                   0                   0   \n",
       "4                      0                   1                   0   \n",
       "...                  ...                 ...                 ...   \n",
       "1245                   0                   0                   1   \n",
       "1246                   0                   0                   1   \n",
       "1247                   0                   1                   0   \n",
       "1248                   0                   1                   0   \n",
       "1249                   0                   1                   0   \n",
       "\n",
       "      StockOptionLevel_3  WorkLifeBalance_1  WorkLifeBalance_2  \\\n",
       "0                      0                  0                  0   \n",
       "1                      0                  0                  0   \n",
       "2                      0                  0                  0   \n",
       "3                      0                  0                  0   \n",
       "4                      0                  0                  0   \n",
       "...                  ...                ...                ...   \n",
       "1245                   0                  0                  0   \n",
       "1246                   0                  0                  1   \n",
       "1247                   0                  0                  1   \n",
       "1248                   0                  0                  0   \n",
       "1249                   0                  0                  0   \n",
       "\n",
       "      WorkLifeBalance_3  WorkLifeBalance_4  \n",
       "0                     0                  1  \n",
       "1                     1                  0  \n",
       "2                     0                  1  \n",
       "3                     1                  0  \n",
       "4                     1                  0  \n",
       "...                 ...                ...  \n",
       "1245                  1                  0  \n",
       "1246                  0                  0  \n",
       "1247                  0                  0  \n",
       "1248                  1                  0  \n",
       "1249                  1                  0  \n",
       "\n",
       "[1250 rows x 68 columns]"
      ]
     },
     "execution_count": 270,
     "metadata": {},
     "output_type": "execute_result"
    }
   ],
   "source": [
    "# 가변수화\n",
    "cols = ['BusinessTravel', 'Department', 'Education', 'EducationField', 'EnvironmentSatisfaction', \n",
    "        'Gender', 'JobInvolvement', 'JobRole', 'JobSatisfaction', 'MaritalStatus', 'OverTime', \n",
    "        'RelationshipSatisfaction', 'StockOptionLevel', 'WorkLifeBalance']\n",
    "x = pd.get_dummies(x, columns=cols)\n",
    "\n",
    "# 확인\n",
    "x"
   ]
  },
  {
   "cell_type": "markdown",
   "metadata": {
    "id": "DRn9gSOkb64c"
   },
   "source": [
    "**4) 정규화**\n",
    "\n",
    "- x의 다음 변수들을 정규화 합니다.\n",
    "    - Age, DistanceFromHome, EmployeeNumber, MonthlyIncome,NumCompaniesWorked \n",
    "    - PercentSalaryHike, TotalWorkingYears, TrainingTimesLastYear, YearsAtCompany \n",
    "    - YearsInCurrentRole, YearsWithCurrManager"
   ]
  },
  {
   "cell_type": "code",
   "execution_count": 271,
   "metadata": {
    "colab": {
     "base_uri": "https://localhost:8080/",
     "height": 287
    },
    "executionInfo": {
     "elapsed": 36,
     "status": "ok",
     "timestamp": 1641542205269,
     "user": {
      "displayName": "Jangrae Lee",
      "photoUrl": "https://lh3.googleusercontent.com/a-/AOh14Gh1Pd8OuWJU2cv7uTt-fURrgvty7atx_Wtarmx0-A=s64",
      "userId": "08475661575434032088"
     },
     "user_tz": -540
    },
    "id": "aWhEHmTNZ5EP",
    "outputId": "d7f5f6e5-522c-4bfb-de40-ca3a50f149e9"
   },
   "outputs": [
    {
     "data": {
      "text/html": [
       "<div>\n",
       "<style scoped>\n",
       "    .dataframe tbody tr th:only-of-type {\n",
       "        vertical-align: middle;\n",
       "    }\n",
       "\n",
       "    .dataframe tbody tr th {\n",
       "        vertical-align: top;\n",
       "    }\n",
       "\n",
       "    .dataframe thead th {\n",
       "        text-align: right;\n",
       "    }\n",
       "</style>\n",
       "<table border=\"1\" class=\"dataframe\">\n",
       "  <thead>\n",
       "    <tr style=\"text-align: right;\">\n",
       "      <th></th>\n",
       "      <th>Age</th>\n",
       "      <th>DistanceFromHome</th>\n",
       "      <th>EmployeeNumber</th>\n",
       "      <th>MonthlyIncome</th>\n",
       "      <th>NumCompaniesWorked</th>\n",
       "      <th>PercentSalaryHike</th>\n",
       "      <th>TotalWorkingYears</th>\n",
       "      <th>TrainingTimesLastYear</th>\n",
       "      <th>YearsAtCompany</th>\n",
       "      <th>YearsInCurrentRole</th>\n",
       "      <th>...</th>\n",
       "      <th>RelationshipSatisfaction_3</th>\n",
       "      <th>RelationshipSatisfaction_4</th>\n",
       "      <th>StockOptionLevel_0</th>\n",
       "      <th>StockOptionLevel_1</th>\n",
       "      <th>StockOptionLevel_2</th>\n",
       "      <th>StockOptionLevel_3</th>\n",
       "      <th>WorkLifeBalance_1</th>\n",
       "      <th>WorkLifeBalance_2</th>\n",
       "      <th>WorkLifeBalance_3</th>\n",
       "      <th>WorkLifeBalance_4</th>\n",
       "    </tr>\n",
       "  </thead>\n",
       "  <tbody>\n",
       "    <tr>\n",
       "      <th>0</th>\n",
       "      <td>0.357143</td>\n",
       "      <td>0.214286</td>\n",
       "      <td>0.394775</td>\n",
       "      <td>0.562507</td>\n",
       "      <td>0.000000</td>\n",
       "      <td>0.000000</td>\n",
       "      <td>0.350</td>\n",
       "      <td>0.500000</td>\n",
       "      <td>0.325</td>\n",
       "      <td>0.500000</td>\n",
       "      <td>...</td>\n",
       "      <td>0</td>\n",
       "      <td>1</td>\n",
       "      <td>1</td>\n",
       "      <td>0</td>\n",
       "      <td>0</td>\n",
       "      <td>0</td>\n",
       "      <td>0</td>\n",
       "      <td>0</td>\n",
       "      <td>0</td>\n",
       "      <td>1</td>\n",
       "    </tr>\n",
       "    <tr>\n",
       "      <th>1</th>\n",
       "      <td>0.404762</td>\n",
       "      <td>0.607143</td>\n",
       "      <td>0.682632</td>\n",
       "      <td>0.439863</td>\n",
       "      <td>0.222222</td>\n",
       "      <td>0.000000</td>\n",
       "      <td>0.250</td>\n",
       "      <td>0.333333</td>\n",
       "      <td>0.050</td>\n",
       "      <td>0.111111</td>\n",
       "      <td>...</td>\n",
       "      <td>1</td>\n",
       "      <td>0</td>\n",
       "      <td>1</td>\n",
       "      <td>0</td>\n",
       "      <td>0</td>\n",
       "      <td>0</td>\n",
       "      <td>0</td>\n",
       "      <td>0</td>\n",
       "      <td>1</td>\n",
       "      <td>0</td>\n",
       "    </tr>\n",
       "    <tr>\n",
       "      <th>2</th>\n",
       "      <td>0.571429</td>\n",
       "      <td>0.178571</td>\n",
       "      <td>0.924045</td>\n",
       "      <td>0.649763</td>\n",
       "      <td>1.000000</td>\n",
       "      <td>0.142857</td>\n",
       "      <td>0.450</td>\n",
       "      <td>0.500000</td>\n",
       "      <td>0.325</td>\n",
       "      <td>0.388889</td>\n",
       "      <td>...</td>\n",
       "      <td>0</td>\n",
       "      <td>0</td>\n",
       "      <td>0</td>\n",
       "      <td>1</td>\n",
       "      <td>0</td>\n",
       "      <td>0</td>\n",
       "      <td>0</td>\n",
       "      <td>0</td>\n",
       "      <td>0</td>\n",
       "      <td>1</td>\n",
       "    </tr>\n",
       "    <tr>\n",
       "      <th>3</th>\n",
       "      <td>0.666667</td>\n",
       "      <td>0.035714</td>\n",
       "      <td>0.582003</td>\n",
       "      <td>0.844602</td>\n",
       "      <td>0.888889</td>\n",
       "      <td>0.857143</td>\n",
       "      <td>0.700</td>\n",
       "      <td>0.333333</td>\n",
       "      <td>0.650</td>\n",
       "      <td>0.833333</td>\n",
       "      <td>...</td>\n",
       "      <td>0</td>\n",
       "      <td>0</td>\n",
       "      <td>1</td>\n",
       "      <td>0</td>\n",
       "      <td>0</td>\n",
       "      <td>0</td>\n",
       "      <td>0</td>\n",
       "      <td>0</td>\n",
       "      <td>1</td>\n",
       "      <td>0</td>\n",
       "    </tr>\n",
       "    <tr>\n",
       "      <th>4</th>\n",
       "      <td>0.500000</td>\n",
       "      <td>0.035714</td>\n",
       "      <td>0.876149</td>\n",
       "      <td>0.164192</td>\n",
       "      <td>0.222222</td>\n",
       "      <td>0.500000</td>\n",
       "      <td>0.175</td>\n",
       "      <td>1.000000</td>\n",
       "      <td>0.050</td>\n",
       "      <td>0.055556</td>\n",
       "      <td>...</td>\n",
       "      <td>0</td>\n",
       "      <td>1</td>\n",
       "      <td>0</td>\n",
       "      <td>1</td>\n",
       "      <td>0</td>\n",
       "      <td>0</td>\n",
       "      <td>0</td>\n",
       "      <td>0</td>\n",
       "      <td>1</td>\n",
       "      <td>0</td>\n",
       "    </tr>\n",
       "    <tr>\n",
       "      <th>...</th>\n",
       "      <td>...</td>\n",
       "      <td>...</td>\n",
       "      <td>...</td>\n",
       "      <td>...</td>\n",
       "      <td>...</td>\n",
       "      <td>...</td>\n",
       "      <td>...</td>\n",
       "      <td>...</td>\n",
       "      <td>...</td>\n",
       "      <td>...</td>\n",
       "      <td>...</td>\n",
       "      <td>...</td>\n",
       "      <td>...</td>\n",
       "      <td>...</td>\n",
       "      <td>...</td>\n",
       "      <td>...</td>\n",
       "      <td>...</td>\n",
       "      <td>...</td>\n",
       "      <td>...</td>\n",
       "      <td>...</td>\n",
       "      <td>...</td>\n",
       "    </tr>\n",
       "    <tr>\n",
       "      <th>1245</th>\n",
       "      <td>0.214286</td>\n",
       "      <td>0.642857</td>\n",
       "      <td>0.782777</td>\n",
       "      <td>0.160979</td>\n",
       "      <td>0.111111</td>\n",
       "      <td>0.000000</td>\n",
       "      <td>0.175</td>\n",
       "      <td>0.500000</td>\n",
       "      <td>0.175</td>\n",
       "      <td>0.388889</td>\n",
       "      <td>...</td>\n",
       "      <td>0</td>\n",
       "      <td>0</td>\n",
       "      <td>0</td>\n",
       "      <td>0</td>\n",
       "      <td>1</td>\n",
       "      <td>0</td>\n",
       "      <td>0</td>\n",
       "      <td>0</td>\n",
       "      <td>1</td>\n",
       "      <td>0</td>\n",
       "    </tr>\n",
       "    <tr>\n",
       "      <th>1246</th>\n",
       "      <td>0.261905</td>\n",
       "      <td>0.285714</td>\n",
       "      <td>0.753266</td>\n",
       "      <td>0.075935</td>\n",
       "      <td>0.666667</td>\n",
       "      <td>0.500000</td>\n",
       "      <td>0.125</td>\n",
       "      <td>0.333333</td>\n",
       "      <td>0.025</td>\n",
       "      <td>0.000000</td>\n",
       "      <td>...</td>\n",
       "      <td>0</td>\n",
       "      <td>0</td>\n",
       "      <td>0</td>\n",
       "      <td>0</td>\n",
       "      <td>1</td>\n",
       "      <td>0</td>\n",
       "      <td>0</td>\n",
       "      <td>1</td>\n",
       "      <td>0</td>\n",
       "      <td>0</td>\n",
       "    </tr>\n",
       "    <tr>\n",
       "      <th>1247</th>\n",
       "      <td>0.261905</td>\n",
       "      <td>0.035714</td>\n",
       "      <td>0.226415</td>\n",
       "      <td>0.191680</td>\n",
       "      <td>0.111111</td>\n",
       "      <td>0.214286</td>\n",
       "      <td>0.100</td>\n",
       "      <td>0.500000</td>\n",
       "      <td>0.100</td>\n",
       "      <td>0.166667</td>\n",
       "      <td>...</td>\n",
       "      <td>0</td>\n",
       "      <td>0</td>\n",
       "      <td>0</td>\n",
       "      <td>1</td>\n",
       "      <td>0</td>\n",
       "      <td>0</td>\n",
       "      <td>0</td>\n",
       "      <td>1</td>\n",
       "      <td>0</td>\n",
       "      <td>0</td>\n",
       "    </tr>\n",
       "    <tr>\n",
       "      <th>1248</th>\n",
       "      <td>0.595238</td>\n",
       "      <td>0.535714</td>\n",
       "      <td>0.157716</td>\n",
       "      <td>0.792786</td>\n",
       "      <td>0.555556</td>\n",
       "      <td>0.785714</td>\n",
       "      <td>0.550</td>\n",
       "      <td>0.500000</td>\n",
       "      <td>0.425</td>\n",
       "      <td>0.722222</td>\n",
       "      <td>...</td>\n",
       "      <td>1</td>\n",
       "      <td>0</td>\n",
       "      <td>0</td>\n",
       "      <td>1</td>\n",
       "      <td>0</td>\n",
       "      <td>0</td>\n",
       "      <td>0</td>\n",
       "      <td>0</td>\n",
       "      <td>1</td>\n",
       "      <td>0</td>\n",
       "    </tr>\n",
       "    <tr>\n",
       "      <th>1249</th>\n",
       "      <td>0.190476</td>\n",
       "      <td>0.035714</td>\n",
       "      <td>0.568940</td>\n",
       "      <td>0.179621</td>\n",
       "      <td>0.111111</td>\n",
       "      <td>0.785714</td>\n",
       "      <td>0.200</td>\n",
       "      <td>0.333333</td>\n",
       "      <td>0.200</td>\n",
       "      <td>0.388889</td>\n",
       "      <td>...</td>\n",
       "      <td>0</td>\n",
       "      <td>0</td>\n",
       "      <td>0</td>\n",
       "      <td>1</td>\n",
       "      <td>0</td>\n",
       "      <td>0</td>\n",
       "      <td>0</td>\n",
       "      <td>0</td>\n",
       "      <td>1</td>\n",
       "      <td>0</td>\n",
       "    </tr>\n",
       "  </tbody>\n",
       "</table>\n",
       "<p>1250 rows × 68 columns</p>\n",
       "</div>"
      ],
      "text/plain": [
       "           Age  DistanceFromHome  EmployeeNumber  MonthlyIncome  \\\n",
       "0     0.357143          0.214286        0.394775       0.562507   \n",
       "1     0.404762          0.607143        0.682632       0.439863   \n",
       "2     0.571429          0.178571        0.924045       0.649763   \n",
       "3     0.666667          0.035714        0.582003       0.844602   \n",
       "4     0.500000          0.035714        0.876149       0.164192   \n",
       "...        ...               ...             ...            ...   \n",
       "1245  0.214286          0.642857        0.782777       0.160979   \n",
       "1246  0.261905          0.285714        0.753266       0.075935   \n",
       "1247  0.261905          0.035714        0.226415       0.191680   \n",
       "1248  0.595238          0.535714        0.157716       0.792786   \n",
       "1249  0.190476          0.035714        0.568940       0.179621   \n",
       "\n",
       "      NumCompaniesWorked  PercentSalaryHike  TotalWorkingYears  \\\n",
       "0               0.000000           0.000000              0.350   \n",
       "1               0.222222           0.000000              0.250   \n",
       "2               1.000000           0.142857              0.450   \n",
       "3               0.888889           0.857143              0.700   \n",
       "4               0.222222           0.500000              0.175   \n",
       "...                  ...                ...                ...   \n",
       "1245            0.111111           0.000000              0.175   \n",
       "1246            0.666667           0.500000              0.125   \n",
       "1247            0.111111           0.214286              0.100   \n",
       "1248            0.555556           0.785714              0.550   \n",
       "1249            0.111111           0.785714              0.200   \n",
       "\n",
       "      TrainingTimesLastYear  YearsAtCompany  YearsInCurrentRole  ...  \\\n",
       "0                  0.500000           0.325            0.500000  ...   \n",
       "1                  0.333333           0.050            0.111111  ...   \n",
       "2                  0.500000           0.325            0.388889  ...   \n",
       "3                  0.333333           0.650            0.833333  ...   \n",
       "4                  1.000000           0.050            0.055556  ...   \n",
       "...                     ...             ...                 ...  ...   \n",
       "1245               0.500000           0.175            0.388889  ...   \n",
       "1246               0.333333           0.025            0.000000  ...   \n",
       "1247               0.500000           0.100            0.166667  ...   \n",
       "1248               0.500000           0.425            0.722222  ...   \n",
       "1249               0.333333           0.200            0.388889  ...   \n",
       "\n",
       "      RelationshipSatisfaction_3  RelationshipSatisfaction_4  \\\n",
       "0                              0                           1   \n",
       "1                              1                           0   \n",
       "2                              0                           0   \n",
       "3                              0                           0   \n",
       "4                              0                           1   \n",
       "...                          ...                         ...   \n",
       "1245                           0                           0   \n",
       "1246                           0                           0   \n",
       "1247                           0                           0   \n",
       "1248                           1                           0   \n",
       "1249                           0                           0   \n",
       "\n",
       "      StockOptionLevel_0  StockOptionLevel_1  StockOptionLevel_2  \\\n",
       "0                      1                   0                   0   \n",
       "1                      1                   0                   0   \n",
       "2                      0                   1                   0   \n",
       "3                      1                   0                   0   \n",
       "4                      0                   1                   0   \n",
       "...                  ...                 ...                 ...   \n",
       "1245                   0                   0                   1   \n",
       "1246                   0                   0                   1   \n",
       "1247                   0                   1                   0   \n",
       "1248                   0                   1                   0   \n",
       "1249                   0                   1                   0   \n",
       "\n",
       "      StockOptionLevel_3  WorkLifeBalance_1  WorkLifeBalance_2  \\\n",
       "0                      0                  0                  0   \n",
       "1                      0                  0                  0   \n",
       "2                      0                  0                  0   \n",
       "3                      0                  0                  0   \n",
       "4                      0                  0                  0   \n",
       "...                  ...                ...                ...   \n",
       "1245                   0                  0                  0   \n",
       "1246                   0                  0                  1   \n",
       "1247                   0                  0                  1   \n",
       "1248                   0                  0                  0   \n",
       "1249                   0                  0                  0   \n",
       "\n",
       "      WorkLifeBalance_3  WorkLifeBalance_4  \n",
       "0                     0                  1  \n",
       "1                     1                  0  \n",
       "2                     0                  1  \n",
       "3                     1                  0  \n",
       "4                     1                  0  \n",
       "...                 ...                ...  \n",
       "1245                  1                  0  \n",
       "1246                  0                  0  \n",
       "1247                  0                  0  \n",
       "1248                  1                  0  \n",
       "1249                  1                  0  \n",
       "\n",
       "[1250 rows x 68 columns]"
      ]
     },
     "execution_count": 271,
     "metadata": {},
     "output_type": "execute_result"
    }
   ],
   "source": [
    "# 정규화\n",
    "cols=['Age', 'DistanceFromHome', 'EmployeeNumber', 'MonthlyIncome', 'NumCompaniesWorked', \n",
    "      'PercentSalaryHike', 'TotalWorkingYears', 'TrainingTimesLastYear', 'YearsAtCompany', \n",
    "      'YearsInCurrentRole', 'YearsWithCurrManager']\n",
    "\n",
    "x[cols] = (x[cols] - x[cols].min()) / (x[cols].max() - x[cols].min())\n",
    "# 확인\n",
    "x"
   ]
  },
  {
   "cell_type": "markdown",
   "metadata": {
    "id": "anVdtyyB6oqT"
   },
   "source": [
    "**5) 학습용, 평가용 데이터 분리**\n",
    "\n",
    "- 학습용, 평가용 데이터를 7:3으로 분리합니다.\n",
    "- random_state 옵션 값은 2022를 지정합니다."
   ]
  },
  {
   "cell_type": "code",
   "execution_count": 272,
   "metadata": {
    "id": "uHnuBUJu8uwz"
   },
   "outputs": [],
   "source": [
    "# 모듈 불러오기\n",
    "from sklearn.model_selection import train_test_split\n",
    "\n",
    "# 7:3으로 분리\n",
    "x_train, x_test, y_train, y_test = train_test_split(x, y, test_size=0.3, random_state=2022)"
   ]
  },
  {
   "cell_type": "markdown",
   "metadata": {
    "id": "BYr1vtpd8uw4"
   },
   "source": [
    "# 4.모델링 1차\n",
    "\n",
    "- 본격적으로 모델을 선언하고 학습하고 평가하는 과정을 진행합니다.\n",
    "- 다양한 알고리즘으로 모델을 만들고 각각의 성능을 확인합니다.\n",
    "- 성능 평가는 confusion_matrix, classification_report를 사용합니다.\n",
    "- 각 알고리즘별로 요구되는 내용을 숙지하면서 모델링을 진행합니다."
   ]
  },
  {
   "cell_type": "markdown",
   "metadata": {
    "id": "RajzpmLunfvs"
   },
   "source": [
    "## 4.1.KNN"
   ]
  },
  {
   "cell_type": "markdown",
   "metadata": {},
   "source": [
    "### 4.1.1.모델링\n",
    "- KNN 알고리즘으로 모델링하고 성능을 확인합니다."
   ]
  },
  {
   "cell_type": "code",
   "execution_count": 273,
   "metadata": {
    "id": "A1LtfnSVnfvt"
   },
   "outputs": [],
   "source": [
    "# 1단계: 불러오기\n",
    "from sklearn.neighbors import KNeighborsClassifier\n"
   ]
  },
  {
   "cell_type": "code",
   "execution_count": 274,
   "metadata": {
    "id": "fOHrgiLdnfvt"
   },
   "outputs": [],
   "source": [
    "# 2단계: 선언하기\n",
    "model = KNeighborsClassifier(n_neighbors=5)"
   ]
  },
  {
   "cell_type": "code",
   "execution_count": 275,
   "metadata": {
    "colab": {
     "base_uri": "https://localhost:8080/"
    },
    "executionInfo": {
     "elapsed": 35,
     "status": "ok",
     "timestamp": 1641542205270,
     "user": {
      "displayName": "Jangrae Lee",
      "photoUrl": "https://lh3.googleusercontent.com/a-/AOh14Gh1Pd8OuWJU2cv7uTt-fURrgvty7atx_Wtarmx0-A=s64",
      "userId": "08475661575434032088"
     },
     "user_tz": -540
    },
    "id": "8j41IbkVnfvt",
    "outputId": "f36aa1b6-f5a8-4a21-f414-5a29d10af016"
   },
   "outputs": [
    {
     "data": {
      "text/plain": [
       "KNeighborsClassifier()"
      ]
     },
     "execution_count": 275,
     "metadata": {},
     "output_type": "execute_result"
    }
   ],
   "source": [
    "# 3단계: 학습하기\n",
    "model.fit(x_train, y_train)"
   ]
  },
  {
   "cell_type": "code",
   "execution_count": 276,
   "metadata": {
    "id": "XzrhSVqBnfvt"
   },
   "outputs": [],
   "source": [
    "# 4단계: 예측하기\n",
    "y_pred = model.predict(x_test)"
   ]
  },
  {
   "cell_type": "code",
   "execution_count": 277,
   "metadata": {
    "colab": {
     "base_uri": "https://localhost:8080/"
    },
    "executionInfo": {
     "elapsed": 32,
     "status": "ok",
     "timestamp": 1641542205271,
     "user": {
      "displayName": "Jangrae Lee",
      "photoUrl": "https://lh3.googleusercontent.com/a-/AOh14Gh1Pd8OuWJU2cv7uTt-fURrgvty7atx_Wtarmx0-A=s64",
      "userId": "08475661575434032088"
     },
     "user_tz": -540
    },
    "id": "QGXB6zaunfvt",
    "outputId": "0ab0ad6a-048d-460f-bf8d-cfa79d73c9e1",
    "scrolled": false
   },
   "outputs": [
    {
     "name": "stdout",
     "output_type": "stream",
     "text": [
      "0.8453333333333334\n",
      "--------------------------------------------------------------------------------\n",
      "              precision    recall  f1-score   support\n",
      "\n",
      "           0       0.86      0.97      0.91       315\n",
      "           1       0.55      0.18      0.27        60\n",
      "\n",
      "    accuracy                           0.85       375\n",
      "   macro avg       0.71      0.58      0.59       375\n",
      "weighted avg       0.81      0.85      0.81       375\n",
      "\n"
     ]
    }
   ],
   "source": [
    "# 5단계: 평가하기\n",
    "from sklearn.metrics import accuracy_score, classification_report\n",
    "print(accuracy_score(y_test,y_pred))\n",
    "print('-'*80)\n",
    "print(classification_report(y_test,y_pred))"
   ]
  },
  {
   "cell_type": "markdown",
   "metadata": {},
   "source": [
    "### 4.1.2.성능 정보 수집\n",
    "\n",
    "- 아래 구문을 수행하여 이후 비교할 성능 정보를 저장합니다."
   ]
  },
  {
   "cell_type": "code",
   "execution_count": 278,
   "metadata": {},
   "outputs": [],
   "source": [
    "from sklearn.metrics import precision_score, recall_score, accuracy_score\n",
    "\n",
    "score={}\n",
    "score['KNN'] = [precision_score(y_test, y_pred),\n",
    "                recall_score(y_test, y_pred),\n",
    "                accuracy_score(y_test, y_pred)]"
   ]
  },
  {
   "cell_type": "markdown",
   "metadata": {
    "id": "jlAhhuLonfvv"
   },
   "source": [
    "## 4.2.Logistic Regression"
   ]
  },
  {
   "cell_type": "markdown",
   "metadata": {},
   "source": [
    "### 4.2.1.모델링\n",
    "\n",
    "- Logistic Regression 알고리즘으로 모델링하고 성능을 확인합니다."
   ]
  },
  {
   "cell_type": "code",
   "execution_count": 279,
   "metadata": {
    "id": "fSupa6dznfvv"
   },
   "outputs": [],
   "source": [
    "# 1단계: 불러오기\n",
    "from sklearn.linear_model import LogisticRegression\n"
   ]
  },
  {
   "cell_type": "code",
   "execution_count": 280,
   "metadata": {
    "id": "vPNViWvonfvv"
   },
   "outputs": [],
   "source": [
    "# 2단계: 선언하기\n",
    "model = LogisticRegression()"
   ]
  },
  {
   "cell_type": "code",
   "execution_count": 281,
   "metadata": {
    "colab": {
     "base_uri": "https://localhost:8080/"
    },
    "executionInfo": {
     "elapsed": 26,
     "status": "ok",
     "timestamp": 1641542205274,
     "user": {
      "displayName": "Jangrae Lee",
      "photoUrl": "https://lh3.googleusercontent.com/a-/AOh14Gh1Pd8OuWJU2cv7uTt-fURrgvty7atx_Wtarmx0-A=s64",
      "userId": "08475661575434032088"
     },
     "user_tz": -540
    },
    "id": "wtMiI7l-nfvw",
    "outputId": "15e76013-5fae-4c31-d59a-acd5af81cf68"
   },
   "outputs": [
    {
     "data": {
      "text/plain": [
       "LogisticRegression()"
      ]
     },
     "execution_count": 281,
     "metadata": {},
     "output_type": "execute_result"
    }
   ],
   "source": [
    "# 3단계: 학습하기\n",
    "model.fit(x_train,y_train)"
   ]
  },
  {
   "cell_type": "code",
   "execution_count": 282,
   "metadata": {
    "id": "rfpDNAYdnfvw"
   },
   "outputs": [],
   "source": [
    "# 4단계: 예측하기\n",
    "y_pred = model.predict(x_test)"
   ]
  },
  {
   "cell_type": "code",
   "execution_count": 283,
   "metadata": {
    "colab": {
     "base_uri": "https://localhost:8080/"
    },
    "executionInfo": {
     "elapsed": 20,
     "status": "ok",
     "timestamp": 1641542206609,
     "user": {
      "displayName": "Jangrae Lee",
      "photoUrl": "https://lh3.googleusercontent.com/a-/AOh14Gh1Pd8OuWJU2cv7uTt-fURrgvty7atx_Wtarmx0-A=s64",
      "userId": "08475661575434032088"
     },
     "user_tz": -540
    },
    "id": "coYyi_I2nfvw",
    "outputId": "6ea519a4-65be-45be-ba02-8e717783d241",
    "scrolled": true
   },
   "outputs": [
    {
     "name": "stdout",
     "output_type": "stream",
     "text": [
      "0.8853333333333333\n",
      "--------------------------------------------------------------------------------\n",
      "              precision    recall  f1-score   support\n",
      "\n",
      "           0       0.89      0.98      0.94       315\n",
      "           1       0.81      0.37      0.51        60\n",
      "\n",
      "    accuracy                           0.89       375\n",
      "   macro avg       0.85      0.68      0.72       375\n",
      "weighted avg       0.88      0.89      0.87       375\n",
      "\n"
     ]
    }
   ],
   "source": [
    "# 5단계: 평가하기\n",
    "print(accuracy_score(y_test,y_pred))\n",
    "print('-'*80)\n",
    "print(classification_report(y_test,y_pred))"
   ]
  },
  {
   "cell_type": "markdown",
   "metadata": {},
   "source": [
    "### 4.2.2.성능 정보 수집\n",
    "\n",
    "- 아래 구문을 수행하여 이후 비교할 성능 정보를 저장합니다."
   ]
  },
  {
   "cell_type": "code",
   "execution_count": 284,
   "metadata": {},
   "outputs": [],
   "source": [
    "score['Logistic Reg'] = [precision_score(y_test, y_pred),\n",
    "                         recall_score(y_test, y_pred),\n",
    "                         accuracy_score(y_test, y_pred)]"
   ]
  },
  {
   "cell_type": "markdown",
   "metadata": {
    "id": "vAgWJNlHnfvw"
   },
   "source": [
    "## 4.3.Random Forest"
   ]
  },
  {
   "cell_type": "markdown",
   "metadata": {},
   "source": [
    "### 4.3.1.모델링\n",
    "\n",
    "- Random Forest 알고리즘으로 모델링하고 성능을 확인합니다.\n",
    "- 모델 선언시 random_state=2022을 지정합니다."
   ]
  },
  {
   "cell_type": "code",
   "execution_count": 285,
   "metadata": {
    "id": "rDIWKc6-ygXk"
   },
   "outputs": [],
   "source": [
    "# 1단계: 불러오기\n",
    "from sklearn.ensemble import RandomForestClassifier\n"
   ]
  },
  {
   "cell_type": "code",
   "execution_count": 286,
   "metadata": {
    "id": "xZg_rN23ygXk"
   },
   "outputs": [],
   "source": [
    "# 2단계: 선언하기\n",
    "model = RandomForestClassifier(random_state=2022)"
   ]
  },
  {
   "cell_type": "code",
   "execution_count": 287,
   "metadata": {
    "colab": {
     "base_uri": "https://localhost:8080/"
    },
    "executionInfo": {
     "elapsed": 18,
     "status": "ok",
     "timestamp": 1641542206610,
     "user": {
      "displayName": "Jangrae Lee",
      "photoUrl": "https://lh3.googleusercontent.com/a-/AOh14Gh1Pd8OuWJU2cv7uTt-fURrgvty7atx_Wtarmx0-A=s64",
      "userId": "08475661575434032088"
     },
     "user_tz": -540
    },
    "id": "_8Z1CkvgygXl",
    "outputId": "7a3d5667-3511-4f9a-bb4d-9288d51fe1ed"
   },
   "outputs": [
    {
     "data": {
      "text/plain": [
       "RandomForestClassifier(random_state=2022)"
      ]
     },
     "execution_count": 287,
     "metadata": {},
     "output_type": "execute_result"
    }
   ],
   "source": [
    "# 3단계: 학습하기\n",
    "model.fit(x_train, y_train)"
   ]
  },
  {
   "cell_type": "code",
   "execution_count": 288,
   "metadata": {
    "id": "VO1mYV4znfvx"
   },
   "outputs": [],
   "source": [
    "# 4단계: 예측하기\n",
    "y_pred = model.predict(x_test)"
   ]
  },
  {
   "cell_type": "code",
   "execution_count": 289,
   "metadata": {
    "colab": {
     "base_uri": "https://localhost:8080/"
    },
    "executionInfo": {
     "elapsed": 15,
     "status": "ok",
     "timestamp": 1641542206611,
     "user": {
      "displayName": "Jangrae Lee",
      "photoUrl": "https://lh3.googleusercontent.com/a-/AOh14Gh1Pd8OuWJU2cv7uTt-fURrgvty7atx_Wtarmx0-A=s64",
      "userId": "08475661575434032088"
     },
     "user_tz": -540
    },
    "id": "9CIXnoVhnfvx",
    "outputId": "5546512c-ba36-45b4-b6b0-1d7f97396a88",
    "scrolled": true
   },
   "outputs": [
    {
     "name": "stdout",
     "output_type": "stream",
     "text": [
      "0.8533333333333334\n",
      "--------------------------------------------------------------------------------\n",
      "              precision    recall  f1-score   support\n",
      "\n",
      "           0       0.85      1.00      0.92       315\n",
      "           1       0.86      0.10      0.18        60\n",
      "\n",
      "    accuracy                           0.85       375\n",
      "   macro avg       0.86      0.55      0.55       375\n",
      "weighted avg       0.85      0.85      0.80       375\n",
      "\n"
     ]
    }
   ],
   "source": [
    "# 5단계: 평가하기\n",
    "print(accuracy_score(y_test,y_pred))\n",
    "print('-'*80)\n",
    "print(classification_report(y_test,y_pred))"
   ]
  },
  {
   "cell_type": "markdown",
   "metadata": {},
   "source": [
    "### 4.3.2.성능 정보 수집\n",
    "\n",
    "- 아래 구문을 수행하여 이후 비교할 성능 정보를 저장합니다."
   ]
  },
  {
   "cell_type": "code",
   "execution_count": 290,
   "metadata": {},
   "outputs": [],
   "source": [
    "score['Random Forest'] = [precision_score(y_test, y_pred),\n",
    "                          recall_score(y_test, y_pred),\n",
    "                          accuracy_score(y_test, y_pred)]"
   ]
  },
  {
   "cell_type": "markdown",
   "metadata": {
    "id": "ukIM51BBnfvy"
   },
   "source": [
    "## 4.4.XGBoost"
   ]
  },
  {
   "cell_type": "markdown",
   "metadata": {},
   "source": [
    "### 4.4.1.모델링\n",
    "\n",
    "- XGBoost 알고리즘으로 모델링하고 성능을 확인합니다.\n",
    "- 모델 선언시 random_state=2022를 지정합니다."
   ]
  },
  {
   "cell_type": "code",
   "execution_count": 291,
   "metadata": {
    "id": "4sv_kreznfvy"
   },
   "outputs": [],
   "source": [
    "# 1단계: 불러오기\n",
    "from xgboost import XGBClassifier\n"
   ]
  },
  {
   "cell_type": "code",
   "execution_count": 292,
   "metadata": {
    "id": "Ukw6quz8nfvy"
   },
   "outputs": [],
   "source": [
    "# 2단계: 선언하기\n",
    "model = XGBClassifier(random_state=2022)"
   ]
  },
  {
   "cell_type": "code",
   "execution_count": 293,
   "metadata": {
    "colab": {
     "base_uri": "https://localhost:8080/"
    },
    "executionInfo": {
     "elapsed": 14,
     "status": "ok",
     "timestamp": 1641542206613,
     "user": {
      "displayName": "Jangrae Lee",
      "photoUrl": "https://lh3.googleusercontent.com/a-/AOh14Gh1Pd8OuWJU2cv7uTt-fURrgvty7atx_Wtarmx0-A=s64",
      "userId": "08475661575434032088"
     },
     "user_tz": -540
    },
    "id": "4nLBhsTSnfvy",
    "outputId": "b42d9f3e-00ff-4e1a-f7b0-a919826422e4"
   },
   "outputs": [
    {
     "name": "stdout",
     "output_type": "stream",
     "text": [
      "[12:15:58] WARNING: C:/Users/Administrator/workspace/xgboost-win64_release_1.5.1/src/learner.cc:1115: Starting in XGBoost 1.3.0, the default evaluation metric used with the objective 'binary:logistic' was changed from 'error' to 'logloss'. Explicitly set eval_metric if you'd like to restore the old behavior.\n"
     ]
    },
    {
     "data": {
      "text/plain": [
       "XGBClassifier(base_score=0.5, booster='gbtree', colsample_bylevel=1,\n",
       "              colsample_bynode=1, colsample_bytree=1, enable_categorical=False,\n",
       "              gamma=0, gpu_id=-1, importance_type=None,\n",
       "              interaction_constraints='', learning_rate=0.300000012,\n",
       "              max_delta_step=0, max_depth=6, min_child_weight=1, missing=nan,\n",
       "              monotone_constraints='()', n_estimators=100, n_jobs=8,\n",
       "              num_parallel_tree=1, predictor='auto', random_state=2022,\n",
       "              reg_alpha=0, reg_lambda=1, scale_pos_weight=1, subsample=1,\n",
       "              tree_method='exact', validate_parameters=1, verbosity=None)"
      ]
     },
     "execution_count": 293,
     "metadata": {},
     "output_type": "execute_result"
    }
   ],
   "source": [
    "# 3단계: 학습하기\n",
    "model.fit(x_train, y_train)"
   ]
  },
  {
   "cell_type": "code",
   "execution_count": 294,
   "metadata": {
    "id": "8WqpUn6Gnfvy"
   },
   "outputs": [],
   "source": [
    "# 4단계: 예측하기\n",
    "y_pred = model.predict(x_test)"
   ]
  },
  {
   "cell_type": "code",
   "execution_count": 295,
   "metadata": {
    "colab": {
     "base_uri": "https://localhost:8080/"
    },
    "executionInfo": {
     "elapsed": 11,
     "status": "ok",
     "timestamp": 1641542206613,
     "user": {
      "displayName": "Jangrae Lee",
      "photoUrl": "https://lh3.googleusercontent.com/a-/AOh14Gh1Pd8OuWJU2cv7uTt-fURrgvty7atx_Wtarmx0-A=s64",
      "userId": "08475661575434032088"
     },
     "user_tz": -540
    },
    "id": "vM0-A_Linfvz",
    "outputId": "9531ad48-a87b-4ddb-ceb1-311a317ffc12",
    "scrolled": false
   },
   "outputs": [
    {
     "name": "stdout",
     "output_type": "stream",
     "text": [
      "0.88\n",
      "--------------------------------------------------------------------------------\n",
      "              precision    recall  f1-score   support\n",
      "\n",
      "           0       0.89      0.97      0.93       315\n",
      "           1       0.73      0.40      0.52        60\n",
      "\n",
      "    accuracy                           0.88       375\n",
      "   macro avg       0.81      0.69      0.72       375\n",
      "weighted avg       0.87      0.88      0.87       375\n",
      "\n"
     ]
    }
   ],
   "source": [
    "# 5단계: 평가하기\n",
    "print(accuracy_score(y_test,y_pred))\n",
    "print('-'*80)\n",
    "print(classification_report(y_test,y_pred))"
   ]
  },
  {
   "cell_type": "markdown",
   "metadata": {},
   "source": [
    "### 4.4.2.성능 정보 수집\n",
    "\n",
    "- 아래 구문을 수행하여 이후 비교할 성능 정보를 저장합니다."
   ]
  },
  {
   "cell_type": "code",
   "execution_count": 296,
   "metadata": {},
   "outputs": [],
   "source": [
    "score['XGBoost'] = [precision_score(y_test, y_pred),\n",
    "                    recall_score(y_test, y_pred),\n",
    "                    accuracy_score(y_test, y_pred)]"
   ]
  },
  {
   "cell_type": "markdown",
   "metadata": {
    "id": "DRdSAGNykJri"
   },
   "source": [
    "# 5.정리 #1\n",
    "\n",
    "- 모델 성능에서 특이한 점을 발견했나요?\n",
    "- accuracy, precision이 높은 이유는 무엇일까요?\n",
    "- recall이 낮는 이유는 무엇일까요?"
   ]
  },
  {
   "cell_type": "code",
   "execution_count": 297,
   "metadata": {},
   "outputs": [
    {
     "data": {
      "text/plain": [
       "{'KNN': [0.55, 0.18333333333333332, 0.8453333333333334],\n",
       " 'Logistic Reg': [0.8148148148148148, 0.36666666666666664, 0.8853333333333333],\n",
       " 'Random Forest': [0.8571428571428571, 0.1, 0.8533333333333334],\n",
       " 'XGBoost': [0.7272727272727273, 0.4, 0.88]}"
      ]
     },
     "execution_count": 297,
     "metadata": {},
     "output_type": "execute_result"
    }
   ],
   "source": [
    "# 중간 결과 조회\n",
    "score"
   ]
  },
  {
   "cell_type": "markdown",
   "metadata": {},
   "source": [
    "### 중간정리 의견\n",
    "\n",
    "* KNN이 정밀도가 유독 낮게 나왔다.\n",
    "* 모든 모델이 정확도가 80% 이상이긴 하지만 정밀도와 재현도는 모두 낮았다.\n",
    "* 실제 이직 의사가 있는 사람을 없는 사람이라고 착각할 가능성이 높다.\n",
    "* 정확도, 정밀도가 높은 이유는 총 표본 숫자가 충분하고, 이직을 희망하는 직원과 그렇지 않은 직원과의 차이가 명확하기 때문이다(월급, 연령 등).\n",
    "\n",
    "* 민감도가 낮은 이유는 이직한다고 응답한 사람이 그렇지 않다고 응답한 사람보다 훨씬 적기 때문이다."
   ]
  },
  {
   "cell_type": "markdown",
   "metadata": {},
   "source": [
    "# 6. Over/Under Sampling\n",
    "\n",
    "- 불균형 데이터(Imbalanced Data)를 맞추기 위해 Over 또는 Under Sampling을 수행할 수 있습니다.\n",
    "- imblearn 라이브러리를 사용합니다."
   ]
  },
  {
   "cell_type": "code",
   "execution_count": 298,
   "metadata": {
    "scrolled": false
   },
   "outputs": [
    {
     "name": "stdout",
     "output_type": "stream",
     "text": [
      "Requirement already satisfied: imblearn in c:\\users\\user\\anaconda3\\lib\\site-packages (0.0)\n",
      "Requirement already satisfied: imbalanced-learn in c:\\users\\user\\anaconda3\\lib\\site-packages (from imblearn) (0.9.0)\n",
      "Requirement already satisfied: joblib>=0.11 in c:\\users\\user\\anaconda3\\lib\\site-packages (from imbalanced-learn->imblearn) (1.0.1)\n",
      "Requirement already satisfied: scipy>=1.1.0 in c:\\users\\user\\anaconda3\\lib\\site-packages (from imbalanced-learn->imblearn) (1.6.2)\n",
      "Requirement already satisfied: scikit-learn>=1.0.1 in c:\\users\\user\\appdata\\roaming\\python\\python38\\site-packages (from imbalanced-learn->imblearn) (1.0.2)\n",
      "Requirement already satisfied: threadpoolctl>=2.0.0 in c:\\users\\user\\anaconda3\\lib\\site-packages (from imbalanced-learn->imblearn) (2.1.0)\n",
      "Requirement already satisfied: numpy>=1.14.6 in c:\\users\\user\\anaconda3\\lib\\site-packages (from imbalanced-learn->imblearn) (1.20.1)\n"
     ]
    }
   ],
   "source": [
    "# imbalanced-learn 라이브러리 설치\n",
    "!pip install imblearn"
   ]
  },
  {
   "cell_type": "markdown",
   "metadata": {},
   "source": [
    "- 원래 Target 값 분포를 우선 확인합니다."
   ]
  },
  {
   "cell_type": "code",
   "execution_count": 299,
   "metadata": {},
   "outputs": [
    {
     "data": {
      "text/plain": [
       "0    1050\n",
       "1     200\n",
       "Name: Attrition, dtype: int64"
      ]
     },
     "execution_count": 299,
     "metadata": {},
     "output_type": "execute_result"
    }
   ],
   "source": [
    "# Target 값 분포 확인\n",
    "y.value_counts()"
   ]
  },
  {
   "cell_type": "markdown",
   "metadata": {},
   "source": [
    "- 본 실습에서는 Over Sampling으로 작업합니다."
   ]
  },
  {
   "cell_type": "code",
   "execution_count": 300,
   "metadata": {
    "id": "_LbcNXlAXL2f"
   },
   "outputs": [],
   "source": [
    "# Over Sampling\n",
    "from imblearn.over_sampling import SMOTE\n",
    "\n",
    "smote = SMOTE(random_state=2022)\n",
    "x_over, y_over = smote.fit_resample(x, y)"
   ]
  },
  {
   "cell_type": "code",
   "execution_count": 249,
   "metadata": {
    "id": "_LbcNXlAXL2f"
   },
   "outputs": [],
   "source": [
    "# Over Sampling(훈련 데이터만)\n",
    "from imblearn.over_sampling import SMOTE\n",
    "\n",
    "smote = SMOTE(random_state=2022)\n",
    "x_over, y_over = smote.fit_resample(x_train, y_train)"
   ]
  },
  {
   "cell_type": "markdown",
   "metadata": {
    "id": "HXzNboGtiql-"
   },
   "source": [
    "- Over Sampling 된 y_over 분포를 확인하면 0과 1 값의 비율이 같음을 알 수 있습니다."
   ]
  },
  {
   "cell_type": "code",
   "execution_count": 301,
   "metadata": {
    "colab": {
     "base_uri": "https://localhost:8080/"
    },
    "executionInfo": {
     "elapsed": 3,
     "status": "ok",
     "timestamp": 1641542217863,
     "user": {
      "displayName": "Jangrae Lee",
      "photoUrl": "https://lh3.googleusercontent.com/a-/AOh14Gh1Pd8OuWJU2cv7uTt-fURrgvty7atx_Wtarmx0-A=s64",
      "userId": "08475661575434032088"
     },
     "user_tz": -540
    },
    "id": "TL-DRN_Qih_x",
    "outputId": "188c5c01-77e0-435e-a01c-24be3fb385cb"
   },
   "outputs": [
    {
     "data": {
      "text/plain": [
       "0    1050\n",
       "1    1050\n",
       "Name: Attrition, dtype: int64"
      ]
     },
     "execution_count": 301,
     "metadata": {},
     "output_type": "execute_result"
    }
   ],
   "source": [
    "# Target 값 분포 확인\n",
    "y_over.value_counts()"
   ]
  },
  {
   "cell_type": "markdown",
   "metadata": {},
   "source": [
    "- 참고: Under Sampling 방법은 아래와 같으며, 본 실습에서 사용하지 않으니 주석처리합니다."
   ]
  },
  {
   "cell_type": "code",
   "execution_count": null,
   "metadata": {},
   "outputs": [],
   "source": [
    "# Under Sampling\n",
    "# from imblearn.under_sampling import ClusterCentroids\n",
    "\n",
    "# cc = ClusterCentroids(random_state=2022)\n",
    "# x_under, y_under = cc.fit_resample(x, y)"
   ]
  },
  {
   "cell_type": "markdown",
   "metadata": {
    "id": "aEGY12RdXRKV"
   },
   "source": [
    "- 새로 Sampling 된 데이터(x_over, y_over)로 학습용, 평가용 데이터를 7:3으로 분리합니다.\n",
    "- random_state 옵션 값은 2022를 지정합니다."
   ]
  },
  {
   "cell_type": "code",
   "execution_count": 302,
   "metadata": {
    "id": "vxopoAISXRKV"
   },
   "outputs": [],
   "source": [
    "# 모듈 불러오기\n",
    "from sklearn.model_selection import train_test_split\n",
    "\n",
    "# 7:3으로 분리\n",
    "x_train, x_test, y_train, y_test = train_test_split(x_over, y_over, test_size=0.3, random_state=2022)  # 모듈 불러오기"
   ]
  },
  {
   "cell_type": "code",
   "execution_count": 250,
   "metadata": {},
   "outputs": [],
   "source": [
    "# 모듈 불러오기(훈련 데이터만)\n",
    "from sklearn.model_selection import train_test_split\n",
    "\n",
    "# 7:3으로 분리\n",
    "x_train, x_test, y_train, y_test = train_test_split(x_over, y_over, test_size=0.3, random_state=2022)  "
   ]
  },
  {
   "cell_type": "markdown",
   "metadata": {
    "id": "aDkLqcShXRKV"
   },
   "source": [
    "# 7.모델링 #2\n",
    "\n",
    "- 위에서 만든 모델을 그때와 동일한 옵션으로 다시 모델링합니다."
   ]
  },
  {
   "cell_type": "markdown",
   "metadata": {
    "id": "RajzpmLunfvs"
   },
   "source": [
    "## 7.1.KNN\n",
    "\n",
    "- KNN 알고리즘으로 모델링하고 성능을 확인합니다."
   ]
  },
  {
   "cell_type": "code",
   "execution_count": 303,
   "metadata": {
    "id": "A1LtfnSVnfvt"
   },
   "outputs": [],
   "source": [
    "# 1단계: 불러오기\n",
    "from sklearn.neighbors import KNeighborsClassifier\n"
   ]
  },
  {
   "cell_type": "code",
   "execution_count": 304,
   "metadata": {
    "id": "fOHrgiLdnfvt"
   },
   "outputs": [],
   "source": [
    "# 2단계: 선언하기\n",
    "model = KNeighborsClassifier(n_neighbors=5)"
   ]
  },
  {
   "cell_type": "code",
   "execution_count": 305,
   "metadata": {
    "colab": {
     "base_uri": "https://localhost:8080/"
    },
    "executionInfo": {
     "elapsed": 35,
     "status": "ok",
     "timestamp": 1641542205270,
     "user": {
      "displayName": "Jangrae Lee",
      "photoUrl": "https://lh3.googleusercontent.com/a-/AOh14Gh1Pd8OuWJU2cv7uTt-fURrgvty7atx_Wtarmx0-A=s64",
      "userId": "08475661575434032088"
     },
     "user_tz": -540
    },
    "id": "8j41IbkVnfvt",
    "outputId": "f36aa1b6-f5a8-4a21-f414-5a29d10af016"
   },
   "outputs": [
    {
     "data": {
      "text/plain": [
       "KNeighborsClassifier()"
      ]
     },
     "execution_count": 305,
     "metadata": {},
     "output_type": "execute_result"
    }
   ],
   "source": [
    "# 3단계: 학습하기\n",
    "model.fit(x_train,y_train)"
   ]
  },
  {
   "cell_type": "code",
   "execution_count": 306,
   "metadata": {
    "id": "XzrhSVqBnfvt"
   },
   "outputs": [],
   "source": [
    "# 4단계: 예측하기\n",
    "y_pred = model.predict(x_test)"
   ]
  },
  {
   "cell_type": "code",
   "execution_count": 307,
   "metadata": {
    "colab": {
     "base_uri": "https://localhost:8080/"
    },
    "executionInfo": {
     "elapsed": 32,
     "status": "ok",
     "timestamp": 1641542205271,
     "user": {
      "displayName": "Jangrae Lee",
      "photoUrl": "https://lh3.googleusercontent.com/a-/AOh14Gh1Pd8OuWJU2cv7uTt-fURrgvty7atx_Wtarmx0-A=s64",
      "userId": "08475661575434032088"
     },
     "user_tz": -540
    },
    "id": "QGXB6zaunfvt",
    "outputId": "0ab0ad6a-048d-460f-bf8d-cfa79d73c9e1",
    "scrolled": true
   },
   "outputs": [
    {
     "name": "stdout",
     "output_type": "stream",
     "text": [
      "0.846031746031746\n",
      "--------------------------------------------------------------------------------\n",
      "              precision    recall  f1-score   support\n",
      "\n",
      "           0       0.99      0.69      0.81       305\n",
      "           1       0.77      0.99      0.87       325\n",
      "\n",
      "    accuracy                           0.85       630\n",
      "   macro avg       0.88      0.84      0.84       630\n",
      "weighted avg       0.88      0.85      0.84       630\n",
      "\n"
     ]
    }
   ],
   "source": [
    "# 5단계: 평가하기\n",
    "print(accuracy_score(y_test,y_pred))\n",
    "print('-'*80)\n",
    "print(classification_report(y_test,y_pred))"
   ]
  },
  {
   "cell_type": "markdown",
   "metadata": {},
   "source": [
    "### 7.1.2.성능 정보 수집\n",
    "\n",
    "- 아래 구문을 수행하여 이후 비교할 성능 정보를 저장합니다."
   ]
  },
  {
   "cell_type": "code",
   "execution_count": 57,
   "metadata": {},
   "outputs": [],
   "source": [
    "score['KNN_2'] = [precision_score(y_test, y_pred),\n",
    "                  recall_score(y_test, y_pred),\n",
    "                  accuracy_score(y_test, y_pred)]"
   ]
  },
  {
   "cell_type": "markdown",
   "metadata": {
    "id": "jlAhhuLonfvv"
   },
   "source": [
    "## 7.2.Logistic Regression\n",
    "\n",
    "- Logistic Regression 알고리즘으로 모델링하고 성능을 확인합니다."
   ]
  },
  {
   "cell_type": "code",
   "execution_count": 58,
   "metadata": {
    "id": "fSupa6dznfvv"
   },
   "outputs": [],
   "source": [
    "# 1단계: 불러오기\n",
    "from sklearn.linear_model import LogisticRegression\n"
   ]
  },
  {
   "cell_type": "code",
   "execution_count": 60,
   "metadata": {
    "id": "vPNViWvonfvv"
   },
   "outputs": [],
   "source": [
    "# 2단계: 선언하기\n",
    "model = LogisticRegression()"
   ]
  },
  {
   "cell_type": "code",
   "execution_count": 61,
   "metadata": {
    "colab": {
     "base_uri": "https://localhost:8080/"
    },
    "executionInfo": {
     "elapsed": 26,
     "status": "ok",
     "timestamp": 1641542205274,
     "user": {
      "displayName": "Jangrae Lee",
      "photoUrl": "https://lh3.googleusercontent.com/a-/AOh14Gh1Pd8OuWJU2cv7uTt-fURrgvty7atx_Wtarmx0-A=s64",
      "userId": "08475661575434032088"
     },
     "user_tz": -540
    },
    "id": "wtMiI7l-nfvw",
    "outputId": "15e76013-5fae-4c31-d59a-acd5af81cf68"
   },
   "outputs": [
    {
     "data": {
      "text/plain": [
       "LogisticRegression()"
      ]
     },
     "execution_count": 61,
     "metadata": {},
     "output_type": "execute_result"
    }
   ],
   "source": [
    "# 3단계: 학습하기\n",
    "model.fit(x_train, y_train)"
   ]
  },
  {
   "cell_type": "code",
   "execution_count": 62,
   "metadata": {
    "id": "rfpDNAYdnfvw"
   },
   "outputs": [],
   "source": [
    "# 4단계: 예측하기\n",
    "y_pred = model.predict(x_test)"
   ]
  },
  {
   "cell_type": "code",
   "execution_count": 63,
   "metadata": {
    "colab": {
     "base_uri": "https://localhost:8080/"
    },
    "executionInfo": {
     "elapsed": 20,
     "status": "ok",
     "timestamp": 1641542206609,
     "user": {
      "displayName": "Jangrae Lee",
      "photoUrl": "https://lh3.googleusercontent.com/a-/AOh14Gh1Pd8OuWJU2cv7uTt-fURrgvty7atx_Wtarmx0-A=s64",
      "userId": "08475661575434032088"
     },
     "user_tz": -540
    },
    "id": "coYyi_I2nfvw",
    "outputId": "6ea519a4-65be-45be-ba02-8e717783d241",
    "scrolled": true
   },
   "outputs": [
    {
     "name": "stdout",
     "output_type": "stream",
     "text": [
      "0.9158730158730158\n",
      "--------------------------------------------------------------------------------\n",
      "              precision    recall  f1-score   support\n",
      "\n",
      "           0       0.86      0.98      0.92       305\n",
      "           1       0.98      0.85      0.91       325\n",
      "\n",
      "    accuracy                           0.92       630\n",
      "   macro avg       0.92      0.92      0.92       630\n",
      "weighted avg       0.92      0.92      0.92       630\n",
      "\n"
     ]
    }
   ],
   "source": [
    "# 5단계: 평가하기\n",
    "print(accuracy_score(y_test,y_pred))\n",
    "print('-'*80)\n",
    "print(classification_report(y_test,y_pred))"
   ]
  },
  {
   "cell_type": "markdown",
   "metadata": {},
   "source": [
    "### 7.2.2.성능 정보 수집\n",
    "\n",
    "- 아래 구문을 수행하여 이후 비교할 성능 정보를 저장합니다."
   ]
  },
  {
   "cell_type": "code",
   "execution_count": 64,
   "metadata": {},
   "outputs": [],
   "source": [
    "score['Logistic Reg_2'] = [precision_score(y_test, y_pred),\n",
    "                           recall_score(y_test, y_pred),\n",
    "                           accuracy_score(y_test, y_pred)]"
   ]
  },
  {
   "cell_type": "markdown",
   "metadata": {
    "id": "vAgWJNlHnfvw"
   },
   "source": [
    "## 7.3.Random Forest\n",
    "\n",
    "- Random Forest 알고리즘으로 모델링하고 성능을 확인합니다.\n",
    "- 모델 선언시 random_state=2022을 지정합니다."
   ]
  },
  {
   "cell_type": "code",
   "execution_count": 65,
   "metadata": {
    "id": "rDIWKc6-ygXk"
   },
   "outputs": [],
   "source": [
    "# 1단계: 불러오기\n",
    "from sklearn.ensemble import RandomForestClassifier\n"
   ]
  },
  {
   "cell_type": "code",
   "execution_count": 66,
   "metadata": {
    "id": "xZg_rN23ygXk"
   },
   "outputs": [],
   "source": [
    "# 2단계: 선언하기\n",
    "model = RandomForestClassifier(random_state=2022)"
   ]
  },
  {
   "cell_type": "code",
   "execution_count": 67,
   "metadata": {
    "colab": {
     "base_uri": "https://localhost:8080/"
    },
    "executionInfo": {
     "elapsed": 18,
     "status": "ok",
     "timestamp": 1641542206610,
     "user": {
      "displayName": "Jangrae Lee",
      "photoUrl": "https://lh3.googleusercontent.com/a-/AOh14Gh1Pd8OuWJU2cv7uTt-fURrgvty7atx_Wtarmx0-A=s64",
      "userId": "08475661575434032088"
     },
     "user_tz": -540
    },
    "id": "_8Z1CkvgygXl",
    "outputId": "7a3d5667-3511-4f9a-bb4d-9288d51fe1ed"
   },
   "outputs": [
    {
     "data": {
      "text/plain": [
       "RandomForestClassifier(random_state=2022)"
      ]
     },
     "execution_count": 67,
     "metadata": {},
     "output_type": "execute_result"
    }
   ],
   "source": [
    "# 3단계: 학습하기\n",
    "model.fit(x_train, y_train)"
   ]
  },
  {
   "cell_type": "code",
   "execution_count": 69,
   "metadata": {
    "id": "VO1mYV4znfvx"
   },
   "outputs": [],
   "source": [
    "# 4단계: 예측하기\n",
    "y_pred = model.predict(x_test)"
   ]
  },
  {
   "cell_type": "code",
   "execution_count": 70,
   "metadata": {
    "colab": {
     "base_uri": "https://localhost:8080/"
    },
    "executionInfo": {
     "elapsed": 15,
     "status": "ok",
     "timestamp": 1641542206611,
     "user": {
      "displayName": "Jangrae Lee",
      "photoUrl": "https://lh3.googleusercontent.com/a-/AOh14Gh1Pd8OuWJU2cv7uTt-fURrgvty7atx_Wtarmx0-A=s64",
      "userId": "08475661575434032088"
     },
     "user_tz": -540
    },
    "id": "9CIXnoVhnfvx",
    "outputId": "5546512c-ba36-45b4-b6b0-1d7f97396a88",
    "scrolled": true
   },
   "outputs": [
    {
     "name": "stdout",
     "output_type": "stream",
     "text": [
      "0.9285714285714286\n",
      "--------------------------------------------------------------------------------\n",
      "              precision    recall  f1-score   support\n",
      "\n",
      "           0       0.91      0.95      0.93       305\n",
      "           1       0.95      0.91      0.93       325\n",
      "\n",
      "    accuracy                           0.93       630\n",
      "   macro avg       0.93      0.93      0.93       630\n",
      "weighted avg       0.93      0.93      0.93       630\n",
      "\n"
     ]
    }
   ],
   "source": [
    "# 5단계: 평가하기\n",
    "print(accuracy_score(y_test,y_pred))\n",
    "print('-'*80)\n",
    "print(classification_report(y_test,y_pred))"
   ]
  },
  {
   "cell_type": "markdown",
   "metadata": {},
   "source": [
    "### 7.3.2.성능 정보 수집\n",
    "\n",
    "- 아래 구문을 수행하여 이후 비교할 성능 정보를 저장합니다."
   ]
  },
  {
   "cell_type": "code",
   "execution_count": 71,
   "metadata": {},
   "outputs": [],
   "source": [
    "score['Random Forest_2'] = [precision_score(y_test, y_pred),\n",
    "                            recall_score(y_test, y_pred),\n",
    "                            accuracy_score(y_test, y_pred)]"
   ]
  },
  {
   "cell_type": "markdown",
   "metadata": {
    "id": "ukIM51BBnfvy"
   },
   "source": [
    "## 7.4.XGBoost\n",
    "\n",
    "- XGBoost 알고리즘으로 모델링하고 성능을 확인합니다.\n",
    "- 모델 선언시 random_state=2022를 지정합니다."
   ]
  },
  {
   "cell_type": "code",
   "execution_count": 72,
   "metadata": {
    "id": "4sv_kreznfvy"
   },
   "outputs": [],
   "source": [
    "# 1단계: 불러오기\n",
    "from xgboost import XGBClassifier\n"
   ]
  },
  {
   "cell_type": "code",
   "execution_count": 73,
   "metadata": {
    "id": "Ukw6quz8nfvy"
   },
   "outputs": [],
   "source": [
    "# 2단계: 선언하기\n",
    "model = XGBClassifier(random_state=2022)"
   ]
  },
  {
   "cell_type": "code",
   "execution_count": 74,
   "metadata": {
    "colab": {
     "base_uri": "https://localhost:8080/"
    },
    "executionInfo": {
     "elapsed": 14,
     "status": "ok",
     "timestamp": 1641542206613,
     "user": {
      "displayName": "Jangrae Lee",
      "photoUrl": "https://lh3.googleusercontent.com/a-/AOh14Gh1Pd8OuWJU2cv7uTt-fURrgvty7atx_Wtarmx0-A=s64",
      "userId": "08475661575434032088"
     },
     "user_tz": -540
    },
    "id": "4nLBhsTSnfvy",
    "outputId": "b42d9f3e-00ff-4e1a-f7b0-a919826422e4"
   },
   "outputs": [
    {
     "name": "stdout",
     "output_type": "stream",
     "text": [
      "[10:29:56] WARNING: C:/Users/Administrator/workspace/xgboost-win64_release_1.5.1/src/learner.cc:1115: Starting in XGBoost 1.3.0, the default evaluation metric used with the objective 'binary:logistic' was changed from 'error' to 'logloss'. Explicitly set eval_metric if you'd like to restore the old behavior.\n"
     ]
    },
    {
     "data": {
      "text/plain": [
       "XGBClassifier(base_score=0.5, booster='gbtree', colsample_bylevel=1,\n",
       "              colsample_bynode=1, colsample_bytree=1, enable_categorical=False,\n",
       "              gamma=0, gpu_id=-1, importance_type=None,\n",
       "              interaction_constraints='', learning_rate=0.300000012,\n",
       "              max_delta_step=0, max_depth=6, min_child_weight=1, missing=nan,\n",
       "              monotone_constraints='()', n_estimators=100, n_jobs=8,\n",
       "              num_parallel_tree=1, predictor='auto', random_state=2022,\n",
       "              reg_alpha=0, reg_lambda=1, scale_pos_weight=1, subsample=1,\n",
       "              tree_method='exact', validate_parameters=1, verbosity=None)"
      ]
     },
     "execution_count": 74,
     "metadata": {},
     "output_type": "execute_result"
    }
   ],
   "source": [
    "# 3단계: 학습하기\n",
    "model.fit(x_train, y_train)"
   ]
  },
  {
   "cell_type": "code",
   "execution_count": 75,
   "metadata": {
    "id": "8WqpUn6Gnfvy"
   },
   "outputs": [],
   "source": [
    "# 4단계: 예측하기\n",
    "y_pred = model.predict(x_test)"
   ]
  },
  {
   "cell_type": "code",
   "execution_count": 76,
   "metadata": {
    "colab": {
     "base_uri": "https://localhost:8080/"
    },
    "executionInfo": {
     "elapsed": 11,
     "status": "ok",
     "timestamp": 1641542206613,
     "user": {
      "displayName": "Jangrae Lee",
      "photoUrl": "https://lh3.googleusercontent.com/a-/AOh14Gh1Pd8OuWJU2cv7uTt-fURrgvty7atx_Wtarmx0-A=s64",
      "userId": "08475661575434032088"
     },
     "user_tz": -540
    },
    "id": "vM0-A_Linfvz",
    "outputId": "9531ad48-a87b-4ddb-ceb1-311a317ffc12",
    "scrolled": true
   },
   "outputs": [
    {
     "name": "stdout",
     "output_type": "stream",
     "text": [
      "0.926984126984127\n",
      "--------------------------------------------------------------------------------\n",
      "              precision    recall  f1-score   support\n",
      "\n",
      "           0       0.90      0.96      0.93       305\n",
      "           1       0.96      0.90      0.93       325\n",
      "\n",
      "    accuracy                           0.93       630\n",
      "   macro avg       0.93      0.93      0.93       630\n",
      "weighted avg       0.93      0.93      0.93       630\n",
      "\n"
     ]
    }
   ],
   "source": [
    "# 5단계: 평가하기\n",
    "print(accuracy_score(y_test,y_pred))\n",
    "print('-'*80)\n",
    "print(classification_report(y_test,y_pred))"
   ]
  },
  {
   "cell_type": "markdown",
   "metadata": {},
   "source": [
    "### 7.4.2.성능 정보 수집\n",
    "\n",
    "- 아래 구문을 수행하여 이후 비교할 성능 정보를 저장합니다."
   ]
  },
  {
   "cell_type": "code",
   "execution_count": 77,
   "metadata": {},
   "outputs": [],
   "source": [
    "score['XGBoost_2'] = [precision_score(y_test, y_pred),\n",
    "                      recall_score(y_test, y_pred),\n",
    "                      accuracy_score(y_test, y_pred)]"
   ]
  },
  {
   "cell_type": "markdown",
   "metadata": {},
   "source": [
    "## 추가 : 훈련 데이터만 사용한 거로 KNN 예측"
   ]
  },
  {
   "cell_type": "code",
   "execution_count": 251,
   "metadata": {},
   "outputs": [
    {
     "name": "stdout",
     "output_type": "stream",
     "text": [
      "              precision    recall  f1-score   support\n",
      "\n",
      "           0       0.97      0.65      0.78       211\n",
      "           1       0.76      0.98      0.85       230\n",
      "\n",
      "    accuracy                           0.83       441\n",
      "   macro avg       0.86      0.82      0.82       441\n",
      "weighted avg       0.86      0.83      0.82       441\n",
      "\n"
     ]
    }
   ],
   "source": [
    "model = KNeighborsClassifier(n_neighbors=5)\n",
    "model.fit(x_train,y_train)\n",
    "y_pred = model.predict(x_test)\n",
    "print(classification_report(y_test,y_pred))"
   ]
  },
  {
   "cell_type": "code",
   "execution_count": 252,
   "metadata": {},
   "outputs": [
    {
     "data": {
      "image/png": "[encoded data removed]",
      "text/plain": [
       "<Figure size 432x288 with 2 Axes>"
      ]
     },
     "metadata": {
      "image/png": {
       "height": 277,
       "width": 365
      },
      "needs_background": "light"
     },
     "output_type": "display_data"
    }
   ],
   "source": [
    "# 시각화\n",
    "from sklearn.metrics import confusion_matrix\n",
    "sns.heatmap(confusion_matrix(y_test,y_pred), annot=True, fmt='g', cmap='Blues')\n",
    "plt.title('KNN - Oversampled by train data only')\n",
    "plt.xlabel('Predicted')\n",
    "plt.ylabel('Actual')\n",
    "plt.show()"
   ]
  },
  {
   "cell_type": "markdown",
   "metadata": {
    "id": "DAxrjgB2jlfJ"
   },
   "source": [
    "# 8.정리 #2"
   ]
  },
  {
   "cell_type": "markdown",
   "metadata": {},
   "source": [
    "## 8.1.성능 비교\n",
    "\n",
    "- Over Sampling 전후 성능을 비교합니다."
   ]
  },
  {
   "cell_type": "code",
   "execution_count": 78,
   "metadata": {},
   "outputs": [
    {
     "data": {
      "image/png": "[encoded data removed]",
      "text/plain": [
       "<Figure size 720x360 with 1 Axes>"
      ]
     },
     "metadata": {
      "image/png": {
       "height": 429,
       "width": 608
      },
      "needs_background": "light"
     },
     "output_type": "display_data"
    }
   ],
   "source": [
    "# 성능 비교\n",
    "tmp = pd.DataFrame.from_dict(score, orient='index', columns=['Precision', 'Recall', 'Accuracy'])\n",
    "tmp.plot(kind='bar')\n",
    "fig = plt.gcf()\n",
    "fig.set_size_inches(10, 5)\n",
    "plt.title('Over Sampling Test', size=20, pad=20)\n",
    "plt.xlabel('Model')\n",
    "plt.ylabel('Performance')\n",
    "plt.show()"
   ]
  },
  {
   "cell_type": "markdown",
   "metadata": {},
   "source": [
    "## 8.2.정리\n",
    "\n",
    "- 불균형 데이터에 대해 이해 했나요?\n",
    "- Over Sampling, Under Sampling 개념을 이해 했나요?\n",
    "- Over Sampling 또는 Under Sampling 수행 후 모델의 성능이 달라졌나요?\n",
    "- 모델의 성능을 높이기 위해 어떤 것들을 할 수 있을까요?"
   ]
  },
  {
   "cell_type": "markdown",
   "metadata": {},
   "source": [
    "### 정리 의견\n",
    "\n",
    "* 데이터 크기(양) 차이가 심하니까 모델이 정확히 예측하지 못한 것 같다.\n",
    "* 오버샘플링은 상대적으로 표본이 부족한 데이터의 사이즈를 늘리고, 언더샘플링은 표본이 지나치게 많은 데이터의 사이즈를 줄이는 것이다.\n",
    "* 정확도가 약간 개선되었고, 정밀도와 민감도가 크게 상승했다.\n",
    "* 오버피팅한 데이터를 기반으로 한 모델에 랜덤서치나 그리드서치를 실행하면 더 좋을 것 같다."
   ]
  },
  {
   "cell_type": "markdown",
   "metadata": {},
   "source": [
    "# 부록 : 오버샘플링 모델 최적화"
   ]
  },
  {
   "cell_type": "code",
   "execution_count": 203,
   "metadata": {},
   "outputs": [
    {
     "name": "stdout",
     "output_type": "stream",
     "text": [
      "0.9095238095238095\n",
      "----------------------------------------------------------------------\n",
      "              precision    recall  f1-score   support\n",
      "\n",
      "           0       0.99      0.82      0.90       305\n",
      "           1       0.86      0.99      0.92       325\n",
      "\n",
      "    accuracy                           0.91       630\n",
      "   macro avg       0.92      0.91      0.91       630\n",
      "weighted avg       0.92      0.91      0.91       630\n",
      "\n"
     ]
    }
   ],
   "source": [
    "# 라이브러리 불러오기\n",
    "from sklearn.model_selection import RandomizedSearchCV\n",
    "# 변수 정의\n",
    "rd_model = KNeighborsClassifier()\n",
    "rd_params = {'n_neighbors':range(3,31)}\n",
    "# 모델 정의\n",
    "model = RandomizedSearchCV(rd_model, rd_params, cv=10, scoring='accuracy', n_iter=50)\n",
    "# 모델 학습\n",
    "model.fit(x_train,y_train)\n",
    "# 모델 예측 및 평가\n",
    "y_pred = model.predict(x_test)\n",
    "print(accuracy_score(y_test,y_pred))\n",
    "print('-'*70)\n",
    "print(classification_report(y_test,y_pred))"
   ]
  },
  {
   "cell_type": "code",
   "execution_count": 90,
   "metadata": {},
   "outputs": [
    {
     "name": "stdout",
     "output_type": "stream",
     "text": [
      "KNeighborsClassifier(n_neighbors=4)\n",
      "{'n_neighbors': 4}\n"
     ]
    }
   ],
   "source": [
    "# 최적의 파라미터 출력\n",
    "print(model.best_estimator_)\n",
    "print(model.best_params_)"
   ]
  },
  {
   "cell_type": "code",
   "execution_count": 88,
   "metadata": {},
   "outputs": [],
   "source": [
    "# 성능 정보 수집(부록)\n",
    "score['KNN UP'] = [precision_score(y_test, y_pred),    # KNN UP은 KNN이 아닌 KNN_2 모델에 랜덤서치 돌린 것\n",
    "                      recall_score(y_test, y_pred),\n",
    "                      accuracy_score(y_test, y_pred)]"
   ]
  },
  {
   "cell_type": "code",
   "execution_count": 89,
   "metadata": {},
   "outputs": [
    {
     "data": {
      "image/png": "[encoded data removed]",
      "text/plain": [
       "<Figure size 720x360 with 1 Axes>"
      ]
     },
     "metadata": {
      "image/png": {
       "height": 429,
       "width": 608
      },
      "needs_background": "light"
     },
     "output_type": "display_data"
    }
   ],
   "source": [
    "# 성능 비교 시각화\n",
    "tmp = pd.DataFrame.from_dict(score, orient='index', columns=['Precision', 'Recall', 'Accuracy'])\n",
    "tmp.plot(kind='bar')\n",
    "fig = plt.gcf()\n",
    "fig.set_size_inches(10, 5)\n",
    "plt.title('Over Sampling Test', size=20, pad=20)\n",
    "plt.xlabel('Model')\n",
    "plt.ylabel('Performance')\n",
    "plt.show()"
   ]
  },
  {
   "cell_type": "markdown",
   "metadata": {},
   "source": [
    "## 추가 : 오버샘플링 모델 최적화(훈련 데이터만 정제한 버전)"
   ]
  },
  {
   "cell_type": "code",
   "execution_count": 253,
   "metadata": {},
   "outputs": [
    {
     "name": "stdout",
     "output_type": "stream",
     "text": [
      "accuracy : 0.8662131519274376\n",
      "------------------------------------------------------------\n",
      "              precision    recall  f1-score   support\n",
      "\n",
      "           0       0.97      0.74      0.84       211\n",
      "           1       0.81      0.98      0.88       230\n",
      "\n",
      "    accuracy                           0.87       441\n",
      "   macro avg       0.89      0.86      0.86       441\n",
      "weighted avg       0.88      0.87      0.86       441\n",
      "\n"
     ]
    }
   ],
   "source": [
    "# 라이브러리 불러오기\n",
    "from sklearn.model_selection import RandomizedSearchCV\n",
    "# 변수 정의\n",
    "rd_model = KNeighborsClassifier()\n",
    "rd_params = {'n_neighbors':range(3,31)}\n",
    "# 모델 정의\n",
    "model = RandomizedSearchCV(rd_model, rd_params, cv=10, scoring='accuracy', n_iter=50)\n",
    "# 모델 학습\n",
    "model.fit(x_train,y_train)\n",
    "# 모델 예측 및 평가\n",
    "y_pred = model.predict(x_test)\n",
    "print('accuracy :',accuracy_score(y_test,y_pred))\n",
    "print('-'*60)\n",
    "print(classification_report(y_test,y_pred))"
   ]
  },
  {
   "cell_type": "code",
   "execution_count": 254,
   "metadata": {},
   "outputs": [
    {
     "data": {
      "image/png": "[encoded data removed]",
      "text/plain": [
       "<Figure size 432x288 with 2 Axes>"
      ]
     },
     "metadata": {
      "image/png": {
       "height": 277,
       "width": 365
      },
      "needs_background": "light"
     },
     "output_type": "display_data"
    }
   ],
   "source": [
    "# confusionmatrix 시각화\n",
    "from sklearn.metrics import confusion_matrix\n",
    "sns.heatmap(confusion_matrix(y_test,y_pred), annot=True, fmt='g', cmap='Blues')\n",
    "plt.title('KNN - Oversampled by train data only(RandomCV)')\n",
    "plt.xlabel('Predicted')\n",
    "plt.ylabel('Actual')\n",
    "plt.show()"
   ]
  },
  {
   "cell_type": "code",
   "execution_count": 255,
   "metadata": {},
   "outputs": [
    {
     "data": {
      "image/png": "[encoded data removed]",
      "text/plain": [
       "<Figure size 720x360 with 1 Axes>"
      ]
     },
     "metadata": {
      "image/png": {
       "height": 445,
       "width": 608
      },
      "needs_background": "light"
     },
     "output_type": "display_data"
    }
   ],
   "source": [
    "# 목록 추가 및 시각화\n",
    "# 성능 정보 수집(부록)\n",
    "score['KNN_2 Train Only UP'] = [precision_score(y_test, y_pred),    # KNN UP은 KNN이 아닌 KNN_2 모델에 랜덤서치 돌린 것\n",
    "                                recall_score(y_test, y_pred),\n",
    "                                accuracy_score(y_test, y_pred)]\n",
    "\n",
    "tmp = pd.DataFrame.from_dict(score, orient='index', columns=['Precision', 'Recall', 'Accuracy'])\n",
    "tmp.plot(kind='bar')\n",
    "fig = plt.gcf()\n",
    "fig.set_size_inches(10, 5)\n",
    "plt.title('Over Sampling Test', size=20, pad=20)\n",
    "plt.xlabel('Model')\n",
    "plt.ylabel('Performance')\n",
    "plt.show()"
   ]
  },
  {
   "cell_type": "code",
   "execution_count": 97,
   "metadata": {},
   "outputs": [
    {
     "name": "stdout",
     "output_type": "stream",
     "text": [
      "KNeighborsClassifier(n_neighbors=4)\n",
      "{'n_neighbors': 4}\n"
     ]
    }
   ],
   "source": [
    "# 최적의 파라미터 출력\n",
    "print(model.best_estimator_)\n",
    "print(model.best_params_)"
   ]
  },
  {
   "cell_type": "markdown",
   "metadata": {},
   "source": [
    "## 부록 요약\n",
    "\n",
    "* KNN의 경우 랜덤서치를 돌렸을 때 정확도는 변화가 없었지만 정밀도와 재현도에서 큰 성능 상승이 있었다.\n",
    "* 다만 민감도가 0.99가 나온 부분은 전적으로 신뢰하기보다는 실전에 적용할 때 예의주시할 필요가 있다.\n",
    "\n",
    "* 추가 : 민감도는 튜닝 이전에도 0.99임, 튜닝 결과 특이도가 상승한 것"
   ]
  }
 ],
 "metadata": {
  "colab": {
   "collapsed_sections": [],
   "name": "과제05 - 직원 이직 여부 예측.ipynb",
   "provenance": [],
   "toc_visible": true
  },
  "kernelspec": {
   "display_name": "Python 3",
   "language": "python",
   "name": "python3"
  },
  "language_info": {
   "codemirror_mode": {
    "name": "ipython",
    "version": 3
   },
   "file_extension": ".py",
   "mimetype": "text/x-python",
   "name": "python",
   "nbconvert_exporter": "python",
   "pygments_lexer": "ipython3",
   "version": "3.8.8"
  }
 },
 "nbformat": 4,
 "nbformat_minor": 1
}
