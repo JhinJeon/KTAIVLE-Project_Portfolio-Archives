{
 "cells": [
  {
   "cell_type": "markdown",
   "metadata": {
    "id": "y1J78TFSRrSA"
   },
   "source": [
    "<center><img src='https://raw.githubusercontent.com/Jangrae/img/master/ml_python.png' width=600/></center>"
   ]
  },
  {
   "cell_type": "markdown",
   "metadata": {
    "id": "NlQaHFfZUHxn"
   },
   "source": [
    "<center><img src='https://raw.githubusercontent.com/Jangrae/img/master/levelup.png' width=240/></center>"
   ]
  },
  {
   "cell_type": "markdown",
   "metadata": {
    "id": "ldNujhC2R8Ul"
   },
   "source": [
    "<center>모델을 빨리 만드는 것이 목적이 아닙니다. 천천히 생각하고 정리하면서 구문을 정성껏 작성하세요.</center>"
   ]
  },
  {
   "cell_type": "markdown",
   "metadata": {
    "id": "y5V-LFxvFUwe"
   },
   "source": [
    "# 과제: 항공 탑승자 만족도 예측"
   ]
  },
  {
   "cell_type": "markdown",
   "metadata": {
    "id": "4yKjzn4-kohB"
   },
   "source": [
    "<img src = \"https://github.com/Jangrae/img/blob/master/airport2.png?raw=true\" width=900 align=\"left\"/>"
   ]
  },
  {
   "cell_type": "markdown",
   "metadata": {
    "id": "frwPKSA3vwUJ"
   },
   "source": [
    "# 실습 안내"
   ]
  },
  {
   "cell_type": "markdown",
   "metadata": {
    "id": "5M6slnW_vwUJ"
   },
   "source": [
    "**1) 실습 방법**\n",
    "\n",
    "- 데이터 전처리와 탐색 보다는 모델 코딩에 중점을 둡니다.\n",
    "- 기존 소스에서 복사해 붙여넣기 하지 않고 다시 코딩합니다.\n",
    "- 실습 후 시간이 남으면 데이터 탐색과 성능 튜닝을 진행합니다. \n",
    "- 모든 작업에는 주석을 가능한 충분히 답니다.\n",
    "- 입력을 요구한 **(작성)**, **(의견)** 부분을 충분히 채웁니다.\n",
    "\n",
    "**2) 실습 내용**\n",
    "\n",
    "- 대상 데이터를 읽어와 탐색하며 이해합니다.\n",
    "- 결측치를 확인하고 처리합니다.\n",
    "- 범주형 변수를 구분하고 가변수화를 진행합니다.\n",
    "- 연속형 변수를 구분하고 정규화를 진행합니다.\n",
    "- 데이터를 학습용 데이터와 평가용 데이터로 분리합니다.\n",
    "- 다양한 머신러닝 알고리즘을 사용해 모델링합니다.\n",
    "- 성능 평가 결과를 이해하고 설명합니다.\n",
    "\n",
    "**3) 데이터 정보**\n",
    "\n",
    "- id : 탑승자 고유 아이디\n",
    "- gender: 성별 (Female, Male)\n",
    "- customer_type: 고액 유형 (Loyal customer, disloyal customer)\n",
    "- age: 탑승자 나이\n",
    "- type_of_travel: 비행 목적(Personal Travel, Business Travel)\n",
    "- class: 등급 (Business, Eco, Eco Plus)\n",
    "- flight_distance: 비행 거리\n",
    "- inflight_wifi_service: 와아파이 서비스 만족도 (0:N/A; 1-5)\n",
    "- departure/arrival_time_convenient: 출발, 도착 시간 만족도 (0:N/A; 1-5)\n",
    "- ease_of_online_booking: 온라인 부킹 만족도 (0:N/A; 1-5)\n",
    "- gate_location: 게이트 위치 만족도 (0:N/A; 1-5)\n",
    "- food_and_drink: 식사와 음료 만족도 (0:N/A; 1-5)\n",
    "- online_boarding: 온라인 보딩 만족도 (0:N/A; 1-5)\n",
    "- seat_comfort: 좌석 편안함 만족도 (0:N/A; 1-5)\n",
    "- inflight_entertainment: 기내 엔터테인먼트 만족도 (0:N/A; 1-5)\n",
    "- on-board_service: 온 보드 서비스 만족도 (0:N/A; 1-5)\n",
    "- leg_room_service: 다리 공간 만족도 (0:N/A; 1-5)\n",
    "- baggage_handling: 수하물 처리 만족도 (0:N/A; 1-5)\n",
    "- check-in_service: 체크인 서비스 만족도 (0:N/A; 1-5)\n",
    "- inflight_service: 기내 서비스 만족도 (0:N/A; 1-5)\n",
    "- cleanliness: 청결 만족도 (0:N/A; 1-5)\n",
    "- departure_delay_in_minutes: 출발 지연 시간(분)\n",
    "- arrival_delay_in_minutes: 도착 지연 시간(분)\n",
    "- satisfaction: 항공 만족도(1: Satisfaction, 0: Neutral or Dissatisfaction) - Target"
   ]
  },
  {
   "cell_type": "markdown",
   "metadata": {},
   "source": [
    "### 만족도 수치는 가변수화하지 말 것"
   ]
  },
  {
   "cell_type": "markdown",
   "metadata": {
    "id": "WW5MoKVRHuE8"
   },
   "source": [
    "# 1.환경 준비\n",
    "\n",
    "- 기본 라이브러리와 대상 데이터를 가져와 이후 과정을 준비합니다."
   ]
  },
  {
   "cell_type": "code",
   "execution_count": 26,
   "metadata": {
    "id": "GVvCef6A8uv6",
    "scrolled": true
   },
   "outputs": [],
   "source": [
    "# 라이브러리 불러오기\n",
    "import numpy as np\n",
    "import pandas as pd\n",
    "import matplotlib.pyplot as plt\n",
    "import seaborn as sns\n",
    "import warnings\n",
    "\n",
    "warnings.filterwarnings(action='ignore')\n",
    "%config InlineBackend.figure_format='retina'"
   ]
  },
  {
   "cell_type": "code",
   "execution_count": 140,
   "metadata": {
    "id": "3GgFpOB4zQ7h"
   },
   "outputs": [],
   "source": [
    "# 데이터 읽어오기\n",
    "# path = 'https://raw.githubusercontent.com/Jangrae/csv/master/airline_satisfaction_small.csv'\n",
    "path = 'https://bit.ly/AirlineFile'\n",
    "data = pd.read_csv(path)"
   ]
  },
  {
   "cell_type": "markdown",
   "metadata": {
    "id": "ZJOddHq2zfcU"
   },
   "source": [
    "# 2.데이터 탐색\n",
    "\n",
    "- 다양한 탐색 및 분석 방법을 사용해 대상 데이터를 충분히 이해합니다."
   ]
  },
  {
   "cell_type": "markdown",
   "metadata": {
    "id": "RbTrkzF6cTT7"
   },
   "source": [
    "**1) 상/하위 데이터 확인**\n",
    "\n",
    "- 데이터 앞/뒤를 살펴 데이터를 간단히 확인합니다."
   ]
  },
  {
   "cell_type": "code",
   "execution_count": 28,
   "metadata": {
    "colab": {
     "base_uri": "https://localhost:8080/",
     "height": 305
    },
    "executionInfo": {
     "elapsed": 24,
     "status": "ok",
     "timestamp": 1641524345319,
     "user": {
      "displayName": "Jangrae Lee",
      "photoUrl": "https://lh3.googleusercontent.com/a-/AOh14Gh1Pd8OuWJU2cv7uTt-fURrgvty7atx_Wtarmx0-A=s64",
      "userId": "08475661575434032088"
     },
     "user_tz": -540
    },
    "id": "Wzs1nS348uwE",
    "outputId": "731cf978-4b0e-439e-f22a-be13535c3c22"
   },
   "outputs": [
    {
     "data": {
      "text/html": [
       "<div>\n",
       "<style scoped>\n",
       "    .dataframe tbody tr th:only-of-type {\n",
       "        vertical-align: middle;\n",
       "    }\n",
       "\n",
       "    .dataframe tbody tr th {\n",
       "        vertical-align: top;\n",
       "    }\n",
       "\n",
       "    .dataframe thead th {\n",
       "        text-align: right;\n",
       "    }\n",
       "</style>\n",
       "<table border=\"1\" class=\"dataframe\">\n",
       "  <thead>\n",
       "    <tr style=\"text-align: right;\">\n",
       "      <th></th>\n",
       "      <th>id</th>\n",
       "      <th>gender</th>\n",
       "      <th>customer_type</th>\n",
       "      <th>age</th>\n",
       "      <th>type_of_travel</th>\n",
       "      <th>class</th>\n",
       "      <th>flight_distance</th>\n",
       "      <th>inflight_wifi_service</th>\n",
       "      <th>departure/arrival_time_convenient</th>\n",
       "      <th>ease_of_online_booking</th>\n",
       "      <th>...</th>\n",
       "      <th>inflight_entertainment</th>\n",
       "      <th>on-board_service</th>\n",
       "      <th>leg_room_service</th>\n",
       "      <th>baggage_handling</th>\n",
       "      <th>checkin_service</th>\n",
       "      <th>inflight_service</th>\n",
       "      <th>cleanliness</th>\n",
       "      <th>departure_delay_in_minutes</th>\n",
       "      <th>arrival_delay_in_minutes</th>\n",
       "      <th>satisfaction</th>\n",
       "    </tr>\n",
       "  </thead>\n",
       "  <tbody>\n",
       "    <tr>\n",
       "      <th>0</th>\n",
       "      <td>70172</td>\n",
       "      <td>Male</td>\n",
       "      <td>Loyal Customer</td>\n",
       "      <td>13</td>\n",
       "      <td>Personal Travel</td>\n",
       "      <td>Eco Plus</td>\n",
       "      <td>460</td>\n",
       "      <td>3</td>\n",
       "      <td>4</td>\n",
       "      <td>3</td>\n",
       "      <td>...</td>\n",
       "      <td>5</td>\n",
       "      <td>4</td>\n",
       "      <td>3</td>\n",
       "      <td>4</td>\n",
       "      <td>4</td>\n",
       "      <td>5</td>\n",
       "      <td>5</td>\n",
       "      <td>25</td>\n",
       "      <td>18.0</td>\n",
       "      <td>0</td>\n",
       "    </tr>\n",
       "    <tr>\n",
       "      <th>1</th>\n",
       "      <td>5047</td>\n",
       "      <td>Male</td>\n",
       "      <td>disloyal Customer</td>\n",
       "      <td>25</td>\n",
       "      <td>Business travel</td>\n",
       "      <td>Business</td>\n",
       "      <td>235</td>\n",
       "      <td>3</td>\n",
       "      <td>2</td>\n",
       "      <td>3</td>\n",
       "      <td>...</td>\n",
       "      <td>1</td>\n",
       "      <td>1</td>\n",
       "      <td>5</td>\n",
       "      <td>3</td>\n",
       "      <td>1</td>\n",
       "      <td>4</td>\n",
       "      <td>1</td>\n",
       "      <td>1</td>\n",
       "      <td>6.0</td>\n",
       "      <td>0</td>\n",
       "    </tr>\n",
       "    <tr>\n",
       "      <th>2</th>\n",
       "      <td>110028</td>\n",
       "      <td>Female</td>\n",
       "      <td>Loyal Customer</td>\n",
       "      <td>26</td>\n",
       "      <td>Business travel</td>\n",
       "      <td>Business</td>\n",
       "      <td>1142</td>\n",
       "      <td>2</td>\n",
       "      <td>2</td>\n",
       "      <td>2</td>\n",
       "      <td>...</td>\n",
       "      <td>5</td>\n",
       "      <td>4</td>\n",
       "      <td>3</td>\n",
       "      <td>4</td>\n",
       "      <td>4</td>\n",
       "      <td>4</td>\n",
       "      <td>5</td>\n",
       "      <td>0</td>\n",
       "      <td>0.0</td>\n",
       "      <td>1</td>\n",
       "    </tr>\n",
       "    <tr>\n",
       "      <th>3</th>\n",
       "      <td>24026</td>\n",
       "      <td>Female</td>\n",
       "      <td>Loyal Customer</td>\n",
       "      <td>25</td>\n",
       "      <td>Business travel</td>\n",
       "      <td>Business</td>\n",
       "      <td>562</td>\n",
       "      <td>2</td>\n",
       "      <td>5</td>\n",
       "      <td>5</td>\n",
       "      <td>...</td>\n",
       "      <td>2</td>\n",
       "      <td>2</td>\n",
       "      <td>5</td>\n",
       "      <td>3</td>\n",
       "      <td>1</td>\n",
       "      <td>4</td>\n",
       "      <td>2</td>\n",
       "      <td>11</td>\n",
       "      <td>9.0</td>\n",
       "      <td>0</td>\n",
       "    </tr>\n",
       "    <tr>\n",
       "      <th>4</th>\n",
       "      <td>119299</td>\n",
       "      <td>Male</td>\n",
       "      <td>Loyal Customer</td>\n",
       "      <td>61</td>\n",
       "      <td>Business travel</td>\n",
       "      <td>Business</td>\n",
       "      <td>214</td>\n",
       "      <td>3</td>\n",
       "      <td>3</td>\n",
       "      <td>3</td>\n",
       "      <td>...</td>\n",
       "      <td>3</td>\n",
       "      <td>3</td>\n",
       "      <td>4</td>\n",
       "      <td>4</td>\n",
       "      <td>3</td>\n",
       "      <td>3</td>\n",
       "      <td>3</td>\n",
       "      <td>0</td>\n",
       "      <td>0.0</td>\n",
       "      <td>1</td>\n",
       "    </tr>\n",
       "  </tbody>\n",
       "</table>\n",
       "<p>5 rows × 24 columns</p>\n",
       "</div>"
      ],
      "text/plain": [
       "       id  gender      customer_type  age   type_of_travel     class  \\\n",
       "0   70172    Male     Loyal Customer   13  Personal Travel  Eco Plus   \n",
       "1    5047    Male  disloyal Customer   25  Business travel  Business   \n",
       "2  110028  Female     Loyal Customer   26  Business travel  Business   \n",
       "3   24026  Female     Loyal Customer   25  Business travel  Business   \n",
       "4  119299    Male     Loyal Customer   61  Business travel  Business   \n",
       "\n",
       "   flight_distance  inflight_wifi_service  departure/arrival_time_convenient  \\\n",
       "0              460                      3                                  4   \n",
       "1              235                      3                                  2   \n",
       "2             1142                      2                                  2   \n",
       "3              562                      2                                  5   \n",
       "4              214                      3                                  3   \n",
       "\n",
       "   ease_of_online_booking  ...  inflight_entertainment  on-board_service  \\\n",
       "0                       3  ...                       5                 4   \n",
       "1                       3  ...                       1                 1   \n",
       "2                       2  ...                       5                 4   \n",
       "3                       5  ...                       2                 2   \n",
       "4                       3  ...                       3                 3   \n",
       "\n",
       "   leg_room_service  baggage_handling  checkin_service  inflight_service  \\\n",
       "0                 3                 4                4                 5   \n",
       "1                 5                 3                1                 4   \n",
       "2                 3                 4                4                 4   \n",
       "3                 5                 3                1                 4   \n",
       "4                 4                 4                3                 3   \n",
       "\n",
       "   cleanliness  departure_delay_in_minutes  arrival_delay_in_minutes  \\\n",
       "0            5                          25                      18.0   \n",
       "1            1                           1                       6.0   \n",
       "2            5                           0                       0.0   \n",
       "3            2                          11                       9.0   \n",
       "4            3                           0                       0.0   \n",
       "\n",
       "   satisfaction  \n",
       "0             0  \n",
       "1             0  \n",
       "2             1  \n",
       "3             0  \n",
       "4             1  \n",
       "\n",
       "[5 rows x 24 columns]"
      ]
     },
     "execution_count": 28,
     "metadata": {},
     "output_type": "execute_result"
    }
   ],
   "source": [
    "# 상위 몇 개 행 확인\n",
    "data.head()"
   ]
  },
  {
   "cell_type": "code",
   "execution_count": 29,
   "metadata": {
    "colab": {
     "base_uri": "https://localhost:8080/",
     "height": 305
    },
    "executionInfo": {
     "elapsed": 22,
     "status": "ok",
     "timestamp": 1641524345319,
     "user": {
      "displayName": "Jangrae Lee",
      "photoUrl": "https://lh3.googleusercontent.com/a-/AOh14Gh1Pd8OuWJU2cv7uTt-fURrgvty7atx_Wtarmx0-A=s64",
      "userId": "08475661575434032088"
     },
     "user_tz": -540
    },
    "id": "YEnLOlzOMZhP",
    "outputId": "a2d136f7-f9d8-4d6f-95d0-23b08cf821e6"
   },
   "outputs": [
    {
     "data": {
      "text/html": [
       "<div>\n",
       "<style scoped>\n",
       "    .dataframe tbody tr th:only-of-type {\n",
       "        vertical-align: middle;\n",
       "    }\n",
       "\n",
       "    .dataframe tbody tr th {\n",
       "        vertical-align: top;\n",
       "    }\n",
       "\n",
       "    .dataframe thead th {\n",
       "        text-align: right;\n",
       "    }\n",
       "</style>\n",
       "<table border=\"1\" class=\"dataframe\">\n",
       "  <thead>\n",
       "    <tr style=\"text-align: right;\">\n",
       "      <th></th>\n",
       "      <th>id</th>\n",
       "      <th>gender</th>\n",
       "      <th>customer_type</th>\n",
       "      <th>age</th>\n",
       "      <th>type_of_travel</th>\n",
       "      <th>class</th>\n",
       "      <th>flight_distance</th>\n",
       "      <th>inflight_wifi_service</th>\n",
       "      <th>departure/arrival_time_convenient</th>\n",
       "      <th>ease_of_online_booking</th>\n",
       "      <th>...</th>\n",
       "      <th>inflight_entertainment</th>\n",
       "      <th>on-board_service</th>\n",
       "      <th>leg_room_service</th>\n",
       "      <th>baggage_handling</th>\n",
       "      <th>checkin_service</th>\n",
       "      <th>inflight_service</th>\n",
       "      <th>cleanliness</th>\n",
       "      <th>departure_delay_in_minutes</th>\n",
       "      <th>arrival_delay_in_minutes</th>\n",
       "      <th>satisfaction</th>\n",
       "    </tr>\n",
       "  </thead>\n",
       "  <tbody>\n",
       "    <tr>\n",
       "      <th>2575</th>\n",
       "      <td>21840</td>\n",
       "      <td>Male</td>\n",
       "      <td>Loyal Customer</td>\n",
       "      <td>63</td>\n",
       "      <td>Business travel</td>\n",
       "      <td>Business</td>\n",
       "      <td>448</td>\n",
       "      <td>2</td>\n",
       "      <td>2</td>\n",
       "      <td>2</td>\n",
       "      <td>...</td>\n",
       "      <td>4</td>\n",
       "      <td>4</td>\n",
       "      <td>5</td>\n",
       "      <td>4</td>\n",
       "      <td>3</td>\n",
       "      <td>4</td>\n",
       "      <td>4</td>\n",
       "      <td>15</td>\n",
       "      <td>8.0</td>\n",
       "      <td>1</td>\n",
       "    </tr>\n",
       "    <tr>\n",
       "      <th>2576</th>\n",
       "      <td>42486</td>\n",
       "      <td>Female</td>\n",
       "      <td>disloyal Customer</td>\n",
       "      <td>26</td>\n",
       "      <td>Business travel</td>\n",
       "      <td>Eco</td>\n",
       "      <td>693</td>\n",
       "      <td>3</td>\n",
       "      <td>3</td>\n",
       "      <td>3</td>\n",
       "      <td>...</td>\n",
       "      <td>3</td>\n",
       "      <td>5</td>\n",
       "      <td>5</td>\n",
       "      <td>1</td>\n",
       "      <td>1</td>\n",
       "      <td>1</td>\n",
       "      <td>3</td>\n",
       "      <td>0</td>\n",
       "      <td>0.0</td>\n",
       "      <td>0</td>\n",
       "    </tr>\n",
       "    <tr>\n",
       "      <th>2577</th>\n",
       "      <td>49355</td>\n",
       "      <td>Male</td>\n",
       "      <td>Loyal Customer</td>\n",
       "      <td>41</td>\n",
       "      <td>Business travel</td>\n",
       "      <td>Business</td>\n",
       "      <td>3306</td>\n",
       "      <td>5</td>\n",
       "      <td>5</td>\n",
       "      <td>5</td>\n",
       "      <td>...</td>\n",
       "      <td>5</td>\n",
       "      <td>5</td>\n",
       "      <td>5</td>\n",
       "      <td>5</td>\n",
       "      <td>2</td>\n",
       "      <td>5</td>\n",
       "      <td>2</td>\n",
       "      <td>28</td>\n",
       "      <td>24.0</td>\n",
       "      <td>1</td>\n",
       "    </tr>\n",
       "    <tr>\n",
       "      <th>2578</th>\n",
       "      <td>46728</td>\n",
       "      <td>Female</td>\n",
       "      <td>Loyal Customer</td>\n",
       "      <td>17</td>\n",
       "      <td>Personal Travel</td>\n",
       "      <td>Eco</td>\n",
       "      <td>125</td>\n",
       "      <td>3</td>\n",
       "      <td>2</td>\n",
       "      <td>0</td>\n",
       "      <td>...</td>\n",
       "      <td>5</td>\n",
       "      <td>4</td>\n",
       "      <td>4</td>\n",
       "      <td>3</td>\n",
       "      <td>3</td>\n",
       "      <td>3</td>\n",
       "      <td>5</td>\n",
       "      <td>0</td>\n",
       "      <td>0.0</td>\n",
       "      <td>0</td>\n",
       "    </tr>\n",
       "    <tr>\n",
       "      <th>2579</th>\n",
       "      <td>34516</td>\n",
       "      <td>Female</td>\n",
       "      <td>Loyal Customer</td>\n",
       "      <td>36</td>\n",
       "      <td>Personal Travel</td>\n",
       "      <td>Eco</td>\n",
       "      <td>1521</td>\n",
       "      <td>2</td>\n",
       "      <td>2</td>\n",
       "      <td>2</td>\n",
       "      <td>...</td>\n",
       "      <td>5</td>\n",
       "      <td>3</td>\n",
       "      <td>4</td>\n",
       "      <td>3</td>\n",
       "      <td>3</td>\n",
       "      <td>3</td>\n",
       "      <td>5</td>\n",
       "      <td>0</td>\n",
       "      <td>4.0</td>\n",
       "      <td>0</td>\n",
       "    </tr>\n",
       "  </tbody>\n",
       "</table>\n",
       "<p>5 rows × 24 columns</p>\n",
       "</div>"
      ],
      "text/plain": [
       "         id  gender      customer_type  age   type_of_travel     class  \\\n",
       "2575  21840    Male     Loyal Customer   63  Business travel  Business   \n",
       "2576  42486  Female  disloyal Customer   26  Business travel       Eco   \n",
       "2577  49355    Male     Loyal Customer   41  Business travel  Business   \n",
       "2578  46728  Female     Loyal Customer   17  Personal Travel       Eco   \n",
       "2579  34516  Female     Loyal Customer   36  Personal Travel       Eco   \n",
       "\n",
       "      flight_distance  inflight_wifi_service  \\\n",
       "2575              448                      2   \n",
       "2576              693                      3   \n",
       "2577             3306                      5   \n",
       "2578              125                      3   \n",
       "2579             1521                      2   \n",
       "\n",
       "      departure/arrival_time_convenient  ease_of_online_booking  ...  \\\n",
       "2575                                  2                       2  ...   \n",
       "2576                                  3                       3  ...   \n",
       "2577                                  5                       5  ...   \n",
       "2578                                  2                       0  ...   \n",
       "2579                                  2                       2  ...   \n",
       "\n",
       "      inflight_entertainment  on-board_service  leg_room_service  \\\n",
       "2575                       4                 4                 5   \n",
       "2576                       3                 5                 5   \n",
       "2577                       5                 5                 5   \n",
       "2578                       5                 4                 4   \n",
       "2579                       5                 3                 4   \n",
       "\n",
       "      baggage_handling  checkin_service  inflight_service  cleanliness  \\\n",
       "2575                 4                3                 4            4   \n",
       "2576                 1                1                 1            3   \n",
       "2577                 5                2                 5            2   \n",
       "2578                 3                3                 3            5   \n",
       "2579                 3                3                 3            5   \n",
       "\n",
       "      departure_delay_in_minutes  arrival_delay_in_minutes  satisfaction  \n",
       "2575                          15                       8.0             1  \n",
       "2576                           0                       0.0             0  \n",
       "2577                          28                      24.0             1  \n",
       "2578                           0                       0.0             0  \n",
       "2579                           0                       4.0             0  \n",
       "\n",
       "[5 rows x 24 columns]"
      ]
     },
     "execution_count": 29,
     "metadata": {},
     "output_type": "execute_result"
    }
   ],
   "source": [
    "# 하위 몇 개 행 확인\n",
    "data.tail()"
   ]
  },
  {
   "cell_type": "markdown",
   "metadata": {
    "id": "PW_COUPqwoz2"
   },
   "source": [
    "**2) 변수 정보 확인**\n",
    "\n",
    "- 변수 이름, 값 개수, 데이터 형식등을 확인합니다."
   ]
  },
  {
   "cell_type": "code",
   "execution_count": 30,
   "metadata": {
    "colab": {
     "base_uri": "https://localhost:8080/"
    },
    "executionInfo": {
     "elapsed": 21,
     "status": "ok",
     "timestamp": 1641524345319,
     "user": {
      "displayName": "Jangrae Lee",
      "photoUrl": "https://lh3.googleusercontent.com/a-/AOh14Gh1Pd8OuWJU2cv7uTt-fURrgvty7atx_Wtarmx0-A=s64",
      "userId": "08475661575434032088"
     },
     "user_tz": -540
    },
    "id": "0xTUuxOecYdy",
    "outputId": "2b2ad98c-2ccd-4b41-a55d-3aac9dbddcea"
   },
   "outputs": [
    {
     "name": "stdout",
     "output_type": "stream",
     "text": [
      "<class 'pandas.core.frame.DataFrame'>\n",
      "RangeIndex: 2580 entries, 0 to 2579\n",
      "Data columns (total 24 columns):\n",
      " #   Column                             Non-Null Count  Dtype  \n",
      "---  ------                             --------------  -----  \n",
      " 0   id                                 2580 non-null   int64  \n",
      " 1   gender                             2580 non-null   object \n",
      " 2   customer_type                      2580 non-null   object \n",
      " 3   age                                2580 non-null   int64  \n",
      " 4   type_of_travel                     2580 non-null   object \n",
      " 5   class                              2580 non-null   object \n",
      " 6   flight_distance                    2580 non-null   int64  \n",
      " 7   inflight_wifi_service              2580 non-null   int64  \n",
      " 8   departure/arrival_time_convenient  2580 non-null   int64  \n",
      " 9   ease_of_online_booking             2580 non-null   int64  \n",
      " 10  gate_location                      2580 non-null   int64  \n",
      " 11  food_and_drink                     2580 non-null   int64  \n",
      " 12  online_boarding                    2580 non-null   int64  \n",
      " 13  seat_comfort                       2580 non-null   int64  \n",
      " 14  inflight_entertainment             2580 non-null   int64  \n",
      " 15  on-board_service                   2580 non-null   int64  \n",
      " 16  leg_room_service                   2580 non-null   int64  \n",
      " 17  baggage_handling                   2580 non-null   int64  \n",
      " 18  checkin_service                    2580 non-null   int64  \n",
      " 19  inflight_service                   2580 non-null   int64  \n",
      " 20  cleanliness                        2580 non-null   int64  \n",
      " 21  departure_delay_in_minutes         2580 non-null   int64  \n",
      " 22  arrival_delay_in_minutes           2574 non-null   float64\n",
      " 23  satisfaction                       2580 non-null   int64  \n",
      "dtypes: float64(1), int64(19), object(4)\n",
      "memory usage: 483.9+ KB\n"
     ]
    }
   ],
   "source": [
    "# 변수 확인\n",
    "data.info()"
   ]
  },
  {
   "cell_type": "markdown",
   "metadata": {
    "id": "KY7lIXKhcYdy"
   },
   "source": [
    "**3) 기초통계정보 확인**\n",
    "\n",
    "- 기초통계정보를 통해 숫자 데이터를 갖는 변수들 값 분포를 확인합니다."
   ]
  },
  {
   "cell_type": "code",
   "execution_count": 31,
   "metadata": {
    "colab": {
     "base_uri": "https://localhost:8080/",
     "height": 382
    },
    "executionInfo": {
     "elapsed": 17,
     "status": "ok",
     "timestamp": 1641524345320,
     "user": {
      "displayName": "Jangrae Lee",
      "photoUrl": "https://lh3.googleusercontent.com/a-/AOh14Gh1Pd8OuWJU2cv7uTt-fURrgvty7atx_Wtarmx0-A=s64",
      "userId": "08475661575434032088"
     },
     "user_tz": -540
    },
    "id": "JWuwP9xKcYdz",
    "outputId": "d615956e-8df1-43be-9706-32e07b468af7"
   },
   "outputs": [
    {
     "data": {
      "text/html": [
       "<div>\n",
       "<style scoped>\n",
       "    .dataframe tbody tr th:only-of-type {\n",
       "        vertical-align: middle;\n",
       "    }\n",
       "\n",
       "    .dataframe tbody tr th {\n",
       "        vertical-align: top;\n",
       "    }\n",
       "\n",
       "    .dataframe thead th {\n",
       "        text-align: right;\n",
       "    }\n",
       "</style>\n",
       "<table border=\"1\" class=\"dataframe\">\n",
       "  <thead>\n",
       "    <tr style=\"text-align: right;\">\n",
       "      <th></th>\n",
       "      <th>id</th>\n",
       "      <th>age</th>\n",
       "      <th>flight_distance</th>\n",
       "      <th>inflight_wifi_service</th>\n",
       "      <th>departure/arrival_time_convenient</th>\n",
       "      <th>ease_of_online_booking</th>\n",
       "      <th>gate_location</th>\n",
       "      <th>food_and_drink</th>\n",
       "      <th>online_boarding</th>\n",
       "      <th>seat_comfort</th>\n",
       "      <th>inflight_entertainment</th>\n",
       "      <th>on-board_service</th>\n",
       "      <th>leg_room_service</th>\n",
       "      <th>baggage_handling</th>\n",
       "      <th>checkin_service</th>\n",
       "      <th>inflight_service</th>\n",
       "      <th>cleanliness</th>\n",
       "      <th>departure_delay_in_minutes</th>\n",
       "      <th>arrival_delay_in_minutes</th>\n",
       "      <th>satisfaction</th>\n",
       "    </tr>\n",
       "  </thead>\n",
       "  <tbody>\n",
       "    <tr>\n",
       "      <th>count</th>\n",
       "      <td>2580.000000</td>\n",
       "      <td>2580.000000</td>\n",
       "      <td>2580.000000</td>\n",
       "      <td>2580.000000</td>\n",
       "      <td>2580.000000</td>\n",
       "      <td>2580.000000</td>\n",
       "      <td>2580.000000</td>\n",
       "      <td>2580.000000</td>\n",
       "      <td>2580.000000</td>\n",
       "      <td>2580.000000</td>\n",
       "      <td>2580.000000</td>\n",
       "      <td>2580.000000</td>\n",
       "      <td>2580.000000</td>\n",
       "      <td>2580.000000</td>\n",
       "      <td>2580.000000</td>\n",
       "      <td>2580.000000</td>\n",
       "      <td>2580.000000</td>\n",
       "      <td>2580.000000</td>\n",
       "      <td>2574.000000</td>\n",
       "      <td>2580.000000</td>\n",
       "    </tr>\n",
       "    <tr>\n",
       "      <th>mean</th>\n",
       "      <td>65179.742248</td>\n",
       "      <td>39.229845</td>\n",
       "      <td>1204.824806</td>\n",
       "      <td>2.732558</td>\n",
       "      <td>3.041473</td>\n",
       "      <td>2.758527</td>\n",
       "      <td>2.973256</td>\n",
       "      <td>3.229457</td>\n",
       "      <td>3.242248</td>\n",
       "      <td>3.440310</td>\n",
       "      <td>3.329070</td>\n",
       "      <td>3.361628</td>\n",
       "      <td>3.298450</td>\n",
       "      <td>3.599225</td>\n",
       "      <td>3.318992</td>\n",
       "      <td>3.620155</td>\n",
       "      <td>3.277907</td>\n",
       "      <td>14.856202</td>\n",
       "      <td>15.285159</td>\n",
       "      <td>0.427132</td>\n",
       "    </tr>\n",
       "    <tr>\n",
       "      <th>std</th>\n",
       "      <td>37320.994433</td>\n",
       "      <td>15.295065</td>\n",
       "      <td>1008.852185</td>\n",
       "      <td>1.317032</td>\n",
       "      <td>1.542290</td>\n",
       "      <td>1.400792</td>\n",
       "      <td>1.271752</td>\n",
       "      <td>1.341635</td>\n",
       "      <td>1.341842</td>\n",
       "      <td>1.329681</td>\n",
       "      <td>1.334021</td>\n",
       "      <td>1.266627</td>\n",
       "      <td>1.313897</td>\n",
       "      <td>1.168210</td>\n",
       "      <td>1.256309</td>\n",
       "      <td>1.182093</td>\n",
       "      <td>1.317367</td>\n",
       "      <td>35.808534</td>\n",
       "      <td>36.301790</td>\n",
       "      <td>0.494758</td>\n",
       "    </tr>\n",
       "    <tr>\n",
       "      <th>min</th>\n",
       "      <td>54.000000</td>\n",
       "      <td>7.000000</td>\n",
       "      <td>67.000000</td>\n",
       "      <td>0.000000</td>\n",
       "      <td>0.000000</td>\n",
       "      <td>0.000000</td>\n",
       "      <td>1.000000</td>\n",
       "      <td>0.000000</td>\n",
       "      <td>0.000000</td>\n",
       "      <td>1.000000</td>\n",
       "      <td>0.000000</td>\n",
       "      <td>0.000000</td>\n",
       "      <td>0.000000</td>\n",
       "      <td>1.000000</td>\n",
       "      <td>1.000000</td>\n",
       "      <td>0.000000</td>\n",
       "      <td>1.000000</td>\n",
       "      <td>0.000000</td>\n",
       "      <td>0.000000</td>\n",
       "      <td>0.000000</td>\n",
       "    </tr>\n",
       "    <tr>\n",
       "      <th>25%</th>\n",
       "      <td>32988.750000</td>\n",
       "      <td>26.000000</td>\n",
       "      <td>405.750000</td>\n",
       "      <td>2.000000</td>\n",
       "      <td>2.000000</td>\n",
       "      <td>2.000000</td>\n",
       "      <td>2.000000</td>\n",
       "      <td>2.000000</td>\n",
       "      <td>2.000000</td>\n",
       "      <td>2.000000</td>\n",
       "      <td>2.000000</td>\n",
       "      <td>2.000000</td>\n",
       "      <td>2.000000</td>\n",
       "      <td>3.000000</td>\n",
       "      <td>3.000000</td>\n",
       "      <td>3.000000</td>\n",
       "      <td>2.000000</td>\n",
       "      <td>0.000000</td>\n",
       "      <td>0.000000</td>\n",
       "      <td>0.000000</td>\n",
       "    </tr>\n",
       "    <tr>\n",
       "      <th>50%</th>\n",
       "      <td>64877.000000</td>\n",
       "      <td>40.000000</td>\n",
       "      <td>860.000000</td>\n",
       "      <td>3.000000</td>\n",
       "      <td>3.000000</td>\n",
       "      <td>3.000000</td>\n",
       "      <td>3.000000</td>\n",
       "      <td>3.000000</td>\n",
       "      <td>3.000000</td>\n",
       "      <td>4.000000</td>\n",
       "      <td>4.000000</td>\n",
       "      <td>4.000000</td>\n",
       "      <td>3.000000</td>\n",
       "      <td>4.000000</td>\n",
       "      <td>3.000000</td>\n",
       "      <td>4.000000</td>\n",
       "      <td>3.000000</td>\n",
       "      <td>0.000000</td>\n",
       "      <td>0.000000</td>\n",
       "      <td>0.000000</td>\n",
       "    </tr>\n",
       "    <tr>\n",
       "      <th>75%</th>\n",
       "      <td>97717.000000</td>\n",
       "      <td>51.000000</td>\n",
       "      <td>1754.500000</td>\n",
       "      <td>4.000000</td>\n",
       "      <td>4.000000</td>\n",
       "      <td>4.000000</td>\n",
       "      <td>4.000000</td>\n",
       "      <td>4.000000</td>\n",
       "      <td>4.000000</td>\n",
       "      <td>5.000000</td>\n",
       "      <td>4.000000</td>\n",
       "      <td>4.000000</td>\n",
       "      <td>4.000000</td>\n",
       "      <td>4.000000</td>\n",
       "      <td>4.000000</td>\n",
       "      <td>5.000000</td>\n",
       "      <td>4.000000</td>\n",
       "      <td>13.000000</td>\n",
       "      <td>14.000000</td>\n",
       "      <td>1.000000</td>\n",
       "    </tr>\n",
       "    <tr>\n",
       "      <th>max</th>\n",
       "      <td>129860.000000</td>\n",
       "      <td>85.000000</td>\n",
       "      <td>4963.000000</td>\n",
       "      <td>5.000000</td>\n",
       "      <td>5.000000</td>\n",
       "      <td>5.000000</td>\n",
       "      <td>5.000000</td>\n",
       "      <td>5.000000</td>\n",
       "      <td>5.000000</td>\n",
       "      <td>5.000000</td>\n",
       "      <td>5.000000</td>\n",
       "      <td>5.000000</td>\n",
       "      <td>5.000000</td>\n",
       "      <td>5.000000</td>\n",
       "      <td>5.000000</td>\n",
       "      <td>5.000000</td>\n",
       "      <td>5.000000</td>\n",
       "      <td>435.000000</td>\n",
       "      <td>470.000000</td>\n",
       "      <td>1.000000</td>\n",
       "    </tr>\n",
       "  </tbody>\n",
       "</table>\n",
       "</div>"
      ],
      "text/plain": [
       "                  id          age  flight_distance  inflight_wifi_service  \\\n",
       "count    2580.000000  2580.000000      2580.000000            2580.000000   \n",
       "mean    65179.742248    39.229845      1204.824806               2.732558   \n",
       "std     37320.994433    15.295065      1008.852185               1.317032   \n",
       "min        54.000000     7.000000        67.000000               0.000000   \n",
       "25%     32988.750000    26.000000       405.750000               2.000000   \n",
       "50%     64877.000000    40.000000       860.000000               3.000000   \n",
       "75%     97717.000000    51.000000      1754.500000               4.000000   \n",
       "max    129860.000000    85.000000      4963.000000               5.000000   \n",
       "\n",
       "       departure/arrival_time_convenient  ease_of_online_booking  \\\n",
       "count                        2580.000000             2580.000000   \n",
       "mean                            3.041473                2.758527   \n",
       "std                             1.542290                1.400792   \n",
       "min                             0.000000                0.000000   \n",
       "25%                             2.000000                2.000000   \n",
       "50%                             3.000000                3.000000   \n",
       "75%                             4.000000                4.000000   \n",
       "max                             5.000000                5.000000   \n",
       "\n",
       "       gate_location  food_and_drink  online_boarding  seat_comfort  \\\n",
       "count    2580.000000     2580.000000      2580.000000   2580.000000   \n",
       "mean        2.973256        3.229457         3.242248      3.440310   \n",
       "std         1.271752        1.341635         1.341842      1.329681   \n",
       "min         1.000000        0.000000         0.000000      1.000000   \n",
       "25%         2.000000        2.000000         2.000000      2.000000   \n",
       "50%         3.000000        3.000000         3.000000      4.000000   \n",
       "75%         4.000000        4.000000         4.000000      5.000000   \n",
       "max         5.000000        5.000000         5.000000      5.000000   \n",
       "\n",
       "       inflight_entertainment  on-board_service  leg_room_service  \\\n",
       "count             2580.000000       2580.000000       2580.000000   \n",
       "mean                 3.329070          3.361628          3.298450   \n",
       "std                  1.334021          1.266627          1.313897   \n",
       "min                  0.000000          0.000000          0.000000   \n",
       "25%                  2.000000          2.000000          2.000000   \n",
       "50%                  4.000000          4.000000          3.000000   \n",
       "75%                  4.000000          4.000000          4.000000   \n",
       "max                  5.000000          5.000000          5.000000   \n",
       "\n",
       "       baggage_handling  checkin_service  inflight_service  cleanliness  \\\n",
       "count       2580.000000      2580.000000       2580.000000  2580.000000   \n",
       "mean           3.599225         3.318992          3.620155     3.277907   \n",
       "std            1.168210         1.256309          1.182093     1.317367   \n",
       "min            1.000000         1.000000          0.000000     1.000000   \n",
       "25%            3.000000         3.000000          3.000000     2.000000   \n",
       "50%            4.000000         3.000000          4.000000     3.000000   \n",
       "75%            4.000000         4.000000          5.000000     4.000000   \n",
       "max            5.000000         5.000000          5.000000     5.000000   \n",
       "\n",
       "       departure_delay_in_minutes  arrival_delay_in_minutes  satisfaction  \n",
       "count                 2580.000000               2574.000000   2580.000000  \n",
       "mean                    14.856202                 15.285159      0.427132  \n",
       "std                     35.808534                 36.301790      0.494758  \n",
       "min                      0.000000                  0.000000      0.000000  \n",
       "25%                      0.000000                  0.000000      0.000000  \n",
       "50%                      0.000000                  0.000000      0.000000  \n",
       "75%                     13.000000                 14.000000      1.000000  \n",
       "max                    435.000000                470.000000      1.000000  "
      ]
     },
     "execution_count": 31,
     "metadata": {},
     "output_type": "execute_result"
    }
   ],
   "source": [
    "# 기초통계정보 확인\n",
    "data.describe()"
   ]
  },
  {
   "cell_type": "markdown",
   "metadata": {
    "id": "91cDDczO_Xvs"
   },
   "source": [
    "**4) 결측치 확인**\n",
    "\n",
    "- 결측치가 있는지 확인합니다."
   ]
  },
  {
   "cell_type": "code",
   "execution_count": 32,
   "metadata": {
    "colab": {
     "base_uri": "https://localhost:8080/"
    },
    "executionInfo": {
     "elapsed": 16,
     "status": "ok",
     "timestamp": 1641524345320,
     "user": {
      "displayName": "Jangrae Lee",
      "photoUrl": "https://lh3.googleusercontent.com/a-/AOh14Gh1Pd8OuWJU2cv7uTt-fURrgvty7atx_Wtarmx0-A=s64",
      "userId": "08475661575434032088"
     },
     "user_tz": -540
    },
    "id": "Lbwc3brE_Xvs",
    "outputId": "41338801-cfad-4e82-aeb7-adc5f6ed1c93"
   },
   "outputs": [
    {
     "data": {
      "text/plain": [
       "id                                   0\n",
       "gender                               0\n",
       "customer_type                        0\n",
       "age                                  0\n",
       "type_of_travel                       0\n",
       "class                                0\n",
       "flight_distance                      0\n",
       "inflight_wifi_service                0\n",
       "departure/arrival_time_convenient    0\n",
       "ease_of_online_booking               0\n",
       "gate_location                        0\n",
       "food_and_drink                       0\n",
       "online_boarding                      0\n",
       "seat_comfort                         0\n",
       "inflight_entertainment               0\n",
       "on-board_service                     0\n",
       "leg_room_service                     0\n",
       "baggage_handling                     0\n",
       "checkin_service                      0\n",
       "inflight_service                     0\n",
       "cleanliness                          0\n",
       "departure_delay_in_minutes           0\n",
       "arrival_delay_in_minutes             6\n",
       "satisfaction                         0\n",
       "dtype: int64"
      ]
     },
     "execution_count": 32,
     "metadata": {},
     "output_type": "execute_result"
    }
   ],
   "source": [
    "# 결측치 확인\n",
    "data.isnull().sum()"
   ]
  },
  {
   "cell_type": "markdown",
   "metadata": {},
   "source": [
    "**4-1) 결측치 처리**"
   ]
  },
  {
   "cell_type": "code",
   "execution_count": 33,
   "metadata": {},
   "outputs": [],
   "source": [
    "# 지연시간 결측치가 있는 행 제거\n",
    "data.dropna(axis=0, inplace=True)"
   ]
  },
  {
   "cell_type": "code",
   "execution_count": 34,
   "metadata": {},
   "outputs": [
    {
     "name": "stdout",
     "output_type": "stream",
     "text": [
      "<class 'pandas.core.frame.DataFrame'>\n",
      "Int64Index: 2574 entries, 0 to 2579\n",
      "Data columns (total 24 columns):\n",
      " #   Column                             Non-Null Count  Dtype  \n",
      "---  ------                             --------------  -----  \n",
      " 0   id                                 2574 non-null   int64  \n",
      " 1   gender                             2574 non-null   object \n",
      " 2   customer_type                      2574 non-null   object \n",
      " 3   age                                2574 non-null   int64  \n",
      " 4   type_of_travel                     2574 non-null   object \n",
      " 5   class                              2574 non-null   object \n",
      " 6   flight_distance                    2574 non-null   int64  \n",
      " 7   inflight_wifi_service              2574 non-null   int64  \n",
      " 8   departure/arrival_time_convenient  2574 non-null   int64  \n",
      " 9   ease_of_online_booking             2574 non-null   int64  \n",
      " 10  gate_location                      2574 non-null   int64  \n",
      " 11  food_and_drink                     2574 non-null   int64  \n",
      " 12  online_boarding                    2574 non-null   int64  \n",
      " 13  seat_comfort                       2574 non-null   int64  \n",
      " 14  inflight_entertainment             2574 non-null   int64  \n",
      " 15  on-board_service                   2574 non-null   int64  \n",
      " 16  leg_room_service                   2574 non-null   int64  \n",
      " 17  baggage_handling                   2574 non-null   int64  \n",
      " 18  checkin_service                    2574 non-null   int64  \n",
      " 19  inflight_service                   2574 non-null   int64  \n",
      " 20  cleanliness                        2574 non-null   int64  \n",
      " 21  departure_delay_in_minutes         2574 non-null   int64  \n",
      " 22  arrival_delay_in_minutes           2574 non-null   float64\n",
      " 23  satisfaction                       2574 non-null   int64  \n",
      "dtypes: float64(1), int64(19), object(4)\n",
      "memory usage: 502.7+ KB\n"
     ]
    }
   ],
   "source": [
    "# 제거 여부 확인\n",
    "data.info()"
   ]
  },
  {
   "cell_type": "markdown",
   "metadata": {
    "id": "5DJV_hQ4ccci"
   },
   "source": [
    "**5) 상관관계 확인**\n",
    "\n",
    "- 변수들 간의 상관관계를 확인합니다."
   ]
  },
  {
   "cell_type": "code",
   "execution_count": 35,
   "metadata": {
    "colab": {
     "base_uri": "https://localhost:8080/",
     "height": 758
    },
    "executionInfo": {
     "elapsed": 14,
     "status": "ok",
     "timestamp": 1641524345321,
     "user": {
      "displayName": "Jangrae Lee",
      "photoUrl": "https://lh3.googleusercontent.com/a-/AOh14Gh1Pd8OuWJU2cv7uTt-fURrgvty7atx_Wtarmx0-A=s64",
      "userId": "08475661575434032088"
     },
     "user_tz": -540
    },
    "id": "RprHP1N6ICNb",
    "outputId": "d179480d-9534-4341-abfe-84b6dbbdcbec"
   },
   "outputs": [
    {
     "data": {
      "text/html": [
       "<div>\n",
       "<style scoped>\n",
       "    .dataframe tbody tr th:only-of-type {\n",
       "        vertical-align: middle;\n",
       "    }\n",
       "\n",
       "    .dataframe tbody tr th {\n",
       "        vertical-align: top;\n",
       "    }\n",
       "\n",
       "    .dataframe thead th {\n",
       "        text-align: right;\n",
       "    }\n",
       "</style>\n",
       "<table border=\"1\" class=\"dataframe\">\n",
       "  <thead>\n",
       "    <tr style=\"text-align: right;\">\n",
       "      <th></th>\n",
       "      <th>id</th>\n",
       "      <th>age</th>\n",
       "      <th>flight_distance</th>\n",
       "      <th>inflight_wifi_service</th>\n",
       "      <th>departure/arrival_time_convenient</th>\n",
       "      <th>ease_of_online_booking</th>\n",
       "      <th>gate_location</th>\n",
       "      <th>food_and_drink</th>\n",
       "      <th>online_boarding</th>\n",
       "      <th>seat_comfort</th>\n",
       "      <th>inflight_entertainment</th>\n",
       "      <th>on-board_service</th>\n",
       "      <th>leg_room_service</th>\n",
       "      <th>baggage_handling</th>\n",
       "      <th>checkin_service</th>\n",
       "      <th>inflight_service</th>\n",
       "      <th>cleanliness</th>\n",
       "      <th>departure_delay_in_minutes</th>\n",
       "      <th>arrival_delay_in_minutes</th>\n",
       "      <th>satisfaction</th>\n",
       "    </tr>\n",
       "  </thead>\n",
       "  <tbody>\n",
       "    <tr>\n",
       "      <th>id</th>\n",
       "      <td>1.000000</td>\n",
       "      <td>-0.014452</td>\n",
       "      <td>0.099186</td>\n",
       "      <td>-0.027964</td>\n",
       "      <td>-0.011238</td>\n",
       "      <td>-0.006700</td>\n",
       "      <td>-0.013744</td>\n",
       "      <td>0.044916</td>\n",
       "      <td>0.031648</td>\n",
       "      <td>0.053559</td>\n",
       "      <td>0.002553</td>\n",
       "      <td>0.029639</td>\n",
       "      <td>0.040562</td>\n",
       "      <td>0.057158</td>\n",
       "      <td>0.047627</td>\n",
       "      <td>0.068406</td>\n",
       "      <td>0.037885</td>\n",
       "      <td>0.018924</td>\n",
       "      <td>-0.005068</td>\n",
       "      <td>-0.003810</td>\n",
       "    </tr>\n",
       "    <tr>\n",
       "      <th>age</th>\n",
       "      <td>-0.014452</td>\n",
       "      <td>1.000000</td>\n",
       "      <td>0.078146</td>\n",
       "      <td>0.010452</td>\n",
       "      <td>0.064632</td>\n",
       "      <td>0.018707</td>\n",
       "      <td>0.008399</td>\n",
       "      <td>0.034095</td>\n",
       "      <td>0.197909</td>\n",
       "      <td>0.177695</td>\n",
       "      <td>0.052281</td>\n",
       "      <td>0.026260</td>\n",
       "      <td>0.024708</td>\n",
       "      <td>-0.073677</td>\n",
       "      <td>0.050811</td>\n",
       "      <td>-0.087407</td>\n",
       "      <td>0.059641</td>\n",
       "      <td>-0.037783</td>\n",
       "      <td>-0.034144</td>\n",
       "      <td>0.115714</td>\n",
       "    </tr>\n",
       "    <tr>\n",
       "      <th>flight_distance</th>\n",
       "      <td>0.099186</td>\n",
       "      <td>0.078146</td>\n",
       "      <td>1.000000</td>\n",
       "      <td>0.034899</td>\n",
       "      <td>-0.002986</td>\n",
       "      <td>0.057356</td>\n",
       "      <td>0.016306</td>\n",
       "      <td>0.068778</td>\n",
       "      <td>0.233709</td>\n",
       "      <td>0.152528</td>\n",
       "      <td>0.142869</td>\n",
       "      <td>0.110741</td>\n",
       "      <td>0.142958</td>\n",
       "      <td>0.054507</td>\n",
       "      <td>0.033305</td>\n",
       "      <td>0.052229</td>\n",
       "      <td>0.097902</td>\n",
       "      <td>-0.006049</td>\n",
       "      <td>-0.025196</td>\n",
       "      <td>0.305227</td>\n",
       "    </tr>\n",
       "    <tr>\n",
       "      <th>inflight_wifi_service</th>\n",
       "      <td>-0.027964</td>\n",
       "      <td>0.010452</td>\n",
       "      <td>0.034899</td>\n",
       "      <td>1.000000</td>\n",
       "      <td>0.320836</td>\n",
       "      <td>0.718318</td>\n",
       "      <td>0.357598</td>\n",
       "      <td>0.115019</td>\n",
       "      <td>0.451126</td>\n",
       "      <td>0.097123</td>\n",
       "      <td>0.200363</td>\n",
       "      <td>0.128144</td>\n",
       "      <td>0.199364</td>\n",
       "      <td>0.133418</td>\n",
       "      <td>0.023321</td>\n",
       "      <td>0.104858</td>\n",
       "      <td>0.121887</td>\n",
       "      <td>0.029864</td>\n",
       "      <td>0.023121</td>\n",
       "      <td>0.258948</td>\n",
       "    </tr>\n",
       "    <tr>\n",
       "      <th>departure/arrival_time_convenient</th>\n",
       "      <td>-0.011238</td>\n",
       "      <td>0.064632</td>\n",
       "      <td>-0.002986</td>\n",
       "      <td>0.320836</td>\n",
       "      <td>1.000000</td>\n",
       "      <td>0.438656</td>\n",
       "      <td>0.459442</td>\n",
       "      <td>0.016102</td>\n",
       "      <td>0.058065</td>\n",
       "      <td>0.019205</td>\n",
       "      <td>0.016650</td>\n",
       "      <td>0.063419</td>\n",
       "      <td>0.035711</td>\n",
       "      <td>0.062833</td>\n",
       "      <td>0.092372</td>\n",
       "      <td>0.072763</td>\n",
       "      <td>0.026319</td>\n",
       "      <td>0.012863</td>\n",
       "      <td>0.012714</td>\n",
       "      <td>-0.060243</td>\n",
       "    </tr>\n",
       "    <tr>\n",
       "      <th>ease_of_online_booking</th>\n",
       "      <td>-0.006700</td>\n",
       "      <td>0.018707</td>\n",
       "      <td>0.057356</td>\n",
       "      <td>0.718318</td>\n",
       "      <td>0.438656</td>\n",
       "      <td>1.000000</td>\n",
       "      <td>0.508171</td>\n",
       "      <td>0.034934</td>\n",
       "      <td>0.384223</td>\n",
       "      <td>0.018528</td>\n",
       "      <td>0.051638</td>\n",
       "      <td>0.026956</td>\n",
       "      <td>0.139376</td>\n",
       "      <td>0.046728</td>\n",
       "      <td>-0.007054</td>\n",
       "      <td>0.033518</td>\n",
       "      <td>0.012233</td>\n",
       "      <td>0.023704</td>\n",
       "      <td>0.017871</td>\n",
       "      <td>0.158674</td>\n",
       "    </tr>\n",
       "    <tr>\n",
       "      <th>gate_location</th>\n",
       "      <td>-0.013744</td>\n",
       "      <td>0.008399</td>\n",
       "      <td>0.016306</td>\n",
       "      <td>0.357598</td>\n",
       "      <td>0.459442</td>\n",
       "      <td>0.508171</td>\n",
       "      <td>1.000000</td>\n",
       "      <td>-0.016448</td>\n",
       "      <td>0.018364</td>\n",
       "      <td>-0.028871</td>\n",
       "      <td>0.010005</td>\n",
       "      <td>-0.013770</td>\n",
       "      <td>0.018740</td>\n",
       "      <td>0.027038</td>\n",
       "      <td>-0.036020</td>\n",
       "      <td>-0.005714</td>\n",
       "      <td>0.000026</td>\n",
       "      <td>0.013738</td>\n",
       "      <td>0.013358</td>\n",
       "      <td>0.021301</td>\n",
       "    </tr>\n",
       "    <tr>\n",
       "      <th>food_and_drink</th>\n",
       "      <td>0.044916</td>\n",
       "      <td>0.034095</td>\n",
       "      <td>0.068778</td>\n",
       "      <td>0.115019</td>\n",
       "      <td>0.016102</td>\n",
       "      <td>0.034934</td>\n",
       "      <td>-0.016448</td>\n",
       "      <td>1.000000</td>\n",
       "      <td>0.240276</td>\n",
       "      <td>0.586010</td>\n",
       "      <td>0.610379</td>\n",
       "      <td>0.088761</td>\n",
       "      <td>0.029971</td>\n",
       "      <td>0.008599</td>\n",
       "      <td>0.061961</td>\n",
       "      <td>0.036701</td>\n",
       "      <td>0.641410</td>\n",
       "      <td>-0.008810</td>\n",
       "      <td>-0.013381</td>\n",
       "      <td>0.207993</td>\n",
       "    </tr>\n",
       "    <tr>\n",
       "      <th>online_boarding</th>\n",
       "      <td>0.031648</td>\n",
       "      <td>0.197909</td>\n",
       "      <td>0.233709</td>\n",
       "      <td>0.451126</td>\n",
       "      <td>0.058065</td>\n",
       "      <td>0.384223</td>\n",
       "      <td>0.018364</td>\n",
       "      <td>0.240276</td>\n",
       "      <td>1.000000</td>\n",
       "      <td>0.420145</td>\n",
       "      <td>0.280027</td>\n",
       "      <td>0.142685</td>\n",
       "      <td>0.146466</td>\n",
       "      <td>0.078749</td>\n",
       "      <td>0.185667</td>\n",
       "      <td>0.081650</td>\n",
       "      <td>0.329915</td>\n",
       "      <td>-0.025717</td>\n",
       "      <td>-0.034461</td>\n",
       "      <td>0.475187</td>\n",
       "    </tr>\n",
       "    <tr>\n",
       "      <th>seat_comfort</th>\n",
       "      <td>0.053559</td>\n",
       "      <td>0.177695</td>\n",
       "      <td>0.152528</td>\n",
       "      <td>0.097123</td>\n",
       "      <td>0.019205</td>\n",
       "      <td>0.018528</td>\n",
       "      <td>-0.028871</td>\n",
       "      <td>0.586010</td>\n",
       "      <td>0.420145</td>\n",
       "      <td>1.000000</td>\n",
       "      <td>0.598757</td>\n",
       "      <td>0.146682</td>\n",
       "      <td>0.111305</td>\n",
       "      <td>0.048501</td>\n",
       "      <td>0.173605</td>\n",
       "      <td>0.057868</td>\n",
       "      <td>0.691283</td>\n",
       "      <td>-0.027062</td>\n",
       "      <td>-0.030866</td>\n",
       "      <td>0.339112</td>\n",
       "    </tr>\n",
       "    <tr>\n",
       "      <th>inflight_entertainment</th>\n",
       "      <td>0.002553</td>\n",
       "      <td>0.052281</td>\n",
       "      <td>0.142869</td>\n",
       "      <td>0.200363</td>\n",
       "      <td>0.016650</td>\n",
       "      <td>0.051638</td>\n",
       "      <td>0.010005</td>\n",
       "      <td>0.610379</td>\n",
       "      <td>0.280027</td>\n",
       "      <td>0.598757</td>\n",
       "      <td>1.000000</td>\n",
       "      <td>0.451897</td>\n",
       "      <td>0.302508</td>\n",
       "      <td>0.377036</td>\n",
       "      <td>0.096605</td>\n",
       "      <td>0.421465</td>\n",
       "      <td>0.682822</td>\n",
       "      <td>-0.047797</td>\n",
       "      <td>-0.049907</td>\n",
       "      <td>0.400031</td>\n",
       "    </tr>\n",
       "    <tr>\n",
       "      <th>on-board_service</th>\n",
       "      <td>0.029639</td>\n",
       "      <td>0.026260</td>\n",
       "      <td>0.110741</td>\n",
       "      <td>0.128144</td>\n",
       "      <td>0.063419</td>\n",
       "      <td>0.026956</td>\n",
       "      <td>-0.013770</td>\n",
       "      <td>0.088761</td>\n",
       "      <td>0.142685</td>\n",
       "      <td>0.146682</td>\n",
       "      <td>0.451897</td>\n",
       "      <td>1.000000</td>\n",
       "      <td>0.339938</td>\n",
       "      <td>0.509227</td>\n",
       "      <td>0.250720</td>\n",
       "      <td>0.534103</td>\n",
       "      <td>0.158444</td>\n",
       "      <td>-0.047341</td>\n",
       "      <td>-0.047131</td>\n",
       "      <td>0.329528</td>\n",
       "    </tr>\n",
       "    <tr>\n",
       "      <th>leg_room_service</th>\n",
       "      <td>0.040562</td>\n",
       "      <td>0.024708</td>\n",
       "      <td>0.142958</td>\n",
       "      <td>0.199364</td>\n",
       "      <td>0.035711</td>\n",
       "      <td>0.139376</td>\n",
       "      <td>0.018740</td>\n",
       "      <td>0.029971</td>\n",
       "      <td>0.146466</td>\n",
       "      <td>0.111305</td>\n",
       "      <td>0.302508</td>\n",
       "      <td>0.339938</td>\n",
       "      <td>1.000000</td>\n",
       "      <td>0.393292</td>\n",
       "      <td>0.161084</td>\n",
       "      <td>0.365856</td>\n",
       "      <td>0.096691</td>\n",
       "      <td>0.004588</td>\n",
       "      <td>-0.004278</td>\n",
       "      <td>0.317474</td>\n",
       "    </tr>\n",
       "    <tr>\n",
       "      <th>baggage_handling</th>\n",
       "      <td>0.057158</td>\n",
       "      <td>-0.073677</td>\n",
       "      <td>0.054507</td>\n",
       "      <td>0.133418</td>\n",
       "      <td>0.062833</td>\n",
       "      <td>0.046728</td>\n",
       "      <td>0.027038</td>\n",
       "      <td>0.008599</td>\n",
       "      <td>0.078749</td>\n",
       "      <td>0.048501</td>\n",
       "      <td>0.377036</td>\n",
       "      <td>0.509227</td>\n",
       "      <td>0.393292</td>\n",
       "      <td>1.000000</td>\n",
       "      <td>0.234462</td>\n",
       "      <td>0.624740</td>\n",
       "      <td>0.079835</td>\n",
       "      <td>0.007150</td>\n",
       "      <td>0.004431</td>\n",
       "      <td>0.251500</td>\n",
       "    </tr>\n",
       "    <tr>\n",
       "      <th>checkin_service</th>\n",
       "      <td>0.047627</td>\n",
       "      <td>0.050811</td>\n",
       "      <td>0.033305</td>\n",
       "      <td>0.023321</td>\n",
       "      <td>0.092372</td>\n",
       "      <td>-0.007054</td>\n",
       "      <td>-0.036020</td>\n",
       "      <td>0.061961</td>\n",
       "      <td>0.185667</td>\n",
       "      <td>0.173605</td>\n",
       "      <td>0.096605</td>\n",
       "      <td>0.250720</td>\n",
       "      <td>0.161084</td>\n",
       "      <td>0.234462</td>\n",
       "      <td>1.000000</td>\n",
       "      <td>0.219074</td>\n",
       "      <td>0.149655</td>\n",
       "      <td>-0.000977</td>\n",
       "      <td>0.006765</td>\n",
       "      <td>0.230876</td>\n",
       "    </tr>\n",
       "    <tr>\n",
       "      <th>inflight_service</th>\n",
       "      <td>0.068406</td>\n",
       "      <td>-0.087407</td>\n",
       "      <td>0.052229</td>\n",
       "      <td>0.104858</td>\n",
       "      <td>0.072763</td>\n",
       "      <td>0.033518</td>\n",
       "      <td>-0.005714</td>\n",
       "      <td>0.036701</td>\n",
       "      <td>0.081650</td>\n",
       "      <td>0.057868</td>\n",
       "      <td>0.421465</td>\n",
       "      <td>0.534103</td>\n",
       "      <td>0.365856</td>\n",
       "      <td>0.624740</td>\n",
       "      <td>0.219074</td>\n",
       "      <td>1.000000</td>\n",
       "      <td>0.103019</td>\n",
       "      <td>-0.067708</td>\n",
       "      <td>-0.065180</td>\n",
       "      <td>0.251268</td>\n",
       "    </tr>\n",
       "    <tr>\n",
       "      <th>cleanliness</th>\n",
       "      <td>0.037885</td>\n",
       "      <td>0.059641</td>\n",
       "      <td>0.097902</td>\n",
       "      <td>0.121887</td>\n",
       "      <td>0.026319</td>\n",
       "      <td>0.012233</td>\n",
       "      <td>0.000026</td>\n",
       "      <td>0.641410</td>\n",
       "      <td>0.329915</td>\n",
       "      <td>0.691283</td>\n",
       "      <td>0.682822</td>\n",
       "      <td>0.158444</td>\n",
       "      <td>0.096691</td>\n",
       "      <td>0.079835</td>\n",
       "      <td>0.149655</td>\n",
       "      <td>0.103019</td>\n",
       "      <td>1.000000</td>\n",
       "      <td>-0.004103</td>\n",
       "      <td>0.001427</td>\n",
       "      <td>0.295253</td>\n",
       "    </tr>\n",
       "    <tr>\n",
       "      <th>departure_delay_in_minutes</th>\n",
       "      <td>0.018924</td>\n",
       "      <td>-0.037783</td>\n",
       "      <td>-0.006049</td>\n",
       "      <td>0.029864</td>\n",
       "      <td>0.012863</td>\n",
       "      <td>0.023704</td>\n",
       "      <td>0.013738</td>\n",
       "      <td>-0.008810</td>\n",
       "      <td>-0.025717</td>\n",
       "      <td>-0.027062</td>\n",
       "      <td>-0.047797</td>\n",
       "      <td>-0.047341</td>\n",
       "      <td>0.004588</td>\n",
       "      <td>0.007150</td>\n",
       "      <td>-0.000977</td>\n",
       "      <td>-0.067708</td>\n",
       "      <td>-0.004103</td>\n",
       "      <td>1.000000</td>\n",
       "      <td>0.960423</td>\n",
       "      <td>-0.020722</td>\n",
       "    </tr>\n",
       "    <tr>\n",
       "      <th>arrival_delay_in_minutes</th>\n",
       "      <td>-0.005068</td>\n",
       "      <td>-0.034144</td>\n",
       "      <td>-0.025196</td>\n",
       "      <td>0.023121</td>\n",
       "      <td>0.012714</td>\n",
       "      <td>0.017871</td>\n",
       "      <td>0.013358</td>\n",
       "      <td>-0.013381</td>\n",
       "      <td>-0.034461</td>\n",
       "      <td>-0.030866</td>\n",
       "      <td>-0.049907</td>\n",
       "      <td>-0.047131</td>\n",
       "      <td>-0.004278</td>\n",
       "      <td>0.004431</td>\n",
       "      <td>0.006765</td>\n",
       "      <td>-0.065180</td>\n",
       "      <td>0.001427</td>\n",
       "      <td>0.960423</td>\n",
       "      <td>1.000000</td>\n",
       "      <td>-0.028858</td>\n",
       "    </tr>\n",
       "    <tr>\n",
       "      <th>satisfaction</th>\n",
       "      <td>-0.003810</td>\n",
       "      <td>0.115714</td>\n",
       "      <td>0.305227</td>\n",
       "      <td>0.258948</td>\n",
       "      <td>-0.060243</td>\n",
       "      <td>0.158674</td>\n",
       "      <td>0.021301</td>\n",
       "      <td>0.207993</td>\n",
       "      <td>0.475187</td>\n",
       "      <td>0.339112</td>\n",
       "      <td>0.400031</td>\n",
       "      <td>0.329528</td>\n",
       "      <td>0.317474</td>\n",
       "      <td>0.251500</td>\n",
       "      <td>0.230876</td>\n",
       "      <td>0.251268</td>\n",
       "      <td>0.295253</td>\n",
       "      <td>-0.020722</td>\n",
       "      <td>-0.028858</td>\n",
       "      <td>1.000000</td>\n",
       "    </tr>\n",
       "  </tbody>\n",
       "</table>\n",
       "</div>"
      ],
      "text/plain": [
       "                                         id       age  flight_distance  \\\n",
       "id                                 1.000000 -0.014452         0.099186   \n",
       "age                               -0.014452  1.000000         0.078146   \n",
       "flight_distance                    0.099186  0.078146         1.000000   \n",
       "inflight_wifi_service             -0.027964  0.010452         0.034899   \n",
       "departure/arrival_time_convenient -0.011238  0.064632        -0.002986   \n",
       "ease_of_online_booking            -0.006700  0.018707         0.057356   \n",
       "gate_location                     -0.013744  0.008399         0.016306   \n",
       "food_and_drink                     0.044916  0.034095         0.068778   \n",
       "online_boarding                    0.031648  0.197909         0.233709   \n",
       "seat_comfort                       0.053559  0.177695         0.152528   \n",
       "inflight_entertainment             0.002553  0.052281         0.142869   \n",
       "on-board_service                   0.029639  0.026260         0.110741   \n",
       "leg_room_service                   0.040562  0.024708         0.142958   \n",
       "baggage_handling                   0.057158 -0.073677         0.054507   \n",
       "checkin_service                    0.047627  0.050811         0.033305   \n",
       "inflight_service                   0.068406 -0.087407         0.052229   \n",
       "cleanliness                        0.037885  0.059641         0.097902   \n",
       "departure_delay_in_minutes         0.018924 -0.037783        -0.006049   \n",
       "arrival_delay_in_minutes          -0.005068 -0.034144        -0.025196   \n",
       "satisfaction                      -0.003810  0.115714         0.305227   \n",
       "\n",
       "                                   inflight_wifi_service  \\\n",
       "id                                             -0.027964   \n",
       "age                                             0.010452   \n",
       "flight_distance                                 0.034899   \n",
       "inflight_wifi_service                           1.000000   \n",
       "departure/arrival_time_convenient               0.320836   \n",
       "ease_of_online_booking                          0.718318   \n",
       "gate_location                                   0.357598   \n",
       "food_and_drink                                  0.115019   \n",
       "online_boarding                                 0.451126   \n",
       "seat_comfort                                    0.097123   \n",
       "inflight_entertainment                          0.200363   \n",
       "on-board_service                                0.128144   \n",
       "leg_room_service                                0.199364   \n",
       "baggage_handling                                0.133418   \n",
       "checkin_service                                 0.023321   \n",
       "inflight_service                                0.104858   \n",
       "cleanliness                                     0.121887   \n",
       "departure_delay_in_minutes                      0.029864   \n",
       "arrival_delay_in_minutes                        0.023121   \n",
       "satisfaction                                    0.258948   \n",
       "\n",
       "                                   departure/arrival_time_convenient  \\\n",
       "id                                                         -0.011238   \n",
       "age                                                         0.064632   \n",
       "flight_distance                                            -0.002986   \n",
       "inflight_wifi_service                                       0.320836   \n",
       "departure/arrival_time_convenient                           1.000000   \n",
       "ease_of_online_booking                                      0.438656   \n",
       "gate_location                                               0.459442   \n",
       "food_and_drink                                              0.016102   \n",
       "online_boarding                                             0.058065   \n",
       "seat_comfort                                                0.019205   \n",
       "inflight_entertainment                                      0.016650   \n",
       "on-board_service                                            0.063419   \n",
       "leg_room_service                                            0.035711   \n",
       "baggage_handling                                            0.062833   \n",
       "checkin_service                                             0.092372   \n",
       "inflight_service                                            0.072763   \n",
       "cleanliness                                                 0.026319   \n",
       "departure_delay_in_minutes                                  0.012863   \n",
       "arrival_delay_in_minutes                                    0.012714   \n",
       "satisfaction                                               -0.060243   \n",
       "\n",
       "                                   ease_of_online_booking  gate_location  \\\n",
       "id                                              -0.006700      -0.013744   \n",
       "age                                              0.018707       0.008399   \n",
       "flight_distance                                  0.057356       0.016306   \n",
       "inflight_wifi_service                            0.718318       0.357598   \n",
       "departure/arrival_time_convenient                0.438656       0.459442   \n",
       "ease_of_online_booking                           1.000000       0.508171   \n",
       "gate_location                                    0.508171       1.000000   \n",
       "food_and_drink                                   0.034934      -0.016448   \n",
       "online_boarding                                  0.384223       0.018364   \n",
       "seat_comfort                                     0.018528      -0.028871   \n",
       "inflight_entertainment                           0.051638       0.010005   \n",
       "on-board_service                                 0.026956      -0.013770   \n",
       "leg_room_service                                 0.139376       0.018740   \n",
       "baggage_handling                                 0.046728       0.027038   \n",
       "checkin_service                                 -0.007054      -0.036020   \n",
       "inflight_service                                 0.033518      -0.005714   \n",
       "cleanliness                                      0.012233       0.000026   \n",
       "departure_delay_in_minutes                       0.023704       0.013738   \n",
       "arrival_delay_in_minutes                         0.017871       0.013358   \n",
       "satisfaction                                     0.158674       0.021301   \n",
       "\n",
       "                                   food_and_drink  online_boarding  \\\n",
       "id                                       0.044916         0.031648   \n",
       "age                                      0.034095         0.197909   \n",
       "flight_distance                          0.068778         0.233709   \n",
       "inflight_wifi_service                    0.115019         0.451126   \n",
       "departure/arrival_time_convenient        0.016102         0.058065   \n",
       "ease_of_online_booking                   0.034934         0.384223   \n",
       "gate_location                           -0.016448         0.018364   \n",
       "food_and_drink                           1.000000         0.240276   \n",
       "online_boarding                          0.240276         1.000000   \n",
       "seat_comfort                             0.586010         0.420145   \n",
       "inflight_entertainment                   0.610379         0.280027   \n",
       "on-board_service                         0.088761         0.142685   \n",
       "leg_room_service                         0.029971         0.146466   \n",
       "baggage_handling                         0.008599         0.078749   \n",
       "checkin_service                          0.061961         0.185667   \n",
       "inflight_service                         0.036701         0.081650   \n",
       "cleanliness                              0.641410         0.329915   \n",
       "departure_delay_in_minutes              -0.008810        -0.025717   \n",
       "arrival_delay_in_minutes                -0.013381        -0.034461   \n",
       "satisfaction                             0.207993         0.475187   \n",
       "\n",
       "                                   seat_comfort  inflight_entertainment  \\\n",
       "id                                     0.053559                0.002553   \n",
       "age                                    0.177695                0.052281   \n",
       "flight_distance                        0.152528                0.142869   \n",
       "inflight_wifi_service                  0.097123                0.200363   \n",
       "departure/arrival_time_convenient      0.019205                0.016650   \n",
       "ease_of_online_booking                 0.018528                0.051638   \n",
       "gate_location                         -0.028871                0.010005   \n",
       "food_and_drink                         0.586010                0.610379   \n",
       "online_boarding                        0.420145                0.280027   \n",
       "seat_comfort                           1.000000                0.598757   \n",
       "inflight_entertainment                 0.598757                1.000000   \n",
       "on-board_service                       0.146682                0.451897   \n",
       "leg_room_service                       0.111305                0.302508   \n",
       "baggage_handling                       0.048501                0.377036   \n",
       "checkin_service                        0.173605                0.096605   \n",
       "inflight_service                       0.057868                0.421465   \n",
       "cleanliness                            0.691283                0.682822   \n",
       "departure_delay_in_minutes            -0.027062               -0.047797   \n",
       "arrival_delay_in_minutes              -0.030866               -0.049907   \n",
       "satisfaction                           0.339112                0.400031   \n",
       "\n",
       "                                   on-board_service  leg_room_service  \\\n",
       "id                                         0.029639          0.040562   \n",
       "age                                        0.026260          0.024708   \n",
       "flight_distance                            0.110741          0.142958   \n",
       "inflight_wifi_service                      0.128144          0.199364   \n",
       "departure/arrival_time_convenient          0.063419          0.035711   \n",
       "ease_of_online_booking                     0.026956          0.139376   \n",
       "gate_location                             -0.013770          0.018740   \n",
       "food_and_drink                             0.088761          0.029971   \n",
       "online_boarding                            0.142685          0.146466   \n",
       "seat_comfort                               0.146682          0.111305   \n",
       "inflight_entertainment                     0.451897          0.302508   \n",
       "on-board_service                           1.000000          0.339938   \n",
       "leg_room_service                           0.339938          1.000000   \n",
       "baggage_handling                           0.509227          0.393292   \n",
       "checkin_service                            0.250720          0.161084   \n",
       "inflight_service                           0.534103          0.365856   \n",
       "cleanliness                                0.158444          0.096691   \n",
       "departure_delay_in_minutes                -0.047341          0.004588   \n",
       "arrival_delay_in_minutes                  -0.047131         -0.004278   \n",
       "satisfaction                               0.329528          0.317474   \n",
       "\n",
       "                                   baggage_handling  checkin_service  \\\n",
       "id                                         0.057158         0.047627   \n",
       "age                                       -0.073677         0.050811   \n",
       "flight_distance                            0.054507         0.033305   \n",
       "inflight_wifi_service                      0.133418         0.023321   \n",
       "departure/arrival_time_convenient          0.062833         0.092372   \n",
       "ease_of_online_booking                     0.046728        -0.007054   \n",
       "gate_location                              0.027038        -0.036020   \n",
       "food_and_drink                             0.008599         0.061961   \n",
       "online_boarding                            0.078749         0.185667   \n",
       "seat_comfort                               0.048501         0.173605   \n",
       "inflight_entertainment                     0.377036         0.096605   \n",
       "on-board_service                           0.509227         0.250720   \n",
       "leg_room_service                           0.393292         0.161084   \n",
       "baggage_handling                           1.000000         0.234462   \n",
       "checkin_service                            0.234462         1.000000   \n",
       "inflight_service                           0.624740         0.219074   \n",
       "cleanliness                                0.079835         0.149655   \n",
       "departure_delay_in_minutes                 0.007150        -0.000977   \n",
       "arrival_delay_in_minutes                   0.004431         0.006765   \n",
       "satisfaction                               0.251500         0.230876   \n",
       "\n",
       "                                   inflight_service  cleanliness  \\\n",
       "id                                         0.068406     0.037885   \n",
       "age                                       -0.087407     0.059641   \n",
       "flight_distance                            0.052229     0.097902   \n",
       "inflight_wifi_service                      0.104858     0.121887   \n",
       "departure/arrival_time_convenient          0.072763     0.026319   \n",
       "ease_of_online_booking                     0.033518     0.012233   \n",
       "gate_location                             -0.005714     0.000026   \n",
       "food_and_drink                             0.036701     0.641410   \n",
       "online_boarding                            0.081650     0.329915   \n",
       "seat_comfort                               0.057868     0.691283   \n",
       "inflight_entertainment                     0.421465     0.682822   \n",
       "on-board_service                           0.534103     0.158444   \n",
       "leg_room_service                           0.365856     0.096691   \n",
       "baggage_handling                           0.624740     0.079835   \n",
       "checkin_service                            0.219074     0.149655   \n",
       "inflight_service                           1.000000     0.103019   \n",
       "cleanliness                                0.103019     1.000000   \n",
       "departure_delay_in_minutes                -0.067708    -0.004103   \n",
       "arrival_delay_in_minutes                  -0.065180     0.001427   \n",
       "satisfaction                               0.251268     0.295253   \n",
       "\n",
       "                                   departure_delay_in_minutes  \\\n",
       "id                                                   0.018924   \n",
       "age                                                 -0.037783   \n",
       "flight_distance                                     -0.006049   \n",
       "inflight_wifi_service                                0.029864   \n",
       "departure/arrival_time_convenient                    0.012863   \n",
       "ease_of_online_booking                               0.023704   \n",
       "gate_location                                        0.013738   \n",
       "food_and_drink                                      -0.008810   \n",
       "online_boarding                                     -0.025717   \n",
       "seat_comfort                                        -0.027062   \n",
       "inflight_entertainment                              -0.047797   \n",
       "on-board_service                                    -0.047341   \n",
       "leg_room_service                                     0.004588   \n",
       "baggage_handling                                     0.007150   \n",
       "checkin_service                                     -0.000977   \n",
       "inflight_service                                    -0.067708   \n",
       "cleanliness                                         -0.004103   \n",
       "departure_delay_in_minutes                           1.000000   \n",
       "arrival_delay_in_minutes                             0.960423   \n",
       "satisfaction                                        -0.020722   \n",
       "\n",
       "                                   arrival_delay_in_minutes  satisfaction  \n",
       "id                                                -0.005068     -0.003810  \n",
       "age                                               -0.034144      0.115714  \n",
       "flight_distance                                   -0.025196      0.305227  \n",
       "inflight_wifi_service                              0.023121      0.258948  \n",
       "departure/arrival_time_convenient                  0.012714     -0.060243  \n",
       "ease_of_online_booking                             0.017871      0.158674  \n",
       "gate_location                                      0.013358      0.021301  \n",
       "food_and_drink                                    -0.013381      0.207993  \n",
       "online_boarding                                   -0.034461      0.475187  \n",
       "seat_comfort                                      -0.030866      0.339112  \n",
       "inflight_entertainment                            -0.049907      0.400031  \n",
       "on-board_service                                  -0.047131      0.329528  \n",
       "leg_room_service                                  -0.004278      0.317474  \n",
       "baggage_handling                                   0.004431      0.251500  \n",
       "checkin_service                                    0.006765      0.230876  \n",
       "inflight_service                                  -0.065180      0.251268  \n",
       "cleanliness                                        0.001427      0.295253  \n",
       "departure_delay_in_minutes                         0.960423     -0.020722  \n",
       "arrival_delay_in_minutes                           1.000000     -0.028858  \n",
       "satisfaction                                      -0.028858      1.000000  "
      ]
     },
     "execution_count": 35,
     "metadata": {},
     "output_type": "execute_result"
    }
   ],
   "source": [
    "# 상관분석\n",
    "data.corr()"
   ]
  },
  {
   "cell_type": "markdown",
   "metadata": {
    "id": "j-3b3e9GVqSX"
   },
   "source": [
    "**6) 범주값 변수 확인**\n",
    "\n",
    "- 범주형 변수를 식별해 목록을 작성하고, 그 변수들이 어떤 범주값을 몇 개씩 갖는지 확인합니다.\n",
    "    - 범주형 변수: gender, customer_type, type_of_travel, class, satisfaction"
   ]
  },
  {
   "cell_type": "code",
   "execution_count": 36,
   "metadata": {
    "colab": {
     "base_uri": "https://localhost:8080/"
    },
    "executionInfo": {
     "elapsed": 13,
     "status": "ok",
     "timestamp": 1641524345321,
     "user": {
      "displayName": "Jangrae Lee",
      "photoUrl": "https://lh3.googleusercontent.com/a-/AOh14Gh1Pd8OuWJU2cv7uTt-fURrgvty7atx_Wtarmx0-A=s64",
      "userId": "08475661575434032088"
     },
     "user_tz": -540
    },
    "id": "UMLBq-3AVSXq",
    "outputId": "77d4a41b-d552-456d-8f51-02cf125d6e41",
    "scrolled": false
   },
   "outputs": [
    {
     "name": "stdout",
     "output_type": "stream",
     "text": [
      "Female    1331\n",
      "Male      1243\n",
      "Name: gender, dtype: int64\n",
      "----------------------------------------\n",
      "Loyal Customer       2114\n",
      "disloyal Customer     460\n",
      "Name: customer_type, dtype: int64\n",
      "----------------------------------------\n",
      "Business travel    1769\n",
      "Personal Travel     805\n",
      "Name: type_of_travel, dtype: int64\n",
      "----------------------------------------\n",
      "Business    1256\n",
      "Eco         1125\n",
      "Eco Plus     193\n",
      "Name: class, dtype: int64\n",
      "----------------------------------------\n",
      "0    1474\n",
      "1    1100\n",
      "Name: satisfaction, dtype: int64\n",
      "----------------------------------------\n"
     ]
    }
   ],
   "source": [
    "# 범주값 개수 확인\n",
    "print(data['gender'].value_counts())\n",
    "print('-'*40)\n",
    "print(data['customer_type'].value_counts())\n",
    "print('-'*40)\n",
    "print(data['type_of_travel'].value_counts())\n",
    "print('-'*40)\n",
    "print(data['class'].value_counts())\n",
    "print('-'*40)\n",
    "print(data['satisfaction'].value_counts())\n",
    "print('-'*40)"
   ]
  },
  {
   "cell_type": "markdown",
   "metadata": {
    "id": "VIba-cq-vwUO"
   },
   "source": [
    "**7) 주요 변수 확인**\n",
    "\n",
    "7-1) satisfaction 변수 범주 값 개수를 막대그래프로 시각화해 확인합니다."
   ]
  },
  {
   "cell_type": "code",
   "execution_count": 37,
   "metadata": {
    "id": "5h7b8pbHvwUP",
    "outputId": "3d55c9e3-a8fa-4a1b-ee55-171af50ae8db"
   },
   "outputs": [
    {
     "data": {
      "image/png": "[encoded data removed]",
      "text/plain": [
       "<Figure size 432x288 with 1 Axes>"
      ]
     },
     "metadata": {
      "image/png": {
       "height": 261,
       "width": 395
      },
      "needs_background": "light"
     },
     "output_type": "display_data"
    }
   ],
   "source": [
    "# satisfaction 값 분포\n",
    "sns.countplot(data['satisfaction'])\n",
    "plt.show()"
   ]
  },
  {
   "cell_type": "markdown",
   "metadata": {},
   "source": [
    "- (의견) 제공하는 항공 서비스 중에서 고액 이용자들이 불만을 가질 만한 요소를 찾을 필요가 있다.\n",
    "- (의견) 불만족이라고 응답한 비율이 높은 것 같다."
   ]
  },
  {
   "cell_type": "markdown",
   "metadata": {},
   "source": [
    "7-2) type_of_travel 변수 범주 값  개수를 막대그래프로 시각화해 확인합니다."
   ]
  },
  {
   "cell_type": "code",
   "execution_count": 38,
   "metadata": {
    "id": "QJtygKYyvwUP",
    "outputId": "35d8539f-504f-475f-a535-1f41e6bb4f67",
    "scrolled": false
   },
   "outputs": [
    {
     "data": {
      "image/png": "[encoded data removed]",
      "text/plain": [
       "<Figure size 432x288 with 1 Axes>"
      ]
     },
     "metadata": {
      "image/png": {
       "height": 262,
       "width": 395
      },
      "needs_background": "light"
     },
     "output_type": "display_data"
    }
   ],
   "source": [
    "# type_of_travel 값 분포\n",
    "sns.countplot(data['type_of_travel'])\n",
    "plt.show()\n"
   ]
  },
  {
   "cell_type": "markdown",
   "metadata": {},
   "source": [
    "- (의견) 비즈니스 목적으로 이용하는 사람들은 저렴한 서비스를 이용하니까 불만을 많이 하는 것은 아닐까?\n",
    "- (의견) 만약 고급형 비즈니스 서비스인데도 불만이 많은 것이면 서비스 개선이나 비즈니스 목표 수정 등 과감한 대책이 필요하다."
   ]
  },
  {
   "cell_type": "markdown",
   "metadata": {},
   "source": [
    "7-3) age 변수 값 분포를 히스토그램으로 시각화해 확인합니다."
   ]
  },
  {
   "cell_type": "code",
   "execution_count": 39,
   "metadata": {
    "id": "EVVfcBN8vwUP",
    "outputId": "8c15dc19-5ade-4bb0-85b7-d510a41c9033",
    "scrolled": true
   },
   "outputs": [
    {
     "data": {
      "image/png": "[encoded data removed]",
      "text/plain": [
       "<Figure size 432x288 with 1 Axes>"
      ]
     },
     "metadata": {
      "image/png": {
       "height": 263,
       "width": 388
      },
      "needs_background": "light"
     },
     "output_type": "display_data"
    }
   ],
   "source": [
    "# age 값 분포\n",
    "sns.histplot(data=data, x='age', bins=30)\n",
    "plt.show()\n"
   ]
  },
  {
   "cell_type": "markdown",
   "metadata": {},
   "source": [
    "- (의견) 20대~40대가 비즈니스 목적으로 이용하고, 그 외의 연령대에서는 다른 목적으로 이용할 수도 있지 않을까?\n",
    "- (의견) 30대 초반은 유독 표본이 적은데 그 이유가 궁금하다."
   ]
  },
  {
   "cell_type": "markdown",
   "metadata": {
    "id": "GB-nfPes_nqa"
   },
   "source": [
    "# 3.데이터 준비\n",
    "\n",
    "\n",
    "- 전처리 과정을 통해 머신러닝 알고리즘에 사용할 수 있는 형태의 데이터를 준비합니다."
   ]
  },
  {
   "cell_type": "markdown",
   "metadata": {
    "id": "kfSNQcZ3YlqA"
   },
   "source": [
    "**1) 불필요한 변수 제거**\n",
    "\n",
    "- 불필요한 변수와 의미가 적어 보이는 다음 변수들을 제거합니다.\n",
    "    - id, departure/arrival_time_convenient, gate_location, departure_delay_in_minutes"
   ]
  },
  {
   "cell_type": "code",
   "execution_count": 40,
   "metadata": {
    "colab": {
     "base_uri": "https://localhost:8080/",
     "height": 305
    },
    "executionInfo": {
     "elapsed": 27,
     "status": "ok",
     "timestamp": 1641524345812,
     "user": {
      "displayName": "Jangrae Lee",
      "photoUrl": "https://lh3.googleusercontent.com/a-/AOh14Gh1Pd8OuWJU2cv7uTt-fURrgvty7atx_Wtarmx0-A=s64",
      "userId": "08475661575434032088"
     },
     "user_tz": -540
    },
    "id": "3EXDugL3YoN-",
    "outputId": "43206261-3f22-4efe-f744-a52f68366ed1"
   },
   "outputs": [
    {
     "data": {
      "text/html": [
       "<div>\n",
       "<style scoped>\n",
       "    .dataframe tbody tr th:only-of-type {\n",
       "        vertical-align: middle;\n",
       "    }\n",
       "\n",
       "    .dataframe tbody tr th {\n",
       "        vertical-align: top;\n",
       "    }\n",
       "\n",
       "    .dataframe thead th {\n",
       "        text-align: right;\n",
       "    }\n",
       "</style>\n",
       "<table border=\"1\" class=\"dataframe\">\n",
       "  <thead>\n",
       "    <tr style=\"text-align: right;\">\n",
       "      <th></th>\n",
       "      <th>gender</th>\n",
       "      <th>customer_type</th>\n",
       "      <th>age</th>\n",
       "      <th>type_of_travel</th>\n",
       "      <th>class</th>\n",
       "      <th>flight_distance</th>\n",
       "      <th>inflight_wifi_service</th>\n",
       "      <th>ease_of_online_booking</th>\n",
       "      <th>food_and_drink</th>\n",
       "      <th>online_boarding</th>\n",
       "      <th>seat_comfort</th>\n",
       "      <th>inflight_entertainment</th>\n",
       "      <th>on-board_service</th>\n",
       "      <th>leg_room_service</th>\n",
       "      <th>baggage_handling</th>\n",
       "      <th>checkin_service</th>\n",
       "      <th>inflight_service</th>\n",
       "      <th>cleanliness</th>\n",
       "      <th>arrival_delay_in_minutes</th>\n",
       "      <th>satisfaction</th>\n",
       "    </tr>\n",
       "  </thead>\n",
       "  <tbody>\n",
       "    <tr>\n",
       "      <th>0</th>\n",
       "      <td>Male</td>\n",
       "      <td>Loyal Customer</td>\n",
       "      <td>13</td>\n",
       "      <td>Personal Travel</td>\n",
       "      <td>Eco Plus</td>\n",
       "      <td>460</td>\n",
       "      <td>3</td>\n",
       "      <td>3</td>\n",
       "      <td>5</td>\n",
       "      <td>3</td>\n",
       "      <td>5</td>\n",
       "      <td>5</td>\n",
       "      <td>4</td>\n",
       "      <td>3</td>\n",
       "      <td>4</td>\n",
       "      <td>4</td>\n",
       "      <td>5</td>\n",
       "      <td>5</td>\n",
       "      <td>18.0</td>\n",
       "      <td>0</td>\n",
       "    </tr>\n",
       "    <tr>\n",
       "      <th>1</th>\n",
       "      <td>Male</td>\n",
       "      <td>disloyal Customer</td>\n",
       "      <td>25</td>\n",
       "      <td>Business travel</td>\n",
       "      <td>Business</td>\n",
       "      <td>235</td>\n",
       "      <td>3</td>\n",
       "      <td>3</td>\n",
       "      <td>1</td>\n",
       "      <td>3</td>\n",
       "      <td>1</td>\n",
       "      <td>1</td>\n",
       "      <td>1</td>\n",
       "      <td>5</td>\n",
       "      <td>3</td>\n",
       "      <td>1</td>\n",
       "      <td>4</td>\n",
       "      <td>1</td>\n",
       "      <td>6.0</td>\n",
       "      <td>0</td>\n",
       "    </tr>\n",
       "    <tr>\n",
       "      <th>2</th>\n",
       "      <td>Female</td>\n",
       "      <td>Loyal Customer</td>\n",
       "      <td>26</td>\n",
       "      <td>Business travel</td>\n",
       "      <td>Business</td>\n",
       "      <td>1142</td>\n",
       "      <td>2</td>\n",
       "      <td>2</td>\n",
       "      <td>5</td>\n",
       "      <td>5</td>\n",
       "      <td>5</td>\n",
       "      <td>5</td>\n",
       "      <td>4</td>\n",
       "      <td>3</td>\n",
       "      <td>4</td>\n",
       "      <td>4</td>\n",
       "      <td>4</td>\n",
       "      <td>5</td>\n",
       "      <td>0.0</td>\n",
       "      <td>1</td>\n",
       "    </tr>\n",
       "    <tr>\n",
       "      <th>3</th>\n",
       "      <td>Female</td>\n",
       "      <td>Loyal Customer</td>\n",
       "      <td>25</td>\n",
       "      <td>Business travel</td>\n",
       "      <td>Business</td>\n",
       "      <td>562</td>\n",
       "      <td>2</td>\n",
       "      <td>5</td>\n",
       "      <td>2</td>\n",
       "      <td>2</td>\n",
       "      <td>2</td>\n",
       "      <td>2</td>\n",
       "      <td>2</td>\n",
       "      <td>5</td>\n",
       "      <td>3</td>\n",
       "      <td>1</td>\n",
       "      <td>4</td>\n",
       "      <td>2</td>\n",
       "      <td>9.0</td>\n",
       "      <td>0</td>\n",
       "    </tr>\n",
       "    <tr>\n",
       "      <th>4</th>\n",
       "      <td>Male</td>\n",
       "      <td>Loyal Customer</td>\n",
       "      <td>61</td>\n",
       "      <td>Business travel</td>\n",
       "      <td>Business</td>\n",
       "      <td>214</td>\n",
       "      <td>3</td>\n",
       "      <td>3</td>\n",
       "      <td>4</td>\n",
       "      <td>5</td>\n",
       "      <td>5</td>\n",
       "      <td>3</td>\n",
       "      <td>3</td>\n",
       "      <td>4</td>\n",
       "      <td>4</td>\n",
       "      <td>3</td>\n",
       "      <td>3</td>\n",
       "      <td>3</td>\n",
       "      <td>0.0</td>\n",
       "      <td>1</td>\n",
       "    </tr>\n",
       "  </tbody>\n",
       "</table>\n",
       "</div>"
      ],
      "text/plain": [
       "   gender      customer_type  age   type_of_travel     class  flight_distance  \\\n",
       "0    Male     Loyal Customer   13  Personal Travel  Eco Plus              460   \n",
       "1    Male  disloyal Customer   25  Business travel  Business              235   \n",
       "2  Female     Loyal Customer   26  Business travel  Business             1142   \n",
       "3  Female     Loyal Customer   25  Business travel  Business              562   \n",
       "4    Male     Loyal Customer   61  Business travel  Business              214   \n",
       "\n",
       "   inflight_wifi_service  ease_of_online_booking  food_and_drink  \\\n",
       "0                      3                       3               5   \n",
       "1                      3                       3               1   \n",
       "2                      2                       2               5   \n",
       "3                      2                       5               2   \n",
       "4                      3                       3               4   \n",
       "\n",
       "   online_boarding  seat_comfort  inflight_entertainment  on-board_service  \\\n",
       "0                3             5                       5                 4   \n",
       "1                3             1                       1                 1   \n",
       "2                5             5                       5                 4   \n",
       "3                2             2                       2                 2   \n",
       "4                5             5                       3                 3   \n",
       "\n",
       "   leg_room_service  baggage_handling  checkin_service  inflight_service  \\\n",
       "0                 3                 4                4                 5   \n",
       "1                 5                 3                1                 4   \n",
       "2                 3                 4                4                 4   \n",
       "3                 5                 3                1                 4   \n",
       "4                 4                 4                3                 3   \n",
       "\n",
       "   cleanliness  arrival_delay_in_minutes  satisfaction  \n",
       "0            5                      18.0             0  \n",
       "1            1                       6.0             0  \n",
       "2            5                       0.0             1  \n",
       "3            2                       9.0             0  \n",
       "4            3                       0.0             1  "
      ]
     },
     "execution_count": 40,
     "metadata": {},
     "output_type": "execute_result"
    }
   ],
   "source": [
    "# id 변수 제거\n",
    "data.drop(['id','departure/arrival_time_convenient','gate_location','departure_delay_in_minutes'], axis=1, inplace=True)\n",
    "\n",
    "\n",
    "# 확인\n",
    "data.head()"
   ]
  },
  {
   "cell_type": "markdown",
   "metadata": {
    "id": "frGw2I5fUFgt"
   },
   "source": [
    "**2) 결측치 처리**\n",
    "\n",
    "- arrival_delay_in_minutes 열에 결측지가 있습니다.\n",
    "- 몇 건 안되니 결측치가 있는 행은 제거합니다."
   ]
  },
  {
   "cell_type": "code",
   "execution_count": 41,
   "metadata": {
    "colab": {
     "base_uri": "https://localhost:8080/"
    },
    "executionInfo": {
     "elapsed": 26,
     "status": "ok",
     "timestamp": 1641524345812,
     "user": {
      "displayName": "Jangrae Lee",
      "photoUrl": "https://lh3.googleusercontent.com/a-/AOh14Gh1Pd8OuWJU2cv7uTt-fURrgvty7atx_Wtarmx0-A=s64",
      "userId": "08475661575434032088"
     },
     "user_tz": -540
    },
    "id": "k_LMDUULT0wF",
    "outputId": "9141c165-4c0f-4515-8d12-e7474f120da0"
   },
   "outputs": [
    {
     "data": {
      "text/plain": [
       "gender                      0\n",
       "customer_type               0\n",
       "age                         0\n",
       "type_of_travel              0\n",
       "class                       0\n",
       "flight_distance             0\n",
       "inflight_wifi_service       0\n",
       "ease_of_online_booking      0\n",
       "food_and_drink              0\n",
       "online_boarding             0\n",
       "seat_comfort                0\n",
       "inflight_entertainment      0\n",
       "on-board_service            0\n",
       "leg_room_service            0\n",
       "baggage_handling            0\n",
       "checkin_service             0\n",
       "inflight_service            0\n",
       "cleanliness                 0\n",
       "arrival_delay_in_minutes    0\n",
       "satisfaction                0\n",
       "dtype: int64"
      ]
     },
     "execution_count": 41,
     "metadata": {},
     "output_type": "execute_result"
    }
   ],
   "source": [
    "# 결측치 제거\n",
    "data.dropna(axis=0, inplace=True)\n",
    "\n",
    "# 확인\n",
    "data.isnull().sum()"
   ]
  },
  {
   "cell_type": "markdown",
   "metadata": {
    "id": "NcNnoSYwWcpY"
   },
   "source": [
    "**3) 가변수화**\n",
    "\n",
    "- 왜 x의 다음 변수들이 가변수화 대상이 되는지 파악한 후 가변수화를 진행합니다.\n",
    "    - gender, customer_type, type_of_travel, class"
   ]
  },
  {
   "cell_type": "code",
   "execution_count": 46,
   "metadata": {
    "colab": {
     "base_uri": "https://localhost:8080/",
     "height": 287
    },
    "executionInfo": {
     "elapsed": 24,
     "status": "ok",
     "timestamp": 1641524345813,
     "user": {
      "displayName": "Jangrae Lee",
      "photoUrl": "https://lh3.googleusercontent.com/a-/AOh14Gh1Pd8OuWJU2cv7uTt-fURrgvty7atx_Wtarmx0-A=s64",
      "userId": "08475661575434032088"
     },
     "user_tz": -540
    },
    "id": "lFP7yuJqYGqw",
    "outputId": "ed5c6e9c-1244-48d4-f609-50ced97008d0"
   },
   "outputs": [
    {
     "data": {
      "text/html": [
       "<div>\n",
       "<style scoped>\n",
       "    .dataframe tbody tr th:only-of-type {\n",
       "        vertical-align: middle;\n",
       "    }\n",
       "\n",
       "    .dataframe tbody tr th {\n",
       "        vertical-align: top;\n",
       "    }\n",
       "\n",
       "    .dataframe thead th {\n",
       "        text-align: right;\n",
       "    }\n",
       "</style>\n",
       "<table border=\"1\" class=\"dataframe\">\n",
       "  <thead>\n",
       "    <tr style=\"text-align: right;\">\n",
       "      <th></th>\n",
       "      <th>age</th>\n",
       "      <th>flight_distance</th>\n",
       "      <th>inflight_wifi_service</th>\n",
       "      <th>ease_of_online_booking</th>\n",
       "      <th>food_and_drink</th>\n",
       "      <th>online_boarding</th>\n",
       "      <th>seat_comfort</th>\n",
       "      <th>inflight_entertainment</th>\n",
       "      <th>on-board_service</th>\n",
       "      <th>leg_room_service</th>\n",
       "      <th>...</th>\n",
       "      <th>satisfaction</th>\n",
       "      <th>gender_Female</th>\n",
       "      <th>gender_Male</th>\n",
       "      <th>customer_type_Loyal Customer</th>\n",
       "      <th>customer_type_disloyal Customer</th>\n",
       "      <th>type_of_travel_Business travel</th>\n",
       "      <th>type_of_travel_Personal Travel</th>\n",
       "      <th>class_Business</th>\n",
       "      <th>class_Eco</th>\n",
       "      <th>class_Eco Plus</th>\n",
       "    </tr>\n",
       "  </thead>\n",
       "  <tbody>\n",
       "    <tr>\n",
       "      <th>0</th>\n",
       "      <td>13</td>\n",
       "      <td>460</td>\n",
       "      <td>3</td>\n",
       "      <td>3</td>\n",
       "      <td>5</td>\n",
       "      <td>3</td>\n",
       "      <td>5</td>\n",
       "      <td>5</td>\n",
       "      <td>4</td>\n",
       "      <td>3</td>\n",
       "      <td>...</td>\n",
       "      <td>0</td>\n",
       "      <td>0</td>\n",
       "      <td>1</td>\n",
       "      <td>1</td>\n",
       "      <td>0</td>\n",
       "      <td>0</td>\n",
       "      <td>1</td>\n",
       "      <td>0</td>\n",
       "      <td>0</td>\n",
       "      <td>1</td>\n",
       "    </tr>\n",
       "    <tr>\n",
       "      <th>1</th>\n",
       "      <td>25</td>\n",
       "      <td>235</td>\n",
       "      <td>3</td>\n",
       "      <td>3</td>\n",
       "      <td>1</td>\n",
       "      <td>3</td>\n",
       "      <td>1</td>\n",
       "      <td>1</td>\n",
       "      <td>1</td>\n",
       "      <td>5</td>\n",
       "      <td>...</td>\n",
       "      <td>0</td>\n",
       "      <td>0</td>\n",
       "      <td>1</td>\n",
       "      <td>0</td>\n",
       "      <td>1</td>\n",
       "      <td>1</td>\n",
       "      <td>0</td>\n",
       "      <td>1</td>\n",
       "      <td>0</td>\n",
       "      <td>0</td>\n",
       "    </tr>\n",
       "    <tr>\n",
       "      <th>2</th>\n",
       "      <td>26</td>\n",
       "      <td>1142</td>\n",
       "      <td>2</td>\n",
       "      <td>2</td>\n",
       "      <td>5</td>\n",
       "      <td>5</td>\n",
       "      <td>5</td>\n",
       "      <td>5</td>\n",
       "      <td>4</td>\n",
       "      <td>3</td>\n",
       "      <td>...</td>\n",
       "      <td>1</td>\n",
       "      <td>1</td>\n",
       "      <td>0</td>\n",
       "      <td>1</td>\n",
       "      <td>0</td>\n",
       "      <td>1</td>\n",
       "      <td>0</td>\n",
       "      <td>1</td>\n",
       "      <td>0</td>\n",
       "      <td>0</td>\n",
       "    </tr>\n",
       "    <tr>\n",
       "      <th>3</th>\n",
       "      <td>25</td>\n",
       "      <td>562</td>\n",
       "      <td>2</td>\n",
       "      <td>5</td>\n",
       "      <td>2</td>\n",
       "      <td>2</td>\n",
       "      <td>2</td>\n",
       "      <td>2</td>\n",
       "      <td>2</td>\n",
       "      <td>5</td>\n",
       "      <td>...</td>\n",
       "      <td>0</td>\n",
       "      <td>1</td>\n",
       "      <td>0</td>\n",
       "      <td>1</td>\n",
       "      <td>0</td>\n",
       "      <td>1</td>\n",
       "      <td>0</td>\n",
       "      <td>1</td>\n",
       "      <td>0</td>\n",
       "      <td>0</td>\n",
       "    </tr>\n",
       "    <tr>\n",
       "      <th>4</th>\n",
       "      <td>61</td>\n",
       "      <td>214</td>\n",
       "      <td>3</td>\n",
       "      <td>3</td>\n",
       "      <td>4</td>\n",
       "      <td>5</td>\n",
       "      <td>5</td>\n",
       "      <td>3</td>\n",
       "      <td>3</td>\n",
       "      <td>4</td>\n",
       "      <td>...</td>\n",
       "      <td>1</td>\n",
       "      <td>0</td>\n",
       "      <td>1</td>\n",
       "      <td>1</td>\n",
       "      <td>0</td>\n",
       "      <td>1</td>\n",
       "      <td>0</td>\n",
       "      <td>1</td>\n",
       "      <td>0</td>\n",
       "      <td>0</td>\n",
       "    </tr>\n",
       "  </tbody>\n",
       "</table>\n",
       "<p>5 rows × 25 columns</p>\n",
       "</div>"
      ],
      "text/plain": [
       "   age  flight_distance  inflight_wifi_service  ease_of_online_booking  \\\n",
       "0   13              460                      3                       3   \n",
       "1   25              235                      3                       3   \n",
       "2   26             1142                      2                       2   \n",
       "3   25              562                      2                       5   \n",
       "4   61              214                      3                       3   \n",
       "\n",
       "   food_and_drink  online_boarding  seat_comfort  inflight_entertainment  \\\n",
       "0               5                3             5                       5   \n",
       "1               1                3             1                       1   \n",
       "2               5                5             5                       5   \n",
       "3               2                2             2                       2   \n",
       "4               4                5             5                       3   \n",
       "\n",
       "   on-board_service  leg_room_service  ...  satisfaction  gender_Female  \\\n",
       "0                 4                 3  ...             0              0   \n",
       "1                 1                 5  ...             0              0   \n",
       "2                 4                 3  ...             1              1   \n",
       "3                 2                 5  ...             0              1   \n",
       "4                 3                 4  ...             1              0   \n",
       "\n",
       "   gender_Male  customer_type_Loyal Customer  customer_type_disloyal Customer  \\\n",
       "0            1                             1                                0   \n",
       "1            1                             0                                1   \n",
       "2            0                             1                                0   \n",
       "3            0                             1                                0   \n",
       "4            1                             1                                0   \n",
       "\n",
       "   type_of_travel_Business travel  type_of_travel_Personal Travel  \\\n",
       "0                               0                               1   \n",
       "1                               1                               0   \n",
       "2                               1                               0   \n",
       "3                               1                               0   \n",
       "4                               1                               0   \n",
       "\n",
       "   class_Business  class_Eco  class_Eco Plus  \n",
       "0               0          0               1  \n",
       "1               1          0               0  \n",
       "2               1          0               0  \n",
       "3               1          0               0  \n",
       "4               1          0               0  \n",
       "\n",
       "[5 rows x 25 columns]"
      ]
     },
     "execution_count": 46,
     "metadata": {},
     "output_type": "execute_result"
    }
   ],
   "source": [
    "# 가변수화\n",
    "data = pd.get_dummies(data, columns=['gender', 'customer_type', 'type_of_travel', 'class'])\n",
    "\n",
    "\n",
    "# 확인\n",
    "data.head()"
   ]
  },
  {
   "cell_type": "markdown",
   "metadata": {
    "id": "udAt9UG-6kJc"
   },
   "source": [
    "**4) x, y 분리**\n",
    "\n",
    "- satisfaction 변수가 Target입니다.\n",
    "- x, y가 분리된 이후부터 y는 절대로 건드지지 않아야 합니다."
   ]
  },
  {
   "cell_type": "code",
   "execution_count": 47,
   "metadata": {
    "id": "Ops0CDL2dEDe"
   },
   "outputs": [],
   "source": [
    "# target 확인\n",
    "target = 'satisfaction'\n",
    "\n",
    "# 데이터 분리\n",
    "x = data.drop(target, axis=1)\n",
    "y = data[target]"
   ]
  },
  {
   "cell_type": "markdown",
   "metadata": {
    "id": "8wihLsL8Akf5"
   },
   "source": [
    "**5) 정규화**\n",
    "\n",
    "- x의 모든 변수를 정규화합니다."
   ]
  },
  {
   "cell_type": "code",
   "execution_count": 49,
   "metadata": {
    "colab": {
     "base_uri": "https://localhost:8080/",
     "height": 287
    },
    "executionInfo": {
     "elapsed": 24,
     "status": "ok",
     "timestamp": 1641524345814,
     "user": {
      "displayName": "Jangrae Lee",
      "photoUrl": "https://lh3.googleusercontent.com/a-/AOh14Gh1Pd8OuWJU2cv7uTt-fURrgvty7atx_Wtarmx0-A=s64",
      "userId": "08475661575434032088"
     },
     "user_tz": -540
    },
    "id": "zsZbrP2nAabd",
    "outputId": "60b3c7c3-0cfb-4538-c5c7-3b904074c141"
   },
   "outputs": [
    {
     "data": {
      "text/html": [
       "<div>\n",
       "<style scoped>\n",
       "    .dataframe tbody tr th:only-of-type {\n",
       "        vertical-align: middle;\n",
       "    }\n",
       "\n",
       "    .dataframe tbody tr th {\n",
       "        vertical-align: top;\n",
       "    }\n",
       "\n",
       "    .dataframe thead th {\n",
       "        text-align: right;\n",
       "    }\n",
       "</style>\n",
       "<table border=\"1\" class=\"dataframe\">\n",
       "  <thead>\n",
       "    <tr style=\"text-align: right;\">\n",
       "      <th></th>\n",
       "      <th>age</th>\n",
       "      <th>flight_distance</th>\n",
       "      <th>inflight_wifi_service</th>\n",
       "      <th>ease_of_online_booking</th>\n",
       "      <th>food_and_drink</th>\n",
       "      <th>online_boarding</th>\n",
       "      <th>seat_comfort</th>\n",
       "      <th>inflight_entertainment</th>\n",
       "      <th>on-board_service</th>\n",
       "      <th>leg_room_service</th>\n",
       "      <th>...</th>\n",
       "      <th>arrival_delay_in_minutes</th>\n",
       "      <th>gender_Female</th>\n",
       "      <th>gender_Male</th>\n",
       "      <th>customer_type_Loyal Customer</th>\n",
       "      <th>customer_type_disloyal Customer</th>\n",
       "      <th>type_of_travel_Business travel</th>\n",
       "      <th>type_of_travel_Personal Travel</th>\n",
       "      <th>class_Business</th>\n",
       "      <th>class_Eco</th>\n",
       "      <th>class_Eco Plus</th>\n",
       "    </tr>\n",
       "  </thead>\n",
       "  <tbody>\n",
       "    <tr>\n",
       "      <th>count</th>\n",
       "      <td>2574.000000</td>\n",
       "      <td>2574.000000</td>\n",
       "      <td>2574.000000</td>\n",
       "      <td>2574.000000</td>\n",
       "      <td>2574.000000</td>\n",
       "      <td>2574.000000</td>\n",
       "      <td>2574.000000</td>\n",
       "      <td>2574.000000</td>\n",
       "      <td>2574.000000</td>\n",
       "      <td>2574.000000</td>\n",
       "      <td>...</td>\n",
       "      <td>2574.000000</td>\n",
       "      <td>2574.000000</td>\n",
       "      <td>2574.000000</td>\n",
       "      <td>2574.000000</td>\n",
       "      <td>2574.000000</td>\n",
       "      <td>2574.000000</td>\n",
       "      <td>2574.000000</td>\n",
       "      <td>2574.000000</td>\n",
       "      <td>2574.000000</td>\n",
       "      <td>2574.000000</td>\n",
       "    </tr>\n",
       "    <tr>\n",
       "      <th>mean</th>\n",
       "      <td>0.413340</td>\n",
       "      <td>0.232522</td>\n",
       "      <td>0.546309</td>\n",
       "      <td>0.551437</td>\n",
       "      <td>0.645765</td>\n",
       "      <td>0.648329</td>\n",
       "      <td>0.609946</td>\n",
       "      <td>0.665734</td>\n",
       "      <td>0.672339</td>\n",
       "      <td>0.659751</td>\n",
       "      <td>...</td>\n",
       "      <td>0.032522</td>\n",
       "      <td>0.517094</td>\n",
       "      <td>0.482906</td>\n",
       "      <td>0.821290</td>\n",
       "      <td>0.178710</td>\n",
       "      <td>0.687257</td>\n",
       "      <td>0.312743</td>\n",
       "      <td>0.487956</td>\n",
       "      <td>0.437063</td>\n",
       "      <td>0.074981</td>\n",
       "    </tr>\n",
       "    <tr>\n",
       "      <th>std</th>\n",
       "      <td>0.196201</td>\n",
       "      <td>0.206160</td>\n",
       "      <td>0.263478</td>\n",
       "      <td>0.280282</td>\n",
       "      <td>0.268352</td>\n",
       "      <td>0.268510</td>\n",
       "      <td>0.332529</td>\n",
       "      <td>0.266833</td>\n",
       "      <td>0.253211</td>\n",
       "      <td>0.262940</td>\n",
       "      <td>...</td>\n",
       "      <td>0.077238</td>\n",
       "      <td>0.499805</td>\n",
       "      <td>0.499805</td>\n",
       "      <td>0.383184</td>\n",
       "      <td>0.383184</td>\n",
       "      <td>0.463701</td>\n",
       "      <td>0.463701</td>\n",
       "      <td>0.499952</td>\n",
       "      <td>0.496119</td>\n",
       "      <td>0.263411</td>\n",
       "    </tr>\n",
       "    <tr>\n",
       "      <th>min</th>\n",
       "      <td>0.000000</td>\n",
       "      <td>0.000000</td>\n",
       "      <td>0.000000</td>\n",
       "      <td>0.000000</td>\n",
       "      <td>0.000000</td>\n",
       "      <td>0.000000</td>\n",
       "      <td>0.000000</td>\n",
       "      <td>0.000000</td>\n",
       "      <td>0.000000</td>\n",
       "      <td>0.000000</td>\n",
       "      <td>...</td>\n",
       "      <td>0.000000</td>\n",
       "      <td>0.000000</td>\n",
       "      <td>0.000000</td>\n",
       "      <td>0.000000</td>\n",
       "      <td>0.000000</td>\n",
       "      <td>0.000000</td>\n",
       "      <td>0.000000</td>\n",
       "      <td>0.000000</td>\n",
       "      <td>0.000000</td>\n",
       "      <td>0.000000</td>\n",
       "    </tr>\n",
       "    <tr>\n",
       "      <th>25%</th>\n",
       "      <td>0.243590</td>\n",
       "      <td>0.069087</td>\n",
       "      <td>0.400000</td>\n",
       "      <td>0.400000</td>\n",
       "      <td>0.400000</td>\n",
       "      <td>0.400000</td>\n",
       "      <td>0.250000</td>\n",
       "      <td>0.400000</td>\n",
       "      <td>0.400000</td>\n",
       "      <td>0.400000</td>\n",
       "      <td>...</td>\n",
       "      <td>0.000000</td>\n",
       "      <td>0.000000</td>\n",
       "      <td>0.000000</td>\n",
       "      <td>1.000000</td>\n",
       "      <td>0.000000</td>\n",
       "      <td>0.000000</td>\n",
       "      <td>0.000000</td>\n",
       "      <td>0.000000</td>\n",
       "      <td>0.000000</td>\n",
       "      <td>0.000000</td>\n",
       "    </tr>\n",
       "    <tr>\n",
       "      <th>50%</th>\n",
       "      <td>0.423077</td>\n",
       "      <td>0.161969</td>\n",
       "      <td>0.600000</td>\n",
       "      <td>0.600000</td>\n",
       "      <td>0.600000</td>\n",
       "      <td>0.600000</td>\n",
       "      <td>0.750000</td>\n",
       "      <td>0.800000</td>\n",
       "      <td>0.800000</td>\n",
       "      <td>0.600000</td>\n",
       "      <td>...</td>\n",
       "      <td>0.000000</td>\n",
       "      <td>1.000000</td>\n",
       "      <td>0.000000</td>\n",
       "      <td>1.000000</td>\n",
       "      <td>0.000000</td>\n",
       "      <td>1.000000</td>\n",
       "      <td>0.000000</td>\n",
       "      <td>0.000000</td>\n",
       "      <td>0.000000</td>\n",
       "      <td>0.000000</td>\n",
       "    </tr>\n",
       "    <tr>\n",
       "      <th>75%</th>\n",
       "      <td>0.564103</td>\n",
       "      <td>0.344873</td>\n",
       "      <td>0.800000</td>\n",
       "      <td>0.800000</td>\n",
       "      <td>0.800000</td>\n",
       "      <td>0.800000</td>\n",
       "      <td>1.000000</td>\n",
       "      <td>0.800000</td>\n",
       "      <td>0.800000</td>\n",
       "      <td>0.800000</td>\n",
       "      <td>...</td>\n",
       "      <td>0.029787</td>\n",
       "      <td>1.000000</td>\n",
       "      <td>1.000000</td>\n",
       "      <td>1.000000</td>\n",
       "      <td>0.000000</td>\n",
       "      <td>1.000000</td>\n",
       "      <td>1.000000</td>\n",
       "      <td>1.000000</td>\n",
       "      <td>1.000000</td>\n",
       "      <td>0.000000</td>\n",
       "    </tr>\n",
       "    <tr>\n",
       "      <th>max</th>\n",
       "      <td>1.000000</td>\n",
       "      <td>1.000000</td>\n",
       "      <td>1.000000</td>\n",
       "      <td>1.000000</td>\n",
       "      <td>1.000000</td>\n",
       "      <td>1.000000</td>\n",
       "      <td>1.000000</td>\n",
       "      <td>1.000000</td>\n",
       "      <td>1.000000</td>\n",
       "      <td>1.000000</td>\n",
       "      <td>...</td>\n",
       "      <td>1.000000</td>\n",
       "      <td>1.000000</td>\n",
       "      <td>1.000000</td>\n",
       "      <td>1.000000</td>\n",
       "      <td>1.000000</td>\n",
       "      <td>1.000000</td>\n",
       "      <td>1.000000</td>\n",
       "      <td>1.000000</td>\n",
       "      <td>1.000000</td>\n",
       "      <td>1.000000</td>\n",
       "    </tr>\n",
       "  </tbody>\n",
       "</table>\n",
       "<p>8 rows × 24 columns</p>\n",
       "</div>"
      ],
      "text/plain": [
       "               age  flight_distance  inflight_wifi_service  \\\n",
       "count  2574.000000      2574.000000            2574.000000   \n",
       "mean      0.413340         0.232522               0.546309   \n",
       "std       0.196201         0.206160               0.263478   \n",
       "min       0.000000         0.000000               0.000000   \n",
       "25%       0.243590         0.069087               0.400000   \n",
       "50%       0.423077         0.161969               0.600000   \n",
       "75%       0.564103         0.344873               0.800000   \n",
       "max       1.000000         1.000000               1.000000   \n",
       "\n",
       "       ease_of_online_booking  food_and_drink  online_boarding  seat_comfort  \\\n",
       "count             2574.000000     2574.000000      2574.000000   2574.000000   \n",
       "mean                 0.551437        0.645765         0.648329      0.609946   \n",
       "std                  0.280282        0.268352         0.268510      0.332529   \n",
       "min                  0.000000        0.000000         0.000000      0.000000   \n",
       "25%                  0.400000        0.400000         0.400000      0.250000   \n",
       "50%                  0.600000        0.600000         0.600000      0.750000   \n",
       "75%                  0.800000        0.800000         0.800000      1.000000   \n",
       "max                  1.000000        1.000000         1.000000      1.000000   \n",
       "\n",
       "       inflight_entertainment  on-board_service  leg_room_service  ...  \\\n",
       "count             2574.000000       2574.000000       2574.000000  ...   \n",
       "mean                 0.665734          0.672339          0.659751  ...   \n",
       "std                  0.266833          0.253211          0.262940  ...   \n",
       "min                  0.000000          0.000000          0.000000  ...   \n",
       "25%                  0.400000          0.400000          0.400000  ...   \n",
       "50%                  0.800000          0.800000          0.600000  ...   \n",
       "75%                  0.800000          0.800000          0.800000  ...   \n",
       "max                  1.000000          1.000000          1.000000  ...   \n",
       "\n",
       "       arrival_delay_in_minutes  gender_Female  gender_Male  \\\n",
       "count               2574.000000    2574.000000  2574.000000   \n",
       "mean                   0.032522       0.517094     0.482906   \n",
       "std                    0.077238       0.499805     0.499805   \n",
       "min                    0.000000       0.000000     0.000000   \n",
       "25%                    0.000000       0.000000     0.000000   \n",
       "50%                    0.000000       1.000000     0.000000   \n",
       "75%                    0.029787       1.000000     1.000000   \n",
       "max                    1.000000       1.000000     1.000000   \n",
       "\n",
       "       customer_type_Loyal Customer  customer_type_disloyal Customer  \\\n",
       "count                   2574.000000                      2574.000000   \n",
       "mean                       0.821290                         0.178710   \n",
       "std                        0.383184                         0.383184   \n",
       "min                        0.000000                         0.000000   \n",
       "25%                        1.000000                         0.000000   \n",
       "50%                        1.000000                         0.000000   \n",
       "75%                        1.000000                         0.000000   \n",
       "max                        1.000000                         1.000000   \n",
       "\n",
       "       type_of_travel_Business travel  type_of_travel_Personal Travel  \\\n",
       "count                     2574.000000                     2574.000000   \n",
       "mean                         0.687257                        0.312743   \n",
       "std                          0.463701                        0.463701   \n",
       "min                          0.000000                        0.000000   \n",
       "25%                          0.000000                        0.000000   \n",
       "50%                          1.000000                        0.000000   \n",
       "75%                          1.000000                        1.000000   \n",
       "max                          1.000000                        1.000000   \n",
       "\n",
       "       class_Business    class_Eco  class_Eco Plus  \n",
       "count     2574.000000  2574.000000     2574.000000  \n",
       "mean         0.487956     0.437063        0.074981  \n",
       "std          0.499952     0.496119        0.263411  \n",
       "min          0.000000     0.000000        0.000000  \n",
       "25%          0.000000     0.000000        0.000000  \n",
       "50%          0.000000     0.000000        0.000000  \n",
       "75%          1.000000     1.000000        0.000000  \n",
       "max          1.000000     1.000000        1.000000  \n",
       "\n",
       "[8 rows x 24 columns]"
      ]
     },
     "execution_count": 49,
     "metadata": {},
     "output_type": "execute_result"
    }
   ],
   "source": [
    "# 정규화\n",
    "x = (x - x.min()) / (x.max() - x.min())\n",
    "\n",
    "# 확인\n",
    "x.describe()"
   ]
  },
  {
   "cell_type": "markdown",
   "metadata": {
    "id": "anVdtyyB6oqT"
   },
   "source": [
    "**5) 학습용, 평가용 데이터 분리**\n",
    "\n",
    "- 학습용, 평가용 데이터를 7:3으로 분리합니다.\n",
    "- random_state 옵션 값은 2022를 지정합니다."
   ]
  },
  {
   "cell_type": "code",
   "execution_count": 50,
   "metadata": {
    "id": "uHnuBUJu8uwz"
   },
   "outputs": [],
   "source": [
    "# 모듈 불러오기\n",
    "from sklearn.model_selection import train_test_split\n",
    "\n",
    "# 7:3으로 분리\n",
    "x_train, x_test, y_train, y_test = train_test_split(x, y, test_size=0.3, random_state=2022)"
   ]
  },
  {
   "cell_type": "markdown",
   "metadata": {
    "id": "BYr1vtpd8uw4"
   },
   "source": [
    "# 4.모델링\n",
    "\n",
    "- 본격적으로 모델을 선언하고 학습하고 평가하는 과정을 진행합니다.\n",
    "- 다양한 알고리즘으로 모델을 만들고 각각의 성능을 확인합니다.\n",
    "- 성능 평가는 confusion_matrix, classification_report를 사용합니다.\n",
    "- 각 알고리즘별로 요구되는 내용을 숙지하면서 모델링을 진행합니다."
   ]
  },
  {
   "cell_type": "markdown",
   "metadata": {
    "id": "9pqwajKFyK4F"
   },
   "source": [
    "## 4.1.KNN"
   ]
  },
  {
   "cell_type": "markdown",
   "metadata": {},
   "source": [
    "### 4.1.1. 모델링\n",
    "\n",
    "- KNN 알고리즘으로 모델링하고 성능을 확인합니다."
   ]
  },
  {
   "cell_type": "code",
   "execution_count": 51,
   "metadata": {
    "id": "iH5qR_yCyK4G"
   },
   "outputs": [],
   "source": [
    "# 1단계: 불러오기\n",
    "from sklearn.neighbors import KNeighborsClassifier\n",
    "# (이하 평가용 라이브러리)\n",
    "from sklearn.metrics import confusion_matrix, classification_report, accuracy_score"
   ]
  },
  {
   "cell_type": "code",
   "execution_count": 59,
   "metadata": {
    "id": "TFoK2E6_yK4G"
   },
   "outputs": [],
   "source": [
    "# 2단계: 선언하기\n",
    "model = KNeighborsClassifier(n_neighbors=5)"
   ]
  },
  {
   "cell_type": "code",
   "execution_count": 53,
   "metadata": {
    "colab": {
     "base_uri": "https://localhost:8080/"
    },
    "executionInfo": {
     "elapsed": 23,
     "status": "ok",
     "timestamp": 1641524345815,
     "user": {
      "displayName": "Jangrae Lee",
      "photoUrl": "https://lh3.googleusercontent.com/a-/AOh14Gh1Pd8OuWJU2cv7uTt-fURrgvty7atx_Wtarmx0-A=s64",
      "userId": "08475661575434032088"
     },
     "user_tz": -540
    },
    "id": "ziotuce6yK4G",
    "outputId": "05926f6f-edac-459b-ee63-244626d69619"
   },
   "outputs": [
    {
     "data": {
      "text/plain": [
       "KNeighborsClassifier()"
      ]
     },
     "execution_count": 53,
     "metadata": {},
     "output_type": "execute_result"
    }
   ],
   "source": [
    "# 3단계: 학습하기\n",
    "model.fit(x_train,y_train)"
   ]
  },
  {
   "cell_type": "code",
   "execution_count": 54,
   "metadata": {
    "id": "J-zashLGyK4H"
   },
   "outputs": [],
   "source": [
    "# 4단계: 예측하기\n",
    "y_pred = model.predict(x_test)"
   ]
  },
  {
   "cell_type": "code",
   "execution_count": 55,
   "metadata": {
    "colab": {
     "base_uri": "https://localhost:8080/"
    },
    "executionInfo": {
     "elapsed": 21,
     "status": "ok",
     "timestamp": 1641524345816,
     "user": {
      "displayName": "Jangrae Lee",
      "photoUrl": "https://lh3.googleusercontent.com/a-/AOh14Gh1Pd8OuWJU2cv7uTt-fURrgvty7atx_Wtarmx0-A=s64",
      "userId": "08475661575434032088"
     },
     "user_tz": -540
    },
    "id": "2KMvCx_-yK4H",
    "outputId": "d6f6153e-c931-4aba-ba6a-204b86b76268"
   },
   "outputs": [
    {
     "name": "stdout",
     "output_type": "stream",
     "text": [
      "0.9003880983182406\n",
      "[[424  19]\n",
      " [ 58 272]]\n",
      "              precision    recall  f1-score   support\n",
      "\n",
      "           0       0.88      0.96      0.92       443\n",
      "           1       0.93      0.82      0.88       330\n",
      "\n",
      "    accuracy                           0.90       773\n",
      "   macro avg       0.91      0.89      0.90       773\n",
      "weighted avg       0.90      0.90      0.90       773\n",
      "\n"
     ]
    }
   ],
   "source": [
    "# 5단계: 평가하기\n",
    "print(accuracy_score(y_test,y_pred))\n",
    "print(confusion_matrix(y_test,y_pred))\n",
    "print(classification_report(y_test,y_pred))"
   ]
  },
  {
   "cell_type": "markdown",
   "metadata": {
    "id": "yqcsTGcnXqHD"
   },
   "source": [
    "### 4.1.2. 성능 정보 수집\n",
    "\n",
    "- 모델 각각의 성능을 모아 마지막에 비교하기 위해 아래 구문을 수행해 성능 정보를 score 변수에 저장합니다."
   ]
  },
  {
   "cell_type": "code",
   "execution_count": 56,
   "metadata": {
    "id": "e7c-8Zlv6yJJ"
   },
   "outputs": [],
   "source": [
    "# 성능 정보 수집\n",
    "from sklearn.metrics import accuracy_score\n",
    "\n",
    "score={}\n",
    "score['KNN'] = accuracy_score(y_test, y_pred)"
   ]
  },
  {
   "cell_type": "markdown",
   "metadata": {
    "id": "_2Dzy1phyWRM"
   },
   "source": [
    "## 4.2.Decision Tree"
   ]
  },
  {
   "cell_type": "markdown",
   "metadata": {},
   "source": [
    "### 4.2.1.모델링\n",
    "\n",
    "- Decision Tree 알고리즘으로 모델링하고 성능을 확인합니다.\n",
    "- 모델 선언시 random_state=2022을 지정합니다."
   ]
  },
  {
   "cell_type": "code",
   "execution_count": 57,
   "metadata": {
    "id": "NRR-lQ0VyWRM"
   },
   "outputs": [],
   "source": [
    "# 1단계: 불러오기\n",
    "from sklearn.tree import DecisionTreeClassifier\n"
   ]
  },
  {
   "cell_type": "code",
   "execution_count": 60,
   "metadata": {
    "id": "kj56s_qMyWRM"
   },
   "outputs": [],
   "source": [
    "# 2단계: 선언하기\n",
    "model = DecisionTreeClassifier(random_state=2022)"
   ]
  },
  {
   "cell_type": "code",
   "execution_count": 61,
   "metadata": {
    "colab": {
     "base_uri": "https://localhost:8080/"
    },
    "executionInfo": {
     "elapsed": 20,
     "status": "ok",
     "timestamp": 1641524345817,
     "user": {
      "displayName": "Jangrae Lee",
      "photoUrl": "https://lh3.googleusercontent.com/a-/AOh14Gh1Pd8OuWJU2cv7uTt-fURrgvty7atx_Wtarmx0-A=s64",
      "userId": "08475661575434032088"
     },
     "user_tz": -540
    },
    "id": "JMHg2qnhyWRN",
    "outputId": "0f158cf8-680e-444b-ac17-b3a999698511"
   },
   "outputs": [
    {
     "data": {
      "text/plain": [
       "DecisionTreeClassifier(random_state=2022)"
      ]
     },
     "execution_count": 61,
     "metadata": {},
     "output_type": "execute_result"
    }
   ],
   "source": [
    "# 3단계: 학습하기\n",
    "model.fit(x_train,y_train)"
   ]
  },
  {
   "cell_type": "code",
   "execution_count": 62,
   "metadata": {
    "id": "fPYzsNnLyWRN"
   },
   "outputs": [],
   "source": [
    "# 4단계: 예측하기\n",
    "y_pred = model.predict(x_test)"
   ]
  },
  {
   "cell_type": "code",
   "execution_count": 63,
   "metadata": {
    "colab": {
     "base_uri": "https://localhost:8080/"
    },
    "executionInfo": {
     "elapsed": 19,
     "status": "ok",
     "timestamp": 1641524345818,
     "user": {
      "displayName": "Jangrae Lee",
      "photoUrl": "https://lh3.googleusercontent.com/a-/AOh14Gh1Pd8OuWJU2cv7uTt-fURrgvty7atx_Wtarmx0-A=s64",
      "userId": "08475661575434032088"
     },
     "user_tz": -540
    },
    "id": "WS1TOeloyWRN",
    "outputId": "ffc1feba-3e53-41f1-c486-1c7cbd3eed76"
   },
   "outputs": [
    {
     "name": "stdout",
     "output_type": "stream",
     "text": [
      "0.8809831824062095\n",
      "[[398  45]\n",
      " [ 47 283]]\n",
      "              precision    recall  f1-score   support\n",
      "\n",
      "           0       0.89      0.90      0.90       443\n",
      "           1       0.86      0.86      0.86       330\n",
      "\n",
      "    accuracy                           0.88       773\n",
      "   macro avg       0.88      0.88      0.88       773\n",
      "weighted avg       0.88      0.88      0.88       773\n",
      "\n"
     ]
    }
   ],
   "source": [
    "# 5단계: 평가하기\n",
    "print(accuracy_score(y_test,y_pred))\n",
    "print(confusion_matrix(y_test,y_pred))\n",
    "print(classification_report(y_test,y_pred))"
   ]
  },
  {
   "cell_type": "markdown",
   "metadata": {},
   "source": [
    "### 4.2.2.변수 중요도 확인\n",
    "\n",
    "- 모델의 feature_importances_ 속성으로 변수들(Features) 중요도를 확인합니다."
   ]
  },
  {
   "cell_type": "code",
   "execution_count": 64,
   "metadata": {},
   "outputs": [
    {
     "name": "stdout",
     "output_type": "stream",
     "text": [
      "[3.92594268e-02 4.38975655e-02 1.54397856e-01 2.10941997e-03\n",
      " 6.05152885e-03 3.42739583e-01 1.74797807e-02 6.18019013e-02\n",
      " 1.21844111e-02 5.78665912e-03 4.27741900e-03 1.89904949e-02\n",
      " 1.14120584e-02 2.30228410e-02 1.64546236e-02 2.27966026e-03\n",
      " 2.26863340e-03 2.78615633e-02 2.45906120e-02 1.60356604e-01\n",
      " 0.00000000e+00 1.94035021e-02 3.11200524e-04 3.06265509e-03]\n"
     ]
    }
   ],
   "source": [
    "# 중요도 확인\n",
    "print(model.feature_importances_)\n"
   ]
  },
  {
   "cell_type": "markdown",
   "metadata": {},
   "source": [
    "- 변수 중요도를 가로막대 그래프로 시각화해 확인합니다."
   ]
  },
  {
   "cell_type": "code",
   "execution_count": 65,
   "metadata": {},
   "outputs": [
    {
     "data": {
      "image/png": "[encoded data removed]",
      "text/plain": [
       "<Figure size 432x288 with 1 Axes>"
      ]
     },
     "metadata": {
      "image/png": {
       "height": 248,
       "width": 528
      },
      "needs_background": "light"
     },
     "output_type": "display_data"
    }
   ],
   "source": [
    "# 중요도 시각화\n",
    "plt.barh(list(x),model.feature_importances_)\n",
    "plt.show()\n"
   ]
  },
  {
   "cell_type": "markdown",
   "metadata": {},
   "source": [
    "- (의견) 젊은 사람들이 온라인 서비스를 많이 활용하는 걸 감안하면, 젊은 층이 서비스에 불만족스러워하는 비율이 높을 것 같다.\n",
    "- (의견) 비즈니스 좌석 이용객이 따라 기내 서비스 수준에 따라 만족도에 민감하게 반응하는지 알아볼 필요가 있다."
   ]
  },
  {
   "cell_type": "markdown",
   "metadata": {},
   "source": [
    "### 4.2.3.성능 정보 수집\n",
    "\n",
    "- 아래 구문을 수행해 성능 정보를 수집합니다."
   ]
  },
  {
   "cell_type": "code",
   "execution_count": 66,
   "metadata": {
    "id": "lhFA3-Oc61aB"
   },
   "outputs": [],
   "source": [
    "# 성능 정보 수집\n",
    "score['Decision Tree'] = accuracy_score(y_test, y_pred)"
   ]
  },
  {
   "cell_type": "markdown",
   "metadata": {
    "id": "b0crO5W_ygXk"
   },
   "source": [
    "## 4.3.Random Forest"
   ]
  },
  {
   "cell_type": "markdown",
   "metadata": {},
   "source": [
    "### 4.3.1.모델링\n",
    "\n",
    "- Random Forest 알고리즘으로 모델링하고 성능을 확인합니다.\n",
    "- 모델 선언시 random_state=2022을 지정합니다."
   ]
  },
  {
   "cell_type": "code",
   "execution_count": 67,
   "metadata": {
    "id": "rDIWKc6-ygXk"
   },
   "outputs": [],
   "source": [
    "# 1단계: 불러오기\n",
    "from sklearn.ensemble import RandomForestClassifier\n"
   ]
  },
  {
   "cell_type": "code",
   "execution_count": 69,
   "metadata": {
    "id": "xZg_rN23ygXk"
   },
   "outputs": [],
   "source": [
    "# 2단계: 선언하기\n",
    "model = RandomForestClassifier(random_state=2022)"
   ]
  },
  {
   "cell_type": "code",
   "execution_count": 70,
   "metadata": {
    "colab": {
     "base_uri": "https://localhost:8080/"
    },
    "executionInfo": {
     "elapsed": 446,
     "status": "ok",
     "timestamp": 1641524346570,
     "user": {
      "displayName": "Jangrae Lee",
      "photoUrl": "https://lh3.googleusercontent.com/a-/AOh14Gh1Pd8OuWJU2cv7uTt-fURrgvty7atx_Wtarmx0-A=s64",
      "userId": "08475661575434032088"
     },
     "user_tz": -540
    },
    "id": "_8Z1CkvgygXl",
    "outputId": "d43d17f1-9137-48a2-f857-0b0f353ebb82"
   },
   "outputs": [
    {
     "data": {
      "text/plain": [
       "RandomForestClassifier(random_state=2022)"
      ]
     },
     "execution_count": 70,
     "metadata": {},
     "output_type": "execute_result"
    }
   ],
   "source": [
    "# 3단계: 학습하기\n",
    "model.fit(x_train,y_train)"
   ]
  },
  {
   "cell_type": "code",
   "execution_count": 71,
   "metadata": {
    "id": "rG41sshDygXl"
   },
   "outputs": [],
   "source": [
    "# 4단계: 예측하기\n",
    "y_pred = model.predict(x_test)"
   ]
  },
  {
   "cell_type": "code",
   "execution_count": 72,
   "metadata": {
    "colab": {
     "base_uri": "https://localhost:8080/"
    },
    "executionInfo": {
     "elapsed": 8,
     "status": "ok",
     "timestamp": 1641524346571,
     "user": {
      "displayName": "Jangrae Lee",
      "photoUrl": "https://lh3.googleusercontent.com/a-/AOh14Gh1Pd8OuWJU2cv7uTt-fURrgvty7atx_Wtarmx0-A=s64",
      "userId": "08475661575434032088"
     },
     "user_tz": -540
    },
    "id": "3O55TujCygXl",
    "outputId": "205a005c-2a85-424a-cb5b-f9dd82059594",
    "scrolled": true
   },
   "outputs": [
    {
     "name": "stdout",
     "output_type": "stream",
     "text": [
      "0.9236739974126779\n",
      "[[419  24]\n",
      " [ 35 295]]\n",
      "              precision    recall  f1-score   support\n",
      "\n",
      "           0       0.92      0.95      0.93       443\n",
      "           1       0.92      0.89      0.91       330\n",
      "\n",
      "    accuracy                           0.92       773\n",
      "   macro avg       0.92      0.92      0.92       773\n",
      "weighted avg       0.92      0.92      0.92       773\n",
      "\n"
     ]
    }
   ],
   "source": [
    "# 5단계: 평가하기\n",
    "print(accuracy_score(y_test,y_pred))\n",
    "print(confusion_matrix(y_test,y_pred))\n",
    "print(classification_report(y_test,y_pred))"
   ]
  },
  {
   "cell_type": "markdown",
   "metadata": {},
   "source": [
    "### 4.3.2.변수 중요도 확인\n",
    "\n",
    "- 모델의 feature_importances_ 속성으로 변수들(Features) 중요도를 확인합니다."
   ]
  },
  {
   "cell_type": "code",
   "execution_count": 73,
   "metadata": {},
   "outputs": [
    {
     "name": "stdout",
     "output_type": "stream",
     "text": [
      "[0.04267016 0.05052409 0.1001233  0.0377353  0.01698177 0.14796357\n",
      " 0.04826429 0.04339561 0.02913141 0.04065067 0.02449491 0.0285756\n",
      " 0.02224965 0.03366194 0.02173094 0.00596186 0.00580871 0.02681813\n",
      " 0.02733861 0.05835002 0.07469411 0.06302824 0.04588336 0.00396377]\n"
     ]
    }
   ],
   "source": [
    "# 중요도 확인\n",
    "print(model.feature_importances_)\n"
   ]
  },
  {
   "cell_type": "markdown",
   "metadata": {},
   "source": [
    "- 변수 중요도를 가로막대 그래프로 시각화해 확인합니다."
   ]
  },
  {
   "cell_type": "code",
   "execution_count": 74,
   "metadata": {},
   "outputs": [
    {
     "data": {
      "image/png": "[encoded data removed]",
      "text/plain": [
       "<Figure size 432x288 with 1 Axes>"
      ]
     },
     "metadata": {
      "image/png": {
       "height": 248,
       "width": 526
      },
      "needs_background": "light"
     },
     "output_type": "display_data"
    }
   ],
   "source": [
    "# 중요도 시각화\n",
    "plt.barh(list(x),model.feature_importances_)\n",
    "plt.show()\n"
   ]
  },
  {
   "cell_type": "markdown",
   "metadata": {},
   "source": [
    "- (의견) 의사결정나무 모델과 달리 좌석 수준과 여행 목적이 만족도에 큰 상관관계를 준다.\n",
    "- (의견) 고품질 서비스에 관심이 많은 여행 목적 이용자들이 만족도에 큰 영향을 주는 것 같다."
   ]
  },
  {
   "cell_type": "markdown",
   "metadata": {},
   "source": [
    "### 4.3.3.성능 정보 수집\n",
    "\n",
    "- 아래 구문을 수행해 성능 정보를 수집합니다."
   ]
  },
  {
   "cell_type": "code",
   "execution_count": 75,
   "metadata": {
    "id": "yt43Lb1665SL"
   },
   "outputs": [],
   "source": [
    "# 성능 정보 수집\n",
    "score['Random Forest'] = accuracy_score(y_test, y_pred)"
   ]
  },
  {
   "cell_type": "markdown",
   "metadata": {
    "id": "OfBvePtkys70"
   },
   "source": [
    "## 4.4.XGBoost"
   ]
  },
  {
   "cell_type": "markdown",
   "metadata": {},
   "source": [
    "### 4.4.1.모델링\n",
    "\n",
    "- XGBoost 알고리즘으로 모델링하고 성능을 확인합니다.\n",
    "- 모델 선언시 random_state=2022를 지정합니다."
   ]
  },
  {
   "cell_type": "code",
   "execution_count": 76,
   "metadata": {
    "id": "Hc8uvhfUys70"
   },
   "outputs": [],
   "source": [
    "# 1단계: 불러오기\n",
    "from xgboost import XGBClassifier\n"
   ]
  },
  {
   "cell_type": "code",
   "execution_count": 77,
   "metadata": {
    "id": "7U0Z14E3ys70"
   },
   "outputs": [],
   "source": [
    "# 2단계: 선언하기\n",
    "model = XGBClassifier(random_state=2022)"
   ]
  },
  {
   "cell_type": "code",
   "execution_count": 78,
   "metadata": {
    "colab": {
     "base_uri": "https://localhost:8080/"
    },
    "executionInfo": {
     "elapsed": 339,
     "status": "ok",
     "timestamp": 1641524346906,
     "user": {
      "displayName": "Jangrae Lee",
      "photoUrl": "https://lh3.googleusercontent.com/a-/AOh14Gh1Pd8OuWJU2cv7uTt-fURrgvty7atx_Wtarmx0-A=s64",
      "userId": "08475661575434032088"
     },
     "user_tz": -540
    },
    "id": "SBM8QkJvys70",
    "outputId": "2e3a099c-a17e-4443-9e21-c46fe2616421"
   },
   "outputs": [
    {
     "name": "stdout",
     "output_type": "stream",
     "text": [
      "[14:13:26] WARNING: C:/Users/Administrator/workspace/xgboost-win64_release_1.5.1/src/learner.cc:1115: Starting in XGBoost 1.3.0, the default evaluation metric used with the objective 'binary:logistic' was changed from 'error' to 'logloss'. Explicitly set eval_metric if you'd like to restore the old behavior.\n"
     ]
    },
    {
     "data": {
      "text/plain": [
       "XGBClassifier(base_score=0.5, booster='gbtree', colsample_bylevel=1,\n",
       "              colsample_bynode=1, colsample_bytree=1, enable_categorical=False,\n",
       "              gamma=0, gpu_id=-1, importance_type=None,\n",
       "              interaction_constraints='', learning_rate=0.300000012,\n",
       "              max_delta_step=0, max_depth=6, min_child_weight=1, missing=nan,\n",
       "              monotone_constraints='()', n_estimators=100, n_jobs=8,\n",
       "              num_parallel_tree=1, predictor='auto', random_state=2022,\n",
       "              reg_alpha=0, reg_lambda=1, scale_pos_weight=1, subsample=1,\n",
       "              tree_method='exact', validate_parameters=1, verbosity=None)"
      ]
     },
     "execution_count": 78,
     "metadata": {},
     "output_type": "execute_result"
    }
   ],
   "source": [
    "# 3단계: 학습하기\n",
    "model.fit(x_train,y_train)"
   ]
  },
  {
   "cell_type": "code",
   "execution_count": 79,
   "metadata": {
    "id": "e0mhlPqEys71"
   },
   "outputs": [],
   "source": [
    "# 4단계: 예측하기\n",
    "y_pred = model.predict(x_test)"
   ]
  },
  {
   "cell_type": "code",
   "execution_count": 80,
   "metadata": {
    "colab": {
     "base_uri": "https://localhost:8080/"
    },
    "executionInfo": {
     "elapsed": 7,
     "status": "ok",
     "timestamp": 1641524346907,
     "user": {
      "displayName": "Jangrae Lee",
      "photoUrl": "https://lh3.googleusercontent.com/a-/AOh14Gh1Pd8OuWJU2cv7uTt-fURrgvty7atx_Wtarmx0-A=s64",
      "userId": "08475661575434032088"
     },
     "user_tz": -540
    },
    "id": "xvOnmpXsys71",
    "outputId": "4c4e410c-13e2-4dee-b274-ae0fb83213ef"
   },
   "outputs": [
    {
     "name": "stdout",
     "output_type": "stream",
     "text": [
      "0.9275549805950841\n",
      "[[419  24]\n",
      " [ 32 298]]\n",
      "              precision    recall  f1-score   support\n",
      "\n",
      "           0       0.93      0.95      0.94       443\n",
      "           1       0.93      0.90      0.91       330\n",
      "\n",
      "    accuracy                           0.93       773\n",
      "   macro avg       0.93      0.92      0.93       773\n",
      "weighted avg       0.93      0.93      0.93       773\n",
      "\n"
     ]
    }
   ],
   "source": [
    "# 5단계: 평가하기\n",
    "print(accuracy_score(y_test,y_pred))\n",
    "print(confusion_matrix(y_test,y_pred))\n",
    "print(classification_report(y_test,y_pred))"
   ]
  },
  {
   "cell_type": "markdown",
   "metadata": {},
   "source": [
    "### 4.4.2.변수 중요도 확인\n",
    "\n",
    "- 모델의 feature_importances_ 속성으로 변수들(Features) 중요도를 확인합니다."
   ]
  },
  {
   "cell_type": "code",
   "execution_count": 82,
   "metadata": {},
   "outputs": [
    {
     "name": "stdout",
     "output_type": "stream",
     "text": [
      "[0.01271769 0.00870186 0.08635558 0.01660112 0.00903725 0.28182772\n",
      " 0.02763157 0.04797981 0.02047672 0.02035984 0.02359108 0.01985148\n",
      " 0.00920835 0.02751659 0.01203717 0.0095018  0.         0.07281946\n",
      " 0.         0.17613226 0.         0.09817535 0.01947731 0.        ]\n"
     ]
    }
   ],
   "source": [
    "# 중요도 확인\n",
    "print(model.feature_importances_)\n"
   ]
  },
  {
   "cell_type": "markdown",
   "metadata": {},
   "source": [
    "- 변수 중요도를 가로막대 그래프로 시각화해 확인합니다."
   ]
  },
  {
   "cell_type": "code",
   "execution_count": 83,
   "metadata": {},
   "outputs": [
    {
     "data": {
      "image/png": "[encoded data removed]",
      "text/plain": [
       "<Figure size 432x288 with 1 Axes>"
      ]
     },
     "metadata": {
      "image/png": {
       "height": 248,
       "width": 526
      },
      "needs_background": "light"
     },
     "output_type": "display_data"
    }
   ],
   "source": [
    "# 중요도 시각화\n",
    "plt.barh(list(x),model.feature_importances_)\n",
    "plt.show()\n"
   ]
  },
  {
   "cell_type": "markdown",
   "metadata": {},
   "source": [
    "- (의견) 다른 원인 때문에 기내 서비스에 불만을 갖고, 기내 서비스 불만 때문에 전반적인 만족도가 나빠지는 것 같다.\n",
    "- (의견) 비즈니스 목적의 이용객이 고가의 프리미엄 서비스를 기대했는데 서비스 품질이 기대보다 나빠서 불만을 가지는 건 아닐까?"
   ]
  },
  {
   "cell_type": "markdown",
   "metadata": {},
   "source": [
    "### 4.4.3.성능 정보 수집\n",
    "\n",
    "- 아래 구문을 수행해 성능 정보를 수집합니다."
   ]
  },
  {
   "cell_type": "code",
   "execution_count": 84,
   "metadata": {
    "id": "I7mVOarO681R"
   },
   "outputs": [],
   "source": [
    "# 성능 정보 수집\n",
    "score['XGBoost'] = accuracy_score(y_test, y_pred)"
   ]
  },
  {
   "cell_type": "markdown",
   "metadata": {
    "id": "ZayZ2YcN08rA"
   },
   "source": [
    "# 5.정리\n",
    "\n",
    "- 앞에서 수집한 성능 정보를 시각화해 확인합니다."
   ]
  },
  {
   "cell_type": "code",
   "execution_count": 85,
   "metadata": {
    "colab": {
     "base_uri": "https://localhost:8080/",
     "height": 300
    },
    "executionInfo": {
     "elapsed": 598,
     "status": "ok",
     "timestamp": 1641524347501,
     "user": {
      "displayName": "Jangrae Lee",
      "photoUrl": "https://lh3.googleusercontent.com/a-/AOh14Gh1Pd8OuWJU2cv7uTt-fURrgvty7atx_Wtarmx0-A=s64",
      "userId": "08475661575434032088"
     },
     "user_tz": -540
    },
    "id": "eMKhqVGJ6hwF",
    "outputId": "550a8fe5-b936-4f0e-f4a3-fd563cc18453"
   },
   "outputs": [
    {
     "name": "stdout",
     "output_type": "stream",
     "text": [
      "-KNN: 0.9004\n",
      "-Decision Tree: 0.8810\n",
      "-Random Forest: 0.9237\n",
      "-XGBoost: 0.9276\n"
     ]
    },
    {
     "data": {
      "image/png": "[encoded data removed]",
      "text/plain": [
       "<Figure size 432x288 with 1 Axes>"
      ]
     },
     "metadata": {
      "image/png": {
       "height": 274,
       "width": 431
      },
      "needs_background": "light"
     },
     "output_type": "display_data"
    }
   ],
   "source": [
    "# 성능 정보\n",
    "for k, v in score.items():\n",
    "    print(f'-{k}: {v:.4f}')\n",
    "\n",
    "# 시작화\n",
    "plt.barh(list(score.keys()), score.values(), alpha=0.7)\n",
    "plt.title('Accuracy', size=15, pad=15)\n",
    "plt.grid(axis='x', linewidth=0.3)\n",
    "plt.show()"
   ]
  },
  {
   "cell_type": "markdown",
   "metadata": {
    "id": "-2VZtZQ36mjj"
   },
   "source": [
    "- (의견) 모델 별 정확도에 큰 차이는 없다\n",
    "- (의견) 여행 목적 별, 특히 비즈니스 목적인 경우 만족도와 큰 상관관계를 보였다.\n",
    "- (의견) 온라인 보딩을 제외하면 모델마다 중시하는 가중치가 다른 만큼 어떤 점에서 차이를 보였는지 알아볼 필요가 있다."
   ]
  },
  {
   "cell_type": "markdown",
   "metadata": {},
   "source": [
    "# 6.(옵션) 튜닝\n",
    "\n",
    "- 마음에 드는 모델을 선택하여 튜닝을 진행합니다."
   ]
  },
  {
   "cell_type": "code",
   "execution_count": 155,
   "metadata": {},
   "outputs": [
    {
     "name": "stdout",
     "output_type": "stream",
     "text": [
      "0.8945615982241953\n",
      "[[935 114]\n",
      " [ 76 677]]\n",
      "              precision    recall  f1-score   support\n",
      "\n",
      "           0       0.92      0.89      0.91      1049\n",
      "           1       0.86      0.90      0.88       753\n",
      "\n",
      "    accuracy                           0.89      1802\n",
      "   macro avg       0.89      0.90      0.89      1802\n",
      "weighted avg       0.90      0.89      0.89      1802\n",
      "\n"
     ]
    }
   ],
   "source": [
    "# 필요 라이브러리 불러오기(Randomized)\n",
    "from sklearn.model_selection import RandomizedSearchCV\n",
    "\n",
    "# 의사결정나무 튜닝\n",
    "rm_model = DecisionTreeClassifier(random_state=2022)\n",
    "rm_params = {'max_depth':range(1,51),'min_samples_leaf':range(1,11),'min_samples_split':range(1,11)}\n",
    "\n",
    "# 모델 정의\n",
    "model = RandomizedSearchCV(rm_model, rm_params, cv=10, n_iter=50, scoring='accuracy')\n",
    "\n",
    "# 모델 학습\n",
    "model.fit(x_train,y_train)\n",
    "\n",
    "# 모델 예측 및 평가\n",
    "y_pred = model.predict(x_test)\n",
    "print(accuracy_score(y_test,y_pred))\n",
    "print(confusion_matrix(y_test,y_pred))\n",
    "print(classification_report(y_test,y_pred))"
   ]
  },
  {
   "cell_type": "code",
   "execution_count": 156,
   "metadata": {},
   "outputs": [
    {
     "name": "stdout",
     "output_type": "stream",
     "text": [
      "DecisionTreeClassifier(max_depth=14, min_samples_leaf=3, min_samples_split=5,\n",
      "                       random_state=2022)\n"
     ]
    }
   ],
   "source": [
    "print(model.best_estimator_)"
   ]
  },
  {
   "cell_type": "code",
   "execution_count": 90,
   "metadata": {},
   "outputs": [
    {
     "data": {
      "image/png": "[encoded data removed]",
      "text/plain": [
       "<Figure size 432x288 with 1 Axes>"
      ]
     },
     "metadata": {
      "image/png": {
       "height": 274,
       "width": 436
      },
      "needs_background": "light"
     },
     "output_type": "display_data"
    }
   ],
   "source": [
    "# 성능 정보 추가\n",
    "score['DecisionTree UP'] = accuracy_score(y_test,y_pred)\n",
    "\n",
    "# 시각화\n",
    "plt.barh(list(score.keys()), score.values(), alpha=0.7)\n",
    "plt.title('Accuracy', size=15, pad=15)\n",
    "plt.grid(axis='x', linewidth=0.3)\n",
    "plt.show()"
   ]
  },
  {
   "cell_type": "code",
   "execution_count": 91,
   "metadata": {},
   "outputs": [
    {
     "name": "stdout",
     "output_type": "stream",
     "text": [
      "{'KNN': 0.9003880983182406, 'Decision Tree': 0.8809831824062095, 'Random Forest': 0.9236739974126779, 'XGBoost': 0.9275549805950841, 'DecisionTree UP': 0.888745148771022}\n"
     ]
    }
   ],
   "source": [
    "# 수치화\n",
    "print(score)"
   ]
  },
  {
   "cell_type": "markdown",
   "metadata": {},
   "source": [
    "- (의견) Decision Tree는 별로 효율적이지 못한 것 같다.\n",
    "- (의견) 온라인 보딩 이용자와 비즈니스 목적 승객은 확실히 만족도에 민감하게 반응하는 것 같다.\n",
    "- (의견) 다만 연령별, 좌석등급별로 나눠서 분석해 볼 필요는 있다."
   ]
  }
 ],
 "metadata": {
  "accelerator": "GPU",
  "colab": {
   "collapsed_sections": [],
   "name": "과제03 - 항공 탑승자 만족도 예측.ipynb",
   "provenance": [],
   "toc_visible": true
  },
  "kernelspec": {
   "display_name": "Python 3",
   "language": "python",
   "name": "python3"
  },
  "language_info": {
   "codemirror_mode": {
    "name": "ipython",
    "version": 3
   },
   "file_extension": ".py",
   "mimetype": "text/x-python",
   "name": "python",
   "nbconvert_exporter": "python",
   "pygments_lexer": "ipython3",
   "version": "3.8.8"
  }
 },
 "nbformat": 4,
 "nbformat_minor": 1
}
